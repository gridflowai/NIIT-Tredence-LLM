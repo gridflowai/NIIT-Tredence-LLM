{
 "cells": [
  {
   "cell_type": "code",
   "execution_count": 1,
   "id": "e46f6d3d-0c98-43ef-a5bf-4b1e4533d6b0",
   "metadata": {},
   "outputs": [],
   "source": [
    "import numpy as np\n",
    "from sklearn.datasets import fetch_openml\n",
    "from sklearn.preprocessing import MinMaxScaler"
   ]
  },
  {
   "cell_type": "code",
   "execution_count": 2,
   "id": "93db062a-cdc7-41a1-9aaf-c96a21572b79",
   "metadata": {},
   "outputs": [],
   "source": [
    "# Load the MNIST dataset\n",
    "mnist = fetch_openml(name     = 'mnist_784', \n",
    "                     data_home= r'D:\\AI-DATASETS\\keras\\datasets\\sklearn',\n",
    "                     #parser   = 'auto'\n",
    "                    )"
   ]
  },
  {
   "cell_type": "code",
   "execution_count": 3,
   "id": "9a22c40a-cdf0-469c-bd71-e336b0b3f0eb",
   "metadata": {},
   "outputs": [],
   "source": [
    "x_train = mnist.data"
   ]
  },
  {
   "cell_type": "code",
   "execution_count": 5,
   "id": "9686d696-301d-4f33-9cba-33803136dd40",
   "metadata": {},
   "outputs": [
    {
     "data": {
      "text/plain": [
       "(70000, 784)"
      ]
     },
     "execution_count": 5,
     "metadata": {},
     "output_type": "execute_result"
    }
   ],
   "source": [
    "x_train.shape"
   ]
  },
  {
   "cell_type": "code",
   "execution_count": 10,
   "id": "ba9d7cae-44b3-4049-957f-a43fe5963dec",
   "metadata": {},
   "outputs": [],
   "source": [
    "# Define the dimensions of the input data\n",
    "input_dim = x_train.shape[1]  # Number of features"
   ]
  },
  {
   "cell_type": "code",
   "execution_count": 11,
   "id": "2f09544d-e7dc-41f3-9190-3c372ab26696",
   "metadata": {},
   "outputs": [],
   "source": [
    "# Normalize the input data\n",
    "scaler  = MinMaxScaler()\n",
    "x_train = scaler.fit_transform(x_train)"
   ]
  },
  {
   "cell_type": "code",
   "execution_count": 12,
   "id": "c2f8bd73-70ed-427b-b7fb-9b8641beb117",
   "metadata": {},
   "outputs": [],
   "source": [
    "# Define the size of the encoded representation (bottleneck layer)\n",
    "encoding_dim = 32"
   ]
  },
  {
   "cell_type": "code",
   "execution_count": 13,
   "id": "0e5bd904-35fe-4d38-887b-6e46ed28c201",
   "metadata": {},
   "outputs": [],
   "source": [
    "# Define the parameters for training\n",
    "learning_rate = 0.1\n",
    "num_epochs    = 10\n",
    "batch_size    = 32"
   ]
  },
  {
   "cell_type": "code",
   "execution_count": 14,
   "id": "91a4b174-d592-4397-b0a2-db1d1c6a04f7",
   "metadata": {},
   "outputs": [],
   "source": [
    "# Define the weight matrices for the encoder and decoder\n",
    "W1 = np.random.randn(input_dim, encoding_dim) * 0.01\n",
    "W2 = np.random.randn(encoding_dim, input_dim) * 0.01"
   ]
  },
  {
   "cell_type": "code",
   "execution_count": 15,
   "id": "e022332e-e77b-4df4-b5bd-d2df3d17dba0",
   "metadata": {},
   "outputs": [],
   "source": [
    "# Define the bias vectors for the encoder and decoder\n",
    "b1 = np.zeros((1, encoding_dim))\n",
    "b2 = np.zeros((1, input_dim))"
   ]
  },
  {
   "cell_type": "code",
   "execution_count": 16,
   "id": "6444b533-36b5-44ce-bd33-a66365edd175",
   "metadata": {},
   "outputs": [],
   "source": [
    "# Define the activation function (sigmoid)\n",
    "# this errors out, RuntimeWarning: overflow encountered in exp\n",
    "# def sigmoid(x):\n",
    "#     return 1 / (1 + np.exp(-x))\n",
    "\n",
    "# use gradient clipping\n",
    "# option 1\n",
    "def sigmoid(x):\n",
    "    clipped_x = np.clip(x, -500, 500)  # Clip x to prevent overflow/underflow\n",
    "    return 1 / (1 + np.exp(-clipped_x))\n",
    "\n",
    "# option 2\n",
    "# from scipy.special import expit\n",
    "\n",
    "# # Replace the sigmoid function with expit\n",
    "# def sigmoid(x):\n",
    "#     return expit(x)\n",
    "\n",
    "# Define the derivative of the activation function\n",
    "def sigmoid_derivative(x):\n",
    "    return sigmoid(x) * (1 - sigmoid(x))"
   ]
  },
  {
   "cell_type": "code",
   "execution_count": 17,
   "id": "2ec311bb-b4bd-4b24-baae-b8e6dc8e2765",
   "metadata": {},
   "outputs": [
    {
     "name": "stdout",
     "output_type": "stream",
     "text": [
      "CPU times: total: 57.2 s\n",
      "Wall time: 1min 20s\n"
     ]
    }
   ],
   "source": [
    "%%time\n",
    "# Train the autoencoder\n",
    "for epoch in range(num_epochs):\n",
    "    \n",
    "    # Shuffle the input data\n",
    "    np.random.shuffle(x_train)\n",
    "    \n",
    "    # Split the input data into batches\n",
    "    num_batches = len(x_train) // batch_size\n",
    "    batches      = np.array_split(x_train, num_batches)\n",
    "    \n",
    "    # Iterate over each batch\n",
    "    for batch in batches:\n",
    "        # Forward propagation\n",
    "        hidden = sigmoid(np.dot(batch, W1) + b1)\n",
    "        output = sigmoid(np.dot(hidden, W2) + b2)\n",
    "        \n",
    "        # Backpropagation\n",
    "        output_error = batch - output\n",
    "        output_delta = output_error * sigmoid_derivative(output)\n",
    "        hidden_error = np.dot(output_delta, W2.T)\n",
    "        hidden_delta = hidden_error * sigmoid_derivative(hidden)\n",
    "        \n",
    "        # Update weights and biases\n",
    "        W2 += learning_rate * np.dot(hidden.T, output_delta)\n",
    "        b2 += learning_rate * np.sum(output_delta, axis=0, keepdims=True)\n",
    "        W1 += learning_rate * np.dot(batch.T, hidden_delta)\n",
    "        b1 += learning_rate * np.sum(hidden_delta, axis=0, keepdims=True)"
   ]
  },
  {
   "cell_type": "markdown",
   "id": "2ba16bbd-f41e-498e-b8f7-475b8e485e0d",
   "metadata": {},
   "source": [
    "#### reconstruction"
   ]
  },
  {
   "cell_type": "code",
   "execution_count": 19,
   "id": "fa05d9f6-4656-4837-b5c6-f156bc0d7da7",
   "metadata": {},
   "outputs": [],
   "source": [
    "# Select 10 random samples for reconstruction\n",
    "num_samples    = 10\n",
    "sample_indices = np.random.choice(len(x_train), num_samples, replace=False)"
   ]
  },
  {
   "cell_type": "code",
   "execution_count": 20,
   "id": "2856d0b0-25e5-4b25-b6b9-affa75a797e6",
   "metadata": {},
   "outputs": [],
   "source": [
    "x_samples = x_train[sample_indices]"
   ]
  },
  {
   "cell_type": "code",
   "execution_count": 21,
   "id": "211598b7-5f91-4cb3-a21f-1cfa12c3f9c2",
   "metadata": {},
   "outputs": [
    {
     "data": {
      "text/plain": [
       "array([[0., 0., 0., ..., 0., 0., 0.],\n",
       "       [0., 0., 0., ..., 0., 0., 0.],\n",
       "       [0., 0., 0., ..., 0., 0., 0.],\n",
       "       ...,\n",
       "       [0., 0., 0., ..., 0., 0., 0.],\n",
       "       [0., 0., 0., ..., 0., 0., 0.],\n",
       "       [0., 0., 0., ..., 0., 0., 0.]])"
      ]
     },
     "execution_count": 21,
     "metadata": {},
     "output_type": "execute_result"
    }
   ],
   "source": [
    "x_samples"
   ]
  },
  {
   "cell_type": "code",
   "execution_count": 22,
   "id": "23c03950-7566-40ee-8cb4-beffd3f06fba",
   "metadata": {},
   "outputs": [],
   "source": [
    "# Use the trained autoencoder to reconstruct the input data samples\n",
    "hidden        = sigmoid(np.dot(x_samples, W1) + b1)\n",
    "reconstructed = sigmoid(np.dot(hidden, W2) + b2)"
   ]
  },
  {
   "cell_type": "code",
   "execution_count": 23,
   "id": "3b09ee43-94e4-46b8-bc77-76823c0610c5",
   "metadata": {},
   "outputs": [
    {
     "data": {
      "image/png": "[encoded data removed]",
      "text/plain": [
       "<Figure size 1200x300 with 20 Axes>"
      ]
     },
     "metadata": {},
     "output_type": "display_data"
    }
   ],
   "source": [
    "# Print the original and reconstructed samples\n",
    "import matplotlib.pyplot as plt\n",
    "\n",
    "# Display the original and reconstructed samples\n",
    "fig, axes = plt.subplots(nrows=2, ncols=num_samples, figsize=(12, 3))\n",
    "\n",
    "for i in range(num_samples):\n",
    "    original       = x_samples[i].reshape((28, 28))\n",
    "    reconstruction = reconstructed[i].reshape((28, 28))\n",
    "\n",
    "    # Plot original sample\n",
    "    axes[0][i].imshow(original, cmap='gray')\n",
    "    axes[0][i].axis('off')\n",
    "    axes[0][i].set_title('Original', fontsize=8)\n",
    "\n",
    "    # Plot reconstructed sample\n",
    "    axes[1][i].imshow(reconstruction, cmap='gray')\n",
    "    axes[1][i].axis('off')\n",
    "    axes[1][i].set_title('Reconstructed', fontsize=8)\n",
    "\n",
    "plt.tight_layout()\n",
    "plt.show()"
   ]
  },
  {
   "cell_type": "code",
   "execution_count": null,
   "id": "dadccdf3-84a5-4c40-8746-526a0477bcd1",
   "metadata": {},
   "outputs": [],
   "source": []
  }
 ],
 "metadata": {
  "kernelspec": {
   "display_name": "Python 3 (ipykernel)",
   "language": "python",
   "name": "python3"
  },
  "language_info": {
   "codemirror_mode": {
    "name": "ipython",
    "version": 3
   },
   "file_extension": ".py",
   "mimetype": "text/x-python",
   "name": "python",
   "nbconvert_exporter": "python",
   "pygments_lexer": "ipython3",
   "version": "3.12.7"
  }
 },
 "nbformat": 4,
 "nbformat_minor": 5
}
