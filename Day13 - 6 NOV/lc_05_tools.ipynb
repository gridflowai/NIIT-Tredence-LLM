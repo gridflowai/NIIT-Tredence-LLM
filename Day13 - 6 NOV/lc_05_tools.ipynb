{
 "cells": [
  {
   "cell_type": "markdown",
   "id": "8510156c-2d0b-4c66-8978-8f4be9301d30",
   "metadata": {},
   "source": [
    "#### tools"
   ]
  },
  {
   "cell_type": "code",
   "execution_count": 1,
   "id": "09eb4c05-cb9c-4309-89d5-38907b3f1a53",
   "metadata": {},
   "outputs": [],
   "source": [
    "from langchain_core.tools import tool"
   ]
  },
  {
   "cell_type": "code",
   "execution_count": 3,
   "id": "c7fd499c-3179-4477-af81-b03d241036cc",
   "metadata": {},
   "outputs": [],
   "source": [
    "@tool\n",
    "def multiply(a: int, b: int) -> int:\n",
    "   \"\"\"Multiply two numbers.\"\"\"\n",
    "   return a * b"
   ]
  },
  {
   "cell_type": "code",
   "execution_count": 4,
   "id": "b1c3aea2-c492-4225-8aff-71c3675f0f25",
   "metadata": {},
   "outputs": [
    {
     "data": {
      "text/plain": [
       "6"
      ]
     },
     "execution_count": 4,
     "metadata": {},
     "output_type": "execute_result"
    }
   ],
   "source": [
    "multiply.invoke({\"a\": 2, \"b\": 3})"
   ]
  },
  {
   "cell_type": "code",
   "execution_count": 5,
   "id": "69176fa6-502d-4578-aaf3-13813bb73e54",
   "metadata": {},
   "outputs": [
    {
     "name": "stdout",
     "output_type": "stream",
     "text": [
      "multiply\n",
      "Multiply two numbers.\n",
      "{'a': {'title': 'A', 'type': 'integer'}, 'b': {'title': 'B', 'type': 'integer'}}\n"
     ]
    }
   ],
   "source": [
    "print(multiply.name)         # multiply\n",
    "print(multiply.description)  # Multiply two numbers.\n",
    "print(multiply.args) "
   ]
  },
  {
   "cell_type": "code",
   "execution_count": null,
   "id": "1db6cfe1-cd86-4d7b-aeda-c23abce7f0be",
   "metadata": {},
   "outputs": [],
   "source": []
  },
  {
   "cell_type": "code",
   "execution_count": 7,
   "id": "75f823ea-04fd-4060-bb7a-3474f9448315",
   "metadata": {},
   "outputs": [],
   "source": [
    "from langchain_core.messages import ToolMessage"
   ]
  },
  {
   "cell_type": "code",
   "execution_count": 8,
   "id": "bec1470f-a7e1-4e22-9adf-ce83e408a5b8",
   "metadata": {},
   "outputs": [],
   "source": [
    "# Simulated API call\n",
    "def fetch_user_data(user_id):\n",
    "    # Simulated response data (this could be a large object)\n",
    "    response_data = {\n",
    "        \"id\":          user_id,\n",
    "        \"name\":        \"Alice\",\n",
    "        \"age\":         30,\n",
    "        \"address\":     \"123 Main St\",\n",
    "        \"preferences\": [\"reading\", \"hiking\", \"coding\"]\n",
    "    }\n",
    "    return response_data"
   ]
  },
  {
   "cell_type": "code",
   "execution_count": 9,
   "id": "18611813-9811-4f5d-9481-3667cea8df80",
   "metadata": {},
   "outputs": [
    {
     "name": "stdout",
     "output_type": "stream",
     "text": [
      "content=\"{'user_id': '12345', 'name': 'Alice'}\" tool_call_id='fetch_user_data_tool' artifact={'execution_time': '200ms', 'data_source': 'User API', 'response_length': 5}\n"
     ]
    }
   ],
   "source": [
    "# Invoking the tool\n",
    "user_id      = \"12345\"\n",
    "api_response = fetch_user_data(user_id)\n",
    "\n",
    "# Create a ToolMessage with only relevant metadata\n",
    "tool_message = ToolMessage(\n",
    "    content      = {\"user_id\": api_response[\"id\"], \"name\": api_response[\"name\"]},\n",
    "    tool_call_id = \"fetch_user_data_tool\",\n",
    "    artifact     = {\n",
    "        \"execution_time\": \"200ms\",\n",
    "        \"data_source\": \"User API\",\n",
    "        \"response_length\": len(api_response)\n",
    "    }\n",
    ")\n",
    "\n",
    "print(tool_message)"
   ]
  },
  {
   "cell_type": "code",
   "execution_count": null,
   "id": "68fd3b38-20f6-4e0e-8dcb-deef113a9419",
   "metadata": {},
   "outputs": [],
   "source": []
  }
 ],
 "metadata": {
  "kernelspec": {
   "display_name": "langchain_env",
   "language": "python",
   "name": "langchain_env"
  },
  "language_info": {
   "codemirror_mode": {
    "name": "ipython",
    "version": 3
   },
   "file_extension": ".py",
   "mimetype": "text/x-python",
   "name": "python",
   "nbconvert_exporter": "python",
   "pygments_lexer": "ipython3",
   "version": "3.12.7"
  }
 },
 "nbformat": 4,
 "nbformat_minor": 5
}
