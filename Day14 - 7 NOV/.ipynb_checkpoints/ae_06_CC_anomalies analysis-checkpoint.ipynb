{
 "cells": [
  {
   "cell_type": "markdown",
   "id": "5cf0c339-1b24-43c5-94ae-cfa4ecb079e4",
   "metadata": {},
   "source": [
    "----------------------------------------------------\n",
    "\n",
    "## Title: Anomaly Detection in Credit Card Fraud Data Using Autoencoders\n",
    "\n",
    "### Background\n",
    "Credit card fraud is a significant issue in the financial industry, leading to substantial losses for both consumers and businesses. As online transactions increase, the need for effective fraud detection systems becomes more critical. Traditional methods often struggle to keep up with the rapidly evolving tactics of fraudsters. Therefore, leveraging advanced machine learning techniques such as Autoencoders (AEs) for anomaly detection offers a promising solution.\n",
    "\n",
    "### Objective\n",
    "The objective of this exercise is to `detect anomalies` in credit card transaction data, specifically `distinguishing` fraudulent transactions from normal ones. \n",
    "\n",
    "By using `Autoencoders`, we aim to learn a compressed representation of normal transaction data and identify deviations from this learned representation that indicate potential fraud.\n",
    "\n",
    "### Methodology\n",
    "1. **Data Preprocessing**: \n",
    "   - Load and preprocess credit card transaction data, focusing on relevant features that can aid in anomaly detection.\n",
    "   - `Normalize` the data to ensure that the Autoencoder can effectively learn the underlying patterns.\n",
    "\n",
    "2. **Model Development**: \n",
    "   - Implement an Autoencoder model to learn the reconstruction of normal transactions.\n",
    "   - Train the model on the `normal transaction data`, optimizing it to minimize reconstruction loss.\n",
    "\n",
    "3. **Anomaly Detection**: \n",
    "   - `Evaluate` reconstruction losses on both normal and fraudulent transactions.\n",
    "   - Use statistical measures (e.g., `Z-scores`, `KL Divergence`, `Jensen-Shannon Divergence`) to quantify the `differences` between `reconstruction losses` of `normal` and `fraudulent transactions`.\n",
    "\n",
    "4. **Results Analysis**: \n",
    "   - Compare the distributions of reconstruction losses to `identify thresholds` for flagging fraudulent transactions.\n",
    "   - Analyze the performance of the Autoencoder in detecting anomalies based on statistical significance tests and visualization techniques.\n",
    "\n",
    "### Expected Outcomes\n",
    "- Identification of distinct patterns in reconstruction loss between normal and fraudulent transactions.\n",
    "- Establishment of a robust framework for anomaly detection using Autoencoders, with potential application in real-time fraud detection systems.\n",
    "- Insights into the characteristics that differentiate fraudulent transactions from normal ones, aiding in the development of more effective fraud prevention strategies.\n",
    "\n",
    "-------------------------------------------\n"
   ]
  },
  {
   "cell_type": "code",
   "execution_count": 1,
   "id": "1b09957f-38af-4eb6-8b9d-317bc06ccaa9",
   "metadata": {},
   "outputs": [],
   "source": [
    "import pandas as pd\n",
    "import numpy as np\n",
    "\n",
    "from sklearn.preprocessing import StandardScaler\n",
    "\n",
    "from tensorflow.keras.layers import Input, Dense, ReLU\n",
    "from tensorflow.keras.models import Model\n",
    "\n",
    "import matplotlib.pyplot as plt"
   ]
  },
  {
   "cell_type": "code",
   "execution_count": 2,
   "id": "e83df716-f243-4013-8b6b-bf498cb662fc",
   "metadata": {},
   "outputs": [],
   "source": [
    "# Load the data\n",
    "location = r'D:\\AI-DATASETS\\02-MISC-large\\creditcard.csv'\n",
    "df = pd.read_csv(location)"
   ]
  },
  {
   "cell_type": "code",
   "execution_count": 3,
   "id": "64b0aea1-1eac-4f81-b5eb-22ba4f5270b9",
   "metadata": {},
   "outputs": [
    {
     "data": {
      "text/plain": [
       "(284807, 31)"
      ]
     },
     "execution_count": 3,
     "metadata": {},
     "output_type": "execute_result"
    }
   ],
   "source": [
    "df.shape"
   ]
  },
  {
   "cell_type": "code",
   "execution_count": 4,
   "id": "fb10a012-93eb-432a-9b8f-be594029889b",
   "metadata": {},
   "outputs": [
    {
     "data": {
      "text/plain": [
       "Index(['Time', 'V1', 'V2', 'V3', 'V4', 'V5', 'V6', 'V7', 'V8', 'V9', 'V10',\n",
       "       'V11', 'V12', 'V13', 'V14', 'V15', 'V16', 'V17', 'V18', 'V19', 'V20',\n",
       "       'V21', 'V22', 'V23', 'V24', 'V25', 'V26', 'V27', 'V28', 'Amount',\n",
       "       'Class'],\n",
       "      dtype='object')"
      ]
     },
     "execution_count": 4,
     "metadata": {},
     "output_type": "execute_result"
    }
   ],
   "source": [
    "df.columns"
   ]
  },
  {
   "cell_type": "code",
   "execution_count": 5,
   "id": "046e5df9-563b-4f42-9372-4300d8f32c31",
   "metadata": {},
   "outputs": [
    {
     "data": {
      "text/html": [
       "<div>\n",
       "<style scoped>\n",
       "    .dataframe tbody tr th:only-of-type {\n",
       "        vertical-align: middle;\n",
       "    }\n",
       "\n",
       "    .dataframe tbody tr th {\n",
       "        vertical-align: top;\n",
       "    }\n",
       "\n",
       "    .dataframe thead th {\n",
       "        text-align: right;\n",
       "    }\n",
       "</style>\n",
       "<table border=\"1\" class=\"dataframe\">\n",
       "  <thead>\n",
       "    <tr style=\"text-align: right;\">\n",
       "      <th></th>\n",
       "      <th>Time</th>\n",
       "      <th>V1</th>\n",
       "      <th>V2</th>\n",
       "      <th>V3</th>\n",
       "      <th>V4</th>\n",
       "      <th>V5</th>\n",
       "      <th>V6</th>\n",
       "      <th>V7</th>\n",
       "      <th>V8</th>\n",
       "      <th>V9</th>\n",
       "      <th>...</th>\n",
       "      <th>V21</th>\n",
       "      <th>V22</th>\n",
       "      <th>V23</th>\n",
       "      <th>V24</th>\n",
       "      <th>V25</th>\n",
       "      <th>V26</th>\n",
       "      <th>V27</th>\n",
       "      <th>V28</th>\n",
       "      <th>Amount</th>\n",
       "      <th>Class</th>\n",
       "    </tr>\n",
       "  </thead>\n",
       "  <tbody>\n",
       "    <tr>\n",
       "      <th>249802</th>\n",
       "      <td>154584.0</td>\n",
       "      <td>2.116845</td>\n",
       "      <td>-0.858562</td>\n",
       "      <td>-1.175063</td>\n",
       "      <td>-0.090611</td>\n",
       "      <td>-0.786265</td>\n",
       "      <td>-0.929435</td>\n",
       "      <td>-0.397549</td>\n",
       "      <td>-0.238821</td>\n",
       "      <td>-0.033512</td>\n",
       "      <td>...</td>\n",
       "      <td>-0.232217</td>\n",
       "      <td>0.019513</td>\n",
       "      <td>0.087742</td>\n",
       "      <td>0.001295</td>\n",
       "      <td>0.028872</td>\n",
       "      <td>0.732507</td>\n",
       "      <td>-0.051112</td>\n",
       "      <td>-0.066758</td>\n",
       "      <td>25.00</td>\n",
       "      <td>0</td>\n",
       "    </tr>\n",
       "    <tr>\n",
       "      <th>209918</th>\n",
       "      <td>137771.0</td>\n",
       "      <td>-4.237616</td>\n",
       "      <td>4.429546</td>\n",
       "      <td>-2.780090</td>\n",
       "      <td>-1.047405</td>\n",
       "      <td>-1.063956</td>\n",
       "      <td>-1.521584</td>\n",
       "      <td>-0.226853</td>\n",
       "      <td>1.209244</td>\n",
       "      <td>1.849206</td>\n",
       "      <td>...</td>\n",
       "      <td>0.173872</td>\n",
       "      <td>1.172718</td>\n",
       "      <td>0.214678</td>\n",
       "      <td>0.003468</td>\n",
       "      <td>-0.044328</td>\n",
       "      <td>-0.208648</td>\n",
       "      <td>0.937027</td>\n",
       "      <td>0.635964</td>\n",
       "      <td>2.69</td>\n",
       "      <td>0</td>\n",
       "    </tr>\n",
       "    <tr>\n",
       "      <th>253463</th>\n",
       "      <td>156263.0</td>\n",
       "      <td>-1.193830</td>\n",
       "      <td>1.830631</td>\n",
       "      <td>-1.161674</td>\n",
       "      <td>-1.600880</td>\n",
       "      <td>1.145176</td>\n",
       "      <td>-1.323670</td>\n",
       "      <td>1.905381</td>\n",
       "      <td>-0.646517</td>\n",
       "      <td>0.996611</td>\n",
       "      <td>...</td>\n",
       "      <td>-0.024145</td>\n",
       "      <td>0.795327</td>\n",
       "      <td>-0.276332</td>\n",
       "      <td>-0.342712</td>\n",
       "      <td>-0.080442</td>\n",
       "      <td>0.063830</td>\n",
       "      <td>0.681281</td>\n",
       "      <td>0.189405</td>\n",
       "      <td>7.69</td>\n",
       "      <td>0</td>\n",
       "    </tr>\n",
       "    <tr>\n",
       "      <th>236580</th>\n",
       "      <td>148869.0</td>\n",
       "      <td>-0.809871</td>\n",
       "      <td>1.103021</td>\n",
       "      <td>0.004005</td>\n",
       "      <td>-0.496311</td>\n",
       "      <td>0.488959</td>\n",
       "      <td>-1.188877</td>\n",
       "      <td>1.094800</td>\n",
       "      <td>-0.677508</td>\n",
       "      <td>1.251599</td>\n",
       "      <td>...</td>\n",
       "      <td>-0.418203</td>\n",
       "      <td>-0.554834</td>\n",
       "      <td>0.056672</td>\n",
       "      <td>0.008626</td>\n",
       "      <td>-0.866160</td>\n",
       "      <td>0.082839</td>\n",
       "      <td>-0.080286</td>\n",
       "      <td>-0.058883</td>\n",
       "      <td>9.99</td>\n",
       "      <td>0</td>\n",
       "    </tr>\n",
       "    <tr>\n",
       "      <th>144590</th>\n",
       "      <td>86249.0</td>\n",
       "      <td>-0.746424</td>\n",
       "      <td>0.633373</td>\n",
       "      <td>2.347670</td>\n",
       "      <td>-0.687577</td>\n",
       "      <td>-0.154299</td>\n",
       "      <td>-0.491995</td>\n",
       "      <td>0.336149</td>\n",
       "      <td>0.008020</td>\n",
       "      <td>-0.488295</td>\n",
       "      <td>...</td>\n",
       "      <td>0.209736</td>\n",
       "      <td>0.647662</td>\n",
       "      <td>-0.234031</td>\n",
       "      <td>0.520945</td>\n",
       "      <td>0.081983</td>\n",
       "      <td>1.139892</td>\n",
       "      <td>-0.002562</td>\n",
       "      <td>0.063508</td>\n",
       "      <td>8.49</td>\n",
       "      <td>0</td>\n",
       "    </tr>\n",
       "  </tbody>\n",
       "</table>\n",
       "<p>5 rows × 31 columns</p>\n",
       "</div>"
      ],
      "text/plain": [
       "            Time        V1        V2        V3        V4        V5        V6  \\\n",
       "249802  154584.0  2.116845 -0.858562 -1.175063 -0.090611 -0.786265 -0.929435   \n",
       "209918  137771.0 -4.237616  4.429546 -2.780090 -1.047405 -1.063956 -1.521584   \n",
       "253463  156263.0 -1.193830  1.830631 -1.161674 -1.600880  1.145176 -1.323670   \n",
       "236580  148869.0 -0.809871  1.103021  0.004005 -0.496311  0.488959 -1.188877   \n",
       "144590   86249.0 -0.746424  0.633373  2.347670 -0.687577 -0.154299 -0.491995   \n",
       "\n",
       "              V7        V8        V9  ...       V21       V22       V23  \\\n",
       "249802 -0.397549 -0.238821 -0.033512  ... -0.232217  0.019513  0.087742   \n",
       "209918 -0.226853  1.209244  1.849206  ...  0.173872  1.172718  0.214678   \n",
       "253463  1.905381 -0.646517  0.996611  ... -0.024145  0.795327 -0.276332   \n",
       "236580  1.094800 -0.677508  1.251599  ... -0.418203 -0.554834  0.056672   \n",
       "144590  0.336149  0.008020 -0.488295  ...  0.209736  0.647662 -0.234031   \n",
       "\n",
       "             V24       V25       V26       V27       V28  Amount  Class  \n",
       "249802  0.001295  0.028872  0.732507 -0.051112 -0.066758   25.00      0  \n",
       "209918  0.003468 -0.044328 -0.208648  0.937027  0.635964    2.69      0  \n",
       "253463 -0.342712 -0.080442  0.063830  0.681281  0.189405    7.69      0  \n",
       "236580  0.008626 -0.866160  0.082839 -0.080286 -0.058883    9.99      0  \n",
       "144590  0.520945  0.081983  1.139892 -0.002562  0.063508    8.49      0  \n",
       "\n",
       "[5 rows x 31 columns]"
      ]
     },
     "execution_count": 5,
     "metadata": {},
     "output_type": "execute_result"
    }
   ],
   "source": [
    "df.sample(5)"
   ]
  },
  {
   "cell_type": "code",
   "execution_count": 6,
   "id": "550673af-e445-4deb-9e23-25369e00dbf5",
   "metadata": {},
   "outputs": [
    {
     "data": {
      "text/plain": [
       "Class\n",
       "0    284315\n",
       "1       492\n",
       "Name: count, dtype: int64"
      ]
     },
     "execution_count": 6,
     "metadata": {},
     "output_type": "execute_result"
    }
   ],
   "source": [
    "df.Class.value_counts()"
   ]
  },
  {
   "cell_type": "code",
   "execution_count": 7,
   "id": "81d8a566-1d5d-4bce-884e-a3e815cbb0d5",
   "metadata": {},
   "outputs": [],
   "source": [
    "# Separate into normal and fraud transactions\n",
    "df_normal = df[df['Class'] == 0].copy()\n",
    "df_fraud  = df[df['Class'] == 1].copy()"
   ]
  },
  {
   "cell_type": "code",
   "execution_count": 8,
   "id": "b9baedf1-80b6-4e1d-96a8-5f6922c72380",
   "metadata": {},
   "outputs": [],
   "source": [
    "# Standardize 'Time' and 'Amount' columns\n",
    "scaler = StandardScaler()\n",
    "df_normal['Time']   = scaler.fit_transform(df_normal['Time'].values.reshape(-1, 1))\n",
    "df_normal['Amount'] = scaler.fit_transform(df_normal['Amount'].values.reshape(-1, 1))\n",
    "\n",
    "df_fraud['Time']    = scaler.transform(df_fraud['Time'].values.reshape(-1, 1))\n",
    "df_fraud['Amount']  = scaler.transform(df_fraud['Amount'].values.reshape(-1, 1))"
   ]
  },
  {
   "cell_type": "code",
   "execution_count": 9,
   "id": "3b6b0a7c-1c59-48e7-8899-bd18bb7106bc",
   "metadata": {},
   "outputs": [],
   "source": [
    "# Drop the target column for training\n",
    "X_normal = df_normal.drop(columns=['Class'])\n",
    "X_fraud  = df_fraud.drop(columns=['Class'])"
   ]
  },
  {
   "cell_type": "markdown",
   "id": "b430b774-acd5-4606-b8f3-57ab6c927286",
   "metadata": {},
   "source": [
    "#### Build the AE model"
   ]
  },
  {
   "cell_type": "code",
   "execution_count": 10,
   "id": "94f9475b-c46d-4b47-aaf2-ee8291bdf8a2",
   "metadata": {},
   "outputs": [],
   "source": [
    "import tensorflow as tf"
   ]
  },
  {
   "cell_type": "code",
   "execution_count": 11,
   "id": "9af4b198-6cd8-44c3-bda1-5b92bc75e531",
   "metadata": {},
   "outputs": [
    {
     "data": {
      "text/plain": [
       "(30, 7)"
      ]
     },
     "execution_count": 11,
     "metadata": {},
     "output_type": "execute_result"
    }
   ],
   "source": [
    "# Define dimensions\n",
    "input_dim  = X_normal.shape[1]\n",
    "latent_dim = 7  # Adjust as necessary\n",
    "\n",
    "input_dim, latent_dim"
   ]
  },
  {
   "cell_type": "code",
   "execution_count": 12,
   "id": "676c5436-e3da-4a01-aef4-976f6d512369",
   "metadata": {},
   "outputs": [],
   "source": [
    "# Encoder\n",
    "encoder_input = Input(shape=(input_dim,), name=\"encoder_input\")\n",
    "\n",
    "encoder_dense_layer1 = Dense(units=14, name=\"encoder_dense_1\")(encoder_input)\n",
    "encoder_activ_layer1 = ReLU(name=\"encoder_relu_1\")(encoder_dense_layer1)\n",
    "\n",
    "encoder_dense_layer2 = Dense(units=latent_dim, name=\"encoder_dense_2\")(encoder_activ_layer1)\n",
    "encoder_output = ReLU(name=\"encoder_output\")(encoder_dense_layer2)\n",
    "\n",
    "encoder = Model(encoder_input, encoder_output, name=\"encoder_model\")"
   ]
  },
  {
   "cell_type": "code",
   "execution_count": 13,
   "id": "03070cc5-a0af-44a5-aeba-d82401e60b22",
   "metadata": {},
   "outputs": [],
   "source": [
    "# Decoder\n",
    "decoder_input = Input(shape=(latent_dim,), name=\"decoder_input\")\n",
    "\n",
    "decoder_dense_layer1 = Dense(units=14, name=\"decoder_dense_1\")(decoder_input)\n",
    "decoder_activ_layer1 = ReLU(name=\"decoder_relu_1\")(decoder_dense_layer1)\n",
    "\n",
    "decoder_dense_layer2 = Dense(units=input_dim, name=\"decoder_dense_2\")(decoder_activ_layer1)\n",
    "decoder_output = ReLU(name=\"decoder_output\")(decoder_dense_layer2)\n",
    "\n",
    "decoder = Model(decoder_input, decoder_output, name=\"decoder_model\")"
   ]
  },
  {
   "cell_type": "code",
   "execution_count": 14,
   "id": "4a8fab08-3d0a-481b-a57d-d3ec8abbca6a",
   "metadata": {},
   "outputs": [],
   "source": [
    "# Autoencoder\n",
    "ae_input = Input(shape=(input_dim,), name=\"AE_input\")\n",
    "\n",
    "ae_encoder_output = encoder(ae_input)\n",
    "ae_decoder_output = decoder(ae_encoder_output)\n",
    "\n",
    "ae = Model(ae_input, ae_decoder_output, name=\"Autoencoder\")"
   ]
  },
  {
   "cell_type": "code",
   "execution_count": 15,
   "id": "5b727709-969d-4ba9-9eae-2c4ba98d17c8",
   "metadata": {},
   "outputs": [],
   "source": [
    "# Compile the autoencoder\n",
    "ae.compile(optimizer = 'adam', \n",
    "           loss      = 'mean_squared_error', \n",
    "           metrics   = ['mse'])"
   ]
  },
  {
   "cell_type": "markdown",
   "id": "be37a16a-594b-4a4d-b87c-814e32921d16",
   "metadata": {},
   "source": [
    "#### Train the autoencoder"
   ]
  },
  {
   "cell_type": "code",
   "execution_count": 16,
   "id": "c7684dcd-1cb6-4a9e-bb94-fc82f7146db3",
   "metadata": {},
   "outputs": [],
   "source": [
    "from tensorflow.keras.callbacks import EarlyStopping"
   ]
  },
  {
   "cell_type": "code",
   "execution_count": 17,
   "id": "e7d8af94-f0ab-447f-bb8b-7124fc075bbd",
   "metadata": {},
   "outputs": [],
   "source": [
    "# Define early stopping callback\n",
    "early_stopping = EarlyStopping(\n",
    "    monitor              = 'val_loss',   # Monitor validation loss\n",
    "    patience             = 5,            # Number of epochs with no improvement after which training will be stopped\n",
    "    restore_best_weights = True          # Restore the best weights after stopping\n",
    ")"
   ]
  },
  {
   "cell_type": "code",
   "execution_count": 18,
   "id": "daa150de-d819-4675-8eef-c0e90070f387",
   "metadata": {},
   "outputs": [
    {
     "name": "stdout",
     "output_type": "stream",
     "text": [
      "Epoch 1/50\n",
      "\u001b[1m1000/1000\u001b[0m \u001b[32m━━━━━━━━━━━━━━━━━━━━\u001b[0m\u001b[37m\u001b[0m \u001b[1m6s\u001b[0m 2ms/step - loss: 0.9296 - mse: 0.9296 - val_loss: 0.7537 - val_mse: 0.7537\n",
      "Epoch 2/50\n",
      "\u001b[1m1000/1000\u001b[0m \u001b[32m━━━━━━━━━━━━━━━━━━━━\u001b[0m\u001b[37m\u001b[0m \u001b[1m2s\u001b[0m 2ms/step - loss: 0.7577 - mse: 0.7577 - val_loss: 0.7166 - val_mse: 0.7166\n",
      "Epoch 3/50\n",
      "\u001b[1m1000/1000\u001b[0m \u001b[32m━━━━━━━━━━━━━━━━━━━━\u001b[0m\u001b[37m\u001b[0m \u001b[1m2s\u001b[0m 2ms/step - loss: 0.7307 - mse: 0.7307 - val_loss: 0.7027 - val_mse: 0.7027\n",
      "Epoch 4/50\n",
      "\u001b[1m1000/1000\u001b[0m \u001b[32m━━━━━━━━━━━━━━━━━━━━\u001b[0m\u001b[37m\u001b[0m \u001b[1m2s\u001b[0m 2ms/step - loss: 0.7308 - mse: 0.7308 - val_loss: 0.7010 - val_mse: 0.7010\n",
      "Epoch 5/50\n",
      "\u001b[1m1000/1000\u001b[0m \u001b[32m━━━━━━━━━━━━━━━━━━━━\u001b[0m\u001b[37m\u001b[0m \u001b[1m2s\u001b[0m 2ms/step - loss: 0.7217 - mse: 0.7217 - val_loss: 0.6958 - val_mse: 0.6958\n",
      "Epoch 6/50\n",
      "\u001b[1m1000/1000\u001b[0m \u001b[32m━━━━━━━━━━━━━━━━━━━━\u001b[0m\u001b[37m\u001b[0m \u001b[1m3s\u001b[0m 3ms/step - loss: 0.7220 - mse: 0.7220 - val_loss: 0.6914 - val_mse: 0.6914\n",
      "Epoch 7/50\n",
      "\u001b[1m1000/1000\u001b[0m \u001b[32m━━━━━━━━━━━━━━━━━━━━\u001b[0m\u001b[37m\u001b[0m \u001b[1m4s\u001b[0m 2ms/step - loss: 0.7181 - mse: 0.7181 - val_loss: 0.6906 - val_mse: 0.6906\n",
      "Epoch 8/50\n",
      "\u001b[1m1000/1000\u001b[0m \u001b[32m━━━━━━━━━━━━━━━━━━━━\u001b[0m\u001b[37m\u001b[0m \u001b[1m3s\u001b[0m 2ms/step - loss: 0.7078 - mse: 0.7078 - val_loss: 0.6894 - val_mse: 0.6894\n",
      "Epoch 9/50\n",
      "\u001b[1m1000/1000\u001b[0m \u001b[32m━━━━━━━━━━━━━━━━━━━━\u001b[0m\u001b[37m\u001b[0m \u001b[1m1s\u001b[0m 1ms/step - loss: 0.7178 - mse: 0.7178 - val_loss: 0.6895 - val_mse: 0.6895\n",
      "Epoch 10/50\n",
      "\u001b[1m1000/1000\u001b[0m \u001b[32m━━━━━━━━━━━━━━━━━━━━\u001b[0m\u001b[37m\u001b[0m \u001b[1m1s\u001b[0m 1ms/step - loss: 0.7245 - mse: 0.7245 - val_loss: 0.6887 - val_mse: 0.6887\n",
      "Epoch 11/50\n",
      "\u001b[1m1000/1000\u001b[0m \u001b[32m━━━━━━━━━━━━━━━━━━━━\u001b[0m\u001b[37m\u001b[0m \u001b[1m1s\u001b[0m 1ms/step - loss: 0.7156 - mse: 0.7156 - val_loss: 0.6878 - val_mse: 0.6878\n",
      "Epoch 12/50\n",
      "\u001b[1m1000/1000\u001b[0m \u001b[32m━━━━━━━━━━━━━━━━━━━━\u001b[0m\u001b[37m\u001b[0m \u001b[1m1s\u001b[0m 1ms/step - loss: 0.7174 - mse: 0.7174 - val_loss: 0.6880 - val_mse: 0.6880\n",
      "Epoch 13/50\n",
      "\u001b[1m1000/1000\u001b[0m \u001b[32m━━━━━━━━━━━━━━━━━━━━\u001b[0m\u001b[37m\u001b[0m \u001b[1m1s\u001b[0m 1ms/step - loss: 0.7228 - mse: 0.7228 - val_loss: 0.6865 - val_mse: 0.6865\n",
      "Epoch 14/50\n",
      "\u001b[1m1000/1000\u001b[0m \u001b[32m━━━━━━━━━━━━━━━━━━━━\u001b[0m\u001b[37m\u001b[0m \u001b[1m2s\u001b[0m 2ms/step - loss: 0.7171 - mse: 0.7171 - val_loss: 0.6862 - val_mse: 0.6862\n",
      "Epoch 15/50\n",
      "\u001b[1m1000/1000\u001b[0m \u001b[32m━━━━━━━━━━━━━━━━━━━━\u001b[0m\u001b[37m\u001b[0m \u001b[1m1s\u001b[0m 1ms/step - loss: 0.7106 - mse: 0.7106 - val_loss: 0.6848 - val_mse: 0.6848\n",
      "Epoch 16/50\n",
      "\u001b[1m1000/1000\u001b[0m \u001b[32m━━━━━━━━━━━━━━━━━━━━\u001b[0m\u001b[37m\u001b[0m \u001b[1m2s\u001b[0m 2ms/step - loss: 0.7101 - mse: 0.7101 - val_loss: 0.6831 - val_mse: 0.6831\n",
      "Epoch 17/50\n",
      "\u001b[1m1000/1000\u001b[0m \u001b[32m━━━━━━━━━━━━━━━━━━━━\u001b[0m\u001b[37m\u001b[0m \u001b[1m1s\u001b[0m 1ms/step - loss: 0.7068 - mse: 0.7068 - val_loss: 0.6859 - val_mse: 0.6859\n",
      "Epoch 18/50\n",
      "\u001b[1m1000/1000\u001b[0m \u001b[32m━━━━━━━━━━━━━━━━━━━━\u001b[0m\u001b[37m\u001b[0m \u001b[1m3s\u001b[0m 1ms/step - loss: 0.7112 - mse: 0.7112 - val_loss: 0.6831 - val_mse: 0.6831\n",
      "Epoch 19/50\n",
      "\u001b[1m1000/1000\u001b[0m \u001b[32m━━━━━━━━━━━━━━━━━━━━\u001b[0m\u001b[37m\u001b[0m \u001b[1m3s\u001b[0m 1ms/step - loss: 0.7077 - mse: 0.7077 - val_loss: 0.6856 - val_mse: 0.6856\n",
      "Epoch 20/50\n",
      "\u001b[1m1000/1000\u001b[0m \u001b[32m━━━━━━━━━━━━━━━━━━━━\u001b[0m\u001b[37m\u001b[0m \u001b[1m1s\u001b[0m 1ms/step - loss: 0.7112 - mse: 0.7112 - val_loss: 0.6820 - val_mse: 0.6820\n",
      "Epoch 21/50\n",
      "\u001b[1m1000/1000\u001b[0m \u001b[32m━━━━━━━━━━━━━━━━━━━━\u001b[0m\u001b[37m\u001b[0m \u001b[1m1s\u001b[0m 1ms/step - loss: 0.7117 - mse: 0.7117 - val_loss: 0.6831 - val_mse: 0.6831\n",
      "Epoch 22/50\n",
      "\u001b[1m1000/1000\u001b[0m \u001b[32m━━━━━━━━━━━━━━━━━━━━\u001b[0m\u001b[37m\u001b[0m \u001b[1m1s\u001b[0m 1ms/step - loss: 0.7039 - mse: 0.7039 - val_loss: 0.6823 - val_mse: 0.6823\n",
      "Epoch 23/50\n",
      "\u001b[1m1000/1000\u001b[0m \u001b[32m━━━━━━━━━━━━━━━━━━━━\u001b[0m\u001b[37m\u001b[0m \u001b[1m2s\u001b[0m 2ms/step - loss: 0.7135 - mse: 0.7135 - val_loss: 0.6868 - val_mse: 0.6868\n",
      "Epoch 24/50\n",
      "\u001b[1m1000/1000\u001b[0m \u001b[32m━━━━━━━━━━━━━━━━━━━━\u001b[0m\u001b[37m\u001b[0m \u001b[1m2s\u001b[0m 2ms/step - loss: 0.7110 - mse: 0.7110 - val_loss: 0.6823 - val_mse: 0.6823\n",
      "Epoch 25/50\n",
      "\u001b[1m1000/1000\u001b[0m \u001b[32m━━━━━━━━━━━━━━━━━━━━\u001b[0m\u001b[37m\u001b[0m \u001b[1m2s\u001b[0m 2ms/step - loss: 0.7081 - mse: 0.7081 - val_loss: 0.6837 - val_mse: 0.6837\n"
     ]
    }
   ],
   "source": [
    "# Train the autoencoder on normal transactions with early stopping\n",
    "history = ae.fit(\n",
    "    X_normal, \n",
    "    X_normal,\n",
    "    epochs          = 50,\n",
    "    batch_size      = 256,\n",
    "    shuffle         = True,\n",
    "    validation_split= 0.1,\n",
    "    callbacks       = [early_stopping]\n",
    ")"
   ]
  },
  {
   "cell_type": "markdown",
   "id": "4e6290ac-5aaa-4bb9-8390-c081a53bbeff",
   "metadata": {},
   "source": [
    "**Observe the training process**"
   ]
  },
  {
   "cell_type": "code",
   "execution_count": 19,
   "id": "f183e1d8-a9c0-4497-a8a1-c207645d0852",
   "metadata": {},
   "outputs": [
    {
     "data": {
      "image/png": "[encoded data removed]",
      "text/plain": [
       "<Figure size 1600x600 with 1 Axes>"
      ]
     },
     "metadata": {},
     "output_type": "display_data"
    }
   ],
   "source": [
    "# Extract loss values from the training history\n",
    "train_loss = history.history['loss']\n",
    "val_loss   = history.history['val_loss']\n",
    "\n",
    "# Plot the training and validation loss\n",
    "plt.figure(figsize=(16, 6))\n",
    "plt.plot(train_loss, label='Training Loss')\n",
    "plt.plot(val_loss,   label='Validation Loss')\n",
    "\n",
    "plt.xlabel('Epochs')\n",
    "plt.ylabel('Loss')\n",
    "plt.title('Training and Validation Loss Over Epochs')\n",
    "plt.legend()\n",
    "plt.grid(True)\n",
    "plt.show()"
   ]
  },
  {
   "cell_type": "markdown",
   "id": "767c4bcd-e39f-4669-8165-b5ea244f18e3",
   "metadata": {},
   "source": [
    "#### Evaluate the reconstruction loss\n",
    "\n",
    "- compare the recons loss of normal vs the fraud data"
   ]
  },
  {
   "cell_type": "code",
   "execution_count": 20,
   "id": "4fdeeacb-b5fb-47dc-8570-ba4687ec4d48",
   "metadata": {},
   "outputs": [
    {
     "name": "stdout",
     "output_type": "stream",
     "text": [
      "\u001b[1m8885/8885\u001b[0m \u001b[32m━━━━━━━━━━━━━━━━━━━━\u001b[0m\u001b[37m\u001b[0m \u001b[1m9s\u001b[0m 1ms/step\n"
     ]
    }
   ],
   "source": [
    "reconstructions_normal = ae.predict(X_normal)"
   ]
  },
  {
   "cell_type": "code",
   "execution_count": 21,
   "id": "6f7c3220-310b-4c87-a984-ee9c6346f943",
   "metadata": {},
   "outputs": [
    {
     "data": {
      "text/plain": [
       "(284315, 30)"
      ]
     },
     "execution_count": 21,
     "metadata": {},
     "output_type": "execute_result"
    }
   ],
   "source": [
    "reconstructions_normal.shape"
   ]
  },
  {
   "cell_type": "code",
   "execution_count": 22,
   "id": "944783f3-2598-415b-aaf2-31a211df13f3",
   "metadata": {},
   "outputs": [
    {
     "data": {
      "text/plain": [
       "array([[0.        , 0.        , 0.14013234, ..., 0.        , 0.        ,\n",
       "        0.        ],\n",
       "       [0.        , 1.163794  , 0.        , ..., 0.        , 0.        ,\n",
       "        0.        ],\n",
       "       [0.        , 0.        , 0.        , ..., 0.        , 0.        ,\n",
       "        1.122738  ],\n",
       "       ...,\n",
       "       [0.95959675, 1.988463  , 0.        , ..., 0.        , 0.        ,\n",
       "        0.        ],\n",
       "       [0.        , 0.        , 0.4314434 , ..., 0.        , 0.        ,\n",
       "        0.        ],\n",
       "       [0.2395016 , 0.        , 0.        , ..., 0.        , 0.        ,\n",
       "        0.02091145]], dtype=float32)"
      ]
     },
     "execution_count": 22,
     "metadata": {},
     "output_type": "execute_result"
    }
   ],
   "source": [
    "reconstructions_normal"
   ]
  },
  {
   "cell_type": "code",
   "execution_count": 23,
   "id": "d19b8c0c-95cc-469e-946c-1796afa4b99f",
   "metadata": {},
   "outputs": [],
   "source": [
    "reconstructions_loss_normal = np.mean(np.square(reconstructions_normal - X_normal), axis=1)"
   ]
  },
  {
   "cell_type": "code",
   "execution_count": 24,
   "id": "46f006fd-af17-4593-9da1-77668857a00e",
   "metadata": {},
   "outputs": [
    {
     "data": {
      "text/plain": [
       "0          0.298672\n",
       "1          0.200313\n",
       "2          0.950305\n",
       "3          0.612942\n",
       "4          0.379339\n",
       "            ...    \n",
       "284802    11.610416\n",
       "284803     0.455609\n",
       "284804     0.465888\n",
       "284805     0.686782\n",
       "284806     0.284724\n",
       "Length: 284315, dtype: float64"
      ]
     },
     "execution_count": 24,
     "metadata": {},
     "output_type": "execute_result"
    }
   ],
   "source": [
    "reconstructions_loss_normal                     # dist 1"
   ]
  },
  {
   "cell_type": "code",
   "execution_count": 25,
   "id": "42cca423-66eb-47b8-82c9-fa0ef2593863",
   "metadata": {},
   "outputs": [
    {
     "name": "stdout",
     "output_type": "stream",
     "text": [
      "\u001b[1m16/16\u001b[0m \u001b[32m━━━━━━━━━━━━━━━━━━━━\u001b[0m\u001b[37m\u001b[0m \u001b[1m0s\u001b[0m 1ms/step \n"
     ]
    }
   ],
   "source": [
    "reconstructions_fruad = ae.predict(X_fraud)"
   ]
  },
  {
   "cell_type": "code",
   "execution_count": 26,
   "id": "1d0033bd-9d72-4520-b064-5e616a0095fd",
   "metadata": {},
   "outputs": [
    {
     "data": {
      "text/plain": [
       "array([[0.0000000e+00, 0.0000000e+00, 2.7521565e+00, ..., 0.0000000e+00,\n",
       "        0.0000000e+00, 0.0000000e+00],\n",
       "       [0.0000000e+00, 1.6339737e-01, 0.0000000e+00, ..., 0.0000000e+00,\n",
       "        0.0000000e+00, 4.9294345e-02],\n",
       "       [0.0000000e+00, 0.0000000e+00, 1.3477862e+00, ..., 0.0000000e+00,\n",
       "        0.0000000e+00, 9.6331641e-02],\n",
       "       ...,\n",
       "       [0.0000000e+00, 0.0000000e+00, 5.3876282e+01, ..., 0.0000000e+00,\n",
       "        0.0000000e+00, 0.0000000e+00],\n",
       "       [0.0000000e+00, 0.0000000e+00, 5.3422291e+01, ..., 0.0000000e+00,\n",
       "        0.0000000e+00, 0.0000000e+00],\n",
       "       [0.0000000e+00, 0.0000000e+00, 5.4039799e+01, ..., 0.0000000e+00,\n",
       "        0.0000000e+00, 0.0000000e+00]], dtype=float32)"
      ]
     },
     "execution_count": 26,
     "metadata": {},
     "output_type": "execute_result"
    }
   ],
   "source": [
    "reconstructions_fruad"
   ]
  },
  {
   "cell_type": "code",
   "execution_count": 27,
   "id": "41f8cff2-bd31-427f-9653-20c7914bd188",
   "metadata": {},
   "outputs": [],
   "source": [
    "reconstructions_loss_fraud = np.mean(np.square(reconstructions_fruad - X_fraud), axis=1)"
   ]
  },
  {
   "cell_type": "code",
   "execution_count": 28,
   "id": "2c827479-b6fe-4507-8f48-66ac593189ce",
   "metadata": {},
   "outputs": [
    {
     "data": {
      "text/plain": [
       "541           3.380816\n",
       "623           1.575475\n",
       "4920         13.948985\n",
       "6108         44.594828\n",
       "6329         35.282337\n",
       "              ...     \n",
       "279863    15956.327588\n",
       "280143    15996.245719\n",
       "280149    15993.167009\n",
       "281144    16119.456704\n",
       "281674    16185.576113\n",
       "Length: 492, dtype: float64"
      ]
     },
     "execution_count": 28,
     "metadata": {},
     "output_type": "execute_result"
    }
   ],
   "source": [
    "reconstructions_loss_fraud             # dist 2"
   ]
  },
  {
   "cell_type": "markdown",
   "id": "030aeda0-e5af-46b0-83ca-a347929a25c6",
   "metadata": {},
   "source": [
    "#### Ways to analyze the distributions"
   ]
  },
  {
   "cell_type": "code",
   "execution_count": 29,
   "id": "1b1c3f70-af42-49c8-bb57-114f3591da26",
   "metadata": {},
   "outputs": [
    {
     "data": {
      "image/png": "[encoded data removed]",
      "text/plain": [
       "<Figure size 1200x600 with 2 Axes>"
      ]
     },
     "metadata": {},
     "output_type": "display_data"
    }
   ],
   "source": [
    "# Plot histograms in two subplots\n",
    "fig, axes = plt.subplots(1, 2, figsize=(12, 6))\n",
    "\n",
    "# Histogram for normal transaction reconstruction loss\n",
    "axes[0].hist(reconstructions_loss_normal, bins=50, alpha=0.5, color=\"blue\", label=\"Normal\")\n",
    "axes[0].set_title(\"Normal Transactions\")\n",
    "axes[0].set_xlabel(\"Reconstruction Loss\")\n",
    "axes[0].set_ylabel(\"Frequency\")\n",
    "axes[0].legend()\n",
    "\n",
    "# Histogram for fraudulent transaction reconstruction loss\n",
    "axes[1].hist(reconstructions_loss_fraud, bins=50, alpha=0.5, color=\"red\", label=\"Fraud\")\n",
    "axes[1].set_title(\"Fraudulent Transactions\")\n",
    "axes[1].set_xlabel(\"Reconstruction Loss\")\n",
    "axes[1].set_ylabel(\"Frequency\")\n",
    "axes[1].legend()\n",
    "\n",
    "# Adjust layout and show plot\n",
    "plt.tight_layout()\n",
    "plt.show()"
   ]
  },
  {
   "cell_type": "markdown",
   "id": "06a48f90-74f8-4174-9a4a-5343ea685694",
   "metadata": {},
   "source": [
    "#### mean and std dev"
   ]
  },
  {
   "cell_type": "code",
   "execution_count": 30,
   "id": "f7826ec6-fa34-4d66-8ed1-9bf2c8ac8f9b",
   "metadata": {},
   "outputs": [
    {
     "name": "stdout",
     "output_type": "stream",
     "text": [
      "Reconstruction Loss - Normal Transactions:\n",
      "Mean: 0.7067\n",
      "Standard Deviation: 3.1442\n",
      "\n",
      "Reconstruction Loss - Fraudulent Transactions:\n",
      "Mean: 4930.4458\n",
      "Standard Deviation: 4752.4869\n"
     ]
    }
   ],
   "source": [
    "# Calculate mean and standard deviation for normal transactions\n",
    "mean_normal = np.mean(reconstructions_loss_normal)\n",
    "std_normal = np.std(reconstructions_loss_normal)\n",
    "\n",
    "# Calculate mean and standard deviation for fraudulent transactions\n",
    "mean_fraud = np.mean(reconstructions_loss_fraud)\n",
    "std_fraud = np.std(reconstructions_loss_fraud)\n",
    "\n",
    "# Display the results\n",
    "print(\"Reconstruction Loss - Normal Transactions:\")\n",
    "print(f\"Mean: {mean_normal:.4f}\")\n",
    "print(f\"Standard Deviation: {std_normal:.4f}\\n\")\n",
    "\n",
    "print(\"Reconstruction Loss - Fraudulent Transactions:\")\n",
    "print(f\"Mean: {mean_fraud:.4f}\")\n",
    "print(f\"Standard Deviation: {std_fraud:.4f}\")"
   ]
  },
  {
   "cell_type": "markdown",
   "id": "d0b17f3a-2054-4be4-844f-78836c4db607",
   "metadata": {},
   "source": [
    "#### box plot"
   ]
  },
  {
   "cell_type": "code",
   "execution_count": 31,
   "id": "a49070ec-3adf-4084-bb06-1d219fd96987",
   "metadata": {},
   "outputs": [
    {
     "data": {
      "image/png": "[encoded data removed]",
      "text/plain": [
       "<Figure size 1600x600 with 1 Axes>"
      ]
     },
     "metadata": {},
     "output_type": "display_data"
    }
   ],
   "source": [
    "# Combine the reconstruction loss data for normal and fraud into a list\n",
    "data = [reconstructions_loss_normal, reconstructions_loss_fraud]\n",
    "\n",
    "# Plot the box plots with updated parameter name\n",
    "plt.figure(figsize=(16, 6))\n",
    "plt.boxplot(data, tick_labels=[\"Normal\", \"Fraud\"], showfliers=True)\n",
    "plt.title(\"Box Plot of Reconstruction Loss\")\n",
    "plt.ylabel(\"Reconstruction Loss\")\n",
    "plt.xlabel(\"Transaction Type\")\n",
    "plt.grid()\n",
    "# Show plot\n",
    "plt.show()"
   ]
  },
  {
   "cell_type": "markdown",
   "id": "75c37687-30a6-4e87-a9a1-06b064c92fb4",
   "metadata": {},
   "source": [
    "#### KDE (Kernel density estimation)"
   ]
  },
  {
   "cell_type": "code",
   "execution_count": 32,
   "id": "6b0315b2-fab8-4c77-9c17-ef22f58d6d69",
   "metadata": {},
   "outputs": [
    {
     "data": {
      "image/png": "[encoded data removed]",
      "text/plain": [
       "<Figure size 1400x600 with 2 Axes>"
      ]
     },
     "metadata": {},
     "output_type": "display_data"
    }
   ],
   "source": [
    "import seaborn as sns\n",
    "\n",
    "# Create subplots\n",
    "fig, axes = plt.subplots(1, 2, figsize=(14, 6))\n",
    "\n",
    "# KDE plot for normal reconstruction loss\n",
    "sns.kdeplot(reconstructions_loss_normal, ax=axes[0], color=\"blue\", fill=True, bw_adjust=1.5)\n",
    "axes[0].set_title(\"KDE of Normal Transactions\")\n",
    "axes[0].set_xlabel(\"Reconstruction Loss\")\n",
    "axes[0].set_ylabel(\"Density\")\n",
    "\n",
    "# KDE plot for fraud reconstruction loss\n",
    "sns.kdeplot(reconstructions_loss_fraud, ax=axes[1], color=\"red\", fill=True, bw_adjust=1.5)\n",
    "axes[1].set_title(\"KDE of Fraudulent Transactions\")\n",
    "axes[1].set_xlabel(\"Reconstruction Loss\")\n",
    "axes[1].set_ylabel(\"Density\")\n",
    "\n",
    "# Show the plots\n",
    "plt.tight_layout()\n",
    "plt.show()"
   ]
  },
  {
   "cell_type": "markdown",
   "id": "2af821cb-b234-4a23-a62e-d92ed23bd579",
   "metadata": {},
   "source": [
    "#### compute the Z-score of fraud vis-avis the normal"
   ]
  },
  {
   "cell_type": "code",
   "execution_count": 33,
   "id": "31a151d9-94be-4b1e-a8df-9adbd5ec0ddd",
   "metadata": {},
   "outputs": [
    {
     "name": "stdout",
     "output_type": "stream",
     "text": [
      "Z-Scores of Reconstruction Loss for Fraudulent Transactions:\n",
      "541          0.850478\n",
      "623          0.276296\n",
      "4920         4.211646\n",
      "6108        13.958447\n",
      "6329        10.996643\n",
      "             ...     \n",
      "279863    5074.628254\n",
      "280143    5087.324073\n",
      "280149    5086.344900\n",
      "281144    5126.510887\n",
      "281674    5147.539929\n",
      "Length: 492, dtype: float64\n"
     ]
    }
   ],
   "source": [
    "# Calculate mean and standard deviation of normal reconstruction losses\n",
    "mean_normal = np.mean(reconstructions_loss_normal)\n",
    "std_normal  = np.std(reconstructions_loss_normal)\n",
    "\n",
    "# Calculate Z-scores for fraudulent reconstruction losses\n",
    "z_scores_fraud = (reconstructions_loss_fraud - mean_normal) / std_normal\n",
    "\n",
    "# Display Z-scores\n",
    "print(\"Z-Scores of Reconstruction Loss for Fraudulent Transactions:\")\n",
    "print(z_scores_fraud)"
   ]
  },
  {
   "cell_type": "markdown",
   "id": "a59f4af8-1bd9-426a-8883-3db66640336a",
   "metadata": {},
   "source": [
    "if the loss for fraud and loss for normal are same then what would the Z-scores?"
   ]
  },
  {
   "cell_type": "code",
   "execution_count": 34,
   "id": "36c80ecf-ba65-4ea6-b0c1-8f3f32056414",
   "metadata": {},
   "outputs": [
    {
     "name": "stdout",
     "output_type": "stream",
     "text": [
      "Number of fraudulent samples with Z-score greater than 3 standard deviations: 490\n"
     ]
    }
   ],
   "source": [
    "# Count the number of fraud samples with Z-score greater than 3\n",
    "threshold = 3\n",
    "count_fraud_outliers = np.sum(z_scores_fraud > threshold)\n",
    "\n",
    "print(f\"Number of fraudulent samples with Z-score greater than {threshold} standard deviations: {count_fraud_outliers}\")"
   ]
  },
  {
   "cell_type": "code",
   "execution_count": null,
   "id": "486f2417-2b48-40d0-8218-995fcbf5e02a",
   "metadata": {},
   "outputs": [],
   "source": []
  },
  {
   "cell_type": "markdown",
   "id": "286025e9-f39a-44b7-aa57-517ade978ba9",
   "metadata": {},
   "source": [
    "#### Quantile comparision"
   ]
  },
  {
   "cell_type": "code",
   "execution_count": 35,
   "id": "97ae75c2-6ec6-4343-aa1a-6e9a89dfd303",
   "metadata": {},
   "outputs": [
    {
     "data": {
      "text/html": [
       "<div>\n",
       "<style scoped>\n",
       "    .dataframe tbody tr th:only-of-type {\n",
       "        vertical-align: middle;\n",
       "    }\n",
       "\n",
       "    .dataframe tbody tr th {\n",
       "        vertical-align: top;\n",
       "    }\n",
       "\n",
       "    .dataframe thead th {\n",
       "        text-align: right;\n",
       "    }\n",
       "</style>\n",
       "<table border=\"1\" class=\"dataframe\">\n",
       "  <thead>\n",
       "    <tr style=\"text-align: right;\">\n",
       "      <th></th>\n",
       "      <th>Quantile</th>\n",
       "      <th>Normal</th>\n",
       "      <th>Fraud</th>\n",
       "    </tr>\n",
       "  </thead>\n",
       "  <tbody>\n",
       "    <tr>\n",
       "      <th>0</th>\n",
       "      <td>0.25</td>\n",
       "      <td>0.248116</td>\n",
       "      <td>1009.809238</td>\n",
       "    </tr>\n",
       "    <tr>\n",
       "      <th>1</th>\n",
       "      <td>0.50</td>\n",
       "      <td>0.402638</td>\n",
       "      <td>3179.122121</td>\n",
       "    </tr>\n",
       "    <tr>\n",
       "      <th>2</th>\n",
       "      <td>0.75</td>\n",
       "      <td>0.627729</td>\n",
       "      <td>9202.317730</td>\n",
       "    </tr>\n",
       "    <tr>\n",
       "      <th>3</th>\n",
       "      <td>0.90</td>\n",
       "      <td>0.986339</td>\n",
       "      <td>12914.698660</td>\n",
       "    </tr>\n",
       "  </tbody>\n",
       "</table>\n",
       "</div>"
      ],
      "text/plain": [
       "   Quantile    Normal         Fraud\n",
       "0      0.25  0.248116   1009.809238\n",
       "1      0.50  0.402638   3179.122121\n",
       "2      0.75  0.627729   9202.317730\n",
       "3      0.90  0.986339  12914.698660"
      ]
     },
     "execution_count": 35,
     "metadata": {},
     "output_type": "execute_result"
    }
   ],
   "source": [
    "# Assuming reconstruction_loss_normal and reconstruction_loss_fraud are already defined\n",
    "# Calculate the desired quantiles\n",
    "quantiles = [0.25, 0.50, 0.75, 0.90]\n",
    "\n",
    "# Create a DataFrame to hold the results\n",
    "quantile_comparison = pd.DataFrame({\n",
    "    'Quantile': quantiles,\n",
    "    'Normal':   np.quantile(reconstructions_loss_normal, quantiles),\n",
    "    'Fraud':    np.quantile(reconstructions_loss_fraud, quantiles)\n",
    "})\n",
    "\n",
    "# Display the quantile comparison\n",
    "quantile_comparison"
   ]
  },
  {
   "cell_type": "markdown",
   "id": "387e66a0-d9ba-42c1-adc4-058a0fd82817",
   "metadata": {},
   "source": [
    "#### use the CDF of the 2 dist"
   ]
  },
  {
   "cell_type": "code",
   "execution_count": 36,
   "id": "b893a340-db71-44ea-a424-b92eb283faae",
   "metadata": {},
   "outputs": [
    {
     "data": {
      "image/png": "[encoded data removed]",
      "text/plain": [
       "<Figure size 1400x600 with 2 Axes>"
      ]
     },
     "metadata": {},
     "output_type": "display_data"
    }
   ],
   "source": [
    "from scipy import stats\n",
    "\n",
    "# Create a range of values for the CDF\n",
    "x_normal = np.linspace(min(reconstructions_loss_normal), max(reconstructions_loss_normal), 1000)\n",
    "x_fraud  = np.linspace(min(reconstructions_loss_fraud),  max(reconstructions_loss_fraud), 1000)\n",
    "\n",
    "# Calculate the CDF using scipy.stats\n",
    "cdf_normal = stats.norm.cdf(x_normal, loc=np.mean(reconstructions_loss_normal), scale=np.std(reconstructions_loss_normal))\n",
    "cdf_fraud  = stats.norm.cdf(x_fraud,  loc=np.mean(reconstructions_loss_fraud),  scale=np.std(reconstructions_loss_fraud))\n",
    "\n",
    "# Create subplots\n",
    "fig, (ax1, ax2) = plt.subplots(1, 2, figsize=(14, 6))\n",
    "\n",
    "# Plot CDF for normal transactions\n",
    "ax1.plot(x_normal, cdf_normal, label='CDF - Normal Transactions', color='blue')\n",
    "ax1.set_title('CDF of Normal Transactions')\n",
    "ax1.set_xlabel('Reconstruction Loss')\n",
    "ax1.set_ylabel('Cumulative Probability')\n",
    "ax1.legend()\n",
    "ax1.grid()\n",
    "\n",
    "# Plot CDF for fraudulent transactions\n",
    "ax2.plot(x_fraud, cdf_fraud, label='CDF - Fraudulent Transactions', color='red')\n",
    "ax2.set_title('CDF of Fraudulent Transactions')\n",
    "ax2.set_xlabel('Reconstruction Loss')\n",
    "ax2.set_ylabel('Cumulative Probability')\n",
    "ax2.legend()\n",
    "ax2.grid()"
   ]
  },
  {
   "cell_type": "markdown",
   "id": "ffc10d10-c44d-42f7-8cea-e597f4f11b44",
   "metadata": {},
   "source": [
    "#### compare the dist using t-test or equivalent (for not normally dist data)"
   ]
  },
  {
   "cell_type": "markdown",
   "id": "b7403fd3-77a0-479c-b381-2265d1dac1d8",
   "metadata": {},
   "source": [
    "Normality check..."
   ]
  },
  {
   "cell_type": "code",
   "execution_count": 37,
   "id": "2e3c206d-963f-4298-b968-83886f82eb99",
   "metadata": {},
   "outputs": [
    {
     "name": "stdout",
     "output_type": "stream",
     "text": [
      "Anderson-Darling Test Results for Normal Transactions:\n",
      "Statistic: 80135.04463486758, \n",
      "Critical Values: [0.576 0.656 0.787 0.918 1.092], \n",
      "Significance Levels: [15.  10.   5.   2.5  1. ]\n",
      "\n",
      "Anderson-Darling Test Results for Fraudulent Transactions:\n",
      "Statistic: 27.056886220831984, \n",
      "Critical Values: [0.571 0.651 0.781 0.911 1.083], \n",
      "Significance Levels: [15.  10.   5.   2.5  1. ]\n"
     ]
    }
   ],
   "source": [
    "from scipy.stats import anderson\n",
    "\n",
    "# Anderson-Darling Test\n",
    "result_normal = anderson(reconstructions_loss_normal)\n",
    "result_fraud  = anderson(reconstructions_loss_fraud)\n",
    "\n",
    "print(\"Anderson-Darling Test Results for Normal Transactions:\")\n",
    "print(f\"Statistic: {result_normal.statistic}, \\nCritical Values: {result_normal.critical_values}, \\nSignificance Levels: {result_normal.significance_level}\")\n",
    "\n",
    "print(\"\\nAnderson-Darling Test Results for Fraudulent Transactions:\")\n",
    "print(f\"Statistic: {result_fraud.statistic}, \\nCritical Values: {result_fraud.critical_values}, \\nSignificance Levels: {result_fraud.significance_level}\")"
   ]
  },
  {
   "cell_type": "code",
   "execution_count": 38,
   "id": "8e300e3b-43e7-4365-89d4-842e90e4a893",
   "metadata": {},
   "outputs": [
    {
     "ename": "SyntaxError",
     "evalue": "invalid syntax (1994000870.py, line 1)",
     "output_type": "error",
     "traceback": [
      "\u001b[1;36m  Cell \u001b[1;32mIn[38], line 1\u001b[1;36m\u001b[0m\n\u001b[1;33m    Q-Q plot\u001b[0m\n\u001b[1;37m        ^\u001b[0m\n\u001b[1;31mSyntaxError\u001b[0m\u001b[1;31m:\u001b[0m invalid syntax\n"
     ]
    }
   ],
   "source": [
    "Q-Q plot "
   ]
  },
  {
   "cell_type": "code",
   "execution_count": null,
   "id": "3730e31b-13a1-4663-881b-63f4c8235a3e",
   "metadata": {},
   "outputs": [],
   "source": [
    "import statsmodels.api as sm\n",
    "\n",
    "# Q-Q plot for Normal Transactions\n",
    "plt.figure(figsize=(12, 6))\n",
    "\n",
    "plt.subplot(1, 2, 1)\n",
    "sm.qqplot(reconstructions_loss_normal, line='s', ax=plt.gca())\n",
    "plt.title('Q-Q Plot for Normal Transactions')\n",
    "\n",
    "# Q-Q plot for Fraudulent Transactions\n",
    "plt.subplot(1, 2, 2)\n",
    "sm.qqplot(reconstructions_loss_fraud, line='s', ax=plt.gca())\n",
    "plt.title('Q-Q Plot for Fraudulent Transactions')\n",
    "\n",
    "plt.show()"
   ]
  },
  {
   "cell_type": "markdown",
   "id": "12d47ab5-8bd8-403c-9c51-6423151d9e84",
   "metadata": {},
   "source": [
    "We cannot use t-test \n",
    "\n",
    "but we can non-parameteric alternative (MANN-WHITNEY U TEST)"
   ]
  },
  {
   "cell_type": "code",
   "execution_count": 39,
   "id": "6c37ac49-f131-4712-8f35-932212d2c0b4",
   "metadata": {},
   "outputs": [
    {
     "name": "stdout",
     "output_type": "stream",
     "text": [
      "Mann-Whitney U Test Statistic: 24043.0, p-value: 0.0\n"
     ]
    }
   ],
   "source": [
    "from scipy.stats import mannwhitneyu\n",
    "\n",
    "# Mann-Whitney U Test\n",
    "stat, p_value = mannwhitneyu(reconstructions_loss_normal, reconstructions_loss_fraud)\n",
    "\n",
    "print(f\"Mann-Whitney U Test Statistic: {stat}, p-value: {p_value}\")"
   ]
  },
  {
   "cell_type": "markdown",
   "id": "57029b66-3221-4a78-a85b-16c32841b6b3",
   "metadata": {},
   "source": [
    "Using KL divergence or JSD \n",
    "(used in VAE......RBM ... BM ... DALLE ....)"
   ]
  },
  {
   "cell_type": "markdown",
   "id": "fc8f254b-8439-4ff9-95c3-acefacb0c61b",
   "metadata": {},
   "source": [
    "#### KL - devergence\n",
    "\n",
    "- KL divergence measures how one `probability` distribution diverges from a second expected probability distribution.\n",
    "- It is not symmetric and can only be used when the reference distribution has a non-zero probability for every point.\n",
    "\n",
    "- Implementation Steps:\n",
    "    - First, you need to create probability distributions from the reconstruction loss data (typically using histograms or kernel density estimates).\n",
    "    - Then, compute the KL divergence between the two distributions."
   ]
  },
  {
   "cell_type": "code",
   "execution_count": 41,
   "id": "10c4431a-7ec3-4225-b7ad-24989fb95121",
   "metadata": {},
   "outputs": [],
   "source": [
    "from scipy.stats import gaussian_kde\n",
    "\n",
    "# Create kernel density estimates for both distributions\n",
    "kde_normal = gaussian_kde(reconstructions_loss_normal)\n",
    "kde_fraud  = gaussian_kde(reconstructions_loss_fraud)"
   ]
  },
  {
   "cell_type": "code",
   "execution_count": 42,
   "id": "72c1a44a-8f89-4abb-ac94-7b0d7ef04ab7",
   "metadata": {},
   "outputs": [],
   "source": [
    "# Create a range of values for the x-axis\n",
    "x_values = np.linspace(min(reconstructions_loss_normal.min(), reconstructions_loss_fraud.min()),\n",
    "                       max(reconstructions_loss_normal.max(), reconstructions_loss_fraud.max()), 1000)"
   ]
  },
  {
   "cell_type": "code",
   "execution_count": 43,
   "id": "6eb71edd-5ba3-4ef5-a412-322f8233b48f",
   "metadata": {},
   "outputs": [],
   "source": [
    "# Calculate the probability density functions\n",
    "pdf_normal = kde_normal(x_values)\n",
    "pdf_fraud  = kde_fraud(x_values)"
   ]
  },
  {
   "cell_type": "code",
   "execution_count": 44,
   "id": "cc302762-9ae6-415a-af07-6d7a1e69848a",
   "metadata": {},
   "outputs": [
    {
     "name": "stdout",
     "output_type": "stream",
     "text": [
      "KL Divergence (Normal to Fraud): nan\n",
      "KL Divergence (Fraud to Normal): inf\n"
     ]
    },
    {
     "name": "stderr",
     "output_type": "stream",
     "text": [
      "C:\\Users\\bhupe\\AppData\\Local\\Temp\\ipykernel_10160\\2336632187.py:2: RuntimeWarning: divide by zero encountered in log\n",
      "  kl_divergence_normal_to_fraud = np.sum(pdf_normal * np.log(pdf_normal / pdf_fraud))\n",
      "C:\\Users\\bhupe\\AppData\\Local\\Temp\\ipykernel_10160\\2336632187.py:2: RuntimeWarning: invalid value encountered in multiply\n",
      "  kl_divergence_normal_to_fraud = np.sum(pdf_normal * np.log(pdf_normal / pdf_fraud))\n",
      "C:\\Users\\bhupe\\AppData\\Local\\Temp\\ipykernel_10160\\2336632187.py:3: RuntimeWarning: divide by zero encountered in divide\n",
      "  kl_divergence_fraud_to_normal = np.sum(pdf_fraud  * np.log(pdf_fraud / pdf_normal))\n"
     ]
    }
   ],
   "source": [
    "# Compute KL divergence\n",
    "kl_divergence_normal_to_fraud = np.sum(pdf_normal * np.log(pdf_normal / pdf_fraud))\n",
    "kl_divergence_fraud_to_normal = np.sum(pdf_fraud  * np.log(pdf_fraud / pdf_normal))\n",
    "\n",
    "print(f\"KL Divergence (Normal to Fraud): {kl_divergence_normal_to_fraud}\")\n",
    "print(f\"KL Divergence (Fraud to Normal): {kl_divergence_fraud_to_normal}\")"
   ]
  },
  {
   "cell_type": "code",
   "execution_count": 46,
   "id": "6f1057f1-d57f-4e91-9722-dc0ea3919fb8",
   "metadata": {},
   "outputs": [
    {
     "name": "stdout",
     "output_type": "stream",
     "text": [
      "KL Divergence (Normal to Fraud): 4.695456949516063\n",
      "KL Divergence (Fraud to Normal): 0.7001504485309945\n"
     ]
    }
   ],
   "source": [
    "# Compute KDE for both distributions\n",
    "kde_normal = gaussian_kde(reconstructions_loss_normal)\n",
    "kde_fraud  = gaussian_kde(reconstructions_loss_fraud)\n",
    "\n",
    "# Define the range for evaluation\n",
    "x = np.linspace(0, max(max(reconstructions_loss_normal), max(reconstructions_loss_fraud)), 1000)\n",
    "\n",
    "# Evaluate KDE\n",
    "kde_normal_values = kde_normal(x)\n",
    "kde_fraud_values = kde_fraud(x)\n",
    "\n",
    "# Ensure non-zero values for KL Divergence computation\n",
    "kde_normal_values += 1e-10  # Small constant to avoid zero values\n",
    "kde_fraud_values  += 1e-10  # Small constant to avoid zero values\n",
    "\n",
    "# Compute KL Divergence (normal to fraud)\n",
    "kl_divergence_normal_to_fraud = np.sum(kde_normal_values * np.log(kde_normal_values / kde_fraud_values))\n",
    "print(f\"KL Divergence (Normal to Fraud): {kl_divergence_normal_to_fraud}\")\n",
    "\n",
    "# Compute KL Divergence (fraud to normal)\n",
    "kl_divergence_fraud_to_normal = np.sum(kde_fraud_values * np.log(kde_fraud_values / kde_normal_values))\n",
    "print(f\"KL Divergence (Fraud to Normal): {kl_divergence_fraud_to_normal}\")"
   ]
  },
  {
   "cell_type": "code",
   "execution_count": 52,
   "id": "bf9c324a-530d-4a36-86f1-ff462ec8a262",
   "metadata": {},
   "outputs": [
    {
     "data": {
      "text/plain": [
       "array([  1.        ,   4.4137931 ,   7.82758621,  11.24137931,\n",
       "        14.65517241,  18.06896552,  21.48275862,  24.89655172,\n",
       "        28.31034483,  31.72413793,  35.13793103,  38.55172414,\n",
       "        41.96551724,  45.37931034,  48.79310345,  52.20689655,\n",
       "        55.62068966,  59.03448276,  62.44827586,  65.86206897,\n",
       "        69.27586207,  72.68965517,  76.10344828,  79.51724138,\n",
       "        82.93103448,  86.34482759,  89.75862069,  93.17241379,\n",
       "        96.5862069 , 100.        ])"
      ]
     },
     "execution_count": 52,
     "metadata": {},
     "output_type": "execute_result"
    }
   ],
   "source": [
    "np.linspace( start = 1, stop = 100,  num=30, endpoint=True,  retstep=False)"
   ]
  },
  {
   "cell_type": "markdown",
   "id": "6c066f92-5fa9-41fb-8878-c03e911dc22e",
   "metadata": {},
   "source": [
    "- **Typical Values for KL Divergence**:\n",
    "  - **Values Close to Zero**: Indicates the two distributions are very similar (e.g., \\( < 0.01 \\)).\n",
    "  - **Increasing Values**: \n",
    "    - **Low Divergence**: \\( 0 - 0.5 \\)\n",
    "    - **Moderate Divergence**: \\( 0.5 - 1.5 \\)\n",
    "    - **High Divergence**: \\( > 1.5 \\)\n",
    "\n",
    "- **Directionality of KL Divergence**:\n",
    "  - **Asymmetry**: KL Divergence is not symmetric, meaning $ D_{KL}(P \\| Q) \\neq D_{KL}(Q \\| P) $.\n",
    "  - **Similar Values**: \n",
    "    - Low values in both directions suggest similarity, but their specific nature may differ.\n",
    "    - For example, if both values are around \\( 0.1 \\), it indicates that distributions \\( P \\) and \\( Q \\) are similar in both directions.\n",
    "\n",
    "- **Summary**:\n",
    "  - **Typical KL Divergence Values for Similar Distributions**: Near zero (e.g., \\( < 0.01 \\)).\n",
    "  - **Directionality**: Both KL Divergence values can be low and similar for similar distributions, but they are generally not equal.\n",
    "\n",
    "- **Practical Consideration**:\n",
    "  - Consider both directions of divergence for a complete picture of the relationship between distributions.\n",
    "  - Use symmetric measures like Jensen-Shannon Divergence (JSD) for a balanced assessment of similarity. JSD is bounded between 0 and 1, making it easier to interpret.\n"
   ]
  },
  {
   "cell_type": "code",
   "execution_count": 53,
   "id": "5f6de450-b68c-4685-91a5-dfcdd9a25814",
   "metadata": {},
   "outputs": [],
   "source": [
    "# Define the distributions\n",
    "P = np.array([0.1, 0.2, 0.4, 0.1, 0.1, 0.1])  # Actual outcomes\n",
    "Q = np.array([1/6] * 6)                       # Expected uniform distribution"
   ]
  },
  {
   "cell_type": "code",
   "execution_count": 54,
   "id": "22295f85-0f69-4ab3-afc8-62b4dd9fd042",
   "metadata": {},
   "outputs": [
    {
     "data": {
      "text/plain": [
       "array([0.16666667, 0.16666667, 0.16666667, 0.16666667, 0.16666667,\n",
       "       0.16666667])"
      ]
     },
     "execution_count": 54,
     "metadata": {},
     "output_type": "execute_result"
    }
   ],
   "source": [
    "Q"
   ]
  },
  {
   "cell_type": "code",
   "execution_count": 55,
   "id": "bda4e7ad-f0e1-445e-9169-211c072915c0",
   "metadata": {},
   "outputs": [
    {
     "name": "stdout",
     "output_type": "stream",
     "text": [
      "KL Divergence from P to Q: 0.18232155679395473\n"
     ]
    }
   ],
   "source": [
    "# Calculate KL Divergence\n",
    "kl_divergence = np.sum(P * np.log(P / Q))\n",
    "\n",
    "print(\"KL Divergence from P to Q:\", kl_divergence)"
   ]
  },
  {
   "cell_type": "code",
   "execution_count": 56,
   "id": "39f4ed0d-1944-48cb-9575-eaac52a6c2b7",
   "metadata": {},
   "outputs": [
    {
     "name": "stdout",
     "output_type": "stream",
     "text": [
      "KL Divergence from Q to P: 0.1642520334860179\n"
     ]
    }
   ],
   "source": [
    "# Calculate KL Divergence\n",
    "kl_divergence = np.sum(Q * np.log(Q / P))\n",
    "\n",
    "print(\"KL Divergence from Q to P:\", kl_divergence)"
   ]
  },
  {
   "cell_type": "code",
   "execution_count": 57,
   "id": "8797c01c-cdbd-46de-8ba0-5de585ecf12c",
   "metadata": {},
   "outputs": [],
   "source": [
    "# Define the two probability distributions P and Q\n",
    "P = np.array([0.3, 0.4, 0.2, 0.1])  # Actual distribution\n",
    "Q = np.array([0.25, 0.45, 0.2, 0.1])  # Slightly different expected distribution"
   ]
  },
  {
   "cell_type": "code",
   "execution_count": 58,
   "id": "a068cc30-91cb-47de-b7ce-7a0c51f4a45b",
   "metadata": {},
   "outputs": [],
   "source": [
    "# Function to calculate KL Divergence\n",
    "def kl_divergence(P, Q):\n",
    "    # Avoid division by zero and log of zero by adding a small value\n",
    "    epsilon = 1e-10\n",
    "    P = P + epsilon\n",
    "    Q = Q + epsilon\n",
    "    kl = np.sum(P * np.log(P / Q))\n",
    "    return kl"
   ]
  },
  {
   "cell_type": "code",
   "execution_count": 59,
   "id": "8675717e-da8e-4173-a3ac-d419f4b84517",
   "metadata": {},
   "outputs": [
    {
     "name": "stdout",
     "output_type": "stream",
     "text": [
      "KL Divergence (P to Q): 0.0075832527731979835\n",
      "KL Divergence (Q to P): 0.007421976844596674\n"
     ]
    }
   ],
   "source": [
    "# Compute KL Divergence from P to Q\n",
    "kl_divergence_P_to_Q = kl_divergence(P, Q)\n",
    "\n",
    "# Compute KL Divergence from Q to P\n",
    "kl_divergence_Q_to_P = kl_divergence(Q, P)\n",
    "\n",
    "print(f\"KL Divergence (P to Q): {kl_divergence_P_to_Q}\")\n",
    "print(f\"KL Divergence (Q to P): {kl_divergence_Q_to_P}\")"
   ]
  },
  {
   "cell_type": "markdown",
   "id": "1906afd3-dfc7-432e-a840-9f712b8fff1b",
   "metadata": {},
   "source": [
    "#### JSD"
   ]
  },
  {
   "cell_type": "code",
   "execution_count": 61,
   "id": "effd29cb-4e41-4c87-bd11-472c113149e3",
   "metadata": {},
   "outputs": [],
   "source": [
    "kde_normal = gaussian_kde(reconstructions_loss_normal)\n",
    "kde_fraud  = gaussian_kde(reconstructions_loss_fraud)"
   ]
  },
  {
   "cell_type": "code",
   "execution_count": 63,
   "id": "2807affe-76f4-4dbc-9b12-3c34545ca31a",
   "metadata": {},
   "outputs": [],
   "source": [
    "# Define the range for evaluation\n",
    "x = np.linspace(0, max(max(reconstructions_loss_normal), max(reconstructions_loss_fraud)), 1000)\n"
   ]
  },
  {
   "cell_type": "code",
   "execution_count": 64,
   "id": "7d861645-5cba-46f6-8f4d-fc7d1da12d03",
   "metadata": {},
   "outputs": [],
   "source": [
    "pdf_normal = kde_normal(x)\n",
    "pdf_fraud  = kde_fraud(x)"
   ]
  },
  {
   "cell_type": "code",
   "execution_count": 65,
   "id": "fb8bb4c8-9f97-4f0a-9368-268431f711e0",
   "metadata": {},
   "outputs": [],
   "source": [
    "pdf_normal /= np.sum(pdf_normal)\n",
    "pdf_fraud  /= np.sum(pdf_fraud)"
   ]
  },
  {
   "cell_type": "code",
   "execution_count": 66,
   "id": "750f2610-2cc8-474b-b5ab-f7a5d71161a6",
   "metadata": {},
   "outputs": [],
   "source": [
    "average_pdf = 0.5 * (pdf_normal + pdf_fraud)"
   ]
  },
  {
   "cell_type": "code",
   "execution_count": 67,
   "id": "e27b27ca-42d1-4e55-8549-69e8cc523476",
   "metadata": {},
   "outputs": [],
   "source": [
    "def kl_divergence(P, Q):\n",
    "    # Avoid division by zero and log of zero by adding a small value\n",
    "    epsilon = 1e-10\n",
    "    P = P + epsilon\n",
    "    Q = Q + epsilon\n",
    "    return np.sum(P * np.log(P / Q))"
   ]
  },
  {
   "cell_type": "code",
   "execution_count": 68,
   "id": "ace8746b-5d0e-4ba4-ab69-4c4ac3818003",
   "metadata": {},
   "outputs": [],
   "source": [
    "kl_normal_to_average = kl_divergence(pdf_normal, average_pdf)\n",
    "kl_fraud_to_average  = kl_divergence(pdf_fraud, average_pdf)"
   ]
  },
  {
   "cell_type": "code",
   "execution_count": 69,
   "id": "62911d7f-5227-4989-8e97-2f07327d8f56",
   "metadata": {},
   "outputs": [
    {
     "name": "stdout",
     "output_type": "stream",
     "text": [
      "Jensen-Shannon Divergence (JSD): 0.6853817745454782\n"
     ]
    }
   ],
   "source": [
    "jsd = 0.5 * (kl_normal_to_average + kl_fraud_to_average)\n",
    "\n",
    "print(f\"Jensen-Shannon Divergence (JSD): {jsd}\")"
   ]
  },
  {
   "cell_type": "code",
   "execution_count": null,
   "id": "6e26f524-9890-43f7-83a8-461dd1ff5b04",
   "metadata": {},
   "outputs": [],
   "source": []
  }
 ],
 "metadata": {
  "kernelspec": {
   "display_name": "Python 3 (ipykernel)",
   "language": "python",
   "name": "python3"
  },
  "language_info": {
   "codemirror_mode": {
    "name": "ipython",
    "version": 3
   },
   "file_extension": ".py",
   "mimetype": "text/x-python",
   "name": "python",
   "nbconvert_exporter": "python",
   "pygments_lexer": "ipython3",
   "version": "3.12.7"
  }
 },
 "nbformat": 4,
 "nbformat_minor": 5
}
