{
 "cells": [
  {
   "cell_type": "markdown",
   "id": "7b7aab43-8599-4307-beb2-85989b3608ec",
   "metadata": {},
   "source": [
    "#### return structured output"
   ]
  },
  {
   "cell_type": "code",
   "execution_count": 1,
   "id": "8945c9f7-c938-4c37-9c46-c088b6715166",
   "metadata": {},
   "outputs": [],
   "source": [
    "from langchain_openai import ChatOpenAI"
   ]
  },
  {
   "cell_type": "code",
   "execution_count": 2,
   "id": "bc3d9aa0-8d40-489c-8276-dc0e36010243",
   "metadata": {},
   "outputs": [],
   "source": [
    "llm = ChatOpenAI(model=\"gpt-4o-mini\")"
   ]
  },
  {
   "cell_type": "code",
   "execution_count": 3,
   "id": "b030f417-eec2-4432-b219-25e3f7267ab5",
   "metadata": {},
   "outputs": [],
   "source": [
    "from typing import Optional\n",
    "\n",
    "from pydantic import BaseModel, Field"
   ]
  },
  {
   "cell_type": "code",
   "execution_count": 5,
   "id": "07a395c6-8764-472e-9287-c0306d457a8c",
   "metadata": {},
   "outputs": [],
   "source": [
    "# Pydantic\n",
    "class Joke(BaseModel):\n",
    "    \"\"\"Joke to tell user.\"\"\"\n",
    "\n",
    "    setup:     str = Field(description=\"The setup of the joke\")\n",
    "    punchline: str = Field(description=\"The punchline to the joke\")\n",
    "    rating:    Optional[int] = Field(\n",
    "                default    = None, \n",
    "                description= \"How funny the joke is, from 1 to 10\"\n",
    "    )"
   ]
  },
  {
   "cell_type": "code",
   "execution_count": 8,
   "id": "aeb0eda0-5465-4689-bcc6-5847ff40e603",
   "metadata": {},
   "outputs": [],
   "source": [
    "structured_llm = llm.with_structured_output(Joke)"
   ]
  },
  {
   "cell_type": "code",
   "execution_count": 9,
   "id": "a24276d8-162e-480c-81d6-6b9493594e70",
   "metadata": {},
   "outputs": [
    {
     "data": {
      "text/plain": [
       "Joke(setup='Why did the LLM go to therapy?', punchline='Because it had too many unresolved parameters!', rating=None)"
      ]
     },
     "execution_count": 9,
     "metadata": {},
     "output_type": "execute_result"
    }
   ],
   "source": [
    "response = structured_llm.invoke(\"Tell me a joke about LLM\")\n",
    "response"
   ]
  },
  {
   "cell_type": "code",
   "execution_count": 10,
   "id": "5300d61c-ea9a-4774-b4a3-1d5f40ce388a",
   "metadata": {},
   "outputs": [
    {
     "data": {
      "text/plain": [
       "{'setup': 'Why did the LLM go to therapy?',\n",
       " 'punchline': 'Because it had too many unresolved parameters!',\n",
       " 'rating': None}"
      ]
     },
     "execution_count": 10,
     "metadata": {},
     "output_type": "execute_result"
    }
   ],
   "source": [
    "dict(response)"
   ]
  },
  {
   "cell_type": "markdown",
   "id": "9c1b17cc-42ab-46a5-872f-fefa6a1ddcd6",
   "metadata": {},
   "source": [
    "Example"
   ]
  },
  {
   "cell_type": "code",
   "execution_count": 11,
   "id": "71a86ce5-2d89-491c-a16e-0192a4f4d190",
   "metadata": {},
   "outputs": [],
   "source": [
    "from typing import List"
   ]
  },
  {
   "cell_type": "code",
   "execution_count": 12,
   "id": "990140b8-a703-47f5-8073-a339b6b7781c",
   "metadata": {},
   "outputs": [],
   "source": [
    "# Pydantic\n",
    "class Recipe(BaseModel):\n",
    "    \"\"\"Recipe details.\"\"\"\n",
    "\n",
    "    title:        str       = Field(description=\"The title of the recipe\")\n",
    "    ingredients:  List[str] = Field(description=\"List of ingredients needed\")\n",
    "    cooking_time: int       = Field(description=\"Cooking time in minutes\")\n",
    "    steps:        List[str] = Field(description=\"Step-by-step instructions\")"
   ]
  },
  {
   "cell_type": "code",
   "execution_count": 11,
   "id": "c5d3ce94-22f9-4a9e-b972-ce52e33c28c4",
   "metadata": {},
   "outputs": [],
   "source": [
    "# Using structured output with the model\n",
    "structured_llm = llm.with_structured_output(Recipe)"
   ]
  },
  {
   "cell_type": "code",
   "execution_count": 13,
   "id": "1cb09d6f-487e-42c9-a826-d5bb35214d7f",
   "metadata": {},
   "outputs": [
    {
     "data": {
      "text/plain": [
       "{'title': 'Chocolate Chip Cookies',\n",
       " 'ingredients': ['2 1/4 cups all-purpose flour',\n",
       "  '1/2 teaspoon baking soda',\n",
       "  '1 cup unsalted butter, room temperature',\n",
       "  '1/2 cup granulated sugar',\n",
       "  '1 cup packed light-brown sugar',\n",
       "  '1 teaspoon salt',\n",
       "  '2 teaspoons pure vanilla extract',\n",
       "  '2 large eggs',\n",
       "  '2 cups semisweet and/or milk chocolate chips',\n",
       "  '1 cup chopped nuts (optional)'],\n",
       " 'cooking_time': 15,\n",
       " 'steps': ['Preheat your oven to 350°F (175°C).',\n",
       "  'In a small bowl, whisk together the flour and baking soda; set aside.',\n",
       "  'In a large bowl, using a hand mixer or stand mixer, cream the butter and sugars together on medium speed until light and fluffy, about 2 minutes.',\n",
       "  'Add the salt, vanilla, and eggs; beat until well combined.',\n",
       "  'Gradually add the flour mixture, mixing until just combined.',\n",
       "  'Fold in the chocolate chips and nuts (if using).',\n",
       "  'Drop tablespoon-sized balls of dough onto ungreased baking sheets, spacing them about 2 inches apart.',\n",
       "  'Bake for 10-12 minutes or until the edges are golden brown but the centers are still soft.',\n",
       "  'Remove from the oven and let cool on the baking sheets for 5 minutes before transferring to wire racks to cool completely.']}"
      ]
     },
     "execution_count": 13,
     "metadata": {},
     "output_type": "execute_result"
    }
   ],
   "source": [
    "dict(structured_llm.invoke(\"Give me a recipe for chocolate chip cookies.\"))"
   ]
  },
  {
   "cell_type": "markdown",
   "id": "a914ab71-8a77-428d-912c-c07144aad0c0",
   "metadata": {},
   "source": [
    "JSON Schema"
   ]
  },
  {
   "cell_type": "code",
   "execution_count": 13,
   "id": "5fab3f2e-fb8f-4d53-8474-402f517be361",
   "metadata": {},
   "outputs": [],
   "source": [
    "json_schema = {\n",
    "    \"title\":       \"joke\",\n",
    "    \"description\": \"Joke to tell user.\",\n",
    "    \"type\": \"object\",\n",
    "    \"properties\": {\n",
    "        \"setup\": {\n",
    "            \"type\": \"string\",\n",
    "            \"description\": \"The setup of the joke\",\n",
    "        },\n",
    "        \"punchline\": {\n",
    "            \"type\": \"string\",\n",
    "            \"description\": \"The punchline to the joke\",\n",
    "        },\n",
    "        \"rating\": {\n",
    "            \"type\": \"integer\",\n",
    "            \"description\": \"How funny the joke is, from 1 to 10\",\n",
    "            \"default\": None,\n",
    "        },\n",
    "    },\n",
    "    \"required\": [\"setup\", \"punchline\"],\n",
    "}"
   ]
  },
  {
   "cell_type": "code",
   "execution_count": 14,
   "id": "26f707a7-3176-4e84-ac7a-8d3d60969d6e",
   "metadata": {},
   "outputs": [],
   "source": [
    "structured_llm = llm.with_structured_output(json_schema)"
   ]
  },
  {
   "cell_type": "code",
   "execution_count": 15,
   "id": "76dd1c5e-be74-42c1-9b83-7b1db2a2c328",
   "metadata": {},
   "outputs": [
    {
     "data": {
      "text/plain": [
       "{'setup': 'Why was the cat sitting on the computer?',\n",
       " 'punchline': 'Because it wanted to keep an eye on the mouse!',\n",
       " 'rating': 7}"
      ]
     },
     "execution_count": 15,
     "metadata": {},
     "output_type": "execute_result"
    }
   ],
   "source": [
    "structured_llm.invoke(\"Tell me a joke about cats\")"
   ]
  },
  {
   "cell_type": "markdown",
   "id": "cd3b24b8-20d1-4771-b4e8-bd54885ff90a",
   "metadata": {},
   "source": [
    "#### Output parsers"
   ]
  },
  {
   "cell_type": "code",
   "execution_count": 16,
   "id": "ec37eb76-a00e-4243-ac70-747e62291de7",
   "metadata": {},
   "outputs": [],
   "source": [
    "from langchain_core.output_parsers import PydanticOutputParser\n",
    "\n",
    "from langchain_core.prompts import PromptTemplate\n",
    "\n",
    "from langchain_openai import OpenAI\n",
    "from pydantic import BaseModel, Field, model_validator"
   ]
  },
  {
   "cell_type": "code",
   "execution_count": 17,
   "id": "f7d6cc4b-febc-4d83-9615-3c7d89fa1d4c",
   "metadata": {},
   "outputs": [],
   "source": [
    "model = OpenAI(model_name=\"gpt-3.5-turbo-instruct\", temperature=0.0)"
   ]
  },
  {
   "cell_type": "code",
   "execution_count": 18,
   "id": "49c2a286-67f1-4729-9ec6-c4b656ea27a0",
   "metadata": {},
   "outputs": [],
   "source": [
    "# Define your desired data structure.\n",
    "class Joke(BaseModel):\n",
    "    setup: str     = Field(description=\"question to set up a joke\")\n",
    "    punchline: str = Field(description=\"answer to resolve the joke\")\n",
    "\n",
    "    # add custom validation logic with Pydantic.\n",
    "    @model_validator(mode=\"before\")\n",
    "    @classmethod\n",
    "    def question_ends_with_question_mark(cls, values: dict) -> dict:\n",
    "        setup = values.get(\"setup\")            # Accessing the setup Field in values\n",
    "        if setup and setup[-1] != \"?\":\n",
    "            raise ValueError(\"Badly formed question!\")\n",
    "        return values"
   ]
  },
  {
   "cell_type": "code",
   "execution_count": 19,
   "id": "07853421-bd87-45e1-95f0-12cf7e0c5c7c",
   "metadata": {},
   "outputs": [],
   "source": [
    "parser = PydanticOutputParser(pydantic_object=Joke)"
   ]
  },
  {
   "cell_type": "code",
   "execution_count": 21,
   "id": "c79c415e-9f8a-45f5-a2f7-2d9231469b06",
   "metadata": {},
   "outputs": [],
   "source": [
    "prompt = PromptTemplate(\n",
    "    template         = \"Answer the user query.\\n{format_instructions}\\n{query}\\n\",\n",
    "    input_variables  = [\"query\"],\n",
    "    partial_variables= {\"format_instructions\": parser.get_format_instructions()},\n",
    ")"
   ]
  },
  {
   "cell_type": "code",
   "execution_count": 22,
   "id": "9fd5502e-704c-45ff-97e1-dd65627b346c",
   "metadata": {},
   "outputs": [
    {
     "data": {
      "text/plain": [
       "Joke(setup='Why did the tomato turn red?', punchline='Because it saw the salad dressing!')"
      ]
     },
     "execution_count": 22,
     "metadata": {},
     "output_type": "execute_result"
    }
   ],
   "source": [
    "prompt_and_model = prompt | model\n",
    "\n",
    "output = prompt_and_model.invoke({\"query\": \"Tell me a joke.\"})\n",
    "\n",
    "parser.invoke(output)"
   ]
  },
  {
   "cell_type": "markdown",
   "id": "7cbdd0d5-7516-440d-bd6d-d20934691010",
   "metadata": {},
   "source": [
    "Another example ..."
   ]
  },
  {
   "cell_type": "code",
   "execution_count": 23,
   "id": "688f044b-f136-4e7c-b745-8a79ba77944e",
   "metadata": {},
   "outputs": [],
   "source": [
    "from typing import List\n",
    "\n",
    "from langchain_core.output_parsers import PydanticOutputParser\n",
    "from langchain_core.prompts import ChatPromptTemplate\n",
    "from pydantic import BaseModel, Field"
   ]
  },
  {
   "cell_type": "code",
   "execution_count": 24,
   "id": "aadde25a-f66a-42c4-a7ea-730cdc022794",
   "metadata": {},
   "outputs": [],
   "source": [
    "class Person(BaseModel):\n",
    "    \"\"\"Information about a person.\"\"\"\n",
    "\n",
    "    name:             str   = Field(..., description=\"The name of the person\")\n",
    "    height_in_meters: float = Field(..., description=\"The height of the person expressed in meters.\")"
   ]
  },
  {
   "cell_type": "code",
   "execution_count": 25,
   "id": "cca6c7f4-dfbc-4bcf-a9f7-edfa09698824",
   "metadata": {},
   "outputs": [],
   "source": [
    "class People(BaseModel):\n",
    "    \"\"\"Identifying information about all people in a text.\"\"\"\n",
    "\n",
    "    people: List[Person]"
   ]
  },
  {
   "cell_type": "code",
   "execution_count": 27,
   "id": "16324431-343b-4c8b-93da-0793c4623a04",
   "metadata": {},
   "outputs": [],
   "source": [
    "parser = PydanticOutputParser(pydantic_object=People)"
   ]
  },
  {
   "cell_type": "code",
   "execution_count": 28,
   "id": "143d16d1-65f9-41d3-951d-bfe0d42956b5",
   "metadata": {},
   "outputs": [],
   "source": [
    "prompt = ChatPromptTemplate.from_messages(\n",
    "    [\n",
    "        (\n",
    "            \"system\",\n",
    "            \"Answer the user query. Wrap the output in `json` tags\\n{format_instructions}\",\n",
    "        ),\n",
    "        (\n",
    "            \"human\", \"{query}\"\n",
    "        ),\n",
    "    ]\n",
    ").partial(format_instructions = parser.get_format_instructions())"
   ]
  },
  {
   "cell_type": "code",
   "execution_count": 29,
   "id": "24b40d8c-96a8-4d99-8ee7-81791f33614d",
   "metadata": {},
   "outputs": [
    {
     "name": "stdout",
     "output_type": "stream",
     "text": [
      "System: Answer the user query. Wrap the output in `json` tags\n",
      "The output should be formatted as a JSON instance that conforms to the JSON schema below.\n",
      "\n",
      "As an example, for the schema {\"properties\": {\"foo\": {\"title\": \"Foo\", \"description\": \"a list of strings\", \"type\": \"array\", \"items\": {\"type\": \"string\"}}}, \"required\": [\"foo\"]}\n",
      "the object {\"foo\": [\"bar\", \"baz\"]} is a well-formatted instance of the schema. The object {\"properties\": {\"foo\": [\"bar\", \"baz\"]}} is not well-formatted.\n",
      "\n",
      "Here is the output schema:\n",
      "```\n",
      "{\"$defs\": {\"Person\": {\"description\": \"Information about a person.\", \"properties\": {\"name\": {\"description\": \"The name of the person\", \"title\": \"Name\", \"type\": \"string\"}, \"height_in_meters\": {\"description\": \"The height of the person expressed in meters.\", \"title\": \"Height In Meters\", \"type\": \"number\"}}, \"required\": [\"name\", \"height_in_meters\"], \"title\": \"Person\", \"type\": \"object\"}}, \"description\": \"Identifying information about all people in a text.\", \"properties\": {\"people\": {\"items\": {\"$ref\": \"#/$defs/Person\"}, \"title\": \"People\", \"type\": \"array\"}}, \"required\": [\"people\"]}\n",
      "```\n",
      "Human: Anna is 23 years old and she is 6 feet tall\n"
     ]
    }
   ],
   "source": [
    "query = \"Anna is 23 years old and she is 6 feet tall\"\n",
    "\n",
    "print(prompt.invoke(query).to_string())"
   ]
  },
  {
   "cell_type": "code",
   "execution_count": 30,
   "id": "b749df75-7b64-410d-8403-1fec61ef2d52",
   "metadata": {},
   "outputs": [
    {
     "data": {
      "text/plain": [
       "People(people=[Person(name='Anna', height_in_meters=1.8288)])"
      ]
     },
     "execution_count": 30,
     "metadata": {},
     "output_type": "execute_result"
    }
   ],
   "source": [
    "chain = prompt | llm | parser\n",
    "\n",
    "chain.invoke({\"query\": query})"
   ]
  },
  {
   "cell_type": "code",
   "execution_count": null,
   "id": "c58d0c75-c8e4-4ca8-bf8c-2d193ee1d0f7",
   "metadata": {},
   "outputs": [],
   "source": []
  }
 ],
 "metadata": {
  "kernelspec": {
   "display_name": "langchain_env",
   "language": "python",
   "name": "langchain_env"
  },
  "language_info": {
   "codemirror_mode": {
    "name": "ipython",
    "version": 3
   },
   "file_extension": ".py",
   "mimetype": "text/x-python",
   "name": "python",
   "nbconvert_exporter": "python",
   "pygments_lexer": "ipython3",
   "version": "3.12.7"
  }
 },
 "nbformat": 4,
 "nbformat_minor": 5
}
