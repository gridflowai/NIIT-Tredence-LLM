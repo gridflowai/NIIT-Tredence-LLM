{
 "cells": [
  {
   "cell_type": "markdown",
   "id": "324666bd-5007-4e10-9d96-17f7750f8bba",
   "metadata": {},
   "source": [
    "#### Basic LLMChain"
   ]
  },
  {
   "cell_type": "code",
   "execution_count": 5,
   "id": "5f34b5a2-3e99-4f0e-868a-0ddc7a1ee86f",
   "metadata": {},
   "outputs": [],
   "source": [
    "from langchain import PromptTemplate, LLMChain"
   ]
  },
  {
   "cell_type": "code",
   "execution_count": 10,
   "id": "19892d13-c3ad-4c13-8849-556004fb1545",
   "metadata": {},
   "outputs": [],
   "source": [
    "from langchain.chat_models import ChatOpenAI\n",
    "from langchain.prompts import PromptTemplate, ChatPromptTemplate"
   ]
  },
  {
   "cell_type": "code",
   "execution_count": 7,
   "id": "d8024a6d-9a3f-4c78-9d71-89f00c817948",
   "metadata": {},
   "outputs": [],
   "source": [
    "# Define the prompt template\n",
    "prompt = PromptTemplate.from_template(\"What is the capital of {country}?\")"
   ]
  },
  {
   "cell_type": "code",
   "execution_count": 8,
   "id": "bdadd12a-9220-495f-b34f-964655ae919e",
   "metadata": {},
   "outputs": [
    {
     "name": "stderr",
     "output_type": "stream",
     "text": [
      "C:\\Users\\bhupe\\AppData\\Local\\Temp\\ipykernel_16148\\2838644879.py:4: LangChainDeprecationWarning: The class `LLMChain` was deprecated in LangChain 0.1.17 and will be removed in 1.0. Use :meth:`~RunnableSequence, e.g., `prompt | llm`` instead.\n",
      "  chain = LLMChain(llm   = llm,\n"
     ]
    }
   ],
   "source": [
    "# Initialize the LLM and chain\n",
    "llm   = ChatOpenAI()\n",
    "\n",
    "chain = LLMChain(llm   = llm, \n",
    "                 prompt= prompt)"
   ]
  },
  {
   "cell_type": "code",
   "execution_count": 9,
   "id": "0988a305-cfe7-435f-b387-7e42f84b34f2",
   "metadata": {},
   "outputs": [
    {
     "name": "stdout",
     "output_type": "stream",
     "text": [
      "{'country': 'France', 'text': 'The capital of France is Paris.'}\n"
     ]
    }
   ],
   "source": [
    "result = chain.invoke({\"country\": \"France\"})\n",
    "print(result)  # Output should be \"Paris\""
   ]
  },
  {
   "cell_type": "code",
   "execution_count": 11,
   "id": "e666d27d-dfe8-4992-801d-581a47334bb4",
   "metadata": {},
   "outputs": [],
   "source": [
    "prompt = ChatPromptTemplate.from_template(\n",
    "    \"What is the best name to describe \\\n",
    "    a company that makes {product}?\"\n",
    ")"
   ]
  },
  {
   "cell_type": "code",
   "execution_count": 12,
   "id": "7f135f36-a02e-4597-903c-f22371f4fd10",
   "metadata": {},
   "outputs": [],
   "source": [
    "chain = LLMChain(llm=llm, prompt=prompt)"
   ]
  },
  {
   "cell_type": "code",
   "execution_count": 13,
   "id": "61354cbb-992a-4f1f-afc2-05bb4f5faf8d",
   "metadata": {},
   "outputs": [],
   "source": [
    "chain = LLMChain(llm=llm, prompt=prompt)"
   ]
  },
  {
   "cell_type": "markdown",
   "id": "c09dd732-6b8a-43be-a040-0e18725330c1",
   "metadata": {},
   "source": [
    "#### Simple Sequential Chain"
   ]
  },
  {
   "cell_type": "code",
   "execution_count": 16,
   "id": "607384f2-7b45-41eb-894c-3da9fd572c4e",
   "metadata": {},
   "outputs": [],
   "source": [
    "llm_model = 'gpt-mini'"
   ]
  },
  {
   "cell_type": "code",
   "execution_count": 17,
   "id": "e1189df8-f34a-4592-81d5-1b9abe1d7845",
   "metadata": {},
   "outputs": [],
   "source": [
    "from langchain.chains import SimpleSequentialChain"
   ]
  },
  {
   "cell_type": "code",
   "execution_count": 18,
   "id": "8325d298-c1e2-4f4c-84af-2bbdcb0c52cf",
   "metadata": {},
   "outputs": [],
   "source": [
    "llm = ChatOpenAI(temperature=0.9, model=llm_model)\n",
    "\n",
    "# prompt template 1\n",
    "first_prompt = ChatPromptTemplate.from_template(\n",
    "    \"What is the best name to describe \\\n",
    "    a company that makes {product}?\"\n",
    ")\n",
    "\n",
    "# Chain 1\n",
    "chain_one = LLMChain(llm=llm, prompt=first_prompt)"
   ]
  },
  {
   "cell_type": "code",
   "execution_count": 19,
   "id": "62c79fa4-d817-4f03-9c6f-70d555a9c5e2",
   "metadata": {},
   "outputs": [],
   "source": [
    "# prompt template 2\n",
    "second_prompt = ChatPromptTemplate.from_template(\n",
    "    \"Write a 20 words description for the following \\\n",
    "    company:{company_name}\"\n",
    ")\n",
    "# chain 2\n",
    "chain_two = LLMChain(llm=llm, prompt=second_prompt)"
   ]
  },
  {
   "cell_type": "code",
   "execution_count": 20,
   "id": "11bd01fe-eabd-49fe-a942-a1025e4c633d",
   "metadata": {},
   "outputs": [],
   "source": [
    "overall_simple_chain = SimpleSequentialChain(chains=[chain_one, chain_two],\n",
    "                                             verbose=True\n",
    "                                            )"
   ]
  },
  {
   "cell_type": "code",
   "execution_count": 21,
   "id": "b7e67287-4b7c-4edb-808c-373521ab0233",
   "metadata": {},
   "outputs": [
    {
     "ename": "NameError",
     "evalue": "name 'product' is not defined",
     "output_type": "error",
     "traceback": [
      "\u001b[1;31m---------------------------------------------------------------------------\u001b[0m",
      "\u001b[1;31mNameError\u001b[0m                                 Traceback (most recent call last)",
      "Cell \u001b[1;32mIn[21], line 1\u001b[0m\n\u001b[1;32m----> 1\u001b[0m overall_simple_chain\u001b[38;5;241m.\u001b[39mrun(\u001b[43mproduct\u001b[49m)\n",
      "\u001b[1;31mNameError\u001b[0m: name 'product' is not defined"
     ]
    }
   ],
   "source": [
    "overall_simple_chain.run(product)"
   ]
  },
  {
   "cell_type": "markdown",
   "id": "0f5f26db-b890-45fe-b958-5f7d4afdf884",
   "metadata": {},
   "source": [
    "-----------------------\n",
    "#### Sequential Chain\n",
    "\n",
    "- A SequentialChain allows you to run multiple chains in sequence, where the output of one chain is used as the input to the next.\n",
    "- ---------------------"
   ]
  },
  {
   "cell_type": "code",
   "execution_count": 22,
   "id": "970d75f1-285c-4d8a-9783-750fa56eedc2",
   "metadata": {},
   "outputs": [],
   "source": [
    "from langchain.chains.sequential import SequentialChain"
   ]
  },
  {
   "cell_type": "code",
   "execution_count": 32,
   "id": "37a7a350-1b67-42ca-a73f-f059a8b49d58",
   "metadata": {},
   "outputs": [],
   "source": [
    "# Define the prompt templates\n",
    "prompt1 = PromptTemplate.from_template(\"What is the capital of {country}?\")\n",
    "prompt2 = PromptTemplate.from_template(\"Describe the main attractions in {city}.\")"
   ]
  },
  {
   "cell_type": "code",
   "execution_count": 33,
   "id": "18db3671-1474-4abb-a2c7-ba1c422cb914",
   "metadata": {},
   "outputs": [],
   "source": [
    "# Initialize the language model\n",
    "llm = ChatOpenAI()"
   ]
  },
  {
   "cell_type": "code",
   "execution_count": 34,
   "id": "7d9e6aa9-b121-457a-a34d-7af2218cdabc",
   "metadata": {},
   "outputs": [],
   "source": [
    "# Create individual chains with explicit output\n",
    "chain1 = LLMChain(llm       = llm, \n",
    "                  prompt    = prompt1, \n",
    "                  output_key=\"city\")               # Sets \"city\" as output for chain1\n",
    "\n",
    "chain2 = LLMChain(llm       = llm, \n",
    "                  prompt    = prompt2, \n",
    "                  output_key= \"city_description\")  # Sets \"city_description\" as output for chain2"
   ]
  },
  {
   "cell_type": "code",
   "execution_count": 35,
   "id": "15e71610-687e-400f-8c9f-f2ad9ed35da7",
   "metadata": {},
   "outputs": [],
   "source": [
    "# Set up the SequentialChain\n",
    "sequential_chain = SequentialChain(\n",
    "    chains           = [chain1, chain2],\n",
    "    input_variables  = [\"country\"],          # Input to the first chain\n",
    "    output_variables = [\"city_description\"]  # Output from the last chain\n",
    ")"
   ]
  },
  {
   "cell_type": "code",
   "execution_count": 36,
   "id": "7f1679bb-53eb-403b-8974-1744ff634e7c",
   "metadata": {},
   "outputs": [
    {
     "name": "stdout",
     "output_type": "stream",
     "text": [
      "Dhaka, the capital of Bangladesh, is a bustling city with a rich history and vibrant culture. Some of the main attractions in Dhaka include:\n",
      "\n",
      "1. Lalbagh Fort: This 17th-century Mughal fort is a major historical site in Dhaka, featuring beautiful architecture and gardens.\n",
      "\n",
      "2. Ahsan Manzil (Pink Palace): This stunning pink palace was once the residence of the Nawab of Dhaka and is now a museum showcasing the history and culture of Bangladesh.\n",
      "\n",
      "3. National Museum: This museum houses a vast collection of artifacts and exhibits on the history, art, and culture of Bangladesh.\n",
      "\n",
      "4. Liberation War Museum: This museum commemorates the Bangladesh Liberation War of 1971 and showcases the country's struggle for independence.\n",
      "\n",
      "5. Dhakeshwari Temple: This ancient Hindu temple is one of the most important religious sites in Dhaka, attracting worshippers and visitors alike.\n",
      "\n",
      "6. Star Mosque: This beautiful mosque is known for its intricate mosaics and tiles, making it a popular attraction for tourists.\n",
      "\n",
      "7. Dhaka University: One of the oldest universities in Bangladesh, Dhaka University is also home to the picturesque Curzon Hall and the Central Shahid Minar monument.\n",
      "\n",
      "8. New Market: This bustling market is a popular shopping destination in Dhaka, offering a wide range of goods including clothing, accessories, and souvenirs.\n",
      "\n",
      "9. Sonargaon: This historic town, located just outside of Dhaka, features ancient ruins, museums, and traditional crafts, providing a glimpse into Bangladesh's past.\n",
      "\n",
      "10. Hatirjheel Lake: This scenic lake and surrounding park are popular spots for leisure activities such as boating, picnicking, and walking.\n"
     ]
    }
   ],
   "source": [
    "# Run the SequentialChain\n",
    "result = sequential_chain.invoke({\"country\": \"Bangladesh\"})\n",
    "print(result[\"city_description\"]) "
   ]
  },
  {
   "cell_type": "markdown",
   "id": "1f86cf21-0af9-47a5-85b1-106d45449b22",
   "metadata": {},
   "source": [
    "Example"
   ]
  },
  {
   "cell_type": "code",
   "execution_count": 44,
   "id": "131f5f8b-79e5-4abf-976c-1039fcae5f29",
   "metadata": {},
   "outputs": [],
   "source": [
    "llm_model ='gpt-3.5-turbo'"
   ]
  },
  {
   "cell_type": "code",
   "execution_count": 45,
   "id": "96d927de-27eb-43b7-acb3-b83359b66d4e",
   "metadata": {},
   "outputs": [],
   "source": [
    "llm = ChatOpenAI(temperature=0.9, model=llm_model)\n",
    "\n",
    "# prompt template 1: translate to english\n",
    "first_prompt = ChatPromptTemplate.from_template(\n",
    "    \"Translate the following review to english:\"\n",
    "    \"\\n\\n{Review}\"\n",
    ")\n",
    "# chain 1: input= Review and output= English_Review\n",
    "chain_one = LLMChain(llm       = llm, \n",
    "                     prompt    = first_prompt, \n",
    "                     output_key= \"English_Review\"\n",
    "                    )\n"
   ]
  },
  {
   "cell_type": "code",
   "execution_count": 46,
   "id": "7c79c964-e4d7-4148-8910-8a152ba20b62",
   "metadata": {},
   "outputs": [],
   "source": [
    "second_prompt = ChatPromptTemplate.from_template(\n",
    "    \"Can you summarize the following review in 1 or 2 sentences:\"\n",
    "    \"\\n\\n{English_Review}\"\n",
    ")\n",
    "# chain 2: input= English_Review and output= summary\n",
    "chain_two = LLMChain(llm       = llm, \n",
    "                     prompt    = second_prompt, \n",
    "                     output_key= \"summary\"\n",
    "                    )"
   ]
  },
  {
   "cell_type": "code",
   "execution_count": 47,
   "id": "84013c17-5dea-4737-8b3c-82466d72a9f2",
   "metadata": {},
   "outputs": [],
   "source": [
    "# prompt template 3: translate to english\n",
    "third_prompt = ChatPromptTemplate.from_template(\n",
    "    \"What language is the following review:\\n\\n{Review}\"\n",
    ")\n",
    "# chain 3: input= Review and output= language\n",
    "chain_three = LLMChain(llm       = llm, \n",
    "                       prompt    = third_prompt,\n",
    "                       output_key= \"language\"\n",
    "                      )\n"
   ]
  },
  {
   "cell_type": "code",
   "execution_count": 48,
   "id": "4afb392a-1d0f-4a37-8f83-681076a25c6c",
   "metadata": {},
   "outputs": [],
   "source": [
    "# prompt template 4: follow up message\n",
    "fourth_prompt = ChatPromptTemplate.from_template(\n",
    "    \"Write a follow up response to the following \"\n",
    "    \"summary in the specified language:\"\n",
    "    \"\\n\\nSummary: {summary}\\n\\nLanguage: {language}\"\n",
    ")\n",
    "# chain 4: input= summary, language and output= followup_message\n",
    "chain_four = LLMChain(llm       = llm, \n",
    "                      prompt    = fourth_prompt,\n",
    "                      output_key= \"followup_message\"\n",
    "                     )"
   ]
  },
  {
   "cell_type": "code",
   "execution_count": 49,
   "id": "a2242485-a5fd-4dc4-8ace-88d2d4e55f91",
   "metadata": {},
   "outputs": [],
   "source": [
    "overall_chain = SequentialChain(\n",
    "    chains          = [chain_one, chain_two, chain_three, chain_four],\n",
    "    input_variables = [\"Review\"],\n",
    "    output_variables= [\"English_Review\", \"summary\",\"followup_message\"],\n",
    "    verbose         = True\n",
    ")"
   ]
  },
  {
   "cell_type": "code",
   "execution_count": 50,
   "id": "d8ed3835-e916-462a-8f2e-e49bb8dd10d6",
   "metadata": {},
   "outputs": [],
   "source": [
    "review = '''\n",
    "বাংলাদেশ একটি সমৃদ্ধ ইতিহাস ও সংস্কৃতির দেশ। এই দেশে রয়েছে প্রাচীন স্থাপত্য, নদী, সবুজ প্রকৃতি এবং অসংখ্য জাতিগোষ্ঠীর বৈচিত্র্য। \n",
    "বাংলাদেশের মানুষ অতিথিপরায়ণ এবং তারা তাদের ঐতিহ্য ও সংস্কৃতিকে ভালোবাসে। প্রতি বছর এখানে বিভিন্ন ধরনের উৎসব পালন করা হয়, \n",
    "যেমন পহেলা বৈশাখ, ঈদ, দুর্গাপূজা, এবং বিজয় দিবস। এই উৎসবগুলোতে মানুষ একসঙ্গে আনন্দ করে, গান গায়, নাচে এবং খাবার খায়।\n",
    "\n",
    "বাংলাদেশের অন্যতম বড় আকর্ষণ হচ্ছে সুন্দরবন, যা পৃথিবীর বৃহত্তম ম্যানগ্রোভ বন। এখানে রয়েল বেঙ্গল টাইগার, চিত্রা হরিণ, \n",
    "বানর এবং নানা ধরনের বন্যপ্রাণীর বসবাস। সুন্দরবনের প্রকৃতি অত্যন্ত সুন্দর এবং এটি প্রতিবছর হাজার হাজার পর্যটককে আকর্ষণ করে। \n",
    "তাছাড়া কক্সবাজার বিশ্বের দীর্ঘতম সমুদ্রসৈকত হিসাবে পরিচিত। সাদা বালুর সৈকত, নীল পানি, এবং সূর্যাস্তের দৃশ্য প্রতিটি দর্শকের মনে দাগ কাটে।\n",
    "\n",
    "বাংলাদেশের মানুষের জীবনধারা খুবই সরল এবং প্রকৃতির সাথে গভীরভাবে সংযুক্ত। বেশিরভাগ মানুষ গ্রামাঞ্চলে বাস করে এবং তারা \n",
    "কৃষিকাজে ব্যস্ত থাকে। ধান, পাট, চা, এবং মাছ বাংলাদেশের প্রধান পণ্য। দেশটি ধীরে ধীরে শিল্প এবং প্রযুক্তিতে এগিয়ে যাচ্ছে এবং এশিয়ার \n",
    "একটি গুরুত্বপূর্ণ অর্থনৈতিক কেন্দ্রে পরিণত হচ্ছে।\n",
    "'''"
   ]
  },
  {
   "cell_type": "code",
   "execution_count": 51,
   "id": "4e2a2391-222a-43e9-9def-dc7436a2121f",
   "metadata": {},
   "outputs": [
    {
     "name": "stdout",
     "output_type": "stream",
     "text": [
      "\n",
      "\n",
      "\u001b[1m> Entering new SequentialChain chain...\u001b[0m\n",
      "\n",
      "\u001b[1m> Finished chain.\u001b[0m\n"
     ]
    },
    {
     "data": {
      "text/plain": [
       "{'Review': '\\nবাংলাদেশ একটি সমৃদ্ধ ইতিহাস ও সংস্কৃতির দেশ। এই দেশে রয়েছে প্রাচীন স্থাপত্য, নদী, সবুজ প্রকৃতি এবং অসংখ্য জাতিগোষ্ঠীর বৈচিত্র্য। \\nবাংলাদেশের মানুষ অতিথিপরায়ণ এবং তারা তাদের ঐতিহ্য ও সংস্কৃতিকে ভালোবাসে। প্রতি বছর এখানে বিভিন্ন ধরনের উৎসব পালন করা হয়, \\nযেমন পহেলা বৈশাখ, ঈদ, দুর্গাপূজা, এবং বিজয় দিবস। এই উৎসবগুলোতে মানুষ একসঙ্গে আনন্দ করে, গান গায়, নাচে এবং খাবার খায়।\\n\\nবাংলাদেশের অন্যতম বড় আকর্ষণ হচ্ছে সুন্দরবন, যা পৃথিবীর বৃহত্তম ম্যানগ্রোভ বন। এখানে রয়েল বেঙ্গল টাইগার, চিত্রা হরিণ, \\nবানর এবং নানা ধরনের বন্যপ্রাণীর বসবাস। সুন্দরবনের প্রকৃতি অত্যন্ত সুন্দর এবং এটি প্রতিবছর হাজার হাজার পর্যটককে আকর্ষণ করে। \\nতাছাড়া কক্সবাজার বিশ্বের দীর্ঘতম সমুদ্রসৈকত হিসাবে পরিচিত। সাদা বালুর সৈকত, নীল পানি, এবং সূর্যাস্তের দৃশ্য প্রতিটি দর্শকের মনে দাগ কাটে।\\n\\nবাংলাদেশের মানুষের জীবনধারা খুবই সরল এবং প্রকৃতির সাথে গভীরভাবে সংযুক্ত। বেশিরভাগ মানুষ গ্রামাঞ্চলে বাস করে এবং তারা \\nকৃষিকাজে ব্যস্ত থাকে। ধান, পাট, চা, এবং মাছ বাংলাদেশের প্রধান পণ্য। দেশটি ধীরে ধীরে শিল্প এবং প্রযুক্তিতে এগিয়ে যাচ্ছে এবং এশিয়ার \\nএকটি গুরুত্বপূর্ণ অর্থনৈতিক কেন্দ্রে পরিণত হচ্ছে।\\n',\n",
       " 'English_Review': \"Bangladesh is a country rich in history and culture. It is home to ancient architecture, rivers, lush nature, and a diversity of ethnic groups. The people of Bangladesh are hospitable and they love their heritage and culture. Every year, various festivals are celebrated here, such as Pohela Boishakh, Eid, Durga Puja, and Victory Day. During these festivals, people come together to enjoy, sing, dance, and eat.\\n\\nOne of the major attractions in Bangladesh is the Sundarbans, the world's largest mangrove forest. It is home to the Royal Bengal Tiger, spotted deer, monkeys, and various wild animals. The nature of the Sundarbans is extremely beautiful and it attracts thousands of tourists every year. Additionally, Cox's Bazar is known as the longest natural sea beach in the world. The white sandy beach, blue water, and sunset views leave a lasting impression on every visitor.\\n\\nThe lifestyle of the people in Bangladesh is very simple and deeply connected to nature. Most people live in rural areas and are engaged in agriculture. Rice, jute, tea, and fish are the main products of Bangladesh. The country is gradually progressing in industry and technology, and is transforming into a significant economic center in Asia.\",\n",
       " 'summary': \"Bangladesh is a country rich in history and culture with a diverse range of ethnic groups. Major attractions include the Sundarbans mangrove forest and Cox's Bazar beach, while the simple lifestyle of the people is deeply connected to nature and agriculture.\",\n",
       " 'followup_message': 'বাংলাদেশ একটি ঐতিহাসিক এবং সাংস্কৃতিকভূমি যেখানে বিভিন্ন জাতীয় গোষ্ঠী রয়েছে। সুন্দরবন গাছপালা উদ্যান এবং কক্সবাজার সমুদ্র সৈকত এমনকি মানুষের সহজ জীবনের জন্যই ভ্রুমণের নিম্নমাধ্যমবিশেষ।'}"
      ]
     },
     "execution_count": 51,
     "metadata": {},
     "output_type": "execute_result"
    }
   ],
   "source": [
    "overall_chain.invoke(review)"
   ]
  },
  {
   "cell_type": "code",
   "execution_count": null,
   "id": "ce986fc9-e2bf-4d33-95eb-37a709fd0f29",
   "metadata": {},
   "outputs": [],
   "source": []
  }
 ],
 "metadata": {
  "kernelspec": {
   "display_name": "langchain_env",
   "language": "python",
   "name": "langchain_env"
  },
  "language_info": {
   "codemirror_mode": {
    "name": "ipython",
    "version": 3
   },
   "file_extension": ".py",
   "mimetype": "text/x-python",
   "name": "python",
   "nbconvert_exporter": "python",
   "pygments_lexer": "ipython3",
   "version": "3.12.7"
  }
 },
 "nbformat": 4,
 "nbformat_minor": 5
}
