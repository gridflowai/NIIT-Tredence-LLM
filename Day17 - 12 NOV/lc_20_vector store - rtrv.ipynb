{
 "cells": [
  {
   "cell_type": "code",
   "execution_count": 2,
   "id": "93bebe93-712d-45c6-bc24-9fd1c3f041e1",
   "metadata": {},
   "outputs": [],
   "source": [
    "from langchain_core.vectorstores import InMemoryVectorStore\n",
    "\n",
    "from langchain_openai import OpenAIEmbeddings\n",
    "\n",
    "from langchain.vectorstores import FAISS            # for gpu , cpu\n",
    "\n",
    "from langchain.docstore.document import Document"
   ]
  },
  {
   "cell_type": "code",
   "execution_count": 3,
   "id": "dfa2056d-1158-4ff5-8f4d-d2fc431c8a56",
   "metadata": {},
   "outputs": [],
   "source": [
    "#pip install faiss-cpu"
   ]
  },
  {
   "cell_type": "code",
   "execution_count": 4,
   "id": "36c21a29-b398-4242-89ac-b9cba9292d90",
   "metadata": {},
   "outputs": [],
   "source": [
    "embedding_model = OpenAIEmbeddings()"
   ]
  },
  {
   "cell_type": "code",
   "execution_count": 5,
   "id": "83ef6659-7a4e-40e2-b237-00b046871950",
   "metadata": {},
   "outputs": [],
   "source": [
    "# Sample documents to store in the vector store\n",
    "documents = [\n",
    "    Document(page_content=\"This is a document about machine learning.\"),\n",
    "    Document(page_content=\"This document discusses artificial intelligence.\"),\n",
    "    Document(page_content=\"This text is about data science.\")\n",
    "]"
   ]
  },
  {
   "cell_type": "code",
   "execution_count": 6,
   "id": "ebdac124-e450-4b27-baec-6602f50005db",
   "metadata": {},
   "outputs": [
    {
     "data": {
      "text/plain": [
       "[Document(metadata={}, page_content='This is a document about machine learning.'),\n",
       " Document(metadata={}, page_content='This document discusses artificial intelligence.'),\n",
       " Document(metadata={}, page_content='This text is about data science.')]"
      ]
     },
     "execution_count": 6,
     "metadata": {},
     "output_type": "execute_result"
    }
   ],
   "source": [
    "documents"
   ]
  },
  {
   "cell_type": "code",
   "execution_count": 7,
   "id": "6c7a4b09-4050-49dc-b277-bf70e0831a8e",
   "metadata": {},
   "outputs": [],
   "source": [
    "vector_store = FAISS.from_documents(documents, \n",
    "                                    embedding_model)"
   ]
  },
  {
   "cell_type": "code",
   "execution_count": 8,
   "id": "3132db70-48ae-4be7-b19c-67d4619efb3b",
   "metadata": {},
   "outputs": [],
   "source": [
    "query = \"Tell me about AI.\"\n",
    "query_embedding = embedding_model.embed_query(query)"
   ]
  },
  {
   "cell_type": "code",
   "execution_count": 9,
   "id": "893933c0-2891-444e-8dd4-7229ade9df46",
   "metadata": {},
   "outputs": [],
   "source": [
    "similar_docs = vector_store.similarity_search(query, k =2)"
   ]
  },
  {
   "cell_type": "code",
   "execution_count": 10,
   "id": "a907e4c6-0015-4ce2-b22f-61c39708f861",
   "metadata": {},
   "outputs": [
    {
     "data": {
      "text/plain": [
       "[Document(metadata={}, page_content='This document discusses artificial intelligence.'),\n",
       " Document(metadata={}, page_content='This is a document about machine learning.')]"
      ]
     },
     "execution_count": 10,
     "metadata": {},
     "output_type": "execute_result"
    }
   ],
   "source": [
    "similar_docs"
   ]
  },
  {
   "cell_type": "markdown",
   "id": "ccc034ee-d143-43ec-a83f-35e2aebab846",
   "metadata": {},
   "source": [
    "#### InMemory vector store"
   ]
  },
  {
   "cell_type": "code",
   "execution_count": 11,
   "id": "3e4021e4-4a20-40e9-93cd-b85eb8ddda81",
   "metadata": {},
   "outputs": [],
   "source": [
    "vector_store = InMemoryVectorStore(embedding=embedding_model)"
   ]
  },
  {
   "cell_type": "code",
   "execution_count": 12,
   "id": "f65f6bad-ee75-459b-86b2-6879163ae375",
   "metadata": {},
   "outputs": [],
   "source": [
    "from langchain_core.documents import Document"
   ]
  },
  {
   "cell_type": "code",
   "execution_count": 13,
   "id": "64c13155-bcad-426b-acaa-e731bfeb3b25",
   "metadata": {},
   "outputs": [],
   "source": [
    "document_1 = Document(\n",
    "    page_content=\"I had chocalate chip pancakes and scrambled eggs for breakfast this morning.\",\n",
    "    metadata    ={\"source\": \"tweet\"},\n",
    ")\n",
    "\n",
    "document_2 = Document(\n",
    "    page_content=\"The weather forecast for tomorrow is cloudy and overcast, with a high of 62 degrees.\",\n",
    "    metadata    ={\"source\": \"news\"},\n",
    ")"
   ]
  },
  {
   "cell_type": "code",
   "execution_count": 14,
   "id": "58df9e62-7da3-4a48-883f-c8ac0b0adb14",
   "metadata": {},
   "outputs": [],
   "source": [
    "documents = [document_1, document_2]"
   ]
  },
  {
   "cell_type": "code",
   "execution_count": 15,
   "id": "9c3ec24d-4d33-4013-9293-dcd0cee71e7e",
   "metadata": {},
   "outputs": [
    {
     "data": {
      "text/plain": [
       "['46dbbe04-66ce-4770-aee9-d76c9197b4a8',\n",
       " '7f75d076-6597-41f3-a020-f6cae4a1c358']"
      ]
     },
     "execution_count": 15,
     "metadata": {},
     "output_type": "execute_result"
    }
   ],
   "source": [
    "vector_store.add_documents(documents=documents)"
   ]
  },
  {
   "cell_type": "code",
   "execution_count": 16,
   "id": "478c6bc0-1402-4476-8f7c-3c8bbb6f9418",
   "metadata": {},
   "outputs": [],
   "source": [
    "from langchain_openai import OpenAIEmbeddings\n",
    "from langchain.vectorstores import FAISS"
   ]
  },
  {
   "cell_type": "code",
   "execution_count": 17,
   "id": "7c2c8b33-b1da-4ef1-8700-0417e9d9e5e6",
   "metadata": {},
   "outputs": [],
   "source": [
    "embeddings_model = OpenAIEmbeddings(\n",
    "    model             = \"text-embedding-3-small\", # \"text-embedding-3-large\" 'text-embedding-ada-002'\n",
    "    show_progress_bar = True\n",
    ")"
   ]
  },
  {
   "cell_type": "code",
   "execution_count": 18,
   "id": "a3070ef0-7416-4f19-9d74-e259cbd8f9bb",
   "metadata": {},
   "outputs": [],
   "source": [
    "# Your data to be embedded (list of strings)\n",
    "data = [\"What is the capital of France?\", \n",
    "        \"My Car engine number is 07484949\", \n",
    "        \"Who won the world cup in 2018?\"]"
   ]
  },
  {
   "cell_type": "code",
   "execution_count": 19,
   "id": "1a1c6edf-4ab4-4298-84dc-43e0e433e9a8",
   "metadata": {},
   "outputs": [],
   "source": [
    "embeddings = embedding_model.embed_documents(data)"
   ]
  },
  {
   "cell_type": "code",
   "execution_count": 20,
   "id": "d423f80b-b95b-4cb6-8214-343b0bb4c5be",
   "metadata": {},
   "outputs": [
    {
     "data": {
      "text/plain": [
       "(3, 1536)"
      ]
     },
     "execution_count": 20,
     "metadata": {},
     "output_type": "execute_result"
    }
   ],
   "source": [
    "len(embeddings), len(embeddings[0])"
   ]
  },
  {
   "cell_type": "code",
   "execution_count": 21,
   "id": "59d3d5b4-8b9f-4bf0-ac2a-a94bac8e9adf",
   "metadata": {},
   "outputs": [],
   "source": [
    "import faiss\n",
    "import numpy as np"
   ]
  },
  {
   "cell_type": "code",
   "execution_count": 22,
   "id": "8920b64c-969d-44f7-a0b2-4336d61c35a5",
   "metadata": {},
   "outputs": [],
   "source": [
    "embeddings_np = np.array(embeddings).astype('float32')"
   ]
  },
  {
   "cell_type": "code",
   "execution_count": 23,
   "id": "b0189bae-f8e3-49fd-987f-4553baef1d33",
   "metadata": {},
   "outputs": [],
   "source": [
    "dimension = embeddings_np.shape[1]  # Set dimension based on your embeddings\n",
    "\n",
    "index     = faiss.IndexFlatL2(dimension)"
   ]
  },
  {
   "cell_type": "code",
   "execution_count": 24,
   "id": "9acc13a0-b403-42db-bad2-8221f9676784",
   "metadata": {},
   "outputs": [],
   "source": [
    "index.add(embeddings_np)"
   ]
  },
  {
   "cell_type": "markdown",
   "id": "24411c1e-402d-4ba0-940b-d71e766912ef",
   "metadata": {},
   "source": [
    "#### How do we use these vector stores"
   ]
  },
  {
   "cell_type": "code",
   "execution_count": 73,
   "id": "051c5795-db79-41fc-bf78-43f145b73e81",
   "metadata": {},
   "outputs": [],
   "source": [
    "data = [\"What is the capital of France?\", \n",
    "        \"My car has engines on the rear side.\", \n",
    "        \"Who won the world cup in 2018?\"]"
   ]
  },
  {
   "cell_type": "code",
   "execution_count": 74,
   "id": "8781bd49-653c-4e5f-9afe-36813b5c8918",
   "metadata": {},
   "outputs": [],
   "source": [
    "documents = [Document(page_content=text) for text in data]"
   ]
  },
  {
   "cell_type": "code",
   "execution_count": 75,
   "id": "38d74508-c9f4-4482-877f-76d1b15e024b",
   "metadata": {},
   "outputs": [
    {
     "data": {
      "application/vnd.jupyter.widget-view+json": {
       "model_id": "45b4bbf7629e47619ee82907b8e09f60",
       "version_major": 2,
       "version_minor": 0
      },
      "text/plain": [
       "  0%|          | 0/1 [00:00<?, ?it/s]"
      ]
     },
     "metadata": {},
     "output_type": "display_data"
    }
   ],
   "source": [
    "vectorstore = FAISS.from_documents(documents = documents, \n",
    "                                   embedding = embeddings_model)"
   ]
  },
  {
   "cell_type": "code",
   "execution_count": 76,
   "id": "a63e99c3-ee7c-4d28-b5d2-a6b8687d12b2",
   "metadata": {},
   "outputs": [],
   "source": [
    "vectorstore.save_local(\"faiss_index_test\")"
   ]
  },
  {
   "cell_type": "code",
   "execution_count": 77,
   "id": "151fb09a-2934-46b1-8ecd-58a5cd18c218",
   "metadata": {},
   "outputs": [],
   "source": [
    "persisted_vectorstore = FAISS.load_local(folder_path = r\"faiss_index_test\", \n",
    "                                         embeddings  = embeddings_model,\n",
    "                                         allow_dangerous_deserialization=True\n",
    "                                        )\n"
   ]
  },
  {
   "cell_type": "code",
   "execution_count": 78,
   "id": "7ff879f0-c3de-452e-9dd8-3c467eb2bf59",
   "metadata": {},
   "outputs": [],
   "source": [
    "from langchain.chains import RetrievalQA\n",
    "from langchain_openai import OpenAI"
   ]
  },
  {
   "cell_type": "code",
   "execution_count": 80,
   "id": "a3b93cbf-ca8d-46d0-8ac0-353cdfab1681",
   "metadata": {},
   "outputs": [],
   "source": [
    "query = 'Engines of my car'"
   ]
  },
  {
   "cell_type": "code",
   "execution_count": 81,
   "id": "c75efe31-7fe6-4a9a-b1e2-10704c2c271c",
   "metadata": {},
   "outputs": [],
   "source": [
    "# Use RetrievalQA chain for orchestration\n",
    "qa = RetrievalQA.from_chain_type(llm       = OpenAI(), \n",
    "                                 #chain_type= \"stuff\", \n",
    "                                 retriever = vectorstore.as_retriever())"
   ]
  },
  {
   "cell_type": "code",
   "execution_count": 82,
   "id": "7c91c250-9296-4778-a238-4ff17b21a6ad",
   "metadata": {},
   "outputs": [
    {
     "data": {
      "application/vnd.jupyter.widget-view+json": {
       "model_id": "e7be2bd9a5b443cf880e094a3ef2b63b",
       "version_major": 2,
       "version_minor": 0
      },
      "text/plain": [
       "  0%|          | 0/1 [00:00<?, ?it/s]"
      ]
     },
     "metadata": {},
     "output_type": "display_data"
    },
    {
     "name": "stdout",
     "output_type": "stream",
     "text": [
      " The engines on your car are located on the rear side.\n"
     ]
    }
   ],
   "source": [
    "result = qa.run(query)\n",
    "print(result)"
   ]
  },
  {
   "cell_type": "code",
   "execution_count": null,
   "id": "946207c2-945d-479c-9150-eb40edaf9c88",
   "metadata": {},
   "outputs": [],
   "source": []
  },
  {
   "cell_type": "code",
   "execution_count": null,
   "id": "386eb32c-4ce9-49c7-bffa-7a0bfb40242c",
   "metadata": {},
   "outputs": [],
   "source": []
  },
  {
   "cell_type": "code",
   "execution_count": null,
   "id": "8231f36a-cb66-493a-908a-a892f5977c2c",
   "metadata": {},
   "outputs": [],
   "source": []
  },
  {
   "cell_type": "code",
   "execution_count": null,
   "id": "486f472a-ee3d-4858-b794-74e3676bbbb7",
   "metadata": {},
   "outputs": [],
   "source": []
  },
  {
   "cell_type": "code",
   "execution_count": null,
   "id": "cddf72dc-7fb3-445d-b633-a35506f8f022",
   "metadata": {},
   "outputs": [],
   "source": []
  },
  {
   "cell_type": "code",
   "execution_count": null,
   "id": "75a547cc-9ce3-4ad4-94e9-679ec31fdc53",
   "metadata": {},
   "outputs": [],
   "source": []
  }
 ],
 "metadata": {
  "kernelspec": {
   "display_name": "langchain_env",
   "language": "python",
   "name": "langchain_env"
  },
  "language_info": {
   "codemirror_mode": {
    "name": "ipython",
    "version": 3
   },
   "file_extension": ".py",
   "mimetype": "text/x-python",
   "name": "python",
   "nbconvert_exporter": "python",
   "pygments_lexer": "ipython3",
   "version": "3.12.7"
  }
 },
 "nbformat": 4,
 "nbformat_minor": 5
}
