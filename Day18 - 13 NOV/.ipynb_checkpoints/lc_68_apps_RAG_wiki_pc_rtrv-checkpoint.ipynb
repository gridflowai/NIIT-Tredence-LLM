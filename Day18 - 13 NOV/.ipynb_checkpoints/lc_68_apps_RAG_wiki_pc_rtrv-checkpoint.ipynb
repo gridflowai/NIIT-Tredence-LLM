{
 "cells": [
  {
   "cell_type": "code",
   "execution_count": null,
   "id": "200ae9a2-e28f-4498-b2af-72a88114d1e7",
   "metadata": {},
   "outputs": [],
   "source": [
    "#pip install datasets"
   ]
  },
  {
   "cell_type": "markdown",
   "id": "294fb701-c92d-4ee2-85dc-a9b49fe3f357",
   "metadata": {},
   "source": [
    "#### Dataset: `wikipedia/20220301.simple` (Simple English Wikipedia)\n",
    "\n",
    "The `wikipedia/20220301.simple` dataset is a snapshot of Simple English Wikipedia content as of **March 1, 2022**, available through the Hugging Face `datasets` library.\n",
    "\n",
    "#### Key Features\n",
    "\n",
    "- **Source**: Simple English Wikipedia, a version of Wikipedia written in simplified English, accessible to a broader audience, including English learners and individuals with reading difficulties.\n",
    "- **Snapshot Date**: Captures articles as they were on **March 1, 2022**, including content created or edited up until that date.\n",
    "- **Content**:\n",
    "  - Contains the **main text content** of articles, generally excluding metadata (e.g., contributor information, revision history).\n",
    "  - Each entry typically includes an article **title** and its **main body content**.\n",
    "  - Language used is straightforward, with simplified vocabulary and sentence structures.\n",
    "\n",
    "#### Purpose\n",
    "\n",
    "This dataset is widely used in **language modeling, summarization, classification**, and other **NLP tasks** that benefit from simpler language structures.\n",
    "\n",
    "#### Split Information\n",
    "\n",
    "- **Single Split**: Contains only the `train` split, which includes all available entries. The dataset can be used flexibly for training, testing, or evaluation as needed."
   ]
  },
  {
   "cell_type": "code",
   "execution_count": 1,
   "id": "9b3283ec-6f4f-4283-9673-23d09afbd07a",
   "metadata": {},
   "outputs": [],
   "source": [
    "from datasets import load_dataset"
   ]
  },
  {
   "cell_type": "code",
   "execution_count": 2,
   "id": "07d929b2-a6fa-4324-b22d-2656f9923622",
   "metadata": {},
   "outputs": [
    {
     "data": {
      "text/plain": [
       "Dataset({\n",
       "    features: ['id', 'url', 'title', 'text'],\n",
       "    num_rows: 205328\n",
       "})"
      ]
     },
     "execution_count": 2,
     "metadata": {},
     "output_type": "execute_result"
    }
   ],
   "source": [
    "data = load_dataset(\"wikipedia\", \"20220301.simple\", split='train', trust_remote_code=True)\n",
    "data"
   ]
  },
  {
   "cell_type": "code",
   "execution_count": 17,
   "id": "e99bb476-6fb2-4050-8b30-8b39d9d22738",
   "metadata": {},
   "outputs": [],
   "source": [
    "import pandas as pd"
   ]
  },
  {
   "cell_type": "code",
   "execution_count": 18,
   "id": "b26503b7-19ad-4ba1-bf69-ccc64b41400f",
   "metadata": {},
   "outputs": [],
   "source": [
    "# take a couple of mins to load\n",
    "df = pd.DataFrame(data)"
   ]
  },
  {
   "cell_type": "code",
   "execution_count": 19,
   "id": "500b5a4a-6d37-4a40-8c2e-928fa162dcf8",
   "metadata": {},
   "outputs": [
    {
     "data": {
      "text/plain": [
       "(205328, 4)"
      ]
     },
     "execution_count": 19,
     "metadata": {},
     "output_type": "execute_result"
    }
   ],
   "source": [
    "df.shape"
   ]
  },
  {
   "cell_type": "code",
   "execution_count": 20,
   "id": "c489fbde-af7e-4a62-b957-bc0c23facf48",
   "metadata": {},
   "outputs": [
    {
     "data": {
      "text/html": [
       "<div>\n",
       "<style scoped>\n",
       "    .dataframe tbody tr th:only-of-type {\n",
       "        vertical-align: middle;\n",
       "    }\n",
       "\n",
       "    .dataframe tbody tr th {\n",
       "        vertical-align: top;\n",
       "    }\n",
       "\n",
       "    .dataframe thead th {\n",
       "        text-align: right;\n",
       "    }\n",
       "</style>\n",
       "<table border=\"1\" class=\"dataframe\">\n",
       "  <thead>\n",
       "    <tr style=\"text-align: right;\">\n",
       "      <th></th>\n",
       "      <th>id</th>\n",
       "      <th>url</th>\n",
       "      <th>title</th>\n",
       "      <th>text</th>\n",
       "    </tr>\n",
       "  </thead>\n",
       "  <tbody>\n",
       "    <tr>\n",
       "      <th>98461</th>\n",
       "      <td>429538</td>\n",
       "      <td>https://simple.wikipedia.org/wiki/Cha%20Tae-hyun</td>\n",
       "      <td>Cha Tae-hyun</td>\n",
       "      <td>Cha Tae-hyun is a South Korean actor. He was b...</td>\n",
       "    </tr>\n",
       "    <tr>\n",
       "      <th>192717</th>\n",
       "      <td>860032</td>\n",
       "      <td>https://simple.wikipedia.org/wiki/Grugliasco</td>\n",
       "      <td>Grugliasco</td>\n",
       "      <td>Grugliasco is a comune in the Metropolitan Cit...</td>\n",
       "    </tr>\n",
       "    <tr>\n",
       "      <th>189274</th>\n",
       "      <td>847473</td>\n",
       "      <td>https://simple.wikipedia.org/wiki/T.%20B.%20Jo...</td>\n",
       "      <td>T. B. Joshua</td>\n",
       "      <td>Temitope Balogun Joshua (June 12, 1963 – June ...</td>\n",
       "    </tr>\n",
       "    <tr>\n",
       "      <th>77285</th>\n",
       "      <td>334179</td>\n",
       "      <td>https://simple.wikipedia.org/wiki/List%20of%20...</td>\n",
       "      <td>List of counties in Tennessee</td>\n",
       "      <td>There are 95 counties in the State of Tennesse...</td>\n",
       "    </tr>\n",
       "    <tr>\n",
       "      <th>96603</th>\n",
       "      <td>420665</td>\n",
       "      <td>https://simple.wikipedia.org/wiki/Evapotranspi...</td>\n",
       "      <td>Evapotranspiration</td>\n",
       "      <td>Evapotranspiration is the movement of water fr...</td>\n",
       "    </tr>\n",
       "    <tr>\n",
       "      <th>131207</th>\n",
       "      <td>619769</td>\n",
       "      <td>https://simple.wikipedia.org/wiki/Dirk%20Berna...</td>\n",
       "      <td>Dirk Bernard Joseph Schouten</td>\n",
       "      <td>Dirk Bernard Joseph (Dick) Schouten (25 Januar...</td>\n",
       "    </tr>\n",
       "  </tbody>\n",
       "</table>\n",
       "</div>"
      ],
      "text/plain": [
       "            id                                                url  \\\n",
       "98461   429538   https://simple.wikipedia.org/wiki/Cha%20Tae-hyun   \n",
       "192717  860032       https://simple.wikipedia.org/wiki/Grugliasco   \n",
       "189274  847473  https://simple.wikipedia.org/wiki/T.%20B.%20Jo...   \n",
       "77285   334179  https://simple.wikipedia.org/wiki/List%20of%20...   \n",
       "96603   420665  https://simple.wikipedia.org/wiki/Evapotranspi...   \n",
       "131207  619769  https://simple.wikipedia.org/wiki/Dirk%20Berna...   \n",
       "\n",
       "                                title  \\\n",
       "98461                    Cha Tae-hyun   \n",
       "192717                     Grugliasco   \n",
       "189274                   T. B. Joshua   \n",
       "77285   List of counties in Tennessee   \n",
       "96603              Evapotranspiration   \n",
       "131207   Dirk Bernard Joseph Schouten   \n",
       "\n",
       "                                                     text  \n",
       "98461   Cha Tae-hyun is a South Korean actor. He was b...  \n",
       "192717  Grugliasco is a comune in the Metropolitan Cit...  \n",
       "189274  Temitope Balogun Joshua (June 12, 1963 – June ...  \n",
       "77285   There are 95 counties in the State of Tennesse...  \n",
       "96603   Evapotranspiration is the movement of water fr...  \n",
       "131207  Dirk Bernard Joseph (Dick) Schouten (25 Januar...  "
      ]
     },
     "execution_count": 20,
     "metadata": {},
     "output_type": "execute_result"
    }
   ],
   "source": [
    "df.sample(6)"
   ]
  },
  {
   "cell_type": "code",
   "execution_count": 16,
   "id": "ba32c120-68a5-4dd8-9292-11c5447e5cd8",
   "metadata": {},
   "outputs": [],
   "source": [
    "# save to local file\n",
    "# 210 MB\n",
    "df.to_csv(r'D:\\AI-DATASETS\\02-MISC-large/wikipedia_data.csv', index=False)"
   ]
  },
  {
   "cell_type": "code",
   "execution_count": 21,
   "id": "54177636-4f54-4dd9-b06c-708ab922f02a",
   "metadata": {},
   "outputs": [
    {
     "data": {
      "text/plain": [
       "{'id': '910287',\n",
       " 'url': 'https://simple.wikipedia.org/wiki/Bachhan%20Paandey',\n",
       " 'title': 'Bachhan Paandey',\n",
       " 'text': 'Bachchhan Paandey is an upcoming Indian Hindi-language action comedy film. It is directed by Farhad Samji, produced by Sajid Nadiawala, and stars Akshay Kumar, Kriti Sanon, Jacqueline Fernandez and Arshad Warsi. It is a remake of the 2014 Tamil film, which is called Jigarthanda,  which itself was inspired by the 2006 South Korean movie A Dirty Carnival. The film is scheduled to be released theatrically on 18 March 2022.\\n\\nPremise\\nA budding director Myra (Kriti Sanon) wants to make a movie on gangsters. She chooses Bachchan Pandey (Akshay Kumar), who is a ruthless gangster. But her secret attempts to conduct the research on him fail when she gets caught for snooping over him.\\n\\nCast \\n Akshay Kumar as Bachchhan Paandey \\n Kriti Sanon as Myra Devekar\\n Jacqueline Fernandez as Sophie\\n Arshad Warsi as Vishu\\n Pankaj Tripathi as Bhaves Bhoplo\\n Prateik Babbar\\n Sanjay Mishra as Bufferia Chacha\\n Abhimanyu Singh as Pendulum\\n Snehal Daabbi\\n Saharsh Kumar Shukla as Kaandi\\n\\nReferences\\n\\n2022 movies'}"
      ]
     },
     "execution_count": 21,
     "metadata": {},
     "output_type": "execute_result"
    }
   ],
   "source": [
    "data[205324]"
   ]
  },
  {
   "cell_type": "code",
   "execution_count": 22,
   "id": "f7e0e161-1e19-47e3-9e5f-9a60c74a03eb",
   "metadata": {},
   "outputs": [
    {
     "name": "stdout",
     "output_type": "stream",
     "text": [
      "Bachchhan Paandey is an upcoming Indian Hindi-language action comedy film. It is directed by Farhad Samji, produced by Sajid Nadiawala, and stars Akshay Kumar, Kriti Sanon, Jacqueline Fernandez and Arshad Warsi. It is a remake of the 2014 Tamil film, which is called Jigarthanda,  which itself was inspired by the 2006 South Korean movie A Dirty Carnival. The film is scheduled to be released theatrically on 18 March 2022.\n",
      "\n",
      "Premise\n",
      "A budding director Myra (Kriti Sanon) wants to make a movie on gangsters. She chooses Bachchan Pandey (Akshay Kumar), who is a ruthless gangster. But her secret attempts to conduct the research on him fail when she gets caught for snooping over him.\n",
      "\n",
      "Cast \n",
      " Akshay Kumar as Bachchhan Paandey \n",
      " Kriti Sanon as Myra Devekar\n",
      " Jacqueline Fernandez as Sophie\n",
      " Arshad Warsi as Vishu\n",
      " Pankaj Tripathi as Bhaves Bhoplo\n",
      " Prateik Babbar\n",
      " Sanjay Mishra as Bufferia Chacha\n",
      " Abhimanyu Singh as Pendulum\n",
      " Snehal Daabbi\n",
      " Saharsh Kumar Shukla as Kaandi\n",
      "\n",
      "References\n",
      "\n",
      "2022 movies\n"
     ]
    }
   ],
   "source": [
    "print(data[205324]['text'])"
   ]
  },
  {
   "cell_type": "code",
   "execution_count": 23,
   "id": "efb5a903-ad81-444c-865d-4cd732dd861e",
   "metadata": {},
   "outputs": [
    {
     "name": "stdout",
     "output_type": "stream",
     "text": [
      "<class 'pandas.core.frame.DataFrame'>\n",
      "RangeIndex: 205328 entries, 0 to 205327\n",
      "Data columns (total 4 columns):\n",
      " #   Column  Non-Null Count   Dtype \n",
      "---  ------  --------------   ----- \n",
      " 0   id      205328 non-null  object\n",
      " 1   url     205328 non-null  object\n",
      " 2   title   205328 non-null  object\n",
      " 3   text    205328 non-null  object\n",
      "dtypes: object(4)\n",
      "memory usage: 6.3+ MB\n"
     ]
    }
   ],
   "source": [
    "df.info()"
   ]
  },
  {
   "cell_type": "code",
   "execution_count": 8,
   "id": "21833a7e-fed4-471c-9c9d-ddd913871465",
   "metadata": {},
   "outputs": [],
   "source": [
    "#!pip install langchain"
   ]
  },
  {
   "cell_type": "code",
   "execution_count": 9,
   "id": "34c345c0-5fba-412f-a0ba-be4e3127b71c",
   "metadata": {},
   "outputs": [],
   "source": [
    "#!pip install openai"
   ]
  },
  {
   "cell_type": "code",
   "execution_count": 10,
   "id": "2f9127ab-546a-4a77-ba65-2de4022bfcfd",
   "metadata": {},
   "outputs": [],
   "source": [
    "#!pip install pinecone-client"
   ]
  },
  {
   "cell_type": "code",
   "execution_count": 11,
   "id": "54b0fc06-652b-4402-b2a2-f5988d150ff0",
   "metadata": {},
   "outputs": [],
   "source": [
    "#!pip install tiktoken"
   ]
  },
  {
   "cell_type": "markdown",
   "id": "a742ed2d-6715-429b-9fb8-035a317f9cb2",
   "metadata": {},
   "source": [
    "**Pre-processing of the text**\n",
    "\n",
    "- chunking and related information"
   ]
  },
  {
   "cell_type": "code",
   "execution_count": 24,
   "id": "d5dcac24-0f16-4d3f-8c7d-d86281d0320f",
   "metadata": {},
   "outputs": [
    {
     "data": {
      "text/plain": [
       "<Encoding 'cl100k_base'>"
      ]
     },
     "execution_count": 24,
     "metadata": {},
     "output_type": "execute_result"
    }
   ],
   "source": [
    "import tiktoken\n",
    "\n",
    "tiktoken.encoding_for_model('gpt-3.5-turbo')"
   ]
  },
  {
   "cell_type": "code",
   "execution_count": 25,
   "id": "15d08fa6-a422-4ab6-b345-4558304b28e8",
   "metadata": {},
   "outputs": [],
   "source": [
    "tokenizer = tiktoken.get_encoding('cl100k_base')"
   ]
  },
  {
   "cell_type": "code",
   "execution_count": 26,
   "id": "8234b0e9-e581-496e-a594-559cf7800ff0",
   "metadata": {},
   "outputs": [],
   "source": [
    "def tiktoken_len(text):\n",
    "    tokens = tokenizer.encode(\n",
    "        text,\n",
    "        disallowed_special=()\n",
    "    )\n",
    "    return len(tokens)"
   ]
  },
  {
   "cell_type": "code",
   "execution_count": 27,
   "id": "fa75ed50-8cac-4c92-be9b-4fddaab00d79",
   "metadata": {},
   "outputs": [
    {
     "data": {
      "text/plain": [
       "26"
      ]
     },
     "execution_count": 27,
     "metadata": {},
     "output_type": "execute_result"
    }
   ],
   "source": [
    "tiktoken_len(\"hello I am a chunk of text and using the tiktoken_len function \"\n",
    "             \"we can find the length of this chunk of text in tokens\")"
   ]
  },
  {
   "cell_type": "code",
   "execution_count": 30,
   "id": "3ef10c97-b171-451f-8ead-22062de4d725",
   "metadata": {},
   "outputs": [],
   "source": [
    "from langchain.text_splitter import RecursiveCharacterTextSplitter"
   ]
  },
  {
   "cell_type": "code",
   "execution_count": 31,
   "id": "0e21ddc1-f2bb-44a1-bd25-33968b91e9f8",
   "metadata": {},
   "outputs": [],
   "source": [
    "text_splitter = RecursiveCharacterTextSplitter(\n",
    "    chunk_size     = 400,\n",
    "    chunk_overlap  = 20,\n",
    "    length_function= tiktoken_len,\n",
    "    separators     = [\"\\n\\n\", \"\\n\", \" \", \"\"]\n",
    ")"
   ]
  },
  {
   "cell_type": "code",
   "execution_count": 33,
   "id": "db612283-4a20-43ad-9ef9-3a67a9c2a126",
   "metadata": {},
   "outputs": [
    {
     "data": {
      "text/plain": [
       "['Bachchhan Paandey is an upcoming Indian Hindi-language action comedy film. It is directed by Farhad Samji, produced by Sajid Nadiawala, and stars Akshay Kumar, Kriti Sanon, Jacqueline Fernandez and Arshad Warsi. It is a remake of the 2014 Tamil film, which is called Jigarthanda,  which itself was inspired by the 2006 South Korean movie A Dirty Carnival. The film is scheduled to be released theatrically on 18 March 2022.\\n\\nPremise\\nA budding director Myra (Kriti Sanon) wants to make a movie on gangsters. She chooses Bachchan Pandey (Akshay Kumar), who is a ruthless gangster. But her secret attempts to conduct the research on him fail when she gets caught for snooping over him.\\n\\nCast \\n Akshay Kumar as Bachchhan Paandey \\n Kriti Sanon as Myra Devekar\\n Jacqueline Fernandez as Sophie\\n Arshad Warsi as Vishu\\n Pankaj Tripathi as Bhaves Bhoplo\\n Prateik Babbar\\n Sanjay Mishra as Bufferia Chacha\\n Abhimanyu Singh as Pendulum\\n Snehal Daabbi\\n Saharsh Kumar Shukla as Kaandi\\n\\nReferences\\n\\n2022 movies']"
      ]
     },
     "execution_count": 33,
     "metadata": {},
     "output_type": "execute_result"
    }
   ],
   "source": [
    "chunks = text_splitter.split_text(data[205324]['text'])\n",
    "chunks"
   ]
  },
  {
   "cell_type": "code",
   "execution_count": 35,
   "id": "c323e5b5-901d-4f65-98cf-de08dfd7f739",
   "metadata": {},
   "outputs": [
    {
     "data": {
      "text/plain": [
       "277"
      ]
     },
     "execution_count": 35,
     "metadata": {},
     "output_type": "execute_result"
    }
   ],
   "source": [
    "tiktoken_len(chunks[0]) #, tiktoken_len(chunks[1]), tiktoken_len(chunks[2])"
   ]
  },
  {
   "cell_type": "code",
   "execution_count": 36,
   "id": "8fba93a3-36ac-48aa-8d1b-40ba2b5fbf89",
   "metadata": {},
   "outputs": [],
   "source": [
    "from langchain_openai import OpenAIEmbeddings"
   ]
  },
  {
   "cell_type": "code",
   "execution_count": 37,
   "id": "d1e44e33-e87e-4b6c-a096-911caf411917",
   "metadata": {},
   "outputs": [],
   "source": [
    "model_name = 'text-embedding-ada-002'\n",
    "\n",
    "embed = OpenAIEmbeddings(\n",
    "    model = model_name,\n",
    "    #openai_api_key=api_key\n",
    ")"
   ]
  },
  {
   "cell_type": "code",
   "execution_count": 38,
   "id": "ed254001-c190-4e4c-ab05-8078c1180336",
   "metadata": {},
   "outputs": [],
   "source": [
    "texts = [\n",
    "    'this is the first chunk of text',\n",
    "    'then another second chunk of text is here'\n",
    "]"
   ]
  },
  {
   "cell_type": "code",
   "execution_count": 39,
   "id": "a1d0d1a3-cbfb-4658-b03d-1a07371d96fe",
   "metadata": {},
   "outputs": [
    {
     "data": {
      "text/plain": [
       "(2, 1536)"
      ]
     },
     "execution_count": 39,
     "metadata": {},
     "output_type": "execute_result"
    }
   ],
   "source": [
    "res = embed.embed_documents(texts)\n",
    "len(res), len(res[0])"
   ]
  },
  {
   "cell_type": "markdown",
   "id": "07f70dae-91ec-488e-9d47-27826909cf85",
   "metadata": {},
   "source": [
    "#### Vector database"
   ]
  },
  {
   "cell_type": "code",
   "execution_count": 42,
   "id": "f2c640a2-d607-4f56-8eaa-fb261b29266d",
   "metadata": {},
   "outputs": [],
   "source": [
    "import os\n",
    "from pinecone import Pinecone"
   ]
  },
  {
   "cell_type": "code",
   "execution_count": 43,
   "id": "507f2229-7b66-4012-b08b-7cd2d35546ca",
   "metadata": {},
   "outputs": [],
   "source": [
    "pc_api_key = os.getenv('PINECONE_API_KEY')"
   ]
  },
  {
   "cell_type": "code",
   "execution_count": 44,
   "id": "31ce535c-8b21-43f8-8cb0-ce9575c9c438",
   "metadata": {},
   "outputs": [],
   "source": [
    "# configure client\n",
    "pc = Pinecone(api_key=pc_api_key)"
   ]
  },
  {
   "cell_type": "code",
   "execution_count": 45,
   "id": "07e357ae-1a80-41a7-9d61-745790f0c394",
   "metadata": {},
   "outputs": [],
   "source": [
    "from pinecone import ServerlessSpec\n",
    "\n",
    "spec = ServerlessSpec(\n",
    "    cloud = \"aws\", \n",
    "    region= \"us-east-1\"\n",
    ")"
   ]
  },
  {
   "cell_type": "code",
   "execution_count": 46,
   "id": "40c5ccab-a354-45c6-a06e-2558d6b4750c",
   "metadata": {},
   "outputs": [],
   "source": [
    "index_name = 'langchain-retrieval-augmentation'\n",
    "\n",
    "existing_indexes = [\n",
    "    index_info[\"name\"] for index_info in pc.list_indexes()\n",
    "]"
   ]
  },
  {
   "cell_type": "code",
   "execution_count": 47,
   "id": "c89a6a54-83f4-4523-a04a-956ea6cc938c",
   "metadata": {},
   "outputs": [
    {
     "data": {
      "text/plain": [
       "[]"
      ]
     },
     "execution_count": 47,
     "metadata": {},
     "output_type": "execute_result"
    }
   ],
   "source": [
    "existing_indexes"
   ]
  },
  {
   "cell_type": "code",
   "execution_count": 48,
   "id": "9c05920c-b339-43e1-b276-f9c314adc4f8",
   "metadata": {},
   "outputs": [],
   "source": [
    "# check if index already exists (it shouldn't if this is first time)\n",
    "if index_name not in existing_indexes:\n",
    "    # if does not exist, create index\n",
    "    pc.create_index(\n",
    "        index_name,\n",
    "        dimension = 1536,  # dimensionality of ada 002\n",
    "        metric    = 'dotproduct',\n",
    "        spec      = spec\n",
    "    )\n",
    "    \n",
    "    # wait for index to be initialized\n",
    "    while not pc.describe_index(index_name).status['ready']:\n",
    "        time.sleep(2)"
   ]
  },
  {
   "cell_type": "code",
   "execution_count": 49,
   "id": "65676023-3b6a-4c18-8a7e-a1a4823a83ee",
   "metadata": {},
   "outputs": [],
   "source": [
    "import time"
   ]
  },
  {
   "cell_type": "code",
   "execution_count": 50,
   "id": "fbf397ba-0ff2-4406-8e30-3f1c3921088c",
   "metadata": {},
   "outputs": [],
   "source": [
    "# connect to index\n",
    "index = pc.Index(index_name)\n",
    "\n",
    "time.sleep(1)"
   ]
  },
  {
   "cell_type": "code",
   "execution_count": 51,
   "id": "aa90cffd-7660-4d51-9b07-471f56abfc04",
   "metadata": {},
   "outputs": [
    {
     "data": {
      "text/plain": [
       "{'dimension': 1536,\n",
       " 'index_fullness': 0.0,\n",
       " 'namespaces': {},\n",
       " 'total_vector_count': 0}"
      ]
     },
     "execution_count": 51,
     "metadata": {},
     "output_type": "execute_result"
    }
   ],
   "source": [
    "# view index stats\n",
    "index.describe_index_stats()"
   ]
  },
  {
   "cell_type": "code",
   "execution_count": 52,
   "id": "592986a2-782b-46dc-8633-617141305b16",
   "metadata": {},
   "outputs": [
    {
     "data": {
      "text/plain": [
       "205328"
      ]
     },
     "execution_count": 52,
     "metadata": {},
     "output_type": "execute_result"
    }
   ],
   "source": [
    "len(data)"
   ]
  },
  {
   "cell_type": "code",
   "execution_count": 61,
   "id": "001a3c2a-050e-4451-b57b-014a56e0fb40",
   "metadata": {},
   "outputs": [
    {
     "data": {
      "text/plain": [
       "Index(['id', 'url', 'title', 'text'], dtype='object')"
      ]
     },
     "execution_count": 61,
     "metadata": {},
     "output_type": "execute_result"
    }
   ],
   "source": [
    "df.columns"
   ]
  },
  {
   "cell_type": "code",
   "execution_count": 63,
   "id": "d4e53afe-3656-423f-b306-f76457bf9453",
   "metadata": {},
   "outputs": [
    {
     "data": {
      "application/vnd.jupyter.widget-view+json": {
       "model_id": "7fdd34c60c0c433a83dcf15353319263",
       "version_major": 2,
       "version_minor": 0
      },
      "text/plain": [
       "  0%|          | 0/10 [00:00<?, ?it/s]"
      ]
     },
     "metadata": {},
     "output_type": "display_data"
    },
    {
     "name": "stdout",
     "output_type": "stream",
     "text": [
      "97844\n",
      "{'wiki-id': '426904', 'source': 'https://simple.wikipedia.org/wiki/Chico%20Hamilton', 'title': 'Chico Hamilton'}\n",
      "190023\n",
      "{'wiki-id': '850494', 'source': 'https://simple.wikipedia.org/wiki/The%20Conspiracy%20Files', 'title': 'The Conspiracy Files'}\n",
      "63422\n",
      "{'wiki-id': '263072', 'source': 'https://simple.wikipedia.org/wiki/Nitrogen%20oxide', 'title': 'Nitrogen oxide'}\n",
      "35468\n",
      "{'wiki-id': '140304', 'source': 'https://simple.wikipedia.org/wiki/Dominion%20of%20Pakistan', 'title': 'Dominion of Pakistan'}\n",
      "45517\n",
      "{'wiki-id': '159626', 'source': 'https://simple.wikipedia.org/wiki/Auquainville', 'title': 'Auquainville'}\n",
      "112212\n",
      "{'wiki-id': '501298', 'source': 'https://simple.wikipedia.org/wiki/Wang%20Guozhen', 'title': 'Wang Guozhen'}\n",
      "169867\n",
      "{'wiki-id': '780208', 'source': 'https://simple.wikipedia.org/wiki/Oro%20y%20plata', 'title': 'Oro y plata'}\n",
      "38149\n",
      "{'wiki-id': '149503', 'source': 'https://simple.wikipedia.org/wiki/M%C4%83lini', 'title': 'Mălini'}\n",
      "88696\n",
      "{'wiki-id': '384652', 'source': 'https://simple.wikipedia.org/wiki/Superland', 'title': 'Superland'}\n",
      "171678\n",
      "{'wiki-id': '789200', 'source': 'https://simple.wikipedia.org/wiki/Obertilliach', 'title': 'Obertilliach'}\n"
     ]
    }
   ],
   "source": [
    "# Loop through a sample of 10 rows with tqdm for progress visualization\n",
    "for i, record in tqdm(df.sample(10).iterrows(), total=10):\n",
    "    print(i)\n",
    "\n",
    "    # Retrieve metadata fields for the current record\n",
    "    metadata = {\n",
    "        'wiki-id': str(record['id']),\n",
    "        'source':  record['url'],\n",
    "        'title':   record['title']\n",
    "    }\n",
    "    print(metadata)"
   ]
  },
  {
   "cell_type": "code",
   "execution_count": 66,
   "id": "ecb92f24-1ff0-453c-b342-dc87a33921ad",
   "metadata": {},
   "outputs": [
    {
     "data": {
      "application/vnd.jupyter.widget-view+json": {
       "model_id": "0d52505f2ab94f7397191f95e49a8cb7",
       "version_major": 2,
       "version_minor": 0
      },
      "text/plain": [
       "  0%|          | 0/10 [00:00<?, ?it/s]"
      ]
     },
     "metadata": {},
     "output_type": "display_data"
    }
   ],
   "source": [
    "from tqdm.auto import tqdm\n",
    "from uuid import uuid4\n",
    "\n",
    "batch_limit = 100\n",
    "\n",
    "texts     = []\n",
    "metadatas = []\n",
    "\n",
    "# Loop through a sample of 10 rows with tqdm for progress visualization\n",
    "for i, record in tqdm(df.sample(10).iterrows(), total=10):\n",
    "    \n",
    "    # first get metadata fields for this record\n",
    "    metadata = {\n",
    "        'wiki-id': str(record['id']),\n",
    "        'source':  record['url'],\n",
    "        'title':   record['title']\n",
    "    }\n",
    "    \n",
    "    # now we create chunks from the record text\n",
    "    record_texts = text_splitter.split_text(record['text'])\n",
    "    \n",
    "    # create individual metadata dicts for each chunk\n",
    "    record_metadatas = [{\n",
    "        \"chunk\": j, \"text\": text, **metadata\n",
    "    } for j, text in enumerate(record_texts)]\n",
    "    \n",
    "    # append these to current batches\n",
    "    texts.extend(record_texts)\n",
    "    metadatas.extend(record_metadatas)\n",
    "    \n",
    "    # if we have reached the batch_limit we can add texts\n",
    "    if len(texts) >= batch_limit:\n",
    "        ids    = [str(uuid4()) for _ in range(len(texts))]\n",
    "        embeds = embed.embed_documents(texts)\n",
    "        \n",
    "        index.upsert(vectors=zip(ids, embeds, metadatas))\n",
    "        \n",
    "        texts     = []\n",
    "        metadatas = []\n",
    "\n",
    "if len(texts) > 0:\n",
    "    ids    = [str(uuid4()) for _ in range(len(texts))]\n",
    "    embeds = embed.embed_documents(texts)\n",
    "    \n",
    "    index.upsert(vectors=zip(ids, embeds, metadatas))"
   ]
  },
  {
   "cell_type": "code",
   "execution_count": 67,
   "id": "462979a1-ce35-4c9d-9aad-7664e98a8ad7",
   "metadata": {},
   "outputs": [
    {
     "data": {
      "text/plain": [
       "{'dimension': 1536,\n",
       " 'index_fullness': 0.0,\n",
       " 'namespaces': {'': {'vector_count': 21}},\n",
       " 'total_vector_count': 21}"
      ]
     },
     "execution_count": 67,
     "metadata": {},
     "output_type": "execute_result"
    }
   ],
   "source": [
    "index.describe_index_stats()"
   ]
  },
  {
   "cell_type": "markdown",
   "id": "a09fe831-37f8-457f-acae-8ef3740fe749",
   "metadata": {},
   "source": [
    "#### Create the vector store and apply some querying\n",
    "- vector store is NOT = index\n",
    "- vector store (LLM frameworks) - include the indexes"
   ]
  },
  {
   "cell_type": "code",
   "execution_count": 68,
   "id": "548c66d0-674b-4ada-922c-3d25aab64f04",
   "metadata": {},
   "outputs": [],
   "source": [
    "from langchain.vectorstores import Pinecone"
   ]
  },
  {
   "cell_type": "code",
   "execution_count": 69,
   "id": "c412c95b-22ac-4400-9318-4219d6c92d2d",
   "metadata": {},
   "outputs": [],
   "source": [
    "text_field = 'text'"
   ]
  },
  {
   "cell_type": "code",
   "execution_count": 70,
   "id": "c85e9521-ba27-4b7e-8772-e03acbd1a0e9",
   "metadata": {},
   "outputs": [
    {
     "name": "stderr",
     "output_type": "stream",
     "text": [
      "C:\\Users\\bhupe\\AppData\\Local\\Temp\\ipykernel_15260\\2857347233.py:1: LangChainDeprecationWarning: The class `Pinecone` was deprecated in LangChain 0.0.18 and will be removed in 1.0. An updated version of the class exists in the :class:`~langchain-pinecone package and should be used instead. To use it run `pip install -U :class:`~langchain-pinecone` and import as `from :class:`~langchain_pinecone import Pinecone``.\n",
      "  vectorstore = Pinecone(\n",
      "D:\\ANACONDA3\\envs\\langchain_env\\Lib\\site-packages\\langchain_community\\vectorstores\\pinecone.py:68: UserWarning: Passing in `embedding` as a Callable is deprecated. Please pass in an Embeddings object instead.\n",
      "  warnings.warn(\n"
     ]
    }
   ],
   "source": [
    "vectorstore = Pinecone(\n",
    "    index, embed.embed_query, text_field\n",
    ")"
   ]
  },
  {
   "cell_type": "code",
   "execution_count": 71,
   "id": "9d5b6ff9-9bfe-4c1a-81e0-262f28652154",
   "metadata": {},
   "outputs": [],
   "source": [
    "query = \"who was Benito Mussolini?\""
   ]
  },
  {
   "cell_type": "code",
   "execution_count": 72,
   "id": "707d8856-2ff8-472d-9471-574495c317b0",
   "metadata": {},
   "outputs": [
    {
     "data": {
      "text/plain": [
       "[Document(metadata={'chunk': 0.0, 'source': 'https://simple.wikipedia.org/wiki/1884', 'title': '1884', 'wiki-id': '10526'}, page_content='Births \\n May 8 – Harry S. Truman\\n October 11 – Eleanor Roosevelt, First Lady of the United States, wife of Franklin D. Roosevelt (d. 1962)\\n December 30 – Hideki Tōjō, 40th Prime Minister of Japan, Led the Attack on Pearl Harbour (d. 1948)\\n\\nDeaths \\n January 25 – Johann Gottfried Piefke, German conductor and composer (b. 1815)\\n March 21 – Ezra Abbot, American Bible scholar (b. 1819)\\n April 4 – Marie Bashkirtseff, Russian artist (b. 1858)\\n May 12 – Bedrich Smetana, Czech composer (b. 1824)\\n May 13 –  Cyrus McCormick, American inventor (b. 1809)\\n June 25 – Hans Rott, Austrian composer (b. 1858)\\n July 1 – Allan Pinkerton, American detective (b. 1819)\\n July 10 – Paul Morphy, American chess player (b. 1837)\\n November 25 – Adolph Wilhelm Hermann Kolbe, German chemist (b. 1818)'),\n",
       " Document(metadata={'chunk': 0.0, 'source': 'https://simple.wikipedia.org/wiki/Piano%20Concerto%20No.%205%20%28Beethoven%29', 'title': 'Piano Concerto No. 5 (Beethoven)', 'wiki-id': '388030'}, page_content='The Piano Concerto No. 5 in E flat major (\"Emperor\"), Op. 73 is a piece of music for piano and orchestra by Ludwig van Beethoven. It was written in 1809, and was first performed in Leipzig in November 1811. It is the last of Beethoven\\'s concertos.\\n\\nBeethoven\\'s growing deafness made it impossible for him to play the first performance. It was played by Friedrich Schneider. The work is written on a grand scale with themes that are martial at times, and at other times intimate and personal.\\n\\nReferences\\n Woodstra, Chris, et al. 2005. All Music Guide to Classical Music.  All Media Guide, LLC. p.\\xa0126. .\\n\\nCompositions by Ludwig van Beethoven\\nPiano concertos'),\n",
       " Document(metadata={'chunk': 0.0, 'source': 'https://simple.wikipedia.org/wiki/List%20of%20EastEnders%20characters%20%281996%29', 'title': 'List of EastEnders characters (1996)', 'wiki-id': '672985'}, page_content='The following is a list of fictional characters that first appeared in the BBC soap opera EastEnders in 1996, by order of first appearance.\\n\\nBen Mitchell\\n\\nJoe Wicks\\n\\nEastEnders characters')]"
      ]
     },
     "execution_count": 72,
     "metadata": {},
     "output_type": "execute_result"
    }
   ],
   "source": [
    "vectorstore.similarity_search(\n",
    "    query,  # our search query\n",
    "    k =3    # return 3 most relevant docs\n",
    ")"
   ]
  },
  {
   "cell_type": "markdown",
   "id": "92ddbb92-a267-4e66-ad4d-50f2f07a95ae",
   "metadata": {},
   "source": [
    "#### Generative QnA\n",
    "- Documents retrieval from vector store or database\n",
    "- RetrieveQA sends these documents (plus the question) to the LLM\n",
    "- LLM then generates a cohesive answer\n",
    "\n"
   ]
  },
  {
   "cell_type": "code",
   "execution_count": 84,
   "id": "32c22ace-701b-4597-958f-cbde07c2d100",
   "metadata": {},
   "outputs": [],
   "source": [
    "from langchain_openai import ChatOpenAI\n",
    "from langchain.chains import RetrievalQA"
   ]
  },
  {
   "cell_type": "code",
   "execution_count": 85,
   "id": "f8095005-792a-4d5a-af21-299171cf025d",
   "metadata": {},
   "outputs": [],
   "source": [
    "# completion llm\n",
    "llm = ChatOpenAI(\n",
    "    #openai_api_key=api_key,\n",
    "    model_name = 'gpt-3.5-turbo',\n",
    "    temperature= 0.0\n",
    ")\n"
   ]
  },
  {
   "cell_type": "code",
   "execution_count": 86,
   "id": "2b645277-fd66-4147-8c61-b060d42aa1b8",
   "metadata": {},
   "outputs": [],
   "source": [
    "qa = RetrievalQA.from_chain_type(\n",
    "    llm       = llm,\n",
    "    chain_type= \"stuff\",\n",
    "    retriever = vectorstore.as_retriever()\n",
    ")"
   ]
  },
  {
   "cell_type": "code",
   "execution_count": 87,
   "id": "cfe5552e-3c71-43c0-acc3-a75b76a75fd0",
   "metadata": {},
   "outputs": [
    {
     "data": {
      "text/plain": [
       "'Benito Mussolini was an Italian politician and leader who founded the Fascist Party in Italy. He ruled as Prime Minister from 1922 to 1943 and then as dictator from 1925 to 1945. Mussolini was a key figure in the creation of Fascism, an authoritarian and nationalistic political ideology.'"
      ]
     },
     "execution_count": 87,
     "metadata": {},
     "output_type": "execute_result"
    }
   ],
   "source": [
    "qa.run(query)"
   ]
  },
  {
   "cell_type": "code",
   "execution_count": null,
   "id": "2adfebdb-e0b4-4253-9bcb-af7842ea6112",
   "metadata": {},
   "outputs": [],
   "source": []
  }
 ],
 "metadata": {
  "kernelspec": {
   "display_name": "langchain_env",
   "language": "python",
   "name": "langchain_env"
  },
  "language_info": {
   "codemirror_mode": {
    "name": "ipython",
    "version": 3
   },
   "file_extension": ".py",
   "mimetype": "text/x-python",
   "name": "python",
   "nbconvert_exporter": "python",
   "pygments_lexer": "ipython3",
   "version": "3.12.7"
  }
 },
 "nbformat": 4,
 "nbformat_minor": 5
}
