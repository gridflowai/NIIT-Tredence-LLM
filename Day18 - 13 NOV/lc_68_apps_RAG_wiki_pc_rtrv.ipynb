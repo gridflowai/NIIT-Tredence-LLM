{
 "cells": [
  {
   "cell_type": "code",
   "execution_count": null,
   "id": "200ae9a2-e28f-4498-b2af-72a88114d1e7",
   "metadata": {},
   "outputs": [],
   "source": [
    "#pip install datasets"
   ]
  },
  {
   "cell_type": "markdown",
   "id": "294fb701-c92d-4ee2-85dc-a9b49fe3f357",
   "metadata": {},
   "source": [
    "#### Dataset: `wikipedia/20220301.simple` (Simple English Wikipedia)\n",
    "\n",
    "The `wikipedia/20220301.simple` dataset is a snapshot of Simple English Wikipedia content as of **March 1, 2022**, available through the Hugging Face `datasets` library.\n",
    "\n",
    "#### Key Features\n",
    "\n",
    "- **Source**: Simple English Wikipedia, a version of Wikipedia written in simplified English, accessible to a broader audience, including English learners and individuals with reading difficulties.\n",
    "- **Snapshot Date**: Captures articles as they were on **March 1, 2022**, including content created or edited up until that date.\n",
    "- **Content**:\n",
    "  - Contains the **main text content** of articles, generally excluding metadata (e.g., contributor information, revision history).\n",
    "  - Each entry typically includes an article **title** and its **main body content**.\n",
    "  - Language used is straightforward, with simplified vocabulary and sentence structures.\n",
    "\n",
    "#### Purpose\n",
    "\n",
    "This dataset is widely used in **language modeling, summarization, classification**, and other **NLP tasks** that benefit from simpler language structures.\n",
    "\n",
    "#### Split Information\n",
    "\n",
    "- **Single Split**: Contains only the `train` split, which includes all available entries. The dataset can be used flexibly for training, testing, or evaluation as needed."
   ]
  },
  {
   "cell_type": "code",
   "execution_count": 1,
   "id": "9b3283ec-6f4f-4283-9673-23d09afbd07a",
   "metadata": {},
   "outputs": [],
   "source": [
    "from datasets import load_dataset"
   ]
  },
  {
   "cell_type": "code",
   "execution_count": 2,
   "id": "07d929b2-a6fa-4324-b22d-2656f9923622",
   "metadata": {},
   "outputs": [
    {
     "data": {
      "text/plain": [
       "Dataset({\n",
       "    features: ['id', 'url', 'title', 'text'],\n",
       "    num_rows: 50\n",
       "})"
      ]
     },
     "execution_count": 2,
     "metadata": {},
     "output_type": "execute_result"
    }
   ],
   "source": [
    "data = load_dataset(\"wikipedia\", \"20220301.simple\", split='train[:50]', trust_remote_code=True)\n",
    "data"
   ]
  },
  {
   "cell_type": "code",
   "execution_count": 3,
   "id": "e99bb476-6fb2-4050-8b30-8b39d9d22738",
   "metadata": {},
   "outputs": [],
   "source": [
    "import pandas as pd"
   ]
  },
  {
   "cell_type": "code",
   "execution_count": 4,
   "id": "b26503b7-19ad-4ba1-bf69-ccc64b41400f",
   "metadata": {},
   "outputs": [],
   "source": [
    "# take a couple of mins to load\n",
    "df = pd.DataFrame(data)"
   ]
  },
  {
   "cell_type": "code",
   "execution_count": 5,
   "id": "500b5a4a-6d37-4a40-8c2e-928fa162dcf8",
   "metadata": {},
   "outputs": [
    {
     "data": {
      "text/plain": [
       "(50, 4)"
      ]
     },
     "execution_count": 5,
     "metadata": {},
     "output_type": "execute_result"
    }
   ],
   "source": [
    "df.shape"
   ]
  },
  {
   "cell_type": "code",
   "execution_count": 9,
   "id": "c489fbde-af7e-4a62-b957-bc0c23facf48",
   "metadata": {},
   "outputs": [
    {
     "data": {
      "text/html": [
       "<div>\n",
       "<style scoped>\n",
       "    .dataframe tbody tr th:only-of-type {\n",
       "        vertical-align: middle;\n",
       "    }\n",
       "\n",
       "    .dataframe tbody tr th {\n",
       "        vertical-align: top;\n",
       "    }\n",
       "\n",
       "    .dataframe thead th {\n",
       "        text-align: right;\n",
       "    }\n",
       "</style>\n",
       "<table border=\"1\" class=\"dataframe\">\n",
       "  <thead>\n",
       "    <tr style=\"text-align: right;\">\n",
       "      <th></th>\n",
       "      <th>id</th>\n",
       "      <th>url</th>\n",
       "      <th>title</th>\n",
       "      <th>text</th>\n",
       "    </tr>\n",
       "  </thead>\n",
       "  <tbody>\n",
       "    <tr>\n",
       "      <th>0</th>\n",
       "      <td>1</td>\n",
       "      <td>https://simple.wikipedia.org/wiki/April</td>\n",
       "      <td>April</td>\n",
       "      <td>April is the fourth month of the year in the J...</td>\n",
       "    </tr>\n",
       "    <tr>\n",
       "      <th>1</th>\n",
       "      <td>2</td>\n",
       "      <td>https://simple.wikipedia.org/wiki/August</td>\n",
       "      <td>August</td>\n",
       "      <td>August (Aug.) is the eighth month of the year ...</td>\n",
       "    </tr>\n",
       "    <tr>\n",
       "      <th>2</th>\n",
       "      <td>6</td>\n",
       "      <td>https://simple.wikipedia.org/wiki/Art</td>\n",
       "      <td>Art</td>\n",
       "      <td>Art is a creative activity that expresses imag...</td>\n",
       "    </tr>\n",
       "    <tr>\n",
       "      <th>3</th>\n",
       "      <td>8</td>\n",
       "      <td>https://simple.wikipedia.org/wiki/A</td>\n",
       "      <td>A</td>\n",
       "      <td>A or a is the first letter of the English alph...</td>\n",
       "    </tr>\n",
       "    <tr>\n",
       "      <th>4</th>\n",
       "      <td>9</td>\n",
       "      <td>https://simple.wikipedia.org/wiki/Air</td>\n",
       "      <td>Air</td>\n",
       "      <td>Air refers to the Earth's atmosphere. Air is a...</td>\n",
       "    </tr>\n",
       "    <tr>\n",
       "      <th>5</th>\n",
       "      <td>12</td>\n",
       "      <td>https://simple.wikipedia.org/wiki/Autonomous%2...</td>\n",
       "      <td>Autonomous communities of Spain</td>\n",
       "      <td>Spain is divided in 17 parts called autonomous...</td>\n",
       "    </tr>\n",
       "  </tbody>\n",
       "</table>\n",
       "</div>"
      ],
      "text/plain": [
       "   id                                                url  \\\n",
       "0   1            https://simple.wikipedia.org/wiki/April   \n",
       "1   2           https://simple.wikipedia.org/wiki/August   \n",
       "2   6              https://simple.wikipedia.org/wiki/Art   \n",
       "3   8                https://simple.wikipedia.org/wiki/A   \n",
       "4   9              https://simple.wikipedia.org/wiki/Air   \n",
       "5  12  https://simple.wikipedia.org/wiki/Autonomous%2...   \n",
       "\n",
       "                             title  \\\n",
       "0                            April   \n",
       "1                           August   \n",
       "2                              Art   \n",
       "3                                A   \n",
       "4                              Air   \n",
       "5  Autonomous communities of Spain   \n",
       "\n",
       "                                                text  \n",
       "0  April is the fourth month of the year in the J...  \n",
       "1  August (Aug.) is the eighth month of the year ...  \n",
       "2  Art is a creative activity that expresses imag...  \n",
       "3  A or a is the first letter of the English alph...  \n",
       "4  Air refers to the Earth's atmosphere. Air is a...  \n",
       "5  Spain is divided in 17 parts called autonomous...  "
      ]
     },
     "execution_count": 9,
     "metadata": {},
     "output_type": "execute_result"
    }
   ],
   "source": [
    "df.head(6)"
   ]
  },
  {
   "cell_type": "code",
   "execution_count": 10,
   "id": "ba32c120-68a5-4dd8-9292-11c5447e5cd8",
   "metadata": {},
   "outputs": [],
   "source": [
    "# save to local file\n",
    "# 210 MB\n",
    "df.to_csv(r'D:\\AI-DATASETS\\02-MISC-large/wikipedia_data.csv', index=False)"
   ]
  },
  {
   "cell_type": "code",
   "execution_count": 11,
   "id": "54177636-4f54-4dd9-b06c-708ab922f02a",
   "metadata": {},
   "outputs": [
    {
     "data": {
      "text/plain": [
       "{'id': '6',\n",
       " 'url': 'https://simple.wikipedia.org/wiki/Art',\n",
       " 'title': 'Art',\n",
       " 'text': 'Art is a creative activity that expresses imaginative or technical skill. It produces a product, an object. Art is a diverse range of human activities in creating visual, performing artifacts, and expressing the author\\'s imaginative mind. The product of art is called a work of art, for others to experience.\\n\\nSome art is useful in a practical sense, such as a sculptured clay bowl that can be used. That kind of art is sometimes called a craft.\\n\\nThose who make art are called artists. They hope to affect the emotions of people who experience it. Some people find art relaxing, exciting or informative. Some say people are driven to make art due to their inner creativity.\\n\\n\"The arts\" is a much broader term. It includes drawing, painting, sculpting, photography, performance art, dance, music, poetry, prose and theatre.\\n\\nTypes of art \\n\\nArt is divided into the plastic arts, where something is made, and the performing arts, where something is done by humans in action. The other division is between pure arts, done for themselves, and practical arts, done for a practical purpose, but with artistic content.\\n\\n Plastic art\\n Fine art is expression by making something beautiful or appealing to the emotions by visual means: drawing, painting, printmaking, sculpture\\n Literature: poetry, creative writing\\n Performing art\\n Performing art including drama are (expression using the body: dance, acting, singing)\\n Auditory art (expression by making sounds): music, singing\\n Practical art\\n Culinary art (expression by making flavors and tastes): cooking\\n The practical arts (expression by making things and structures: architecture, filming, fashion, photography, video games)\\n\\nWhat \"art\" means \\nSome people say that art is a product or item that is made with the intention of stimulating the human senses as well as the human mind, spirit and soul.  An artwork is normally judged by how much impact it has on people, the number of people who can relate to it, and how much they appreciate it. Some people also get inspired.\\n\\nThe first and broadest sense of \"art\" means \"arrangement\" or \"to arrange.\" In this sense, art is created when someone arranges things found in the world into a new or different design or form; or when someone arranges colors next to each other in a painting to make an image or just to make a pretty or interesting design.\\n\\nArt may express emotion.  Artists may feel a certain emotion and wish to express it by creating something that means something to them.  Most of the art created in this case is made for the artist rather than an audience.  However, if an audience is able to connect with the emotion as well, then the art work may become publicly successful.\\n\\nHistory of art \\nThere are sculptures, cave painting and rock art dating from the Upper Paleolithic era.\\n\\nAll of the great ancient civilizations, such as Ancient Egypt, India, China, Greece, Rome and Persia had works and styles of art. In the Middle Ages, most of the art in Europe showed people from the Bible in paintings, stained glass windows, and mosaic tile floors and walls.\\n\\nIslamic art includes geometric patterns, Islamic calligraphy, and architecture. In India and Tibet, painted sculptures, dance, and religious painting were done. In China, arts included jade carving, bronze, pottery, poetry, calligraphy, music, painting, drama, and fiction. There are many Chinese artistic styles, which are usually named after the ruling dynasty.\\n\\nIn Europe, after the Middle Ages, there was a \"Renaissance\" which means \"rebirth\". People rediscovered science and artists were allowed to paint subjects other than religious subjects. People like Michelangelo and Leonardo da Vinci still painted religious pictures, but they also now could paint mythological pictures too. These artists also invented perspective where things in the distance look smaller in the picture. This was new because in the Middle Ages people would paint all the figures close up and just overlapping each other. These artists used nudity regularly in their art.\\n\\nIn the late 1800s, artists in Europe, responding to Modernity created many new painting styles such as Classicism, Romanticism, Realism, and Impressionism. The history of twentieth century art includes Expressionism, Fauvism, Cubism, Dadaism, Surrealism, and Minimalism.\\n\\nRoles of art \\nIn some societies, people think that art belongs to the person who made it. They think that the artist put his or her \"talent\" and industry into the art. In this view, the art is the property of the artist, protected by copyright.\\n\\nIn other societies, people think that art belongs to no one. They think that society has put its social capital into the artist and the artist\\'s work. In this view, society is a collective that has made the art, through the artist.\\n\\nFunctions of art \\nThe functions of art include:\\n\\n1) Cognitive function\\n\\n Works of art let us know about what the author knew, and about what the surrounding of the author were like.\\n\\n2) Aesthetic function\\n\\n Works of art can make people happy by being beautiful.\\n\\n3) Prognostic function\\n\\n Some artists draw what they see the future like, and some of them are right, but most are not...\\n\\n4) Recreation function\\n\\n Art makes us think about it, not about reality; we have a rest.\\n\\n5) Value function\\n\\n What did the artist value? What aims did they like/dislike in human activity? This usually is clearly seen in artists\\' works.\\n\\n6) Didactic function\\n\\n What message, criticism or political change did the artist wish to achieve?\\n\\nRelated pages \\n Modern art\\n Abstract art\\n Magnum opus\\n Painting\\n Sculpture\\n Street art\\n\\nReferences \\n\\n \\nNon-verbal communication\\nBasic English 850 words'}"
      ]
     },
     "execution_count": 11,
     "metadata": {},
     "output_type": "execute_result"
    }
   ],
   "source": [
    "data[2]"
   ]
  },
  {
   "cell_type": "code",
   "execution_count": 12,
   "id": "f7e0e161-1e19-47e3-9e5f-9a60c74a03eb",
   "metadata": {},
   "outputs": [
    {
     "name": "stdout",
     "output_type": "stream",
     "text": [
      "Art is a creative activity that expresses imaginative or technical skill. It produces a product, an object. Art is a diverse range of human activities in creating visual, performing artifacts, and expressing the author's imaginative mind. The product of art is called a work of art, for others to experience.\n",
      "\n",
      "Some art is useful in a practical sense, such as a sculptured clay bowl that can be used. That kind of art is sometimes called a craft.\n",
      "\n",
      "Those who make art are called artists. They hope to affect the emotions of people who experience it. Some people find art relaxing, exciting or informative. Some say people are driven to make art due to their inner creativity.\n",
      "\n",
      "\"The arts\" is a much broader term. It includes drawing, painting, sculpting, photography, performance art, dance, music, poetry, prose and theatre.\n",
      "\n",
      "Types of art \n",
      "\n",
      "Art is divided into the plastic arts, where something is made, and the performing arts, where something is done by humans in action. The other division is between pure arts, done for themselves, and practical arts, done for a practical purpose, but with artistic content.\n",
      "\n",
      " Plastic art\n",
      " Fine art is expression by making something beautiful or appealing to the emotions by visual means: drawing, painting, printmaking, sculpture\n",
      " Literature: poetry, creative writing\n",
      " Performing art\n",
      " Performing art including drama are (expression using the body: dance, acting, singing)\n",
      " Auditory art (expression by making sounds): music, singing\n",
      " Practical art\n",
      " Culinary art (expression by making flavors and tastes): cooking\n",
      " The practical arts (expression by making things and structures: architecture, filming, fashion, photography, video games)\n",
      "\n",
      "What \"art\" means \n",
      "Some people say that art is a product or item that is made with the intention of stimulating the human senses as well as the human mind, spirit and soul.  An artwork is normally judged by how much impact it has on people, the number of people who can relate to it, and how much they appreciate it. Some people also get inspired.\n",
      "\n",
      "The first and broadest sense of \"art\" means \"arrangement\" or \"to arrange.\" In this sense, art is created when someone arranges things found in the world into a new or different design or form; or when someone arranges colors next to each other in a painting to make an image or just to make a pretty or interesting design.\n",
      "\n",
      "Art may express emotion.  Artists may feel a certain emotion and wish to express it by creating something that means something to them.  Most of the art created in this case is made for the artist rather than an audience.  However, if an audience is able to connect with the emotion as well, then the art work may become publicly successful.\n",
      "\n",
      "History of art \n",
      "There are sculptures, cave painting and rock art dating from the Upper Paleolithic era.\n",
      "\n",
      "All of the great ancient civilizations, such as Ancient Egypt, India, China, Greece, Rome and Persia had works and styles of art. In the Middle Ages, most of the art in Europe showed people from the Bible in paintings, stained glass windows, and mosaic tile floors and walls.\n",
      "\n",
      "Islamic art includes geometric patterns, Islamic calligraphy, and architecture. In India and Tibet, painted sculptures, dance, and religious painting were done. In China, arts included jade carving, bronze, pottery, poetry, calligraphy, music, painting, drama, and fiction. There are many Chinese artistic styles, which are usually named after the ruling dynasty.\n",
      "\n",
      "In Europe, after the Middle Ages, there was a \"Renaissance\" which means \"rebirth\". People rediscovered science and artists were allowed to paint subjects other than religious subjects. People like Michelangelo and Leonardo da Vinci still painted religious pictures, but they also now could paint mythological pictures too. These artists also invented perspective where things in the distance look smaller in the picture. This was new because in the Middle Ages people would paint all the figures close up and just overlapping each other. These artists used nudity regularly in their art.\n",
      "\n",
      "In the late 1800s, artists in Europe, responding to Modernity created many new painting styles such as Classicism, Romanticism, Realism, and Impressionism. The history of twentieth century art includes Expressionism, Fauvism, Cubism, Dadaism, Surrealism, and Minimalism.\n",
      "\n",
      "Roles of art \n",
      "In some societies, people think that art belongs to the person who made it. They think that the artist put his or her \"talent\" and industry into the art. In this view, the art is the property of the artist, protected by copyright.\n",
      "\n",
      "In other societies, people think that art belongs to no one. They think that society has put its social capital into the artist and the artist's work. In this view, society is a collective that has made the art, through the artist.\n",
      "\n",
      "Functions of art \n",
      "The functions of art include:\n",
      "\n",
      "1) Cognitive function\n",
      "\n",
      " Works of art let us know about what the author knew, and about what the surrounding of the author were like.\n",
      "\n",
      "2) Aesthetic function\n",
      "\n",
      " Works of art can make people happy by being beautiful.\n",
      "\n",
      "3) Prognostic function\n",
      "\n",
      " Some artists draw what they see the future like, and some of them are right, but most are not...\n",
      "\n",
      "4) Recreation function\n",
      "\n",
      " Art makes us think about it, not about reality; we have a rest.\n",
      "\n",
      "5) Value function\n",
      "\n",
      " What did the artist value? What aims did they like/dislike in human activity? This usually is clearly seen in artists' works.\n",
      "\n",
      "6) Didactic function\n",
      "\n",
      " What message, criticism or political change did the artist wish to achieve?\n",
      "\n",
      "Related pages \n",
      " Modern art\n",
      " Abstract art\n",
      " Magnum opus\n",
      " Painting\n",
      " Sculpture\n",
      " Street art\n",
      "\n",
      "References \n",
      "\n",
      " \n",
      "Non-verbal communication\n",
      "Basic English 850 words\n"
     ]
    }
   ],
   "source": [
    "print(data[2]['text'])"
   ]
  },
  {
   "cell_type": "code",
   "execution_count": 13,
   "id": "efb5a903-ad81-444c-865d-4cd732dd861e",
   "metadata": {},
   "outputs": [
    {
     "name": "stdout",
     "output_type": "stream",
     "text": [
      "<class 'pandas.core.frame.DataFrame'>\n",
      "RangeIndex: 50 entries, 0 to 49\n",
      "Data columns (total 4 columns):\n",
      " #   Column  Non-Null Count  Dtype \n",
      "---  ------  --------------  ----- \n",
      " 0   id      50 non-null     object\n",
      " 1   url     50 non-null     object\n",
      " 2   title   50 non-null     object\n",
      " 3   text    50 non-null     object\n",
      "dtypes: object(4)\n",
      "memory usage: 1.7+ KB\n"
     ]
    }
   ],
   "source": [
    "df.info()"
   ]
  },
  {
   "cell_type": "code",
   "execution_count": 14,
   "id": "21833a7e-fed4-471c-9c9d-ddd913871465",
   "metadata": {},
   "outputs": [],
   "source": [
    "#!pip install langchain"
   ]
  },
  {
   "cell_type": "code",
   "execution_count": 9,
   "id": "34c345c0-5fba-412f-a0ba-be4e3127b71c",
   "metadata": {},
   "outputs": [],
   "source": [
    "#!pip install openai"
   ]
  },
  {
   "cell_type": "code",
   "execution_count": 10,
   "id": "2f9127ab-546a-4a77-ba65-2de4022bfcfd",
   "metadata": {},
   "outputs": [],
   "source": [
    "#!pip install pinecone-client"
   ]
  },
  {
   "cell_type": "code",
   "execution_count": 11,
   "id": "54b0fc06-652b-4402-b2a2-f5988d150ff0",
   "metadata": {},
   "outputs": [],
   "source": [
    "#!pip install tiktoken"
   ]
  },
  {
   "cell_type": "markdown",
   "id": "a742ed2d-6715-429b-9fb8-035a317f9cb2",
   "metadata": {},
   "source": [
    "**Pre-processing of the text**\n",
    "\n",
    "- chunking and related information"
   ]
  },
  {
   "cell_type": "code",
   "execution_count": 15,
   "id": "d5dcac24-0f16-4d3f-8c7d-d86281d0320f",
   "metadata": {},
   "outputs": [
    {
     "data": {
      "text/plain": [
       "<Encoding 'cl100k_base'>"
      ]
     },
     "execution_count": 15,
     "metadata": {},
     "output_type": "execute_result"
    }
   ],
   "source": [
    "import tiktoken\n",
    "\n",
    "tiktoken.encoding_for_model('gpt-3.5-turbo')"
   ]
  },
  {
   "cell_type": "code",
   "execution_count": 16,
   "id": "15d08fa6-a422-4ab6-b345-4558304b28e8",
   "metadata": {},
   "outputs": [],
   "source": [
    "tokenizer = tiktoken.get_encoding('cl100k_base')"
   ]
  },
  {
   "cell_type": "code",
   "execution_count": 17,
   "id": "8234b0e9-e581-496e-a594-559cf7800ff0",
   "metadata": {},
   "outputs": [],
   "source": [
    "def tiktoken_len(text):\n",
    "    tokens = tokenizer.encode(\n",
    "        text,\n",
    "        disallowed_special=()\n",
    "    )\n",
    "    return len(tokens)"
   ]
  },
  {
   "cell_type": "code",
   "execution_count": 18,
   "id": "fa75ed50-8cac-4c92-be9b-4fddaab00d79",
   "metadata": {},
   "outputs": [
    {
     "data": {
      "text/plain": [
       "26"
      ]
     },
     "execution_count": 18,
     "metadata": {},
     "output_type": "execute_result"
    }
   ],
   "source": [
    "tiktoken_len(\"hello I am a chunk of text and using the tiktoken_len function \"\n",
    "             \"we can find the length of this chunk of text in tokens\")"
   ]
  },
  {
   "cell_type": "code",
   "execution_count": 19,
   "id": "3ef10c97-b171-451f-8ead-22062de4d725",
   "metadata": {},
   "outputs": [],
   "source": [
    "from langchain.text_splitter import RecursiveCharacterTextSplitter"
   ]
  },
  {
   "cell_type": "code",
   "execution_count": 21,
   "id": "0e21ddc1-f2bb-44a1-bd25-33968b91e9f8",
   "metadata": {},
   "outputs": [],
   "source": [
    "text_splitter = RecursiveCharacterTextSplitter(\n",
    "    chunk_size     = 400,\n",
    "    chunk_overlap  = 20,\n",
    "    length_function= tiktoken_len,\n",
    "    separators     = [\"\\n\\n\", \"\\n\", \" \", \"\"]\n",
    ")"
   ]
  },
  {
   "cell_type": "code",
   "execution_count": 23,
   "id": "db612283-4a20-43ad-9ef9-3a67a9c2a126",
   "metadata": {},
   "outputs": [
    {
     "data": {
      "text/plain": [
       "['Art is a creative activity that expresses imaginative or technical skill. It produces a product, an object. Art is a diverse range of human activities in creating visual, performing artifacts, and expressing the author\\'s imaginative mind. The product of art is called a work of art, for others to experience.\\n\\nSome art is useful in a practical sense, such as a sculptured clay bowl that can be used. That kind of art is sometimes called a craft.\\n\\nThose who make art are called artists. They hope to affect the emotions of people who experience it. Some people find art relaxing, exciting or informative. Some say people are driven to make art due to their inner creativity.\\n\\n\"The arts\" is a much broader term. It includes drawing, painting, sculpting, photography, performance art, dance, music, poetry, prose and theatre.\\n\\nTypes of art \\n\\nArt is divided into the plastic arts, where something is made, and the performing arts, where something is done by humans in action. The other division is between pure arts, done for themselves, and practical arts, done for a practical purpose, but with artistic content.\\n\\n Plastic art\\n Fine art is expression by making something beautiful or appealing to the emotions by visual means: drawing, painting, printmaking, sculpture\\n Literature: poetry, creative writing\\n Performing art\\n Performing art including drama are (expression using the body: dance, acting, singing)\\n Auditory art (expression by making sounds): music, singing\\n Practical art\\n Culinary art (expression by making flavors and tastes): cooking\\n The practical arts (expression by making things and structures: architecture, filming, fashion, photography, video games)',\n",
       " 'What \"art\" means \\nSome people say that art is a product or item that is made with the intention of stimulating the human senses as well as the human mind, spirit and soul.  An artwork is normally judged by how much impact it has on people, the number of people who can relate to it, and how much they appreciate it. Some people also get inspired.\\n\\nThe first and broadest sense of \"art\" means \"arrangement\" or \"to arrange.\" In this sense, art is created when someone arranges things found in the world into a new or different design or form; or when someone arranges colors next to each other in a painting to make an image or just to make a pretty or interesting design.\\n\\nArt may express emotion.  Artists may feel a certain emotion and wish to express it by creating something that means something to them.  Most of the art created in this case is made for the artist rather than an audience.  However, if an audience is able to connect with the emotion as well, then the art work may become publicly successful.\\n\\nHistory of art \\nThere are sculptures, cave painting and rock art dating from the Upper Paleolithic era.\\n\\nAll of the great ancient civilizations, such as Ancient Egypt, India, China, Greece, Rome and Persia had works and styles of art. In the Middle Ages, most of the art in Europe showed people from the Bible in paintings, stained glass windows, and mosaic tile floors and walls.\\n\\nIslamic art includes geometric patterns, Islamic calligraphy, and architecture. In India and Tibet, painted sculptures, dance, and religious painting were done. In China, arts included jade carving, bronze, pottery, poetry, calligraphy, music, painting, drama, and fiction. There are many Chinese artistic styles, which are usually named after the ruling dynasty.',\n",
       " 'In Europe, after the Middle Ages, there was a \"Renaissance\" which means \"rebirth\". People rediscovered science and artists were allowed to paint subjects other than religious subjects. People like Michelangelo and Leonardo da Vinci still painted religious pictures, but they also now could paint mythological pictures too. These artists also invented perspective where things in the distance look smaller in the picture. This was new because in the Middle Ages people would paint all the figures close up and just overlapping each other. These artists used nudity regularly in their art.\\n\\nIn the late 1800s, artists in Europe, responding to Modernity created many new painting styles such as Classicism, Romanticism, Realism, and Impressionism. The history of twentieth century art includes Expressionism, Fauvism, Cubism, Dadaism, Surrealism, and Minimalism.\\n\\nRoles of art \\nIn some societies, people think that art belongs to the person who made it. They think that the artist put his or her \"talent\" and industry into the art. In this view, the art is the property of the artist, protected by copyright.\\n\\nIn other societies, people think that art belongs to no one. They think that society has put its social capital into the artist and the artist\\'s work. In this view, society is a collective that has made the art, through the artist.\\n\\nFunctions of art \\nThe functions of art include:\\n\\n1) Cognitive function\\n\\n Works of art let us know about what the author knew, and about what the surrounding of the author were like.\\n\\n2) Aesthetic function\\n\\n Works of art can make people happy by being beautiful.\\n\\n3) Prognostic function\\n\\n Some artists draw what they see the future like, and some of them are right, but most are not...\\n\\n4) Recreation function\\n\\n Art makes us think about it, not about reality; we have a rest.',\n",
       " \"Art makes us think about it, not about reality; we have a rest.\\n\\n5) Value function\\n\\n What did the artist value? What aims did they like/dislike in human activity? This usually is clearly seen in artists' works.\\n\\n6) Didactic function\\n\\n What message, criticism or political change did the artist wish to achieve?\\n\\nRelated pages \\n Modern art\\n Abstract art\\n Magnum opus\\n Painting\\n Sculpture\\n Street art\\n\\nReferences \\n\\n \\nNon-verbal communication\\nBasic English 850 words\"]"
      ]
     },
     "execution_count": 23,
     "metadata": {},
     "output_type": "execute_result"
    }
   ],
   "source": [
    "chunks = text_splitter.split_text(data[2]['text'])\n",
    "chunks"
   ]
  },
  {
   "cell_type": "code",
   "execution_count": 24,
   "id": "c323e5b5-901d-4f65-98cf-de08dfd7f739",
   "metadata": {},
   "outputs": [
    {
     "data": {
      "text/plain": [
       "332"
      ]
     },
     "execution_count": 24,
     "metadata": {},
     "output_type": "execute_result"
    }
   ],
   "source": [
    "tiktoken_len(chunks[0]) #, tiktoken_len(chunks[1]), tiktoken_len(chunks[2])"
   ]
  },
  {
   "cell_type": "code",
   "execution_count": 25,
   "id": "8fba93a3-36ac-48aa-8d1b-40ba2b5fbf89",
   "metadata": {},
   "outputs": [],
   "source": [
    "from langchain_openai import OpenAIEmbeddings"
   ]
  },
  {
   "cell_type": "code",
   "execution_count": 26,
   "id": "d1e44e33-e87e-4b6c-a096-911caf411917",
   "metadata": {},
   "outputs": [],
   "source": [
    "model_name = 'text-embedding-ada-002'\n",
    "\n",
    "embed = OpenAIEmbeddings(\n",
    "    model = model_name,\n",
    "    #openai_api_key=api_key\n",
    ")"
   ]
  },
  {
   "cell_type": "code",
   "execution_count": 27,
   "id": "ed254001-c190-4e4c-ab05-8078c1180336",
   "metadata": {},
   "outputs": [],
   "source": [
    "texts = [\n",
    "    'this is the first chunk of text',\n",
    "    'then another second chunk of text is here'\n",
    "]"
   ]
  },
  {
   "cell_type": "code",
   "execution_count": 28,
   "id": "a1d0d1a3-cbfb-4658-b03d-1a07371d96fe",
   "metadata": {},
   "outputs": [
    {
     "data": {
      "text/plain": [
       "(2, 1536)"
      ]
     },
     "execution_count": 28,
     "metadata": {},
     "output_type": "execute_result"
    }
   ],
   "source": [
    "res = embed.embed_documents(texts)\n",
    "len(res), len(res[0])"
   ]
  },
  {
   "cell_type": "markdown",
   "id": "07f70dae-91ec-488e-9d47-27826909cf85",
   "metadata": {},
   "source": [
    "#### Vector database"
   ]
  },
  {
   "cell_type": "code",
   "execution_count": 29,
   "id": "f2c640a2-d607-4f56-8eaa-fb261b29266d",
   "metadata": {},
   "outputs": [],
   "source": [
    "import os\n",
    "from pinecone import Pinecone"
   ]
  },
  {
   "cell_type": "code",
   "execution_count": 30,
   "id": "507f2229-7b66-4012-b08b-7cd2d35546ca",
   "metadata": {},
   "outputs": [],
   "source": [
    "pc_api_key = os.getenv('PINECONE_API_KEY')"
   ]
  },
  {
   "cell_type": "code",
   "execution_count": 31,
   "id": "31ce535c-8b21-43f8-8cb0-ce9575c9c438",
   "metadata": {},
   "outputs": [],
   "source": [
    "# configure client\n",
    "pc = Pinecone(api_key=pc_api_key)"
   ]
  },
  {
   "cell_type": "code",
   "execution_count": 32,
   "id": "07e357ae-1a80-41a7-9d61-745790f0c394",
   "metadata": {},
   "outputs": [],
   "source": [
    "from pinecone import ServerlessSpec\n",
    "\n",
    "spec = ServerlessSpec(\n",
    "    cloud = \"aws\", \n",
    "    region= \"us-east-1\"\n",
    ")"
   ]
  },
  {
   "cell_type": "code",
   "execution_count": 33,
   "id": "40c5ccab-a354-45c6-a06e-2558d6b4750c",
   "metadata": {},
   "outputs": [],
   "source": [
    "index_name = 'langchain-retrieval-augmentation'\n",
    "\n",
    "existing_indexes = [\n",
    "    index_info[\"name\"] for index_info in pc.list_indexes()\n",
    "]"
   ]
  },
  {
   "cell_type": "code",
   "execution_count": 34,
   "id": "c89a6a54-83f4-4523-a04a-956ea6cc938c",
   "metadata": {},
   "outputs": [
    {
     "data": {
      "text/plain": [
       "['langchain-retrieval-augmentation']"
      ]
     },
     "execution_count": 34,
     "metadata": {},
     "output_type": "execute_result"
    }
   ],
   "source": [
    "existing_indexes"
   ]
  },
  {
   "cell_type": "code",
   "execution_count": 35,
   "id": "9c05920c-b339-43e1-b276-f9c314adc4f8",
   "metadata": {},
   "outputs": [],
   "source": [
    "# check if index already exists (it shouldn't if this is first time)\n",
    "if index_name not in existing_indexes:\n",
    "    # if does not exist, create index\n",
    "    pc.create_index(\n",
    "        index_name,\n",
    "        dimension = 1536,  # dimensionality of ada 002\n",
    "        metric    = 'dotproduct',\n",
    "        spec      = spec\n",
    "    )\n",
    "    \n",
    "    # wait for index to be initialized\n",
    "    while not pc.describe_index(index_name).status['ready']:\n",
    "        time.sleep(2)"
   ]
  },
  {
   "cell_type": "code",
   "execution_count": 36,
   "id": "65676023-3b6a-4c18-8a7e-a1a4823a83ee",
   "metadata": {},
   "outputs": [],
   "source": [
    "import time"
   ]
  },
  {
   "cell_type": "code",
   "execution_count": 37,
   "id": "fbf397ba-0ff2-4406-8e30-3f1c3921088c",
   "metadata": {},
   "outputs": [],
   "source": [
    "# connect to index\n",
    "index = pc.Index(index_name)\n",
    "\n",
    "time.sleep(1)"
   ]
  },
  {
   "cell_type": "code",
   "execution_count": 38,
   "id": "aa90cffd-7660-4d51-9b07-471f56abfc04",
   "metadata": {},
   "outputs": [
    {
     "data": {
      "text/plain": [
       "{'dimension': 1536,\n",
       " 'index_fullness': 0.0,\n",
       " 'namespaces': {'': {'vector_count': 21}},\n",
       " 'total_vector_count': 21}"
      ]
     },
     "execution_count": 38,
     "metadata": {},
     "output_type": "execute_result"
    }
   ],
   "source": [
    "# view index stats\n",
    "index.describe_index_stats()"
   ]
  },
  {
   "cell_type": "code",
   "execution_count": 39,
   "id": "592986a2-782b-46dc-8633-617141305b16",
   "metadata": {},
   "outputs": [
    {
     "data": {
      "text/plain": [
       "50"
      ]
     },
     "execution_count": 39,
     "metadata": {},
     "output_type": "execute_result"
    }
   ],
   "source": [
    "len(data)"
   ]
  },
  {
   "cell_type": "code",
   "execution_count": 40,
   "id": "001a3c2a-050e-4451-b57b-014a56e0fb40",
   "metadata": {},
   "outputs": [
    {
     "data": {
      "text/plain": [
       "Index(['id', 'url', 'title', 'text'], dtype='object')"
      ]
     },
     "execution_count": 40,
     "metadata": {},
     "output_type": "execute_result"
    }
   ],
   "source": [
    "df.columns"
   ]
  },
  {
   "cell_type": "code",
   "execution_count": 42,
   "id": "d4e53afe-3656-423f-b306-f76457bf9453",
   "metadata": {},
   "outputs": [
    {
     "name": "stdout",
     "output_type": "stream",
     "text": [
      "29\n",
      "{'wiki-id': '53', 'source': 'https://simple.wikipedia.org/wiki/Angola', 'title': 'Angola'}\n",
      "40\n",
      "{'wiki-id': '71', 'source': 'https://simple.wikipedia.org/wiki/Bankruptcy', 'title': 'Bankruptcy'}\n",
      "27\n",
      "{'wiki-id': '51', 'source': 'https://simple.wikipedia.org/wiki/Asteroid', 'title': 'Asteroid'}\n",
      "7\n",
      "{'wiki-id': '14', 'source': 'https://simple.wikipedia.org/wiki/Alanis%20Morissette', 'title': 'Alanis Morissette'}\n",
      "30\n",
      "{'wiki-id': '54', 'source': 'https://simple.wikipedia.org/wiki/Argentina', 'title': 'Argentina'}\n",
      "2\n",
      "{'wiki-id': '6', 'source': 'https://simple.wikipedia.org/wiki/Art', 'title': 'Art'}\n",
      "43\n",
      "{'wiki-id': '80', 'source': 'https://simple.wikipedia.org/wiki/Beekeeping', 'title': 'Beekeeping'}\n",
      "22\n",
      "{'wiki-id': '45', 'source': 'https://simple.wikipedia.org/wiki/Algebra', 'title': 'Algebra'}\n",
      "25\n",
      "{'wiki-id': '49', 'source': 'https://simple.wikipedia.org/wiki/Architecture', 'title': 'Architecture'}\n",
      "42\n",
      "{'wiki-id': '76', 'source': 'https://simple.wikipedia.org/wiki/Browser', 'title': 'Browser'}\n"
     ]
    }
   ],
   "source": [
    "# Loop through a sample of 10 rows with tqdm for progress visualization\n",
    "for i, record in df.sample(10).iterrows():\n",
    "    print(i)\n",
    "\n",
    "    # Retrieve metadata fields for the current record\n",
    "    metadata = {\n",
    "        'wiki-id': str(record['id']),\n",
    "        'source':  record['url'],\n",
    "        'title':   record['title']\n",
    "    }\n",
    "    print(metadata)"
   ]
  },
  {
   "cell_type": "code",
   "execution_count": 43,
   "id": "ecb92f24-1ff0-453c-b342-dc87a33921ad",
   "metadata": {},
   "outputs": [
    {
     "data": {
      "application/vnd.jupyter.widget-view+json": {
       "model_id": "b587d9bd304d4453ae97fa4b3ecd6d01",
       "version_major": 2,
       "version_minor": 0
      },
      "text/plain": [
       "  0%|          | 0/10 [00:00<?, ?it/s]"
      ]
     },
     "metadata": {},
     "output_type": "display_data"
    }
   ],
   "source": [
    "from tqdm.auto import tqdm\n",
    "from uuid import uuid4\n",
    "\n",
    "batch_limit = 100\n",
    "\n",
    "texts     = []\n",
    "metadatas = []\n",
    "\n",
    "# Loop through a sample of 10 rows with tqdm for progress visualization\n",
    "for i, record in tqdm(df.sample(10).iterrows(), total=10):\n",
    "    \n",
    "    # first get metadata fields for this record\n",
    "    metadata = {\n",
    "        'wiki-id': str(record['id']),\n",
    "        'source':  record['url'],\n",
    "        'title':   record['title']\n",
    "    }\n",
    "    \n",
    "    # now we create chunks from the record text\n",
    "    record_texts = text_splitter.split_text(record['text'])\n",
    "    \n",
    "    # create individual metadata dicts for each chunk\n",
    "    record_metadatas = [{\n",
    "        \"chunk\": j, \"text\": text, **metadata\n",
    "    } for j, text in enumerate(record_texts)]\n",
    "    \n",
    "    # append these to current batches\n",
    "    texts.extend(record_texts)\n",
    "    metadatas.extend(record_metadatas)\n",
    "    \n",
    "    # if we have reached the batch_limit we can add texts\n",
    "    if len(texts) >= batch_limit:\n",
    "        ids    = [str(uuid4()) for _ in range(len(texts))]\n",
    "        embeds = embed.embed_documents(texts)\n",
    "        \n",
    "        index.upsert(vectors=zip(ids, embeds, metadatas))\n",
    "        \n",
    "        texts     = []\n",
    "        metadatas = []\n",
    "\n",
    "if len(texts) > 0:\n",
    "    ids    = [str(uuid4()) for _ in range(len(texts))]\n",
    "    embeds = embed.embed_documents(texts)\n",
    "    \n",
    "    index.upsert(vectors=zip(ids, embeds, metadatas))"
   ]
  },
  {
   "cell_type": "code",
   "execution_count": 44,
   "id": "462979a1-ce35-4c9d-9aad-7664e98a8ad7",
   "metadata": {},
   "outputs": [
    {
     "data": {
      "text/plain": [
       "{'dimension': 1536,\n",
       " 'index_fullness': 0.0,\n",
       " 'namespaces': {'': {'vector_count': 21}},\n",
       " 'total_vector_count': 21}"
      ]
     },
     "execution_count": 44,
     "metadata": {},
     "output_type": "execute_result"
    }
   ],
   "source": [
    "index.describe_index_stats()"
   ]
  },
  {
   "cell_type": "markdown",
   "id": "a09fe831-37f8-457f-acae-8ef3740fe749",
   "metadata": {},
   "source": [
    "#### Create the vector store and apply some querying\n",
    "- vector store is NOT = index\n",
    "- vector store (LLM frameworks) - include the indexes"
   ]
  },
  {
   "cell_type": "code",
   "execution_count": 45,
   "id": "548c66d0-674b-4ada-922c-3d25aab64f04",
   "metadata": {},
   "outputs": [],
   "source": [
    "from langchain.vectorstores import Pinecone"
   ]
  },
  {
   "cell_type": "code",
   "execution_count": 46,
   "id": "c412c95b-22ac-4400-9318-4219d6c92d2d",
   "metadata": {},
   "outputs": [],
   "source": [
    "text_field = 'text'"
   ]
  },
  {
   "cell_type": "code",
   "execution_count": 47,
   "id": "c85e9521-ba27-4b7e-8772-e03acbd1a0e9",
   "metadata": {},
   "outputs": [
    {
     "name": "stderr",
     "output_type": "stream",
     "text": [
      "C:\\Users\\bhupe\\AppData\\Local\\Temp\\ipykernel_12448\\2857347233.py:1: LangChainDeprecationWarning: The class `Pinecone` was deprecated in LangChain 0.0.18 and will be removed in 1.0. An updated version of the class exists in the :class:`~langchain-pinecone package and should be used instead. To use it run `pip install -U :class:`~langchain-pinecone` and import as `from :class:`~langchain_pinecone import Pinecone``.\n",
      "  vectorstore = Pinecone(\n",
      "D:\\ANACONDA3\\envs\\langchain_env\\Lib\\site-packages\\langchain_community\\vectorstores\\pinecone.py:68: UserWarning: Passing in `embedding` as a Callable is deprecated. Please pass in an Embeddings object instead.\n",
      "  warnings.warn(\n"
     ]
    }
   ],
   "source": [
    "vectorstore = Pinecone(\n",
    "    index, embed.embed_query, text_field\n",
    ")"
   ]
  },
  {
   "cell_type": "code",
   "execution_count": 48,
   "id": "9d5b6ff9-9bfe-4c1a-81e0-262f28652154",
   "metadata": {},
   "outputs": [],
   "source": [
    "query = \"who was Benito Mussolini?\""
   ]
  },
  {
   "cell_type": "code",
   "execution_count": 49,
   "id": "707d8856-2ff8-472d-9471-574495c317b0",
   "metadata": {},
   "outputs": [
    {
     "data": {
      "text/plain": [
       "[Document(metadata={'chunk': 1.0, 'source': 'https://simple.wikipedia.org/wiki/Argentina', 'title': 'Argentina', 'wiki-id': '54'}, page_content='The oldest signs of people in Argentina are in the Patagonia (Piedra Museo, Santa Cruz), and are more than 13,000 years old. In 1480 the Inca Empire conquered northwestern Argentina, making it part of the empire. In the northeastern area, the Guaraní developed a culture based on yuca and sweet potato however typical dishes all around Argentina are pasta, red wines (Italian influence) and beef.\\n\\nOther languages spoken are Italian, English and German. Lunfardo is Argentinean slang and is a mix of Spanish and Italian. Argentinians are said to speak Spanish with an Italian accent.\\n\\nArgentina declared independent from Spain in 1816, and achieved it in a War led by José de San Martín in 1818. Many immigrants from Europe came to the country. By the 1920s it was the 7th wealthiest country in the world, but it began a decline after this. In the 1940s, following the \"infamous decade\" where the country\\'s politics were not stable, Juan Peron came to power. Peron was one of the most important people in the country\\'s history and many politicians today call themselves Peronist. Peron was forced out of power in 1955. After spending years in exile he returned to power in the 1970s.\\n\\nIn 1976, the country was falling into chaos, and the military took power. This was not the first time the military had done this. Leading the new government was Jorge Rafael Videla. Videla was one of history\\'s most brutal dictators. Thousands of people disappeared or were killed during his time as president. Videla retired in 1980.'),\n",
       " Document(metadata={'chunk': 2.0, 'source': 'https://simple.wikipedia.org/wiki/Argentina', 'title': 'Argentina', 'wiki-id': '54'}, page_content='One of his successors was another general turned dictator, Leopoldo Galtieri. By the time Galtieri was in office in 1981 the dictatorship became unpopular. To stir up support, Galtieri ordered an invasion of the Falkland Islands, starting the Falklands War.  Argentina lost the war, and soon the country fell into chaos again. Galtieri was removed from power and eventually democracy was restored. Galtieri and Videla would be charged with \"crimes against humanity\" because of the mass murder and other crimes that they ordered as president.\\n\\nIn the early 21st century Argentina is one of the most important countries in Latin America, though it still has many problems. It has a large economy and is influential in the \"southern cone\" of South America and a member of the G20 developing nations.\\n\\nPolitics \\nArgentina is a federal republic. The people of Argentina vote for a President to rule them and Senators and Deputies to speak for them and make laws for them. The President is Alberto Fernández since December 2019.\\n\\nAdministrative divisions \\n\\nArgentina is divided into 23 provinces (provincias; singular: provincia), and 1 city (commonly known as capital federal):\\n\\nGeography \\n\\nArgentina is almost 3,700\\xa0km long from north to south, and 1,400\\xa0km from east to west (maximum values). It can be divided into three parts: the Pampas in the central part of the country, Patagonia in the southern part down to Tierra del Fuego; and the Andes mountain range along the western border with Chile, with the highest point in the province of Mendoza. Cerro Aconcagua, at 6,960 metres (22,834 ft), is the Americas\\' highest mountain.'),\n",
       " Document(metadata={'chunk': 0.0, 'source': 'https://simple.wikipedia.org/wiki/1884', 'title': '1884', 'wiki-id': '10526'}, page_content='Births \\n May 8 – Harry S. Truman\\n October 11 – Eleanor Roosevelt, First Lady of the United States, wife of Franklin D. Roosevelt (d. 1962)\\n December 30 – Hideki Tōjō, 40th Prime Minister of Japan, Led the Attack on Pearl Harbour (d. 1948)\\n\\nDeaths \\n January 25 – Johann Gottfried Piefke, German conductor and composer (b. 1815)\\n March 21 – Ezra Abbot, American Bible scholar (b. 1819)\\n April 4 – Marie Bashkirtseff, Russian artist (b. 1858)\\n May 12 – Bedrich Smetana, Czech composer (b. 1824)\\n May 13 –  Cyrus McCormick, American inventor (b. 1809)\\n June 25 – Hans Rott, Austrian composer (b. 1858)\\n July 1 – Allan Pinkerton, American detective (b. 1819)\\n July 10 – Paul Morphy, American chess player (b. 1837)\\n November 25 – Adolph Wilhelm Hermann Kolbe, German chemist (b. 1818)')]"
      ]
     },
     "execution_count": 49,
     "metadata": {},
     "output_type": "execute_result"
    }
   ],
   "source": [
    "vectorstore.similarity_search(\n",
    "    query,  # our search query\n",
    "    k =3    # return 3 most relevant docs\n",
    ")"
   ]
  },
  {
   "cell_type": "markdown",
   "id": "92ddbb92-a267-4e66-ad4d-50f2f07a95ae",
   "metadata": {},
   "source": [
    "#### Generative QnA\n",
    "- Documents retrieval from vector store or database\n",
    "- RetrieveQA sends these documents (plus the question) to the LLM\n",
    "- LLM then generates a cohesive answer\n",
    "\n"
   ]
  },
  {
   "cell_type": "code",
   "execution_count": 50,
   "id": "32c22ace-701b-4597-958f-cbde07c2d100",
   "metadata": {},
   "outputs": [],
   "source": [
    "from langchain_openai import ChatOpenAI\n",
    "from langchain.chains import RetrievalQA"
   ]
  },
  {
   "cell_type": "code",
   "execution_count": 51,
   "id": "f8095005-792a-4d5a-af21-299171cf025d",
   "metadata": {},
   "outputs": [],
   "source": [
    "# completion llm\n",
    "llm = ChatOpenAI(\n",
    "    #openai_api_key=api_key,\n",
    "    model_name = 'gpt-3.5-turbo',\n",
    "    temperature= 0.0\n",
    ")\n"
   ]
  },
  {
   "cell_type": "code",
   "execution_count": 52,
   "id": "2b645277-fd66-4147-8c61-b060d42aa1b8",
   "metadata": {},
   "outputs": [],
   "source": [
    "qa = RetrievalQA.from_chain_type(\n",
    "    llm       = llm,\n",
    "    chain_type= \"refine\",\n",
    "    retriever = vectorstore.as_retriever()\n",
    ")"
   ]
  },
  {
   "cell_type": "code",
   "execution_count": 87,
   "id": "cfe5552e-3c71-43c0-acc3-a75b76a75fd0",
   "metadata": {},
   "outputs": [
    {
     "data": {
      "text/plain": [
       "'Benito Mussolini was an Italian politician and leader who founded the Fascist Party in Italy. He ruled as Prime Minister from 1922 to 1943 and then as dictator from 1925 to 1945. Mussolini was a key figure in the creation of Fascism, an authoritarian and nationalistic political ideology.'"
      ]
     },
     "execution_count": 87,
     "metadata": {},
     "output_type": "execute_result"
    }
   ],
   "source": [
    "qa.run(query)"
   ]
  },
  {
   "cell_type": "code",
   "execution_count": null,
   "id": "2adfebdb-e0b4-4253-9bcb-af7842ea6112",
   "metadata": {},
   "outputs": [],
   "source": []
  }
 ],
 "metadata": {
  "kernelspec": {
   "display_name": "langchain_env",
   "language": "python",
   "name": "langchain_env"
  },
  "language_info": {
   "codemirror_mode": {
    "name": "ipython",
    "version": 3
   },
   "file_extension": ".py",
   "mimetype": "text/x-python",
   "name": "python",
   "nbconvert_exporter": "python",
   "pygments_lexer": "ipython3",
   "version": "3.12.7"
  }
 },
 "nbformat": 4,
 "nbformat_minor": 5
}
