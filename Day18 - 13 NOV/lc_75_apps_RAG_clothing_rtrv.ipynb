{
 "cells": [
  {
   "cell_type": "markdown",
   "id": "1ac405f0-0a95-419d-bee7-e80b197d001f",
   "metadata": {},
   "source": [
    "----------------------\n",
    "#### RAG with evaluation\n",
    "---------------------"
   ]
  },
  {
   "cell_type": "code",
   "execution_count": 1,
   "id": "e7e2ea27-7505-44e1-86c3-505ef15eed28",
   "metadata": {},
   "outputs": [],
   "source": [
    "from langchain.chains import RetrievalQA\n",
    "from langchain_openai import ChatOpenAI\n",
    "from langchain.document_loaders import CSVLoader\n",
    "from langchain.vectorstores import DocArrayInMemorySearch\n",
    "from IPython.display import display, Markdown\n",
    "from langchain.llms import OpenAI\n",
    "\n",
    "import pandas as pd\n",
    "import numpy as np\n",
    "import matplotlib.pyplot as plt"
   ]
  },
  {
   "cell_type": "code",
   "execution_count": 2,
   "id": "28b3c39d-56a2-43e7-9db8-25645662b704",
   "metadata": {},
   "outputs": [],
   "source": [
    "file = r'OutdoorClothingCatalog_1000.csv'"
   ]
  },
  {
   "cell_type": "code",
   "execution_count": 3,
   "id": "5db46c6f-9ad0-4523-b931-3c78969abe24",
   "metadata": {},
   "outputs": [],
   "source": [
    "df = pd.read_csv(file)"
   ]
  },
  {
   "cell_type": "code",
   "execution_count": 4,
   "id": "9c8c3b94-fa51-4aad-9559-ae6120a95bbe",
   "metadata": {},
   "outputs": [
    {
     "data": {
      "text/html": [
       "<div>\n",
       "<style scoped>\n",
       "    .dataframe tbody tr th:only-of-type {\n",
       "        vertical-align: middle;\n",
       "    }\n",
       "\n",
       "    .dataframe tbody tr th {\n",
       "        vertical-align: top;\n",
       "    }\n",
       "\n",
       "    .dataframe thead th {\n",
       "        text-align: right;\n",
       "    }\n",
       "</style>\n",
       "<table border=\"1\" class=\"dataframe\">\n",
       "  <thead>\n",
       "    <tr style=\"text-align: right;\">\n",
       "      <th></th>\n",
       "      <th>Unnamed: 0</th>\n",
       "      <th>name</th>\n",
       "      <th>description</th>\n",
       "    </tr>\n",
       "  </thead>\n",
       "  <tbody>\n",
       "    <tr>\n",
       "      <th>73</th>\n",
       "      <td>73</td>\n",
       "      <td>Cozy Cuddles Knit Pullover Set</td>\n",
       "      <td>Perfect for lounging, this knit set lives up t...</td>\n",
       "    </tr>\n",
       "    <tr>\n",
       "      <th>52</th>\n",
       "      <td>52</td>\n",
       "      <td>Women's Salomon Sense Adventure Trail Runner</td>\n",
       "      <td>These Salomon trail shoes offer a great fit an...</td>\n",
       "    </tr>\n",
       "    <tr>\n",
       "      <th>400</th>\n",
       "      <td>400</td>\n",
       "      <td>Mountain Crest Insulated Pullover</td>\n",
       "      <td>We took the classic anorak look and combined i...</td>\n",
       "    </tr>\n",
       "    <tr>\n",
       "      <th>887</th>\n",
       "      <td>887</td>\n",
       "      <td>Umpqua Pro Guide Lightweight Fly Storage Box</td>\n",
       "      <td>This high capacity, lightweight fly box offers...</td>\n",
       "    </tr>\n",
       "    <tr>\n",
       "      <th>937</th>\n",
       "      <td>937</td>\n",
       "      <td>Garmin eTrex Journeyer</td>\n",
       "      <td>The eTrex 20x is a handheld GPS that is a long...</td>\n",
       "    </tr>\n",
       "  </tbody>\n",
       "</table>\n",
       "</div>"
      ],
      "text/plain": [
       "     Unnamed: 0                                          name  \\\n",
       "73           73                Cozy Cuddles Knit Pullover Set   \n",
       "52           52  Women's Salomon Sense Adventure Trail Runner   \n",
       "400         400             Mountain Crest Insulated Pullover   \n",
       "887         887  Umpqua Pro Guide Lightweight Fly Storage Box   \n",
       "937         937                        Garmin eTrex Journeyer   \n",
       "\n",
       "                                           description  \n",
       "73   Perfect for lounging, this knit set lives up t...  \n",
       "52   These Salomon trail shoes offer a great fit an...  \n",
       "400  We took the classic anorak look and combined i...  \n",
       "887  This high capacity, lightweight fly box offers...  \n",
       "937  The eTrex 20x is a handheld GPS that is a long...  "
      ]
     },
     "execution_count": 4,
     "metadata": {},
     "output_type": "execute_result"
    }
   ],
   "source": [
    "df.sample(5)"
   ]
  },
  {
   "cell_type": "code",
   "execution_count": 5,
   "id": "9e7a3baa-3f6c-438c-b089-34b5df63c7d6",
   "metadata": {},
   "outputs": [],
   "source": [
    "df.drop(['Unnamed: 0'], axis=1, inplace=True)"
   ]
  },
  {
   "cell_type": "code",
   "execution_count": 6,
   "id": "0bbddcb4-97ed-408a-95d0-fb32bc0f36aa",
   "metadata": {},
   "outputs": [
    {
     "data": {
      "text/html": [
       "<div>\n",
       "<style scoped>\n",
       "    .dataframe tbody tr th:only-of-type {\n",
       "        vertical-align: middle;\n",
       "    }\n",
       "\n",
       "    .dataframe tbody tr th {\n",
       "        vertical-align: top;\n",
       "    }\n",
       "\n",
       "    .dataframe thead th {\n",
       "        text-align: right;\n",
       "    }\n",
       "</style>\n",
       "<table border=\"1\" class=\"dataframe\">\n",
       "  <thead>\n",
       "    <tr style=\"text-align: right;\">\n",
       "      <th></th>\n",
       "      <th>name</th>\n",
       "      <th>description</th>\n",
       "      <th>name_len</th>\n",
       "      <th>descp_len</th>\n",
       "    </tr>\n",
       "  </thead>\n",
       "  <tbody>\n",
       "    <tr>\n",
       "      <th>0</th>\n",
       "      <td>Women's Campside Oxfords</td>\n",
       "      <td>This ultracomfortable lace-to-toe Oxford boast...</td>\n",
       "      <td>24</td>\n",
       "      <td>724</td>\n",
       "    </tr>\n",
       "    <tr>\n",
       "      <th>1</th>\n",
       "      <td>Recycled Waterhog Dog Mat, Chevron Weave</td>\n",
       "      <td>Protect your floors from spills and splashing ...</td>\n",
       "      <td>40</td>\n",
       "      <td>946</td>\n",
       "    </tr>\n",
       "    <tr>\n",
       "      <th>2</th>\n",
       "      <td>Infant and Toddler Girls' Coastal Chill Swimsu...</td>\n",
       "      <td>She'll love the bright colors, ruffles and exc...</td>\n",
       "      <td>59</td>\n",
       "      <td>458</td>\n",
       "    </tr>\n",
       "    <tr>\n",
       "      <th>3</th>\n",
       "      <td>Refresh Swimwear, V-Neck Tankini Contrasts</td>\n",
       "      <td>Whether you're going for a swim or heading out...</td>\n",
       "      <td>42</td>\n",
       "      <td>928</td>\n",
       "    </tr>\n",
       "    <tr>\n",
       "      <th>4</th>\n",
       "      <td>EcoFlex 3L Storm Pants</td>\n",
       "      <td>Our new TEK O2 technology makes our four-seaso...</td>\n",
       "      <td>22</td>\n",
       "      <td>1033</td>\n",
       "    </tr>\n",
       "    <tr>\n",
       "      <th>...</th>\n",
       "      <td>...</td>\n",
       "      <td>...</td>\n",
       "      <td>...</td>\n",
       "      <td>...</td>\n",
       "    </tr>\n",
       "    <tr>\n",
       "      <th>995</th>\n",
       "      <td>Men's  Classic Denim, Standard Fit</td>\n",
       "      <td>Crafted from premium denim that will last wash...</td>\n",
       "      <td>34</td>\n",
       "      <td>564</td>\n",
       "    </tr>\n",
       "    <tr>\n",
       "      <th>996</th>\n",
       "      <td>CozyPrint Sweater Fleece Pullover</td>\n",
       "      <td>The ultimate sweater fleece - made from superi...</td>\n",
       "      <td>33</td>\n",
       "      <td>782</td>\n",
       "    </tr>\n",
       "    <tr>\n",
       "      <th>997</th>\n",
       "      <td>Women's NRS Endurance Spray Paddling Pants</td>\n",
       "      <td>These comfortable and affordable splash paddli...</td>\n",
       "      <td>42</td>\n",
       "      <td>781</td>\n",
       "    </tr>\n",
       "    <tr>\n",
       "      <th>998</th>\n",
       "      <td>Women's Stop Flies Hoodie</td>\n",
       "      <td>This great-looking hoodie uses No Fly Zone Tec...</td>\n",
       "      <td>25</td>\n",
       "      <td>871</td>\n",
       "    </tr>\n",
       "    <tr>\n",
       "      <th>999</th>\n",
       "      <td>Modern Utility Bag</td>\n",
       "      <td>This US-made crossbody bag is built with the s...</td>\n",
       "      <td>18</td>\n",
       "      <td>987</td>\n",
       "    </tr>\n",
       "  </tbody>\n",
       "</table>\n",
       "<p>1000 rows × 4 columns</p>\n",
       "</div>"
      ],
      "text/plain": [
       "                                                  name  \\\n",
       "0                             Women's Campside Oxfords   \n",
       "1             Recycled Waterhog Dog Mat, Chevron Weave   \n",
       "2    Infant and Toddler Girls' Coastal Chill Swimsu...   \n",
       "3           Refresh Swimwear, V-Neck Tankini Contrasts   \n",
       "4                               EcoFlex 3L Storm Pants   \n",
       "..                                                 ...   \n",
       "995                 Men's  Classic Denim, Standard Fit   \n",
       "996                  CozyPrint Sweater Fleece Pullover   \n",
       "997         Women's NRS Endurance Spray Paddling Pants   \n",
       "998                          Women's Stop Flies Hoodie   \n",
       "999                                 Modern Utility Bag   \n",
       "\n",
       "                                           description  name_len  descp_len  \n",
       "0    This ultracomfortable lace-to-toe Oxford boast...        24        724  \n",
       "1    Protect your floors from spills and splashing ...        40        946  \n",
       "2    She'll love the bright colors, ruffles and exc...        59        458  \n",
       "3    Whether you're going for a swim or heading out...        42        928  \n",
       "4    Our new TEK O2 technology makes our four-seaso...        22       1033  \n",
       "..                                                 ...       ...        ...  \n",
       "995  Crafted from premium denim that will last wash...        34        564  \n",
       "996  The ultimate sweater fleece - made from superi...        33        782  \n",
       "997  These comfortable and affordable splash paddli...        42        781  \n",
       "998  This great-looking hoodie uses No Fly Zone Tec...        25        871  \n",
       "999  This US-made crossbody bag is built with the s...        18        987  \n",
       "\n",
       "[1000 rows x 4 columns]"
      ]
     },
     "execution_count": 6,
     "metadata": {},
     "output_type": "execute_result"
    }
   ],
   "source": [
    "# Compute lengths of 'name' and 'description' columns\n",
    "df['name_len'] = df['name'].apply(len)\n",
    "df['descp_len'] = df['description'].apply(len)\n",
    "df"
   ]
  },
  {
   "cell_type": "code",
   "execution_count": 7,
   "id": "d3c5f500-e779-4911-ace9-d558275b80d5",
   "metadata": {},
   "outputs": [
    {
     "data": {
      "image/png": "[encoded data removed]",
      "text/plain": [
       "<Figure size 1200x600 with 2 Axes>"
      ]
     },
     "metadata": {},
     "output_type": "display_data"
    }
   ],
   "source": [
    "# Compute lengths of 'name' and 'description' columns\n",
    "df['name_len'] = df['name'].apply(len)\n",
    "df['descp_len'] = df['description'].apply(len)\n",
    "\n",
    "# Plotting histograms for name_len and descp_len\n",
    "plt.figure(figsize=(12, 6))\n",
    "\n",
    "# Histogram for name_len\n",
    "plt.subplot(1, 2, 1)\n",
    "plt.hist(df['name_len'], bins=range(df['name_len'].min(), df['name_len'].max() + 2), alpha=0.7, color='blue', edgecolor='black')\n",
    "plt.title('Histogram of Name Lengths')\n",
    "plt.xlabel('Length of Names')\n",
    "plt.ylabel('Frequency')\n",
    "\n",
    "# Histogram for descp_len\n",
    "plt.subplot(1, 2, 2)\n",
    "plt.hist(df['descp_len'], bins=range(df['descp_len'].min(), df['descp_len'].max() + 2), alpha=0.7, color='green', edgecolor='black')\n",
    "plt.title('Histogram of Description Lengths')\n",
    "plt.xlabel('Length of Descriptions')\n",
    "plt.ylabel('Frequency')\n",
    "\n",
    "# Adjust layout and show plots\n",
    "plt.tight_layout()\n",
    "plt.show()"
   ]
  },
  {
   "cell_type": "code",
   "execution_count": 8,
   "id": "3763b420-297a-48e7-9100-de56c4df33f1",
   "metadata": {},
   "outputs": [
    {
     "data": {
      "text/html": [
       "<div>\n",
       "<style scoped>\n",
       "    .dataframe tbody tr th:only-of-type {\n",
       "        vertical-align: middle;\n",
       "    }\n",
       "\n",
       "    .dataframe tbody tr th {\n",
       "        vertical-align: top;\n",
       "    }\n",
       "\n",
       "    .dataframe thead th {\n",
       "        text-align: right;\n",
       "    }\n",
       "</style>\n",
       "<table border=\"1\" class=\"dataframe\">\n",
       "  <thead>\n",
       "    <tr style=\"text-align: right;\">\n",
       "      <th></th>\n",
       "      <th>name_len</th>\n",
       "      <th>descp_len</th>\n",
       "    </tr>\n",
       "  </thead>\n",
       "  <tbody>\n",
       "    <tr>\n",
       "      <th>count</th>\n",
       "      <td>1000.000000</td>\n",
       "      <td>1000.00000</td>\n",
       "    </tr>\n",
       "    <tr>\n",
       "      <th>mean</th>\n",
       "      <td>33.306000</td>\n",
       "      <td>706.81700</td>\n",
       "    </tr>\n",
       "    <tr>\n",
       "      <th>std</th>\n",
       "      <td>11.198472</td>\n",
       "      <td>223.46603</td>\n",
       "    </tr>\n",
       "    <tr>\n",
       "      <th>min</th>\n",
       "      <td>8.000000</td>\n",
       "      <td>51.00000</td>\n",
       "    </tr>\n",
       "    <tr>\n",
       "      <th>25%</th>\n",
       "      <td>25.000000</td>\n",
       "      <td>536.00000</td>\n",
       "    </tr>\n",
       "    <tr>\n",
       "      <th>50%</th>\n",
       "      <td>32.000000</td>\n",
       "      <td>686.00000</td>\n",
       "    </tr>\n",
       "    <tr>\n",
       "      <th>75%</th>\n",
       "      <td>40.000000</td>\n",
       "      <td>884.50000</td>\n",
       "    </tr>\n",
       "    <tr>\n",
       "      <th>max</th>\n",
       "      <td>102.000000</td>\n",
       "      <td>1223.00000</td>\n",
       "    </tr>\n",
       "  </tbody>\n",
       "</table>\n",
       "</div>"
      ],
      "text/plain": [
       "          name_len   descp_len\n",
       "count  1000.000000  1000.00000\n",
       "mean     33.306000   706.81700\n",
       "std      11.198472   223.46603\n",
       "min       8.000000    51.00000\n",
       "25%      25.000000   536.00000\n",
       "50%      32.000000   686.00000\n",
       "75%      40.000000   884.50000\n",
       "max     102.000000  1223.00000"
      ]
     },
     "execution_count": 8,
     "metadata": {},
     "output_type": "execute_result"
    }
   ],
   "source": [
    "df.describe()"
   ]
  },
  {
   "cell_type": "markdown",
   "id": "48469a46-2523-4dc8-a668-6c285a30e78f",
   "metadata": {},
   "source": [
    "#### create embeddings for the descp col"
   ]
  },
  {
   "cell_type": "code",
   "execution_count": 9,
   "id": "86edbb20-7bfd-46ec-b9c0-cf5c13355639",
   "metadata": {},
   "outputs": [],
   "source": [
    "from langchain_openai import OpenAIEmbeddings"
   ]
  },
  {
   "cell_type": "code",
   "execution_count": 10,
   "id": "230be033-6c1a-42e4-a068-60448db8b90c",
   "metadata": {},
   "outputs": [],
   "source": [
    "emb_model = OpenAIEmbeddings(model= 'text-embedding-ada-002')"
   ]
  },
  {
   "cell_type": "code",
   "execution_count": 11,
   "id": "4959aed1-fc26-44af-a233-f9a3ef6d3a80",
   "metadata": {},
   "outputs": [
    {
     "name": "stdout",
     "output_type": "stream",
     "text": [
      "CPU times: total: 0 ns\n",
      "Wall time: 0 ns\n"
     ]
    }
   ],
   "source": [
    "%%time\n",
    "# Generate embeddings for each description\n",
    "# Storing metadata separately\n",
    "#vectors  = [emb_model.embed_query(row['description']) for _, row in df.iterrows()]"
   ]
  },
  {
   "cell_type": "code",
   "execution_count": 12,
   "id": "528636c9-ffb4-4545-8dd0-f6e8ef859d50",
   "metadata": {},
   "outputs": [],
   "source": [
    "# Generate embeddings for each description\n",
    "metadata = [{'name': row['name'], 'description': row['description']} for _, row in df.iterrows()]"
   ]
  },
  {
   "cell_type": "code",
   "execution_count": 13,
   "id": "fd03100d-5fa2-4975-b7a2-fea6d32480ca",
   "metadata": {},
   "outputs": [],
   "source": [
    "import pickle"
   ]
  },
  {
   "cell_type": "code",
   "execution_count": 14,
   "id": "0bd83200-64b1-479e-8ca9-1a76334c7776",
   "metadata": {},
   "outputs": [],
   "source": [
    "# Pickling the DocList\n",
    "# with open(\"vectors.pkl\", \"wb\") as f:\n",
    "#     pickle.dump(vectors, f)"
   ]
  },
  {
   "cell_type": "code",
   "execution_count": 15,
   "id": "bf5abf3f-5666-4ea3-9dc2-cd78473d3e6e",
   "metadata": {},
   "outputs": [],
   "source": [
    "# Unpickling the DocList\n",
    "with open(\"vectors.pkl\", \"rb\") as f:\n",
    "    vectors = pickle.load(f)"
   ]
  },
  {
   "cell_type": "code",
   "execution_count": 16,
   "id": "06e94808-2a17-433b-bd2b-0afdce57fc5f",
   "metadata": {},
   "outputs": [
    {
     "data": {
      "text/plain": [
       "(list, 1000)"
      ]
     },
     "execution_count": 16,
     "metadata": {},
     "output_type": "execute_result"
    }
   ],
   "source": [
    "type(vectors), len(vectors)"
   ]
  },
  {
   "cell_type": "code",
   "execution_count": 17,
   "id": "48098d93-e072-41c4-8c3a-3ac20b39138e",
   "metadata": {},
   "outputs": [],
   "source": [
    "# Convert list of embeddings to a NumPy array\n",
    "embedding_dim = len(vectors[0])                     # assuming all embeddings are the same size\n",
    "vectors_np    = np.array(vectors, dtype='float32')"
   ]
  },
  {
   "cell_type": "code",
   "execution_count": 18,
   "id": "a2dde17c-bd68-4d4d-9309-1b43ae4d297a",
   "metadata": {},
   "outputs": [],
   "source": [
    "#pip install faiss-cpu"
   ]
  },
  {
   "cell_type": "code",
   "execution_count": 19,
   "id": "78f8d7ed-4e83-4d8e-bb2b-07eca93b8c25",
   "metadata": {},
   "outputs": [],
   "source": [
    "from langchain.vectorstores import FAISS"
   ]
  },
  {
   "cell_type": "code",
   "execution_count": 20,
   "id": "cb906cc2-950d-45af-b963-8e71aa7256f3",
   "metadata": {},
   "outputs": [],
   "source": [
    "# Combine descriptions and their corresponding embeddings into tuples\n",
    "text_embedding_pairs = list(zip(df['description'].tolist(), vectors_np))"
   ]
  },
  {
   "cell_type": "code",
   "execution_count": 21,
   "id": "b9901be9-2d50-4640-853b-9af19bd08457",
   "metadata": {},
   "outputs": [
    {
     "data": {
      "text/plain": [
       "[{'name': \"Women's Campside Oxfords\",\n",
       "  'description': 'This ultracomfortable lace-to-toe Oxford boasts a super-soft canvas, thick cushioning, and quality construction for a broken-in feel from the first time you put them on. \\n\\nSize & Fit: Order regular shoe size. For half sizes not offered, order up to next whole size. \\n\\nSpecs: Approx. weight: 1 lb.1 oz. per pair. \\n\\nConstruction: Soft canvas material for a broken-in feel and look. Comfortable EVA innersole with Cleansport NXT® antimicrobial odor control. Vintage hunt, fish and camping motif on innersole. Moderate arch contour of innersole. EVA foam midsole for cushioning and support. Chain-tread-inspired molded rubber outsole with modified chain-tread pattern. Imported. \\n\\nQuestions? Please contact us for any inquiries.'},\n",
       " {'name': 'Recycled Waterhog Dog Mat, Chevron Weave',\n",
       "  'description': 'Protect your floors from spills and splashing with our ultradurable recycled Waterhog dog mat made right here in the USA. \\n\\nSpecs\\nSmall - Dimensions: 18\" x 28\". \\nMedium - Dimensions: 22.5\" x 34.5\".\\n\\nWhy We Love It\\nMother nature, wet shoes and muddy paws have met their match with our Recycled Waterhog mats. Ruggedly constructed from recycled plastic materials, these ultratough mats help keep dirt and water off your floors and plastic out of landfills, trails and oceans. Now, that\\'s a win-win for everyone.\\n\\nFabric & Care\\nVacuum or hose clean.\\n\\nConstruction\\n24 oz. polyester fabric made from 94% recycled materials.\\nRubber backing.\\n\\nAdditional Features\\nFeatures an -exclusive design.\\nFeatures thick and thin fibers for scraping dirt and absorbing water.\\nDries quickly and resists fading, rotting, mildew and shedding.\\nUse indoors or out.\\nMade in the USA.\\n\\nHave questions? Reach out to our customer service team with any questions you may have.'}]"
      ]
     },
     "execution_count": 21,
     "metadata": {},
     "output_type": "execute_result"
    }
   ],
   "source": [
    "metadata[:2]"
   ]
  },
  {
   "cell_type": "code",
   "execution_count": 22,
   "id": "5a6827f9-020a-48df-9a13-22e84709067f",
   "metadata": {},
   "outputs": [],
   "source": [
    "vector_store = FAISS.from_embeddings(\n",
    "    text_embeddings = text_embedding_pairs,          # The list of embeddings\n",
    "    embedding       = emb_model,                     # The embedding model instance\n",
    "    metadatas       = metadata                       # Metadata to attach with each embedding\n",
    ")"
   ]
  },
  {
   "cell_type": "code",
   "execution_count": 23,
   "id": "bef402ff-4b2d-4231-8026-b449a43b4008",
   "metadata": {},
   "outputs": [],
   "source": [
    "# Define your query\n",
    "query = \"Chain-tread-inspired molded rubber outsole\""
   ]
  },
  {
   "cell_type": "code",
   "execution_count": 24,
   "id": "86bf6c3b-0c23-4b37-8b3d-b8718f658da4",
   "metadata": {},
   "outputs": [],
   "source": [
    "results = vector_store.similarity_search(query=query, k=5)"
   ]
  },
  {
   "cell_type": "code",
   "execution_count": 25,
   "id": "4270054a-cda4-41e1-b758-7d4262a9944e",
   "metadata": {},
   "outputs": [
    {
     "name": "stdout",
     "output_type": "stream",
     "text": [
      "\n",
      "Metadata: {'name': \"Mens' Wanderer Trek Shoes, Suede\", 'description': 'These casual, mountain-town-style shoes have sneaker-like comfort and performance features. Constructed with a suede-leather upper that resists water, the shoes feature a thick EVA midsole and sock liner for cushioning and comfort that last all day. The sock liner is treated to control odor, and the Vertigrip rubber outsole has subtle lugs for traction on slick surfaces and short hikes. Imported.'}\n",
      "\n",
      "Metadata: {'name': \"Men's Summit Trail Waterproof Hiking Shoes\", 'description': 'Enjoy the comfort of sneakers and the protection and support of hiking boots with ’s exclusive VertiGrip outsole. The outsole has pronounced multidirectional lugs for maximum traction. The breathable TEK2.5 barrier keeps feet dry. The suede-and-fabric upper, cushioned EVA midsole and removable footbed provide noticeable comfort right out of the box. Heel-and-toe bumpers add durability. Approx. weight: 2 lb. 5 oz. This versatile footwear is great for casual wear and a wide variety of outdoor adventures. Imported.'}\n",
      "\n",
      "Metadata: {'name': \"Men's Rockport Reactive Lite Five Lace-Up Shoes\", 'description': 'This comfortable, casual lace-up shoe is the epitome of weekend style with leather uppers and contrasting thread work. Stitch-to-sole construction allows feet to flex naturally, and soft EVA outsoles support every step. Approx weight: 1 lb. 4 oz per pair. Construction: Leather upper with lace-up style for an adjustable fit. Removable EVA and memory foam insole. EVA midsole and heel cup for superior shock absorption. Energy-rebounding forefoot. Sidewall stitch construction. Rubber outsole with truTECH shock absorbing heel and forefoot inserts. Imported.'}\n",
      "\n",
      "Metadata: {'name': 'Cork Comfort Sandals', 'description': 'From their all-terrain outsole to their waterproof leather upper, these sleek cork sandals are built for comfort from the ground up.\\n\\nSize & Fit: Half sizes order down.\\n\\nConstruction: Soft, waterproof full-grain-leather upper. Adjustable metal buckle with elastic tab for a precise fit. Cork-covered foam footbed and EVA midsole provide great cushioning. Uppers are lined with a thin foam padding covered by synthetic jersey, to pamper your toes. Nylon shank for support.  all-terrain VertiGrip molded rubber outsole with floral detailing. Imported.'}\n",
      "\n",
      "Metadata: {'name': 'Suggested Name: Cork Wedge Sandals', 'description': 'From their all-terrain outsole to their waterproof leather upper, these sleek cork sandals are built for comfort from the ground up.\\n\\nSize & Fit: Half sizes order down.\\n\\nConstruction: Soft, waterproof full-grain-leather upper. Adjustable metal buckle with elastic tab for a precise fit. Cork-covered foam footbed and EVA midsole provide great cushioning. Uppers are lined with a thin foam padding covered by synthetic jersey, to pamper your toes. Nylon shank for support.  all-terrain VertiGrip molded rubber outsole with floral detailing. Imported.'}\n"
     ]
    }
   ],
   "source": [
    "for result in results:\n",
    "    #print(\"Document Content:\", result.page_content)  # Content of the retrieved document\n",
    "    print(\"\\nMetadata:\", result.metadata)  # Metadata associated with the document"
   ]
  },
  {
   "cell_type": "code",
   "execution_count": 26,
   "id": "2cfe75d5-7063-428a-a3e3-5324e73933bf",
   "metadata": {},
   "outputs": [],
   "source": [
    "query = \"Please suggest a shirt with sunblocking\""
   ]
  },
  {
   "cell_type": "code",
   "execution_count": 27,
   "id": "8e47b572-c366-40f6-b2af-830109b1271c",
   "metadata": {},
   "outputs": [],
   "source": [
    "sim_docs = vector_store.similarity_search(query)"
   ]
  },
  {
   "cell_type": "code",
   "execution_count": 28,
   "id": "fbbd9036-0d3d-463e-86f7-e2c8e7001aa6",
   "metadata": {},
   "outputs": [
    {
     "name": "stdout",
     "output_type": "stream",
     "text": [
      "\n",
      "Metadata: {'name': \"Women's Tropical Tee, Sleeveless\", 'description': \"Our five-star sleeveless button-up shirt has a fit to flatter and SunSmart™ protection to block the sun’s harmful UV rays. Size & Fit: Slightly Fitted: Softly shapes the body. Falls at hip. Fabric & Care: Shell: 71% nylon, 29% polyester. Cape lining: 100% polyester. Built-in SunSmart™ UPF 50+ rated – the highest rated sun protection possible. Machine wash and dry. Additional Features: Updated design with smoother buttons. Wrinkle resistant. Low-profile pockets and side shaping offer a more flattering fit. Front and back cape venting. Two front pockets, tool tabs and eyewear loop. Imported. Sun Protection That Won't Wear Off: Our high-performance fabric provides SPF 50+ sun protection, blocking 98% of the sun's harmful rays.\"}\n",
      "\n",
      "Metadata: {'name': 'Sun Shield Shirt by ', 'description': '\"Block the sun, not the fun – our high-performance sun shirt is guaranteed to protect from harmful UV rays. \\n\\nSize & Fit: Slightly Fitted: Softly shapes the body. Falls at hip.\\n\\nFabric & Care: 78% nylon, 22% Lycra Xtra Life fiber. UPF 50+ rated – the highest rated sun protection possible. Handwash, line dry.\\n\\nAdditional Features: Wicks moisture for quick-drying comfort. Fits comfortably over your favorite swimsuit. Abrasion resistant for season after season of wear. Imported.\\n\\nSun Protection That Won\\'t Wear Off\\nOur high-performance fabric provides SPF 50+ sun protection, blocking 98% of the sun\\'s harmful rays. This fabric is recommended by The Skin Cancer Foundation as an effective UV protectant.'}\n",
      "\n",
      "Metadata: {'name': \"Men's Plaid Tropic Shirt, Short-Sleeve\", 'description': \"Our Ultracomfortable sun protection is rated to UPF 50+, helping you stay cool and dry. Originally designed for fishing, this lightest hot-weather shirt offers UPF 50+ coverage and is great for extended travel. SunSmart technology blocks 98% of the sun's harmful UV rays, while the high-performance fabric is wrinkle-free and quickly evaporates perspiration. Made with 52% polyester and 48% nylon, this shirt is machine washable and dryable. Additional features include front and back cape venting, two front bellows pockets and an imported design. With UPF 50+ coverage, you can limit sun exposure and feel secure with the highest rated sun protection available.\"}\n",
      "\n",
      "Metadata: {'name': \"Men's TropicVibe Shirt, Short-Sleeve\", 'description': \"This Men’s sun-protection shirt with built-in UPF 50+ has the lightweight feel you want and the coverage you need when the air is hot and the UV rays are strong. Size & Fit: Traditional Fit: Relaxed through the chest, sleeve and waist. Fabric & Care: Shell: 71% Nylon, 29% Polyester. Lining: 100% Polyester knit mesh. UPF 50+ rated – the highest rated sun protection possible. Machine wash and dry. Additional Features: Wrinkle resistant. Front and back cape venting lets in cool breezes. Two front bellows pockets. Imported.\\n\\nSun Protection That Won't Wear Off: Our high-performance fabric provides SPF 50+ sun protection, blocking 98% of the sun's harmful rays.\"}\n"
     ]
    }
   ],
   "source": [
    "for result in sim_docs:\n",
    "    #print(\"Document Content:\", result.page_content)  # Content of the retrieved document\n",
    "    print(\"\\nMetadata:\", result.metadata)  # Metadata associated with the document"
   ]
  },
  {
   "cell_type": "markdown",
   "id": "d030ca67-3552-4ce7-a8d1-7f65c3594bc8",
   "metadata": {},
   "source": [
    "#### Use the retrievers"
   ]
  },
  {
   "cell_type": "code",
   "execution_count": 30,
   "id": "340dbfe7-4610-4551-a6f6-a551926eb6a9",
   "metadata": {},
   "outputs": [],
   "source": [
    "llm_model = \"gpt-3.5-turbo\"\n",
    "\n",
    "llm = ChatOpenAI(temperature = 0.0, model=llm_model)"
   ]
  },
  {
   "cell_type": "code",
   "execution_count": 31,
   "id": "770e6ead-c12a-4cda-888a-c9570e0568c2",
   "metadata": {},
   "outputs": [],
   "source": [
    "# Convert the FAISS vector store to a retriever\n",
    "retriever = vector_store.as_retriever()"
   ]
  },
  {
   "cell_type": "code",
   "execution_count": 38,
   "id": "d57387ff-b57f-490a-b92f-2c8ddb6f46fc",
   "metadata": {},
   "outputs": [],
   "source": [
    "retriever.search_kwargs = {\"k\": 15}     # Retrieve top 10 documents"
   ]
  },
  {
   "cell_type": "code",
   "execution_count": 39,
   "id": "173b7cee-6c9f-4f82-9b3e-64e1dbb38665",
   "metadata": {},
   "outputs": [],
   "source": [
    "qa_chain = RetrievalQA.from_chain_type(\n",
    "    llm        = llm,             # The language model you want to use (e.g., OpenAI's GPT)\n",
    "    chain_type = \"stuff\",         # Choose the chain type; options include \"stuff\", \"map_reduce\", etc.\n",
    "    retriever  = retriever,\n",
    "    verbose    = True\n",
    ")"
   ]
  },
  {
   "cell_type": "code",
   "execution_count": 40,
   "id": "f8dd59ca-8863-47ec-aeff-cafab2a2b2b1",
   "metadata": {},
   "outputs": [],
   "source": [
    "query =  \"Please list all your shirts with sun protection in a table \\\n",
    "in markdown and summarize each one.\""
   ]
  },
  {
   "cell_type": "code",
   "execution_count": 41,
   "id": "16e7132f-2e31-4db4-90f0-3b2c639c285f",
   "metadata": {},
   "outputs": [
    {
     "name": "stdout",
     "output_type": "stream",
     "text": [
      "\n",
      "\n",
      "\u001b[1m> Entering new RetrievalQA chain...\u001b[0m\n",
      "\n",
      "\u001b[1m> Finished chain.\u001b[0m\n"
     ]
    }
   ],
   "source": [
    "response = qa_chain.invoke(query)"
   ]
  },
  {
   "cell_type": "code",
   "execution_count": 42,
   "id": "71243307-a419-4df9-bd2a-52c77c053f45",
   "metadata": {},
   "outputs": [
    {
     "data": {
      "text/markdown": [
       "| Shirt Type | Summary |\n",
       "|------------|---------|\n",
       "| Men's Sun Protection Shirt | Lightweight, UPF 50+ rated, wrinkle-resistant, with front and back cape venting, two front bellows pockets, and made of 71% nylon, 29% polyester. |\n",
       "| Women's UV-Protective Button Down Shirt | Lightweight, UPF 50+ rated, moisture-wicking, wrinkle-free, with front and back cape venting, two front pockets, and made of 71% nylon, 29% polyester. |\n",
       "| Men's Long-Sleeve Quarter-Zip Cycling Shirt | Quick-drying, UPF 40+ rated, antimicrobial, with a quarter-zip front, back pouch pocket, and made of 100% Airtek polyester. |\n",
       "| Men's Long-Sleeve Sun-Protection Shirt | UPF 50+ rated, wrinkle-resistant, moisture-wicking, with front and back cape venting, and made of 71% nylon, 29% polyester. |\n",
       "| Men's Sun-Protection Shirt | UPF 50+ rated, lightweight, wrinkle-free, quick-drying, with front and back cape venting, two front bellows pockets, and made of 52% polyester, 48% nylon. |\n",
       "| Women's Sun-Protection Button-Up Shirt | UPF 50+ rated, moisture-wicking, wrinkle-resistant, with front and back cape venting, two front pockets, and made of 71% nylon, 29% polyester. |\n",
       "| Girls' Swim Shirt | UPF 50+ rated, snag- and fade-resistant, seawater-resistant, and made of 80% nylon, 20% Lycra Xtra Life. |\n",
       "| Sleeveless Button-Up Shirt | UPF 50+ rated, wrinkle-resistant, low-profile pockets, side shaping, front and back cape venting, and made of 71% nylon, 29% polyester. |\n",
       "| Technical Fishing Shirt | UPF 50+ rated, No Fly Zone technology, moisture-wicking, quick-drying, with four chest pockets, and made of 94% nylon, 6% spandex. |\n",
       "| Lightweight Linen Shirt | Lightweight, breathable, with a single patch pocket, and made of 100% linen. |\n",
       "| Sun-Blocking Baseball Hat | UPF 50+ rated, rear flap for extra coverage, elastic cord for adjustment, coolmax sweatband, and made of 71% nylon, 29% polyester. |"
      ],
      "text/plain": [
       "<IPython.core.display.Markdown object>"
      ]
     },
     "metadata": {},
     "output_type": "display_data"
    }
   ],
   "source": [
    "result_text = response['result']\n",
    "display(Markdown(result_text))"
   ]
  },
  {
   "cell_type": "markdown",
   "id": "44e72092-01d8-460d-86a7-87def154352a",
   "metadata": {},
   "source": [
    "#### How Stuff Chains Work\n",
    "\n",
    "##### Input Documents\n",
    "When you make a query through your retriever, it returns a set of relevant documents based on the embeddings. These documents might contain various pieces of information relevant to your query.\n",
    "\n",
    "##### Combining Documents\n",
    "The Stuff Chain takes these retrieved documents and concatenates their contents into a single input string. This allows the next step in the chain to have access to all the relevant information in one place, rather than processing each document individually.\n",
    "\n",
    "##### Prompting the Language Model\n",
    "Once the documents are combined, this unified text is then fed into a language model (like GPT-3 or GPT-4) as part of the input. The model can then generate a response based on the combined context. The prompt given to the model can be designed to summarize the information, answer specific questions, or format it in a particular way (like generating a table).\n",
    "\n",
    "##### Output Generation\n",
    "The output from the language model is the final response, which could be a summary, a detailed answer, or formatted content like tables or bullet points, depending on how you've designed the prompt."
   ]
  },
  {
   "cell_type": "markdown",
   "id": "f69f159d-8923-4112-be05-697d48220b61",
   "metadata": {},
   "source": [
    "#### Evaluate the quality of the QnA response"
   ]
  },
  {
   "cell_type": "code",
   "execution_count": null,
   "id": "e2c852a8-a063-4026-8433-a2276a8ce9d4",
   "metadata": {},
   "outputs": [],
   "source": []
  }
 ],
 "metadata": {
  "kernelspec": {
   "display_name": "langchain_env",
   "language": "python",
   "name": "langchain_env"
  },
  "language_info": {
   "codemirror_mode": {
    "name": "ipython",
    "version": 3
   },
   "file_extension": ".py",
   "mimetype": "text/x-python",
   "name": "python",
   "nbconvert_exporter": "python",
   "pygments_lexer": "ipython3",
   "version": "3.12.7"
  }
 },
 "nbformat": 4,
 "nbformat_minor": 5
}
