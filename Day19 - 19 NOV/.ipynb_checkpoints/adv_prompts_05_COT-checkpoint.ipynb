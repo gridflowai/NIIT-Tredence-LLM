{
 "cells": [
  {
   "cell_type": "markdown",
   "id": "a5a6a2cd-2a16-420c-8a3d-5541cd681274",
   "metadata": {},
   "source": [
    "#### Chain of Thought (CoT) in RAG Applications\n",
    "- CoT can be leveraged in RAG applications to help the model break down complex queries into simpler sub-steps before generating a final output.\n",
    "- The model can first retrieve relevant information from external sources (like documents or databases) and then reason step-by-step based on that information.\n",
    "\n",
    "- Use Case: For a question-answering RAG application, you can structure the model to perform step-by-step reasoning by asking the model to reason through multiple steps after retrieving relevant information."
   ]
  },
  {
   "cell_type": "code",
   "execution_count": 3,
   "id": "603fd5d6-82c7-4f12-927e-010d09dafbaa",
   "metadata": {},
   "outputs": [],
   "source": [
    "import openai\n"
   ]
  },
  {
   "cell_type": "code",
   "execution_count": 9,
   "id": "41eec1d3-1dc0-46ef-a2e5-3519b4bbf87a",
   "metadata": {},
   "outputs": [],
   "source": [
    "client = openai.OpenAI(\n",
    "    # defaults to os.environ.get(\"OPENAI_API_KEY\")\n",
    "    # api_key = api_key\n",
    ")"
   ]
  },
  {
   "cell_type": "code",
   "execution_count": 31,
   "id": "5598558f-d14b-488d-a1b5-caa2e23c104c",
   "metadata": {},
   "outputs": [],
   "source": [
    "# Chain of Thought Example: Reasoning through steps\n",
    "def chain_of_thought(query, context):\n",
    "\n",
    "# Constructing the chat messages\n",
    "    messages = [\n",
    "        {\"role\": \"system\", \"content\": \"You are a helpful assistant in the field of weather forecasting.\"},\n",
    "        {\"role\": \"user\", \"content\": f\"Let us break down the reasoning for the following question step by step:\\n\\n{query}\\n\\nRelevant context:\\n{context}\\n\\nFirst, summarize the key concepts involved, then explore the different theories before giving a final conclusion.\"}\n",
    "    ]\n",
    "    \n",
    "    response = client.chat.completions.create(\n",
    "        messages = messages,\n",
    "        model    = \"gpt-4o-mini\",\n",
    "    )\n",
    "    \n",
    "    return response.choices[0].message.content\n"
   ]
  },
  {
   "cell_type": "code",
   "execution_count": 32,
   "id": "f2910c48-d3e0-4376-be67-3413ecdd7546",
   "metadata": {},
   "outputs": [],
   "source": [
    "# data (weather related facts)\n",
    "context = \"\"\"\n",
    "The temperature today is 28°C, which is considered warm.\n",
    "The forecast predicts a slight increase in temperature tomorrow, reaching 30°C.\n",
    "It has been raining for two days straight, which might bring cooler weather.\n",
    "The humidity level is also high, which can make the temperature feel warmer.\n",
    "\"\"\"\n",
    "\n",
    "query = \"How will the weather change tomorrow?\""
   ]
  },
  {
   "cell_type": "code",
   "execution_count": 33,
   "id": "9ce48e42-3f63-43a8-b84a-4facd119fa81",
   "metadata": {},
   "outputs": [
    {
     "name": "stdout",
     "output_type": "stream",
     "text": [
      "### Key Concepts\n",
      "\n",
      "1. **Current Temperature**: Today’s temperature is 28°C, indicating a warm day.\n",
      "2. **Forecasted Temperature Change**: Tomorrow's temperature is predicted to increase to 30°C.\n",
      "3. **Recent Weather Conditions**: It has been raining for the past two days, which can affect temperature.\n",
      "4. **Humidity Levels**: High humidity can cause the air to feel warmer than the actual temperature.\n",
      "\n",
      "### Exploring Different Theories\n",
      "\n",
      "1. **Temperature Change**:\n",
      "   - **Theory of Increase**: The forecast predicts a slight increase in temperature. Generally, warm air can lead to higher daily temperatures, suggesting that it might feel warmer tomorrow despite recent rain.\n",
      "   - **Effect of Rain**: Rain typically cools the atmosphere temporarily. However, after two days of rain, accumulated warmth from the sun could contribute to a rise in temperature.\n",
      "\n",
      "2. **Humidity Impact**:\n",
      "   - **Perception of Temperature**: High humidity can make the temperature feel warmer than it is, often leading to discomfort. With humidity being high, even with a slight temperature increase, people may feel hotter.\n",
      "   - **Potential Cooling Effect**: Rain can temporarily increase humidity but also may cool down the immediate surroundings due to evaporative cooling effects. However, if the sun comes out, humidity could remain high, further enhancing the warmth perception.\n",
      "\n",
      "3. **Ground Conditions**:\n",
      "   - After two days of rain, the ground may be saturated, which could affect local microclimates. The additional moisture may initially keep temperatures down, but as the day progresses and if the sun shines, it could counteract that cooling.\n",
      "\n",
      "4. **Forcing Mechanisms**:\n",
      "   - **Atmospheric Pressure Systems**: The presence of high or low pressure may influence upcoming weather patterns. High pressure (typically brings clearer skies and warmth) could dominate tomorrow, leading to the forecasted rise in temperatures. \n",
      "\n",
      "### Conclusion\n",
      "\n",
      "Based on the analysis:\n",
      "\n",
      "- The weather will likely see a **slight increase in temperature to 30°C**.\n",
      "- **Humidity will make it feel warmer** than the actual temperature.\n",
      "- While the **recent rains might cool the area temporarily**, the forecast indicates a warming trend, especially if sunlight makes an appearance.\n",
      "- Overall, expect **a warm day tomorrow**, with high humidity potentially leading to a **muggy sensation** despite the rain from previous days. \n",
      "\n",
      "Thus, while the increase in temperature suggests a warmer day, the high humidity and possible residual effects from recent rainfall should be considered when assessing comfort levels.\n"
     ]
    }
   ],
   "source": [
    "# Run Chain of Thought reasoning\n",
    "result = chain_of_thought(query, context)\n",
    "print(result)"
   ]
  },
  {
   "cell_type": "markdown",
   "id": "8436201f-99ad-4886-89ae-97f57e73f3b9",
   "metadata": {},
   "source": [
    "Example # 02"
   ]
  },
  {
   "cell_type": "code",
   "execution_count": 35,
   "id": "1e40e3fd-a9b9-43c9-bad2-f7af1f530744",
   "metadata": {},
   "outputs": [],
   "source": [
    "# Chain of Thought Example: Reasoning through steps\n",
    "def chain_of_thought(query, context):\n",
    "\n",
    "# Constructing the chat messages\n",
    "    messages = [\n",
    "        {\"role\": \"system\", \"content\": \"You are a helpful assistant in the field of medicine.\"},\n",
    "        {\"role\": \"user\", \"content\": f\"Let's break down the reasoning for the following question step by step:\\n\\n{query}\\n\\nRelevant context:\\n{context}\\n\\nFirst, summarize the possible causes, then explore diagnostic tests or other relevant factors before giving a final conclusion.\"}\n",
    "    ]\n",
    "    \n",
    "    response = client.chat.completions.create(\n",
    "        messages = messages,\n",
    "        model    = \"gpt-4o-mini\",\n",
    "    )\n",
    "    \n",
    "    return response.choices[0].message.content\n"
   ]
  },
  {
   "cell_type": "code",
   "execution_count": 36,
   "id": "2188d070-0ccf-4467-ba8a-7b2b97723110",
   "metadata": {},
   "outputs": [],
   "source": [
    "# Example Data (Patient's symptoms)\n",
    "context = \"\"\"\n",
    "The patient has been experiencing a persistent dry cough for the past three weeks.\n",
    "Other symptoms include mild fever, shortness of breath, and occasional chest tightness.\n",
    "There is a history of seasonal allergies but no known history of asthma or chronic lung disease.\n",
    "The patient is a non-smoker and has not been exposed to any known irritants.\n",
    "\"\"\"\n",
    "\n",
    "query = \"What could be causing a patient's persistent cough?\""
   ]
  },
  {
   "cell_type": "code",
   "execution_count": 37,
   "id": "e3c8a98c-129a-45eb-aa54-46a0140b4d05",
   "metadata": {},
   "outputs": [
    {
     "name": "stdout",
     "output_type": "stream",
     "text": [
      "To assess the potential causes of the patient's persistent cough, we will consider the symptoms presented and relevant history. Here’s a breakdown of the reasoning:\n",
      "\n",
      "### Step 1: Summarizing Possible Causes\n",
      "\n",
      "1. **Upper Respiratory Infection**: Since the patient has a mild fever and a dry cough lasting for three weeks, a post-viral cough following a respiratory infection (like a cold) could be a possibility.\n",
      "\n",
      "2. **Allergic Rhinitis due to Seasonal Allergies**: Given the patient’s history with seasonal allergies, allergic rhinitis may lead to post-nasal drip, resulting in a dry cough.\n",
      "\n",
      "3. **Acute Bronchitis**: This can present with a persistent cough, shortness of breath, and may have a viral origin, particularly following an upper respiratory infection.\n",
      "\n",
      "4. **Asthma**: Although there is no known history of asthma, the symptoms of shortness of breath and chest tightness could suggest exercise-induced or allergen-induced asthma.\n",
      "\n",
      "5. **Pneumonia or Lung Infection**: The combination of a dry cough with a mild fever and shortness of breath could indicate a mild pneumonia that may not present with classic symptoms.\n",
      "\n",
      "6. **Gastroesophageal Reflux Disease (GERD)**: Coughing can be a symptom of GERD, especially if acid reflux reaches the esophagus and throat.\n",
      "\n",
      "7. **Interstitial Lung Disease or Other Chronic Diseases**: While less likely given the patient's age and non-smoking status, it cannot be entirely excluded without further evaluation.\n",
      "\n",
      "8. **Medication-Induced Cough**: If the patient is taking any medications (especially ACE inhibitors for hypertension), this could lead to a cough.\n",
      "\n",
      "### Step 2: Exploring Diagnostic Tests or Relevant Factors\n",
      "\n",
      "To narrow down these possibilities, the following diagnostic tests and evaluations could be useful:\n",
      "\n",
      "1. **Chest X-Ray**: To rule out pneumonia, lung masses, or other structural lung diseases.\n",
      "\n",
      "2. **Pulmonary Function Tests (PFTs)**: To evaluate for obstructive or restrictive patterns that might indicate asthma or other chronic lung disease.\n",
      "\n",
      "3. **Allergy Testing**: Since the patient has a history of allergies, testing for specific allergens could help identify triggers that might contribute to the cough.\n",
      "\n",
      "4. **Sputum Culture**: If the cough produces any sputum, this would help to identify possible infections.\n",
      "\n",
      "5. **Bronchodilator Response Test**: May help to evaluate for asthma even if there’s no prior history.\n",
      "\n",
      "6. **24-hour pH Monitoring or Esophageal Manometry**: If GERD is suspected, these tests could clarify its role in the cough.\n",
      "\n",
      "7. **Blood Tests**: To check for infections or inflammatory markers.\n",
      "\n",
      "### Step 3: Conclusion\n",
      "\n",
      "Given the context and symptoms, the most likely causes for the patient's persistent cough could include an upper respiratory infection with post-viral cough or allergic rhinitis due to seasonal allergies. The mild fever, shortness of breath, and chest tightness are concerning for potential bronchitis or underlying asthma.\n",
      "\n",
      "Next steps would involve obtaining a chest X-ray to rule out pneumonia and to consider pulmonary function tests to evaluate breathing function. Additionally, allergy testing may help assess the impact of seasonal allergens. This combination of tests will provide a more comprehensive understanding of the underlying cause of the persistent cough.\n"
     ]
    }
   ],
   "source": [
    "# Run the Chain of Thought reasoning\n",
    "result = chain_of_thought(query, context)\n",
    "print(result)"
   ]
  },
  {
   "cell_type": "markdown",
   "id": "ce4bfd1c-d88d-4c94-bef7-2cadaaa71989",
   "metadata": {},
   "source": [
    "#### Example 03\n",
    "\n",
    "- Query:\n",
    "What could be causing a patient’s sudden weight loss, fatigue, and frequent urination?"
   ]
  },
  {
   "cell_type": "code",
   "execution_count": 38,
   "id": "a77a12dd-8d38-45d0-b819-742074a021db",
   "metadata": {},
   "outputs": [],
   "source": [
    "# Chain of Thought Example: Reasoning through steps\n",
    "def chain_of_thought(query, context):\n",
    "\n",
    "# Constructing the chat messages\n",
    "    messages = [\n",
    "        {\"role\": \"system\", \"content\": \"You are a helpful assistant in the field of medicine.\"},\n",
    "        {\"role\": \"user\", \"content\": f\"Let's break down the reasoning for the following question step by step:\\n\\n{query}\\n\\nRelevant context:\\n{context}\\n\\nFirst, summarize the possible causes, then explore diagnostic tests or other relevant factors before giving a final conclusion.\"}\n",
    "    ]\n",
    "    \n",
    "    response = client.chat.completions.create(\n",
    "        messages = messages,\n",
    "        model    = \"gpt-4o-mini\",\n",
    "    )\n",
    "    \n",
    "    return response.choices[0].message.content"
   ]
  },
  {
   "cell_type": "code",
   "execution_count": 39,
   "id": "c749c8e5-e9a1-4fa2-9471-61f409b9af6b",
   "metadata": {},
   "outputs": [
    {
     "name": "stdout",
     "output_type": "stream",
     "text": [
      "### Summary of Possible Causes\n",
      "\n",
      "Based on the symptoms described—sudden weight loss, fatigue, and frequent urination—the following causes could be considered:\n",
      "\n",
      "1. **Diabetes Mellitus (Type 1 or Type 2)**: Although the patient has no known history of diabetes, the symptoms align closely with hyperglycemia, where the body cannot utilize glucose properly, leading to weight loss, fatigue, and polyuria (frequent urination).\n",
      "\n",
      "2. **Hyperthyroidism**: An overactive thyroid can cause excessive metabolism leading to weight loss, fatigue, and increased urination.\n",
      "\n",
      "3. **Chronic Kidney Disease (CKD)**: Reduced kidney function can result in changes in urination patterns and may lead to unintentional weight loss and fatigue.\n",
      "\n",
      "4. **Malignancy**: Certain cancers can lead to weight loss, fatigue, and other systemic symptoms without obvious local manifestations initially.\n",
      "\n",
      "5. **Infections**: Chronic infections, such as tuberculosis or viral infections, could cause substantial weight loss and fatigue.\n",
      "\n",
      "6. **Adrenal Insufficiency (Addison's Disease)**: This can lead to fatigue and weight loss, although usually accompanied by other specific symptoms.\n",
      "\n",
      "7. **Psychological Factors**: Conditions such as depression or anxiety can manifest through physical symptoms including weight loss and fatigue, although frequent urination would be less typical.\n",
      "\n",
      "### Diagnostic Tests and Relevant Factors\n",
      "\n",
      "To clarify the cause of the symptoms, the following diagnostic tests and evaluations might be performed:\n",
      "\n",
      "1. **Blood Glucose Testing**: A fasting blood glucose level or an A1C test can help rule out diabetes.\n",
      "\n",
      "2. **Thyroid Function Tests**: Assessing TSH, Free T4, and Free T3 can determine thyroid function status.\n",
      "\n",
      "3. **Complete Blood Count (CBC)**: To evaluate for anemia or signs of infection.\n",
      "\n",
      "4. **Comprehensive Metabolic Panel (CMP)**: To check kidney function, electrolyte balance, and liver function.\n",
      "\n",
      "5. **Urinalysis**: To evaluate for glucose, ketones, signs of infection, or abnormal kidney function.\n",
      "\n",
      "6. **Imaging Studies**: If malignancy is suspected, imaging like a CT scan may be ordered.\n",
      "\n",
      "7. **Hormonal Studies**: If adrenal insufficiency is considered, measuring ACTH and cortisol levels can provide insights.\n",
      "\n",
      "8. **Clinical History Review**: Assessing changes in diet, activity level, stressors, or substance use (like caffeine or diuretics).\n",
      "\n",
      "### Conclusion\n",
      "\n",
      "Given the presented symptoms of sudden weight loss, fatigue, and increased urination, it is essential to consider both metabolic disorders, such as diabetes and thyroid issues, as well as systemic conditions like malignancy or chronic infections. Immediate blood tests, particularly for glucose, thyroid levels, and a comprehensive metabolic panel, alongside a urinalysis, would be the initial recommended approach to pinpoint the underlying condition. Following these investigations would help guide any further evaluations or interventions necessary for effective management.\n"
     ]
    }
   ],
   "source": [
    "# Example Data (Patient's symptoms)\n",
    "context = \"\"\"\n",
    "The patient has been experiencing unexplained weight loss of 10 pounds over the last month.\n",
    "They report feeling fatigued, with reduced energy levels throughout the day.\n",
    "The patient has also noticed frequent urination, especially at night.\n",
    "They have no known history of diabetes, and their family history is not significant for any major diseases.\n",
    "\"\"\"\n",
    "\n",
    "query = \"What could be causing a patient's sudden weight loss, fatigue, and frequent urination?\"\n",
    "\n",
    "# Run the Chain of Thought reasoning\n",
    "result = chain_of_thought(query, context)\n",
    "print(result)"
   ]
  },
  {
   "cell_type": "markdown",
   "id": "e29e2cdc-1f1d-47a9-ac9f-908c2a2389aa",
   "metadata": {},
   "source": [
    "#### To ensure the LLM is considering all possible causes in a Chain of Thought reasoning process:"
   ]
  },
  {
   "cell_type": "markdown",
   "id": "946038c8-f5cd-495c-8b68-1fa3821de995",
   "metadata": {},
   "source": [
    "#### 1. Define Expected Causes and Reasoning Pathways\n",
    "- Pre-define a set of known causes or hypotheses for the query at hand (e.g., for a medical diagnosis, there are standard differential diagnoses). This helps set a baseline of what should be considered in the model's response.\n",
    "- Create a comprehensive list of all potential causes based on domain knowledge, research papers, textbooks, or expert opinions. This list will serve as a reference to compare the LLM's response.\n",
    "\n",
    "**Example**: If you are asking a question about **chronic cough**, your expected causes might include:\n",
    "- **Infections** (e.g., viral, bacterial, tuberculosis)\n",
    "- **Asthma**\n",
    "- **Gastroesophageal reflux disease (GERD)**\n",
    "- **Post-nasal drip**\n",
    "- **Chronic obstructive pulmonary disease (COPD)**\n",
    "- **Lung cancer**\n",
    "\n",
    "#### 2. Comprehensive CoT Prompting\n",
    "Ensure the prompt explicitly asks the model to list all potential causes, systematically reason through them, and eliminate or support each cause based on the symptoms or context provided.\n",
    "\n",
    "```python\n",
    "\"Given the following symptoms: chronic cough, low-grade fever, and fatigue, please list all potential causes of these symptoms. For each cause, explain why it could or could not be the most likely reason. Then, provide a ranking of these causes from most likely to least likely.\"\n",
    "\n"
   ]
  },
  {
   "cell_type": "markdown",
   "id": "ed9ccf35-2ca0-4d13-9c0a-ab042c3db6d4",
   "metadata": {},
   "source": [
    "\n",
    "#### 3. Manual Evaluation: Compare Responses to Known Causes\n",
    "- **Verify the model’s response** by comparing the causes it lists with your pre-defined set of potential reasons. This comparison allows you to check if the model has missed any critical causes.\n",
    "- **Check the reasoning quality**: After listing the causes, review the model’s explanation for each cause. Does it explain the reasoning process in a clear and logical way? Is there a chain of reasoning that supports the choice of each cause, or does the model seem to jump to conclusions?\n",
    "\n",
    "**Manual Evaluation Criteria**:\n",
    "- **Completeness**: Did the model consider the major categories of causes? For instance, did it include **infectious, chronic, environmental, and lifestyle factors** for a medical diagnosis?\n",
    "- **Relevance**: Are the causes listed logically related to the symptoms or context provided?\n",
    "- **Elimination of causes**: Did the model eliminate unlikely causes based on the reasoning (e.g., ruling out a certain cause due to lack of supporting symptoms or medical history)?\n",
    "\n",
    "#### 4. Use of Follow-up Questions\n",
    "After receiving the initial response, you can use **follow-up questions** to probe deeper into the reasoning process and ensure all possibilities were considered:\n",
    "\n",
    "**Follow-up Examples**:\n",
    "- \"What about less common causes like **X** or **Y**? Could they also explain the symptoms?\"\n",
    "- \"Are there any other **environmental** or **lifestyle factors** that could contribute to these symptoms?\"\n",
    "- \"Have you considered rare conditions or conditions that mimic these symptoms?\"\n",
    "\n",
    "If the model fails to consider or address these follow-up queries adequately, it might indicate that it hasn't covered all possible causes.\n",
    "\n",
    "#### 5. Check for Diversity in Reasoning\n",
    "Evaluate whether the model is offering a **diverse range of reasons** or merely focusing on a few common causes. For example, a model that only focuses on common viral infections without considering autoimmune conditions, environmental triggers, or rare diseases might indicate incomplete reasoning.\n",
    "\n",
    "You can check for diversity by introducing **alternative hypotheses** in your prompt:\n"
   ]
  },
  {
   "cell_type": "markdown",
   "id": "7180ed9e-763d-4fc0-8342-cfe5745b494e",
   "metadata": {},
   "source": [
    "\n",
    "#### 6. Use Multiple LLMs or Expert Validation\n",
    "- **Cross-validation with multiple models**: If you're unsure whether the LLM has considered all possible causes, you can run the query through multiple instances or different models (e.g., GPT-4 and GPT-3) to compare responses and check for consistency.\n",
    "- **Consult domain experts**: In specialized fields like medicine, you can compare the model's responses to expert opinions or existing literature. Expert feedback can confirm whether the model has covered all major causes or missed important ones.\n",
    "\n",
    "#### 7. Test the Model with Edge Cases\n",
    "Test the model's reasoning by **deliberately introducing edge cases** or less typical scenarios:\n",
    "- **Uncommon causes**: For example, if you have a medical symptom, ask whether there are any rare conditions that could explain it.\n",
    "- **Overlooked possibilities**: Check if the model recognizes environmental, lifestyle, or psychological factors that might influence the condition.\n",
    "  \n",
    "If the model fails to mention these less common causes, you might need to adjust the prompt to guide it toward considering a broader range of possibilities.\n",
    "\n",
    "#### 8. Scoring or Ranking Responses\n",
    "Some advanced evaluation can involve **scoring the model’s responses** based on completeness and accuracy. For example, you can use a scoring system that assigns points for:\n",
    "- **Number of causes mentioned** (e.g., did it cover a broad range or focus only on one or two obvious causes?).\n",
    "- **Correctness of reasoning** (e.g., did the model logically eliminate improbable causes based on symptoms?).\n",
    "- **Depth of explanation** (e.g., did the model provide a detailed rationale for each cause?).\n",
    "\n",
    "#### 9. Iterative Feedback\n",
    "Based on the evaluation, you can **refine your prompts** iteratively. If the model misses causes or reasoning steps, adjust your prompt to specifically encourage it to address those aspects. For example:\n"
   ]
  },
  {
   "cell_type": "markdown",
   "id": "dbb0bcc9-021a-46f7-9c6d-55a260bc8f72",
   "metadata": {},
   "source": [
    "#### So for context \n",
    "\n",
    "a patient's report is a huge dataset\n",
    "- medication history\n",
    "- hospitalization history\n",
    "- LAB reports history\n",
    "- Surgery history\n",
    "- all doctors reports\n",
    "- Discharge summary\n",
    "- MRIs or radiology\n",
    "...\n",
    "...\n",
    "\n",
    "list is endless... a complete EMR /EHR system\n",
    "\n",
    "How can we pass the entire context to the LLM?"
   ]
  },
  {
   "cell_type": "code",
   "execution_count": null,
   "id": "b46fc930-4ca3-4922-b0e6-cfb2fd12cc32",
   "metadata": {},
   "outputs": [],
   "source": []
  }
 ],
 "metadata": {
  "kernelspec": {
   "display_name": "langchain_env",
   "language": "python",
   "name": "langchain_env"
  },
  "language_info": {
   "codemirror_mode": {
    "name": "ipython",
    "version": 3
   },
   "file_extension": ".py",
   "mimetype": "text/x-python",
   "name": "python",
   "nbconvert_exporter": "python",
   "pygments_lexer": "ipython3",
   "version": "3.12.7"
  }
 },
 "nbformat": 4,
 "nbformat_minor": 5
}
