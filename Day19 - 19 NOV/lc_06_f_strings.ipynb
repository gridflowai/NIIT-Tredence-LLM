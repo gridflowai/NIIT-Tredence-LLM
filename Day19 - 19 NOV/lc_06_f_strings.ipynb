{
 "cells": [
  {
   "cell_type": "markdown",
   "id": "914d50cc-60e2-432d-a2e1-3ad854a84bd6",
   "metadata": {},
   "source": [
    "#### Basic Prompt with f-Strings"
   ]
  },
  {
   "cell_type": "code",
   "execution_count": 1,
   "id": "92d9c140-7904-4250-b36d-62dc7eaa7b30",
   "metadata": {},
   "outputs": [
    {
     "name": "stdout",
     "output_type": "stream",
     "text": [
      "Hello Alice, I see you're interested in machine learning. How can I assist you today?\n"
     ]
    }
   ],
   "source": [
    "user_name = \"Alice\"\n",
    "topic     = \"machine learning\"\n",
    "\n",
    "# Using an f-string to create a personalized prompt\n",
    "prompt = f\"Hello {user_name}, I see you're interested in {topic}. How can I assist you today?\"\n",
    "print(prompt)"
   ]
  },
  {
   "cell_type": "markdown",
   "id": "5d81f0f1-ea84-4b2b-b54a-ffce49d49926",
   "metadata": {},
   "source": [
    "#### Conditional Prompt Based on User Input"
   ]
  },
  {
   "cell_type": "code",
   "execution_count": 2,
   "id": "19f10daa-2b4d-4217-b6b8-f937f803279d",
   "metadata": {},
   "outputs": [],
   "source": [
    "user_name       = \"Alex\"\n",
    "topic           = \"machine learning\"\n",
    "expertise_level = \"intermediate\"  # Could be \"beginner\", \"intermediate\", or \"advanced\""
   ]
  },
  {
   "cell_type": "code",
   "execution_count": 3,
   "id": "fa593bae-2033-462b-be8b-6c23520eedb9",
   "metadata": {},
   "outputs": [
    {
     "name": "stdout",
     "output_type": "stream",
     "text": [
      "Hello Alex, as someone with a bit of experience in machine learning, let's dive into more advanced techniques and best practices.\n"
     ]
    }
   ],
   "source": [
    "# Construct a prompt with different messages based on expertise level\n",
    "if expertise_level == \"beginner\":\n",
    "    prompt = f\"Hi {user_name}, since you're new to {topic}, I recommend starting with the basics. Let's go over fundamental concepts first.\"\n",
    "elif expertise_level == \"intermediate\":\n",
    "    prompt = f\"Hello {user_name}, as someone with a bit of experience in {topic}, let's dive into more advanced techniques and best practices.\"\n",
    "elif expertise_level == \"advanced\":\n",
    "    prompt = f\"Hi {user_name}, given your advanced knowledge in {topic}, we can explore cutting-edge research and optimization strategies.\"\n",
    "\n",
    "print(prompt)"
   ]
  },
  {
   "cell_type": "code",
   "execution_count": null,
   "id": "baffa448-a1dd-4d83-a1e7-32cb72144738",
   "metadata": {},
   "outputs": [],
   "source": []
  }
 ],
 "metadata": {
  "kernelspec": {
   "display_name": "Python 3 (ipykernel)",
   "language": "python",
   "name": "python3"
  },
  "language_info": {
   "codemirror_mode": {
    "name": "ipython",
    "version": 3
   },
   "file_extension": ".py",
   "mimetype": "text/x-python",
   "name": "python",
   "nbconvert_exporter": "python",
   "pygments_lexer": "ipython3",
   "version": "3.12.7"
  }
 },
 "nbformat": 4,
 "nbformat_minor": 5
}
