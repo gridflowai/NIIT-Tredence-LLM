{
 "cells": [
  {
   "cell_type": "code",
   "execution_count": 13,
   "id": "0d1eaffe-e07c-48a4-8609-6c53e22d7f01",
   "metadata": {},
   "outputs": [],
   "source": [
    "from jinja2 import Template"
   ]
  },
  {
   "cell_type": "code",
   "execution_count": 14,
   "id": "249f92bf-2fbe-4e27-9ddb-64e2d6b0acea",
   "metadata": {},
   "outputs": [],
   "source": [
    "# Jinja2 template string\n",
    "template_string = \"\"\"\n",
    "You are a helpful assistant. Use the following information to answer the query:\n",
    "\n",
    "Context: {{ context }}\n",
    "\n",
    "User Query: {{ query }}\n",
    "\n",
    "Answer in a concise and informative manner.\n",
    "\"\"\""
   ]
  },
  {
   "cell_type": "code",
   "execution_count": 15,
   "id": "b6c0ee16-6dcf-4800-a906-900d7ec1015e",
   "metadata": {},
   "outputs": [],
   "source": [
    "# Create the Jinja2 template\n",
    "template = Template(template_string)"
   ]
  },
  {
   "cell_type": "markdown",
   "id": "28d9abd3-f1e9-4d76-b1f7-b5931509d481",
   "metadata": {},
   "source": [
    "Use the Jinja2-rendered output as a prompt in the LlamaIndex query.\n",
    "\n",
    "- `SimpleKeywordTableIndex` is a component from the LlamaIndex library, which provides a simple way to build a `keyword-based retrieval system` for querying unstructured or semi-structured data.\n",
    "\n",
    "- index works by `mapping keywords to documents or text chunks` and enables fast retrieval of relevant information by using keyword matching.\n",
    "\n",
    "- It’s a lightweight and efficient index type designed for basic information retrieval tasks."
   ]
  },
  {
   "cell_type": "code",
   "execution_count": 16,
   "id": "77f59ad9-8254-45be-afe2-9098f4e3ab39",
   "metadata": {},
   "outputs": [],
   "source": [
    "from llama_index.core import Document"
   ]
  },
  {
   "cell_type": "code",
   "execution_count": 17,
   "id": "569d5c37-8357-464d-94ad-daa931b34e3b",
   "metadata": {},
   "outputs": [],
   "source": [
    "# Create a list of documents\n",
    "documents = [\n",
    "    Document(text=\"LlamaIndex helps in building knowledge graphs with large language models.\"),\n",
    "    Document(text=\"Jinja2 is a powerful templating engine for Python.\"),\n",
    "    Document(text=\"Dynamic prompts improve interaction with language models.\")\n",
    "]"
   ]
  },
  {
   "cell_type": "code",
   "execution_count": 18,
   "id": "8b742660-31ff-41ec-b00b-332c641239e6",
   "metadata": {},
   "outputs": [],
   "source": [
    "from llama_index.core import SimpleKeywordTableIndex"
   ]
  },
  {
   "cell_type": "code",
   "execution_count": 19,
   "id": "9c21e6cc-e14f-49cc-a103-f716274b22d8",
   "metadata": {},
   "outputs": [],
   "source": [
    "# Create the index\n",
    "index = SimpleKeywordTableIndex.from_documents(documents)"
   ]
  },
  {
   "cell_type": "code",
   "execution_count": 20,
   "id": "7eff3ec3-ad0e-406b-8eef-6ae8716ddc13",
   "metadata": {},
   "outputs": [
    {
     "data": {
      "text/plain": [
       "{'building',\n",
       " 'dynamic',\n",
       " 'engine',\n",
       " 'graphs',\n",
       " 'helps',\n",
       " 'improve',\n",
       " 'interaction',\n",
       " 'jinja2',\n",
       " 'knowledge',\n",
       " 'language',\n",
       " 'large',\n",
       " 'llamaindex',\n",
       " 'models',\n",
       " 'powerful',\n",
       " 'prompts',\n",
       " 'python',\n",
       " 'templating'}"
      ]
     },
     "execution_count": 20,
     "metadata": {},
     "output_type": "execute_result"
    }
   ],
   "source": [
    "index.index_struct.keywords"
   ]
  },
  {
   "cell_type": "code",
   "execution_count": 21,
   "id": "f5b5dc8d-ccf4-4130-8343-f6fc8675068b",
   "metadata": {},
   "outputs": [
    {
     "data": {
      "text/plain": [
       "KeywordTable(index_id='7d8f8b17-6e18-46d1-afa3-2801ed3b2c42', summary=None, table={'graphs': {'9fde9d26-b31e-4aba-8be2-90aabc328660'}, 'language': {'9fde9d26-b31e-4aba-8be2-90aabc328660', 'da4f3d00-31c6-44a1-8293-45340d3af24c'}, 'llamaindex': {'9fde9d26-b31e-4aba-8be2-90aabc328660'}, 'helps': {'9fde9d26-b31e-4aba-8be2-90aabc328660'}, 'models': {'9fde9d26-b31e-4aba-8be2-90aabc328660', 'da4f3d00-31c6-44a1-8293-45340d3af24c'}, 'knowledge': {'9fde9d26-b31e-4aba-8be2-90aabc328660'}, 'building': {'9fde9d26-b31e-4aba-8be2-90aabc328660'}, 'large': {'9fde9d26-b31e-4aba-8be2-90aabc328660'}, 'engine': {'4d7922c6-75e8-4887-bd7e-dfdd25176d85'}, 'templating': {'4d7922c6-75e8-4887-bd7e-dfdd25176d85'}, 'jinja2': {'4d7922c6-75e8-4887-bd7e-dfdd25176d85'}, 'powerful': {'4d7922c6-75e8-4887-bd7e-dfdd25176d85'}, 'python': {'4d7922c6-75e8-4887-bd7e-dfdd25176d85'}, 'prompts': {'da4f3d00-31c6-44a1-8293-45340d3af24c'}, 'improve': {'da4f3d00-31c6-44a1-8293-45340d3af24c'}, 'interaction': {'da4f3d00-31c6-44a1-8293-45340d3af24c'}, 'dynamic': {'da4f3d00-31c6-44a1-8293-45340d3af24c'}})"
      ]
     },
     "execution_count": 21,
     "metadata": {},
     "output_type": "execute_result"
    }
   ],
   "source": [
    "index.index_struct"
   ]
  },
  {
   "cell_type": "code",
   "execution_count": 22,
   "id": "f9ed0104-7bbc-42f3-a439-30f558387364",
   "metadata": {},
   "outputs": [],
   "source": [
    "# Convert the index to a query engine\n",
    "query_engine = index.as_query_engine()"
   ]
  },
  {
   "cell_type": "code",
   "execution_count": 23,
   "id": "e3d0020d-6fe0-448d-9d13-c141faf64060",
   "metadata": {},
   "outputs": [],
   "source": [
    "# Query and template rendering\n",
    "query = \"What is Jinja2?\""
   ]
  },
  {
   "cell_type": "code",
   "execution_count": 24,
   "id": "4b8ebd50-5f33-4e48-86d2-92a1b9cca9be",
   "metadata": {},
   "outputs": [],
   "source": [
    "response = query_engine.query(query)"
   ]
  },
  {
   "cell_type": "code",
   "execution_count": 25,
   "id": "56379041-74b6-4d0e-a505-094fb188413f",
   "metadata": {},
   "outputs": [
    {
     "name": "stdout",
     "output_type": "stream",
     "text": [
      "Jinja2 is a powerful templating engine for Python.\n"
     ]
    }
   ],
   "source": [
    "# Print the response\n",
    "print(response.response)"
   ]
  },
  {
   "cell_type": "code",
   "execution_count": 26,
   "id": "fd552f43-1d09-490e-9651-6bb241307e15",
   "metadata": {},
   "outputs": [],
   "source": [
    "# Render the template with context and query\n",
    "rendered_prompt = template.render(context=response.response, query=query)"
   ]
  },
  {
   "cell_type": "code",
   "execution_count": 27,
   "id": "c3e9da16-3b9a-425a-aa43-3f12ce99818c",
   "metadata": {},
   "outputs": [
    {
     "name": "stdout",
     "output_type": "stream",
     "text": [
      "Generated Prompt:\n",
      "\n",
      "You are a helpful assistant. Use the following information to answer the query:\n",
      "\n",
      "Context: Jinja2 is a powerful templating engine for Python.\n",
      "\n",
      "User Query: What is Jinja2?\n",
      "\n",
      "Answer in a concise and informative manner.\n"
     ]
    }
   ],
   "source": [
    "print(\"Generated Prompt:\")\n",
    "print(rendered_prompt)"
   ]
  },
  {
   "cell_type": "code",
   "execution_count": null,
   "id": "1c458dee-4ee3-42e8-a318-16dfc56e4896",
   "metadata": {},
   "outputs": [],
   "source": []
  }
 ],
 "metadata": {
  "kernelspec": {
   "display_name": "llama_index_env",
   "language": "python",
   "name": "llama_index_env"
  },
  "language_info": {
   "codemirror_mode": {
    "name": "ipython",
    "version": 3
   },
   "file_extension": ".py",
   "mimetype": "text/x-python",
   "name": "python",
   "nbconvert_exporter": "python",
   "pygments_lexer": "ipython3",
   "version": "3.12.7"
  }
 },
 "nbformat": 4,
 "nbformat_minor": 5
}
