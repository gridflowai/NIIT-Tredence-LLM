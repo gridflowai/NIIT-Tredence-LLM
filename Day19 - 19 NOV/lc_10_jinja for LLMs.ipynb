{
 "cells": [
  {
   "cell_type": "code",
   "execution_count": 1,
   "id": "15c572bb-0ae1-4b55-829e-38ec9541c3d8",
   "metadata": {},
   "outputs": [],
   "source": [
    "from jinja2 import Template"
   ]
  },
  {
   "cell_type": "code",
   "execution_count": 2,
   "id": "79380e8c-605d-4a5a-8f45-3cb1b146d16b",
   "metadata": {},
   "outputs": [],
   "source": [
    "# Define the Person class\n",
    "class Person:\n",
    "    def __init__(self, name, age, hobbies):\n",
    "        self.name    = name\n",
    "        self.age     = age\n",
    "        self.hobbies = hobbies  # List of hobbies\n",
    "    \n",
    "    def get_name(self):\n",
    "        return self.name\n",
    "    \n",
    "    def get_age(self):\n",
    "        return self.age\n",
    "    \n",
    "    def get_hobbies(self):\n",
    "        return self.hobbies"
   ]
  },
  {
   "cell_type": "code",
   "execution_count": 3,
   "id": "5cc2e278-f085-4bba-92a9-3dfea06a8c0e",
   "metadata": {},
   "outputs": [],
   "source": [
    "# Create an instance of the Person class\n",
    "person = Person('Peter', 34, ['reading', 'cycling', 'coding'])"
   ]
  },
  {
   "cell_type": "code",
   "execution_count": 4,
   "id": "7b29eae7-5896-4ce0-bcf1-a4e9bacfc9f6",
   "metadata": {},
   "outputs": [],
   "source": [
    "# Define a Jinja2 template\n",
    "template_str = \"\"\"\n",
    "\n",
    "Hello! My name is {{ person.get_name() }}.\n",
    "I am {{ person.get_age() }} years old.\n",
    "\n",
    "{% if person.get_hobbies() %}\n",
    "Here are some of my hobbies:\n",
    "<ul>\n",
    "  {% for hobby in person.get_hobbies() %}\n",
    "    <li>{{ hobby }}</li>\n",
    "  {% endfor %}\n",
    "</ul>\n",
    "{% else %}\n",
    "I don't have any hobbies to share.\n",
    "{% endif %}\n",
    "\"\"\""
   ]
  },
  {
   "cell_type": "code",
   "execution_count": 5,
   "id": "4f3fc01c-25da-424e-a8f2-0e03e51b4590",
   "metadata": {},
   "outputs": [],
   "source": [
    "# Create the Template object\n",
    "tm = Template(template_str)"
   ]
  },
  {
   "cell_type": "code",
   "execution_count": 6,
   "id": "d216af06-5b41-443d-8093-3177a3f1db38",
   "metadata": {},
   "outputs": [
    {
     "data": {
      "text/plain": [
       "'\\n\\nHello! My name is Peter.\\nI am 34 years old.\\n\\n\\nHere are some of my hobbies:\\n<ul>\\n  \\n    <li>reading</li>\\n  \\n    <li>cycling</li>\\n  \\n    <li>coding</li>\\n  \\n</ul>\\n'"
      ]
     },
     "execution_count": 6,
     "metadata": {},
     "output_type": "execute_result"
    }
   ],
   "source": [
    "# Render the template\n",
    "msg = tm.render(person=person)\n",
    "\n",
    "msg"
   ]
  },
  {
   "cell_type": "markdown",
   "id": "867caf66-ae70-43c9-94e7-0e454f3f6b97",
   "metadata": {},
   "source": [
    "#### Using dictionary objects"
   ]
  },
  {
   "cell_type": "code",
   "execution_count": 7,
   "id": "b098854f-e733-4698-9091-11e2d79ca2f4",
   "metadata": {},
   "outputs": [],
   "source": [
    "# Define the dictionary\n",
    "person = { 'name': 'Peter', 'age': 34 }"
   ]
  },
  {
   "cell_type": "code",
   "execution_count": 8,
   "id": "0cfabcd2-3673-403b-8fa5-a150efa488a8",
   "metadata": {},
   "outputs": [],
   "source": [
    "# Create a Jinja2 template\n",
    "tm = Template(\"My name is {{ per.name }} and I am {{ per.age }}\")"
   ]
  },
  {
   "cell_type": "code",
   "execution_count": 9,
   "id": "f98e2769-0a98-480f-b9c7-e9d9c73c375e",
   "metadata": {},
   "outputs": [
    {
     "name": "stdout",
     "output_type": "stream",
     "text": [
      "My name is Peter and I am 34\n"
     ]
    }
   ],
   "source": [
    "# Render the template\n",
    "msg = tm.render(per=person)\n",
    "\n",
    "# Print the rendered message\n",
    "print(msg)"
   ]
  },
  {
   "cell_type": "markdown",
   "id": "65ff8908-27bc-4cb0-840f-e57d398b1fe9",
   "metadata": {},
   "source": [
    "#### Jinja raw data\n",
    "We can use raw, endraw markers to escape Jinja delimiters.\n",
    "\n",
    "In this example, you're using the {% raw %} and {% endraw %} tags in Jinja2. These tags are used to prevent the template engine from rendering any variables or expressions inside them. Instead, the content within these tags is treated as plain text."
   ]
  },
  {
   "cell_type": "code",
   "execution_count": 10,
   "id": "1eb2b7b4-b031-42ce-aab3-c427f9fed471",
   "metadata": {},
   "outputs": [],
   "source": [
    "# Define a template with {% raw %} tags\n",
    "data = '''\n",
    "\n",
    "{% raw %}\n",
    "His name is {{ name }}\n",
    "{% endraw %}\n",
    "\n",
    "'''"
   ]
  },
  {
   "cell_type": "code",
   "execution_count": 11,
   "id": "dfbaf71f-6ea8-4254-9760-1f4d555c1032",
   "metadata": {},
   "outputs": [],
   "source": [
    "# Create the Jinja2 template\n",
    "tm = Template(data)"
   ]
  },
  {
   "cell_type": "code",
   "execution_count": 12,
   "id": "57c0efe0-75da-473a-8869-904c7b0dfedf",
   "metadata": {},
   "outputs": [],
   "source": [
    "# Render the template\n",
    "msg = tm.render(name='Peter')"
   ]
  },
  {
   "cell_type": "code",
   "execution_count": 13,
   "id": "0bad3733-30cd-43f9-8320-4680c2179a1c",
   "metadata": {},
   "outputs": [
    {
     "data": {
      "text/plain": [
       "'\\n\\n\\nHis name is {{ name }}\\n\\n'"
      ]
     },
     "execution_count": 13,
     "metadata": {},
     "output_type": "execute_result"
    }
   ],
   "source": [
    "msg"
   ]
  },
  {
   "cell_type": "markdown",
   "id": "889b1b7f-0802-4bc4-bffa-cb480cb81c79",
   "metadata": {},
   "source": [
    "#### Alternative Example: Mixed Raw and Rendered Content\n",
    "If you want some content to be dynamic and some to remain as raw text, you can combine raw blocks with normal template syntax:"
   ]
  },
  {
   "cell_type": "code",
   "execution_count": 14,
   "id": "f0a55151-cb16-4eec-ae8d-c8a599a8c7f4",
   "metadata": {},
   "outputs": [],
   "source": [
    "data = '''\n",
    "{% raw %}\n",
    "This is raw content: {{ name }}\n",
    "{% endraw %}\n",
    "\n",
    "This is dynamic content: {{ name }}\n",
    "'''"
   ]
  },
  {
   "cell_type": "code",
   "execution_count": 15,
   "id": "46c3e847-babc-403d-a5d6-41a7dee6ffb6",
   "metadata": {},
   "outputs": [
    {
     "name": "stdout",
     "output_type": "stream",
     "text": [
      "\n",
      "\n",
      "This is raw content: {{ name }}\n",
      "\n",
      "\n",
      "This is dynamic content: Peter\n"
     ]
    }
   ],
   "source": [
    "tm  = Template(data)\n",
    "msg = tm.render(name='Peter')\n",
    "print(msg)"
   ]
  },
  {
   "cell_type": "markdown",
   "id": "1c13e35f-bca6-4840-a5a2-37cfc8c3a32a",
   "metadata": {},
   "source": [
    "#### Conditional Expressions"
   ]
  },
  {
   "cell_type": "code",
   "execution_count": 16,
   "id": "05ab6b15-6e2d-4ea8-8ea4-ad7aba9d7be6",
   "metadata": {},
   "outputs": [
    {
     "name": "stdout",
     "output_type": "stream",
     "text": [
      "the guest is an Adult\n"
     ]
    }
   ],
   "source": [
    "template = Template(\"{{ 'the guest is an Adult' if age >= 18 else 'Minor' }}\")\n",
    "msg = template.render(age=20)\n",
    "print(msg)"
   ]
  },
  {
   "cell_type": "code",
   "execution_count": 17,
   "id": "226c5b86-14db-464b-a59d-9b45d2268d9b",
   "metadata": {},
   "outputs": [
    {
     "name": "stdout",
     "output_type": "stream",
     "text": [
      "\n",
      "\n",
      "   Medium Salary: 4500\n",
      "\n"
     ]
    }
   ],
   "source": [
    "template = Template(\"\"\"\n",
    "{% if salary >= 5000 %}\n",
    "   High Salary: {{ salary }}\n",
    "{% elif salary >= 3000 %}\n",
    "   Medium Salary: {{ salary }}\n",
    "{% else %}\n",
    "   Low Salary: {{ salary }}\n",
    "{% endif %}\n",
    "\"\"\")\n",
    "\n",
    "msg = template.render(salary=4500)\n",
    "print(msg)"
   ]
  },
  {
   "cell_type": "markdown",
   "id": "ffd9135e-7ad2-40e7-99d3-a29231881098",
   "metadata": {},
   "source": [
    "#### Dynamic Query Expansion Based on User Context"
   ]
  },
  {
   "cell_type": "code",
   "execution_count": 18,
   "id": "62809356-d22c-422f-a16d-692c7505f51d",
   "metadata": {},
   "outputs": [
    {
     "name": "stdout",
     "output_type": "stream",
     "text": [
      "\n",
      "\n",
      "\n",
      "\n",
      "Generate a detailed analysis on finance trends with examples:\n",
      "- Key factors influencing finance growth.\n",
      "- Recent innovations in finance.\n",
      "- Challenges faced by the finance sector.\n",
      "\n"
     ]
    }
   ],
   "source": [
    "# Define the Jinja2 template as a string\n",
    "template_str = \"\"\"\n",
    "{% set context = [\"finance\", \"technology\", \"healthcare\"] %}\n",
    "{% set user_context = \"finance\" %}\n",
    "{% if user_context in context %}\n",
    "Generate a detailed analysis on {{ user_context }} trends with examples:\n",
    "- Key factors influencing {{ user_context }} growth.\n",
    "- Recent innovations in {{ user_context }}.\n",
    "- Challenges faced by the {{ user_context }} sector.\n",
    "{% else %}\n",
    "Provide a general overview of major industry trends across various sectors.\n",
    "{% endif %}\n",
    "\"\"\"\n",
    "\n",
    "# Create a Jinja2 template\n",
    "template = Template(template_str)\n",
    "\n",
    "# Render the template\n",
    "rendered_output = template.render()\n",
    "\n",
    "# Print the rendered output\n",
    "print(rendered_output)\n"
   ]
  },
  {
   "cell_type": "code",
   "execution_count": null,
   "id": "288db024-e624-44b0-b9fa-021eb889b220",
   "metadata": {},
   "outputs": [],
   "source": []
  },
  {
   "cell_type": "code",
   "execution_count": null,
   "id": "33e0213c-ada3-418b-920e-85087dd05195",
   "metadata": {},
   "outputs": [],
   "source": []
  }
 ],
 "metadata": {
  "kernelspec": {
   "display_name": "Python 3 (ipykernel)",
   "language": "python",
   "name": "python3"
  },
  "language_info": {
   "codemirror_mode": {
    "name": "ipython",
    "version": 3
   },
   "file_extension": ".py",
   "mimetype": "text/x-python",
   "name": "python",
   "nbconvert_exporter": "python",
   "pygments_lexer": "ipython3",
   "version": "3.12.7"
  }
 },
 "nbformat": 4,
 "nbformat_minor": 5
}
