{
 "cells": [
  {
   "cell_type": "markdown",
   "id": "a51d519f-3c23-4e51-8045-407173489d5e",
   "metadata": {},
   "source": [
    "------------------------\n",
    "#### reading from JSON\n",
    "-------------------------"
   ]
  },
  {
   "cell_type": "code",
   "execution_count": 1,
   "id": "12bac8f7-32de-460c-92c9-acdf2d9e9eb0",
   "metadata": {},
   "outputs": [],
   "source": [
    "import os\n",
    "import openai\n",
    "from IPython.display import Markdown, display"
   ]
  },
  {
   "cell_type": "code",
   "execution_count": 2,
   "id": "66799ff3-1825-419c-bfc8-6b5e92d9c11c",
   "metadata": {},
   "outputs": [],
   "source": [
    "# some sample data\n",
    "json_value = {\n",
    "    \"blogPosts\": [\n",
    "        {\n",
    "            \"id\": 1,\n",
    "            \"title\": \"First blog post\",\n",
    "            \"content\": \"This is my first blog post\",\n",
    "        },\n",
    "        {\n",
    "            \"id\": 2,\n",
    "            \"title\": \"Second blog post\",\n",
    "            \"content\": \"This is my second blog post\",\n",
    "        },\n",
    "    ],\n",
    "    \"comments\": [\n",
    "        {\n",
    "            \"id\": 1,\n",
    "            \"content\": \"Nice post!\",\n",
    "            \"username\": \"jerry\",\n",
    "            \"blogPostId\": 1,\n",
    "        },\n",
    "        {\n",
    "            \"id\": 2,\n",
    "            \"content\": \"Interesting thoughts\",\n",
    "            \"username\": \"simon\",\n",
    "            \"blogPostId\": 2,\n",
    "        },\n",
    "        {\n",
    "            \"id\": 3,\n",
    "            \"content\": \"Loved reading this!\",\n",
    "            \"username\": \"simon\",\n",
    "            \"blogPostId\": 2,\n",
    "        },\n",
    "    ],\n",
    "}"
   ]
  },
  {
   "cell_type": "code",
   "execution_count": 3,
   "id": "ea686fb6-71c0-4f98-a4c7-a10c34dcbdfe",
   "metadata": {},
   "outputs": [],
   "source": [
    "# JSON Schema object that the above JSON value conforms to\n",
    "json_schema = {\n",
    "    \"$schema\": \"http://json-schema.org/draft-07/schema#\",\n",
    "    \"description\": \"Schema for a very simple blog post app\",\n",
    "    \"type\": \"object\",\n",
    "    \"properties\": {\n",
    "        \"blogPosts\": {\n",
    "            \"description\": \"List of blog posts\",\n",
    "            \"type\": \"array\",\n",
    "            \"items\": {\n",
    "                \"type\": \"object\",\n",
    "                \"properties\": {\n",
    "                    \"id\": {\n",
    "                        \"description\": \"Unique identifier for the blog post\",\n",
    "                        \"type\": \"integer\",\n",
    "                    },\n",
    "                    \"title\": {\n",
    "                        \"description\": \"Title of the blog post\",\n",
    "                        \"type\": \"string\",\n",
    "                    },\n",
    "                    \"content\": {\n",
    "                        \"description\": \"Content of the blog post\",\n",
    "                        \"type\": \"string\",\n",
    "                    },\n",
    "                },\n",
    "                \"required\": [\"id\", \"title\", \"content\"],\n",
    "            },\n",
    "        },\n",
    "        \"comments\": {\n",
    "            \"description\": \"List of comments on blog posts\",\n",
    "            \"type\": \"array\",\n",
    "            \"items\": {\n",
    "                \"type\": \"object\",\n",
    "                \"properties\": {\n",
    "                    \"id\": {\n",
    "                        \"description\": \"Unique identifier for the comment\",\n",
    "                        \"type\": \"integer\",\n",
    "                    },\n",
    "                    \"content\": {\n",
    "                        \"description\": \"Content of the comment\",\n",
    "                        \"type\": \"string\",\n",
    "                    },\n",
    "                    \"username\": {\n",
    "                        \"description\": (\n",
    "                            \"Username of the commenter (lowercased)\"\n",
    "                        ),\n",
    "                        \"type\": \"string\",\n",
    "                    },\n",
    "                    \"blogPostId\": {\n",
    "                        \"description\": (\n",
    "                            \"Identifier for the blog post to which the comment\"\n",
    "                            \" belongs\"\n",
    "                        ),\n",
    "                        \"type\": \"integer\",\n",
    "                    },\n",
    "                },\n",
    "                \"required\": [\"id\", \"content\", \"username\", \"blogPostId\"],\n",
    "            },\n",
    "        },\n",
    "    },\n",
    "    \"required\": [\"blogPosts\", \"comments\"],\n",
    "}"
   ]
  },
  {
   "cell_type": "code",
   "execution_count": 4,
   "id": "e596ebb3-1b78-4578-beb9-ba5b5e2d6386",
   "metadata": {},
   "outputs": [],
   "source": [
    "#pip install jsonpath-ng"
   ]
  },
  {
   "cell_type": "code",
   "execution_count": 5,
   "id": "efece7c8-c0c4-4305-94c7-896836db45f5",
   "metadata": {},
   "outputs": [],
   "source": [
    "#pip install jsonpath-ng.ext"
   ]
  },
  {
   "cell_type": "code",
   "execution_count": 6,
   "id": "ab627552-b8d2-4743-baea-bd791ab297e4",
   "metadata": {},
   "outputs": [],
   "source": [
    "from llama_index.llms.openai import OpenAI\n",
    "from llama_index.core.indices.struct_store import JSONQueryEngine"
   ]
  },
  {
   "cell_type": "code",
   "execution_count": 7,
   "id": "9705a9cc-ce7b-4abd-bd4d-4015c188e17f",
   "metadata": {},
   "outputs": [],
   "source": [
    "llm = OpenAI(model=\"gpt-4o-mini\")"
   ]
  },
  {
   "cell_type": "code",
   "execution_count": 8,
   "id": "cc893d95-baa0-4bc2-8603-c2f5ac619f61",
   "metadata": {},
   "outputs": [],
   "source": [
    "nl_query_engine = JSONQueryEngine(\n",
    "    json_value  = json_value,     # the actual JSON data (the object or dataset) you are querying\n",
    "    json_schema = json_schema,    # helps the engine understand the organization and types of data contained in json_value\n",
    "    llm         = llm,\n",
    "    synthesize_response = True    # default, format the response into a more natural, human-readable form\n",
    ")\n",
    "\n",
    "raw_query_engine = JSONQueryEngine(\n",
    "    json_value   = json_value,\n",
    "    json_schema  = json_schema,\n",
    "    llm          = llm,\n",
    "    synthesize_response=False,\n",
    ")"
   ]
  },
  {
   "cell_type": "code",
   "execution_count": 9,
   "id": "db3740c1-0791-4191-9656-1c7c80566bde",
   "metadata": {},
   "outputs": [],
   "source": [
    "nl_response = nl_query_engine.query(\n",
    "    \"What comments has Jerry been writing?\",\n",
    ")\n",
    "\n",
    "raw_response = raw_query_engine.query(\n",
    "    \"What comments has Jerry been writing?\",\n",
    ")"
   ]
  },
  {
   "cell_type": "code",
   "execution_count": 10,
   "id": "183de0a6-e42c-4428-9807-817807f2ff2b",
   "metadata": {},
   "outputs": [
    {
     "data": {
      "text/markdown": [
       "Natural language ResponseJerry has written the following comment: \"Nice post!\" on blog post with ID 1."
      ],
      "text/plain": [
       "<IPython.core.display.Markdown object>"
      ]
     },
     "metadata": {},
     "output_type": "display_data"
    },
    {
     "data": {
      "text/markdown": [
       "Raw JSON Response{\"username == 'jerry')]\": \"{'id': 1, 'content': 'Nice post!', 'username': 'jerry', 'blogPostId': 1}\"}"
      ],
      "text/plain": [
       "<IPython.core.display.Markdown object>"
      ]
     },
     "metadata": {},
     "output_type": "display_data"
    }
   ],
   "source": [
    "display(Markdown(f\"Natural language Response{nl_response}\"))\n",
    "display(Markdown(f\"Raw JSON Response{raw_response}\"))"
   ]
  },
  {
   "cell_type": "code",
   "execution_count": 11,
   "id": "44dfe7dc-b639-4c6d-a034-3f2480a701cc",
   "metadata": {},
   "outputs": [
    {
     "data": {
      "text/markdown": [
       "Natural language ResponseHere are the comments on blog post #1:\n",
       "\n",
       "- **Username:** jerry\n",
       "  - **Content:** Nice post!"
      ],
      "text/plain": [
       "<IPython.core.display.Markdown object>"
      ]
     },
     "metadata": {},
     "output_type": "display_data"
    }
   ],
   "source": [
    "nl_response = nl_query_engine.query(\n",
    "    \"List Comments on blog Post # 1\",\n",
    ")\n",
    "\n",
    "display(Markdown(f\"Natural language Response{nl_response}\"))"
   ]
  },
  {
   "cell_type": "code",
   "execution_count": null,
   "id": "90d372a4-e5c7-49d4-b445-4a2931c7ade7",
   "metadata": {},
   "outputs": [],
   "source": []
  }
 ],
 "metadata": {
  "kernelspec": {
   "display_name": "llama_index_env",
   "language": "python",
   "name": "llama_index_env"
  },
  "language_info": {
   "codemirror_mode": {
    "name": "ipython",
    "version": 3
   },
   "file_extension": ".py",
   "mimetype": "text/x-python",
   "name": "python",
   "nbconvert_exporter": "python",
   "pygments_lexer": "ipython3",
   "version": "3.12.7"
  }
 },
 "nbformat": 4,
 "nbformat_minor": 5
}
