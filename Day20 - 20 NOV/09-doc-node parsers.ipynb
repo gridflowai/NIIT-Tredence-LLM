{
 "cells": [
  {
   "cell_type": "markdown",
   "id": "b92d8912-36c4-4496-9927-a758fdd4250c",
   "metadata": {},
   "source": [
    "-------------------------------\n",
    "#### Understanding the simple text splitters\n",
    "------------------------------\n",
    "\n",
    "- **Text splitters** break down the document into **smaller pieces** at the raw text level.\n",
    "- They are useful when the content has a **flat structure** and does not come in a specific format."
   ]
  },
  {
   "cell_type": "markdown",
   "id": "5e2b4a9c-820e-4a4f-b965-f948d13409ad",
   "metadata": {},
   "source": [
    "#### SimpleFileNodeParser"
   ]
  },
  {
   "cell_type": "markdown",
   "id": "3c319b63-500f-4093-a77c-e9bce84c43b6",
   "metadata": {},
   "source": [
    "- **SimpleFileNodeParser** automatically selects the appropriate node parser based on file types.\n",
    "- It can handle and transform various file formats into nodes, simplifying the interaction with different types of content.\n",
    "- The file formats it can manage include:\n",
    "  - **PDFs**\n",
    "  - **DOCX** (Word documents)\n",
    "  - **CSVs** (Comma-Separated Values)\n",
    "  - **Plain text files**"
   ]
  },
  {
   "cell_type": "code",
   "execution_count": 1,
   "id": "68ec5e01-02bc-4ee6-9b70-c534bb4aaf7b",
   "metadata": {},
   "outputs": [],
   "source": [
    "from llama_index.readers.file import FlatReader"
   ]
  },
  {
   "cell_type": "code",
   "execution_count": 2,
   "id": "07592267-42f4-4613-863d-719d4dfa5027",
   "metadata": {},
   "outputs": [],
   "source": [
    "from pathlib import Path"
   ]
  },
  {
   "cell_type": "code",
   "execution_count": 3,
   "id": "543fa2b5-988b-426d-8880-5919b408cbb0",
   "metadata": {},
   "outputs": [],
   "source": [
    "reader = FlatReader()"
   ]
  },
  {
   "cell_type": "code",
   "execution_count": 4,
   "id": "8d77375d-232b-4c34-a270-2ac51f420f56",
   "metadata": {},
   "outputs": [],
   "source": [
    "document = reader.load_data(Path(\"files/sample_document1.txt\"))"
   ]
  },
  {
   "cell_type": "code",
   "execution_count": 5,
   "id": "fcaf4de0-83eb-41d8-b056-e6ef71780de0",
   "metadata": {},
   "outputs": [
    {
     "data": {
      "text/plain": [
       "[Document(id_='2e565669-1dee-4fc5-8cb8-f32fcc1c078b', embedding=None, metadata={'filename': 'sample_document1.txt', 'extension': '.txt'}, excluded_embed_metadata_keys=[], excluded_llm_metadata_keys=[], relationships={}, text=\"In ancient Rome, the city of Rome itself was the heart of the vast Roman Empire. It was known for its grand architecture, including iconic structures like the Colosseum and the Pantheon. The Romans were skilled engineers and builders, creating an extensive network of roads, aqueducts, and bridges that connected their far-reaching territories. The Roman Republic, with its Senate and elected officials, gave rise to the famous Roman legions, which conquered vast lands and brought them under Roman rule. The Roman civilization's influence on art, law, and governance can still be seen in modern societies today.\", mimetype='text/plain', start_char_idx=None, end_char_idx=None, text_template='{metadata_str}\\n\\n{content}', metadata_template='{key}: {value}', metadata_seperator='\\n')]"
      ]
     },
     "execution_count": 5,
     "metadata": {},
     "output_type": "execute_result"
    }
   ],
   "source": [
    "document"
   ]
  },
  {
   "cell_type": "code",
   "execution_count": 6,
   "id": "9f5ffc9a-f3f6-4900-bbe2-6d84d2fc6bef",
   "metadata": {},
   "outputs": [
    {
     "name": "stdout",
     "output_type": "stream",
     "text": [
      "Metadata: {'filename': 'sample_document1.txt', 'extension': '.txt'}\n",
      "Text: In ancient Rome, the city of Rome itself was the heart of the vast Roman Empire. It was known for its grand architecture, including iconic structures like the Colosseum and the Pantheon. The Romans were skilled engineers and builders, creating an extensive network of roads, aqueducts, and bridges that connected their far-reaching territories. The Roman Republic, with its Senate and elected officials, gave rise to the famous Roman legions, which conquered vast lands and brought them under Roman rule. The Roman civilization's influence on art, law, and governance can still be seen in modern societies today.\n"
     ]
    }
   ],
   "source": [
    "print(f\"Metadata: {document[0].metadata}\")\n",
    "print(f\"Text: {document[0].text}\")"
   ]
  },
  {
   "cell_type": "markdown",
   "id": "f8bf2fc5-7231-41b7-ba6f-e655b00a49e7",
   "metadata": {},
   "source": [
    "#### JSONNodeParser\n",
    "\n",
    "This parser is specialized in processing and querying structured data in JSON format. In a similar\n",
    "way to the Markdown parser, the JSON parser can be used like this:"
   ]
  },
  {
   "cell_type": "code",
   "execution_count": 7,
   "id": "0df1e680-fa7f-44be-9c2a-e11134c141f1",
   "metadata": {},
   "outputs": [],
   "source": [
    "from llama_index.core.node_parser import JSONNodeParser\n",
    "from llama_index.readers.file import FlatReader\n",
    "from pathlib import Path"
   ]
  },
  {
   "cell_type": "code",
   "execution_count": 8,
   "id": "0210b46d-feaa-4869-8d58-b7e746354c36",
   "metadata": {},
   "outputs": [],
   "source": [
    "reader = FlatReader()\n",
    "document = reader.load_data(Path(\"files/others/sample.json\"))"
   ]
  },
  {
   "cell_type": "code",
   "execution_count": 9,
   "id": "f12e236f-1daa-4cf5-9e21-bb8680302675",
   "metadata": {},
   "outputs": [],
   "source": [
    "json_parser = JSONNodeParser.from_defaults()\n",
    "nodes = json_parser.get_nodes_from_documents(document)"
   ]
  },
  {
   "cell_type": "code",
   "execution_count": 10,
   "id": "88fb79f5-f12b-440f-a67c-40fdf7202845",
   "metadata": {},
   "outputs": [
    {
     "name": "stdout",
     "output_type": "stream",
     "text": [
      "Metadata {'filename': 'sample.json', 'extension': '.json'} \n",
      "Text: quiz sport q1 question Which one is correct team name in NBA?\n",
      "quiz sport q1 options New York Bulls\n",
      "quiz sport q1 options Los Angeles Kings\n",
      "quiz sport q1 options Golden State Warriros\n",
      "quiz sport q1 options Huston Rocket\n",
      "quiz sport q1 answer Huston Rocket\n",
      "quiz maths q1 question 5 + 7 = ?\n",
      "quiz maths q1 options 10\n",
      "quiz maths q1 options 11\n",
      "quiz maths q1 options 12\n",
      "quiz maths q1 options 13\n",
      "quiz maths q1 answer 12\n",
      "quiz maths q2 question 12 - 8 = ?\n",
      "quiz maths q2 options 1\n",
      "quiz maths q2 options 2\n",
      "quiz maths q2 options 3\n",
      "quiz maths q2 options 4\n",
      "quiz maths q2 answer 4\n"
     ]
    }
   ],
   "source": [
    "for node in nodes:\n",
    "    print(f\"Metadata {node.metadata} \\nText: {node.text}\")"
   ]
  },
  {
   "cell_type": "code",
   "execution_count": null,
   "id": "2520d32c-c43b-4a99-919c-06a45accac79",
   "metadata": {},
   "outputs": [],
   "source": []
  }
 ],
 "metadata": {
  "kernelspec": {
   "display_name": "Python 3 (ipykernel)",
   "language": "python",
   "name": "python3"
  },
  "language_info": {
   "codemirror_mode": {
    "name": "ipython",
    "version": 3
   },
   "file_extension": ".py",
   "mimetype": "text/x-python",
   "name": "python",
   "nbconvert_exporter": "python",
   "pygments_lexer": "ipython3",
   "version": "3.12.7"
  }
 },
 "nbformat": 4,
 "nbformat_minor": 5
}
