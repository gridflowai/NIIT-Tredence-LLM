{
 "cells": [
  {
   "cell_type": "markdown",
   "id": "5082c45f-2d27-4549-810e-f0e8c807ff18",
   "metadata": {},
   "source": [
    "---------------------------\n",
    "#### The SummaryIndex\n",
    "----------------------------"
   ]
  },
  {
   "cell_type": "code",
   "execution_count": 5,
   "id": "1c9628b3-a115-4d64-b94e-8c1c22aad66b",
   "metadata": {},
   "outputs": [],
   "source": [
    "from llama_index.core import SummaryIndex"
   ]
  },
  {
   "cell_type": "code",
   "execution_count": 6,
   "id": "67384929-3a9f-436a-9fc9-c6966fe0798c",
   "metadata": {},
   "outputs": [],
   "source": [
    "from llama_index.core import SimpleDirectoryReader"
   ]
  },
  {
   "cell_type": "code",
   "execution_count": 7,
   "id": "100b7df9-b48e-480c-be0e-ef0fe1e89205",
   "metadata": {},
   "outputs": [],
   "source": [
    "documents = SimpleDirectoryReader(\"files\").load_data()"
   ]
  },
  {
   "cell_type": "code",
   "execution_count": 8,
   "id": "799563a5-a520-4247-805e-b8ebf25a9f90",
   "metadata": {},
   "outputs": [],
   "source": [
    "index = SummaryIndex.from_documents(documents)"
   ]
  },
  {
   "cell_type": "code",
   "execution_count": 9,
   "id": "bef19930-a260-4142-9e07-62e9083f1f47",
   "metadata": {},
   "outputs": [],
   "source": [
    "query_engine = index.as_query_engine()"
   ]
  },
  {
   "cell_type": "code",
   "execution_count": 10,
   "id": "9963863d-8cc0-4296-ba33-040af2e178de",
   "metadata": {},
   "outputs": [
    {
     "name": "stdout",
     "output_type": "stream",
     "text": [
      "Two documents have been loaded.\n"
     ]
    }
   ],
   "source": [
    "response = query_engine.query(\"How many documents have you loaded?\")\n",
    "print(response)"
   ]
  },
  {
   "cell_type": "markdown",
   "id": "3348353e-e0e8-46ee-99fb-b3b0e0978b89",
   "metadata": {},
   "source": [
    "#### Understanding the Inner Workings of the SummaryIndex\n",
    "\n",
    "The **SummaryIndex** functions by storing each document or section in a **list-like structure**, allowing for efficient iteration during queries.\n",
    "\n",
    "#### Key Mechanism:\n",
    "- **Node Storage**: Documents are broken down into nodes and stored in a simple, linear fashion (like a list).\n",
    "- **Query Execution**: During a query, the **SummaryIndex** iterates through its stored nodes to identify relevant sections.\n",
    "  - This process lacks the complexity of embedding-based searches (like in **VectorStoreIndex**), but for many simpler applications, it's still highly effective.\n",
    "\n",
    "#### Retrievers:\n",
    "The **SummaryIndex** can work with various retrievers, providing flexibility for different use cases:\n",
    "1. **SummaryIndexRetriever**: Basic node retrieval mechanism.\n",
    "2. **SummaryIndexEmbeddingRetriever**: Incorporates embeddings for more refined searches.\n",
    "3. **SummaryIndexLLMRetriever**: Leverages language models (LLMs) for query resolution.\n",
    "\n",
    "#### Create & Refine Approach:\n",
    "When a query is made, the **SummaryIndex** follows a **create and refine** method to formulate the response:\n",
    "\n",
    "1. **Initial Response**: \n",
    "   - The system generates a preliminary answer based on the first chunk of text.\n",
    "   \n",
    "2. **Refinement**:\n",
    "   - The initial answer is refined by incorporating additional text chunks as context.\n",
    "   - The process may involve:\n",
    "     - **Maintaining** the original answer.\n",
    "     - **Slightly modifying** the initial response to better suit the query.\n",
    "     - **Rephrasing** or significantly changing the initial response based on additional information.\n",
    "\n",
    "#### Benefits of this Approach:\n",
    "- **Efficient for linear queries**: The list-like structure allows for quick retrievals when more advanced vector-based searches are not necessary.\n",
    "- **Contextual Refinement**: Ensures that answers evolve as new information is brought in, leading to more accurate responses in some scenarios.\n",
    "\n",
    "#### Example Workflow:\n",
    "1. A query is submitted: **\"What is the data retention policy?\"**\n",
    "2. The **SummaryIndex** retrieves the first relevant node and formulates a rough answer.\n",
    "3. Additional nodes provide context (e.g., different sections of a document discussing retention policy specifics).\n",
    "4. The response is refined based on the new chunks, resulting in a more polished and informative output.\n",
    "\n",
    "This method balances simplicity with adaptability, making the **SummaryIndex** useful for applications where **complex embeddings** are **not necessary**.\n"
   ]
  },
  {
   "cell_type": "code",
   "execution_count": null,
   "id": "822a2358-b38e-43ef-8d5f-7b4f38e7d4bf",
   "metadata": {},
   "outputs": [],
   "source": []
  }
 ],
 "metadata": {
  "kernelspec": {
   "display_name": "llama_index_env",
   "language": "python",
   "name": "llama_index_env"
  },
  "language_info": {
   "codemirror_mode": {
    "name": "ipython",
    "version": 3
   },
   "file_extension": ".py",
   "mimetype": "text/x-python",
   "name": "python",
   "nbconvert_exporter": "python",
   "pygments_lexer": "ipython3",
   "version": "3.12.7"
  }
 },
 "nbformat": 4,
 "nbformat_minor": 5
}
