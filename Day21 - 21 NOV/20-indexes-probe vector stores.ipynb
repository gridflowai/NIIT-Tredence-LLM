{
 "cells": [
  {
   "cell_type": "markdown",
   "id": "1eb243ea-3fb5-4a7c-a977-049b26761936",
   "metadata": {},
   "source": [
    "-------------------------\n",
    "#### Demo: Document Summary Index on Wikipedia Articles\n",
    "\n",
    "This demo showcases the **Document Summary Index**, applied to Wikipedia articles about different cities.\n",
    "\n",
    "#### Key Features of Document Summary Index\n",
    "1. **Summary Extraction**:\n",
    "   - A summary is extracted from each document.\n",
    "   - The index stores the summary as well as all nodes corresponding to the document.\n",
    "\n",
    "2. **Retrieval Process**:\n",
    "   - Retrieval can be performed using:\n",
    "     - **LLM-based querying** (currently supported).\n",
    "     - **Embeddings-based querying** (planned as a TODO feature).\n",
    "   - The retrieval begins by selecting the relevant documents to the query based on their summaries.\n",
    "   - All nodes corresponding to the selected documents are then retrieved.\n",
    "\n",
    "#### Use Case\n",
    "This approach is ideal for cases where:\n",
    "- High-level document summaries can help narrow down the search space.\n",
    "- Specific nodes within the document need to be accessed after selecting relevant documents.\n",
    "\n",
    "#### Enhancements\n",
    "- Embedding-based retrieval will allow for more flexible and efficient querying using vector similarity.\n",
    "\n",
    "--------------------------"
   ]
  },
  {
   "cell_type": "code",
   "execution_count": 1,
   "id": "312e44d9-262b-4778-8898-e8e4cee04293",
   "metadata": {},
   "outputs": [],
   "source": [
    "from llama_index.core import VectorStoreIndex, SimpleDirectoryReader\n",
    "import openai\n",
    "\n",
    "from llama_index.core.node_parser import SentenceSplitter"
   ]
  },
  {
   "cell_type": "code",
   "execution_count": 2,
   "id": "22d042da-8d35-4a00-a0f9-a7fcec2933f1",
   "metadata": {},
   "outputs": [
    {
     "data": {
      "text/plain": [
       "5"
      ]
     },
     "execution_count": 2,
     "metadata": {},
     "output_type": "execute_result"
    }
   ],
   "source": [
    "documents    = SimpleDirectoryReader(\"./data/cities\").load_data()\n",
    "\n",
    "len(documents)"
   ]
  },
  {
   "cell_type": "code",
   "execution_count": 3,
   "id": "4a618eed-6b48-42c6-83e5-58f0e73a3048",
   "metadata": {},
   "outputs": [
    {
     "data": {
      "text/plain": [
       "llama_index.core.schema.Document"
      ]
     },
     "execution_count": 3,
     "metadata": {},
     "output_type": "execute_result"
    }
   ],
   "source": [
    "type(documents[0])"
   ]
  },
  {
   "cell_type": "code",
   "execution_count": 4,
   "id": "0ffd36fe-83de-40b1-a7a7-c7e0fa0a23a7",
   "metadata": {},
   "outputs": [
    {
     "data": {
      "text/plain": [
       "dict_keys(['id_', 'embedding', 'metadata', 'excluded_embed_metadata_keys', 'excluded_llm_metadata_keys', 'relationships', 'metadata_template', 'metadata_separator', 'text', 'mimetype', 'start_char_idx', 'end_char_idx', 'metadata_seperator', 'text_template'])"
      ]
     },
     "execution_count": 4,
     "metadata": {},
     "output_type": "execute_result"
    }
   ],
   "source": [
    "dict(documents[0]).keys()"
   ]
  },
  {
   "cell_type": "code",
   "execution_count": 5,
   "id": "d32fd282-a6e2-42fb-9bd2-f8518c370fad",
   "metadata": {},
   "outputs": [
    {
     "data": {
      "text/plain": [
       "(66607, 85828, 83621, 69201, 82752)"
      ]
     },
     "execution_count": 5,
     "metadata": {},
     "output_type": "execute_result"
    }
   ],
   "source": [
    "len(documents[0].text), len(documents[1].text), len(documents[2].text), len(documents[3].text), len(documents[4].text)"
   ]
  },
  {
   "cell_type": "code",
   "execution_count": 6,
   "id": "2d3bd500-aacc-4fcb-864a-abca04514b3a",
   "metadata": {},
   "outputs": [],
   "source": [
    "index        = VectorStoreIndex.from_documents(documents)"
   ]
  },
  {
   "cell_type": "code",
   "execution_count": 8,
   "id": "8a0934d1-4737-4fcf-9129-2e3c8834fc41",
   "metadata": {},
   "outputs": [
    {
     "data": {
      "text/plain": [
       "{'b47ece49-2c05-487d-98ce-ea2078d08780': RefDocInfo(node_ids=['af0eca2f-e133-4f6c-b6cf-02c9329a065e', '53be1e7e-fee0-480b-b990-b936c18ae385', '3e4cc218-2b4a-4b2d-bfb7-028990e90838', 'd4b37a4d-2648-495b-b2f6-4fe4a15eab94', 'accb4b65-6e38-4c0e-99cc-24aaf24e168f', '484b84b9-e2bd-4693-a471-a0be2956b2e1', 'd54653ee-f28a-4cfd-a8a3-804154b9e208', 'c439034f-adb3-437c-86f6-10bf32d77c9a', '6e00e117-eb63-40e6-8fe8-310aaf9b390d', '683023d3-4411-410f-b62f-735e646f3b2c', '03682304-8256-4475-9a7e-057615ab2ec4', 'a74eb861-6502-4870-8124-07e643371e6a', 'c32ab5c7-b510-4bd4-8f23-aa96692ea696', '1674b646-8461-42bf-b421-9c3f9c64d745', 'b60b84d3-9aae-449f-b555-13469cd9328c', '33c3818f-58c7-473b-ab09-e7a7c19cbb9e', '9ca8cefe-29de-4b4b-b797-0cbacc055366', '40f3b6d9-5255-450b-a532-e2c8689820ee', 'baaf4aaa-2b8b-4141-8a90-4012814153b4'], metadata={'file_path': 'D:\\\\gridflowai\\\\NIIT-Tredence-LLM\\\\Day21 - 21 NOV\\\\data\\\\cities\\\\Boston.txt', 'file_name': 'Boston.txt', 'file_type': 'text/plain', 'file_size': 66712, 'creation_date': '2024-11-21', 'last_modified_date': '2024-11-20'}),\n",
       " 'a9be3c96-b36d-4481-8fb5-24af647a3251': RefDocInfo(node_ids=['737a1456-b6d1-413e-afcc-a36a95c6394e', '7f4b871f-6f77-44d5-a756-760e7973d82f', '2e05d347-d06b-4b6e-9285-5ce0013525d4', '6995d97e-9cd3-4016-b6cd-400b27191bbf', '4957c7ed-1a72-406a-91dc-73597900a63a', '8eb331c4-d55d-4d7d-9748-3e122b4301b5', 'bdc16bf2-d1a6-4a1e-a0e7-81468ba8cad8', 'fbbef58d-c787-4875-8f3d-267f7fdc9e86', 'f9f6abdf-ec1e-4d7e-9b75-11d593403b30', '7db06724-f379-4041-a795-18d2c0da2695', 'b781bcb4-03cb-447a-8a2e-209bad24e27f', '6a016641-e398-4d7c-93f4-8d5702ab4c28', 'd5c91354-7b3a-4a98-a6eb-9f07d2a2f889', '8285d3c9-56a2-496d-a011-2d8e8d390a3e', 'a156404c-22a6-4df0-94ca-3744b0b37c2f', '5c1261d6-fd06-42b8-954d-c0a76b116f18', '8ba00dae-b029-42ce-ae9d-7ea32f8962cf', '5af60d39-7c64-48fd-8ded-faa205695f98', 'cf83f74c-7933-4bce-b84d-f84317475bc4', 'fffd61fd-e858-432f-af4f-8f1c8c610ba9', '43e60e20-eac0-4c36-b439-fbb5006c6574', 'fbcc601d-829f-400e-80e4-e9ae886b022f', 'a81767fe-6cbb-4166-a0b5-bed4997ffea5', 'cffd2c12-11e8-46af-a3ff-7ed49294b5e0'], metadata={'file_path': 'D:\\\\gridflowai\\\\NIIT-Tredence-LLM\\\\Day21 - 21 NOV\\\\data\\\\cities\\\\Chicago.txt', 'file_name': 'Chicago.txt', 'file_type': 'text/plain', 'file_size': 85928, 'creation_date': '2024-11-21', 'last_modified_date': '2024-11-20'}),\n",
       " '418197b3-6f3a-4ed8-8b88-18b6336d5e58': RefDocInfo(node_ids=['65cf3e77-5979-4681-90d6-8dba2ae71037', '1260030b-6158-4f92-8da8-e8767cd3486b', 'e40e82d6-ca2d-435b-95c0-18c520cd537e', '9001da0d-e3ac-4e37-8b76-940a2d5e5398', '519f08df-6c0b-46ba-a828-f668993783e0', '6cb63bea-fb45-47c4-a255-9d9ef5cb7af4', 'dfd0c1a2-0236-4659-b9ce-1ec08a4963a7', '572e2fbe-2aa4-46e9-b12b-289df4f2f62c', '554d3943-51ae-4dc7-a454-7c58f76ca67c', 'd1c46fca-1405-4efb-8305-d7f83a8e556d', 'b2b0ab7f-8850-4a06-a235-846621c89cc0', '243eb717-0aa1-4a13-8756-3e1b2f74ce7e', 'fffd5a37-472f-4491-943a-361a5ae21730', '873bec2d-081f-4228-8324-85d5a1c1c1ab', 'ec132ba4-dd5b-4597-9221-cfda9b6cff3f', '50ed7b78-5a86-4579-808e-3c4a44d5b3aa', 'cd71be55-31fb-4cc9-b0b2-ab2a5666bc99', '72f62372-8dfc-4309-8b74-646dad5e8e3b', 'e63562f6-19d7-48af-ae8d-06bbfc5b8362', '051dd812-22fc-4b61-aaa5-a58f5fbf015a', 'b96c26fe-00ba-4262-a098-bb1e7dc13da2', '6b41545d-8628-4a07-88a8-096f52880bbb', 'd29cc34a-8c3c-4208-83a4-404516efa44f', 'a67c7160-9b20-4853-b1ff-2643075e8149'], metadata={'file_path': 'D:\\\\gridflowai\\\\NIIT-Tredence-LLM\\\\Day21 - 21 NOV\\\\data\\\\cities\\\\Houston.txt', 'file_name': 'Houston.txt', 'file_type': 'text/plain', 'file_size': 83743, 'creation_date': '2024-11-21', 'last_modified_date': '2024-11-20'}),\n",
       " '4b600617-a4c8-4916-8b8c-5ef8ed5d7653': RefDocInfo(node_ids=['bc4601ba-76aa-4f65-aff4-a61dc87c0461', '4636590b-5bd8-43c3-a6da-32b0ec5c5bd2', 'cbe458db-a2fd-47dc-b641-f7b76286ef06', 'ed175ec3-47b8-4f3c-9b1c-cd878724e4c6', '3c56ae1e-b683-4532-a32d-8f61df177218', '57af5610-e15e-4780-9fac-77421e625181', '35dad12b-6eac-4220-afed-70778fe4e0b9', '753a6b4f-d7dc-46d2-a480-6835282c93ff', '553e34d8-30f9-4186-856d-f156a6d04cbe', 'e78dd6cc-66ab-4651-8859-722e65364616', '4af9a724-7c80-4e3f-9531-a0787d2353a1', 'e31c13f5-594d-49d9-b483-91bcc990403e', 'a458372d-161c-4f70-b3fb-4adc3be2db37', 'acb8294a-17dd-49f0-b735-72c70d2564e3', '8395cf71-7883-4b4b-b8cd-382333000826', '074c3261-1f4b-4a76-8d18-b6e297e2ffbc', '4b2f7600-a97b-4e47-8e57-8ccc16ea2f88', 'bb5ab5eb-dbe7-49de-b37f-1eaff86f0dba', '955ed456-a04e-47bf-ae1a-06e00880fbcd'], metadata={'file_path': 'D:\\\\gridflowai\\\\NIIT-Tredence-LLM\\\\Day21 - 21 NOV\\\\data\\\\cities\\\\Seattle.txt', 'file_name': 'Seattle.txt', 'file_type': 'text/plain', 'file_size': 69278, 'creation_date': '2024-11-21', 'last_modified_date': '2024-11-20'}),\n",
       " '7fd39e3f-f588-4be2-a3ad-1d7b0b2fa5a5': RefDocInfo(node_ids=['1bdb14d7-79cc-4a9d-9404-8f0260912b6e', '5f1981c5-1564-4694-8b76-cf7808dd5d08', '32305df4-91b0-4ce7-827e-0023baa4d3cd', '6ba6e1e8-b839-4ebd-9a68-d034d492046e', 'e4ca1661-f0a2-4313-b4df-22c993a73843', '792d0f6f-8e7d-4358-a55e-a73ab21266a3', 'd4186884-b5e1-40c6-9e12-1433c05d02d0', '17b0cc9b-8779-41f2-8232-e5779f53474b', '1722097c-12fd-4320-8250-6af8a65a091d', '90bee7a1-f81a-4452-aaf3-f32a4ac37b97', 'd83d1b46-96c3-4030-96e7-9b0b17b10eda', '112abe4a-d214-4d93-a39e-3cb468de39ed', 'f53083c2-d9a2-419b-88f6-18a858c88d30', '03f56cb4-4a9c-4868-87c7-b8d1f61a5f9e', 'c5688057-f7bd-4bf6-9df9-3b2e0ce79575', '81c0b5b4-6434-4231-9333-d2883f2454d4', '87a8ceb5-9e88-4148-9405-0b516016162d', '9297be46-6bc3-46cc-879b-81a6611e27a7', '997af2e9-1e2e-4621-88bc-b615792f4a39', 'bd5f2c9d-ac49-45cc-aef4-5ded70f27932', '0de2cef6-4ccf-4ce3-9a5b-6c7068439b01', '49da67a2-5a69-446b-8c3a-e7c2470c5fd4', '4656f9aa-20e7-4822-b051-0db9e85f84ce'], metadata={'file_path': 'D:\\\\gridflowai\\\\NIIT-Tredence-LLM\\\\Day21 - 21 NOV\\\\data\\\\cities\\\\Toronto.txt', 'file_name': 'Toronto.txt', 'file_type': 'text/plain', 'file_size': 82860, 'creation_date': '2024-11-21', 'last_modified_date': '2024-11-20'})}"
      ]
     },
     "execution_count": 8,
     "metadata": {},
     "output_type": "execute_result"
    }
   ],
   "source": [
    "index.docstore.get_all_ref_doc_info()"
   ]
  },
  {
   "cell_type": "code",
   "execution_count": 9,
   "id": "99ee1927-8f16-4211-8ef3-b31d98e9e226",
   "metadata": {},
   "outputs": [
    {
     "data": {
      "text/plain": [
       "dict_keys(['b47ece49-2c05-487d-98ce-ea2078d08780', 'a9be3c96-b36d-4481-8fb5-24af647a3251', '418197b3-6f3a-4ed8-8b88-18b6336d5e58', '4b600617-a4c8-4916-8b8c-5ef8ed5d7653', '7fd39e3f-f588-4be2-a3ad-1d7b0b2fa5a5'])"
      ]
     },
     "execution_count": 9,
     "metadata": {},
     "output_type": "execute_result"
    }
   ],
   "source": [
    "index.docstore.get_all_ref_doc_info().keys()  # 5 documents"
   ]
  },
  {
   "cell_type": "code",
   "execution_count": 10,
   "id": "e5597e28-9c16-4a7b-b897-9d0f9075258c",
   "metadata": {},
   "outputs": [
    {
     "data": {
      "text/plain": [
       "RefDocInfo(node_ids=['af0eca2f-e133-4f6c-b6cf-02c9329a065e', '53be1e7e-fee0-480b-b990-b936c18ae385', '3e4cc218-2b4a-4b2d-bfb7-028990e90838', 'd4b37a4d-2648-495b-b2f6-4fe4a15eab94', 'accb4b65-6e38-4c0e-99cc-24aaf24e168f', '484b84b9-e2bd-4693-a471-a0be2956b2e1', 'd54653ee-f28a-4cfd-a8a3-804154b9e208', 'c439034f-adb3-437c-86f6-10bf32d77c9a', '6e00e117-eb63-40e6-8fe8-310aaf9b390d', '683023d3-4411-410f-b62f-735e646f3b2c', '03682304-8256-4475-9a7e-057615ab2ec4', 'a74eb861-6502-4870-8124-07e643371e6a', 'c32ab5c7-b510-4bd4-8f23-aa96692ea696', '1674b646-8461-42bf-b421-9c3f9c64d745', 'b60b84d3-9aae-449f-b555-13469cd9328c', '33c3818f-58c7-473b-ab09-e7a7c19cbb9e', '9ca8cefe-29de-4b4b-b797-0cbacc055366', '40f3b6d9-5255-450b-a532-e2c8689820ee', 'baaf4aaa-2b8b-4141-8a90-4012814153b4'], metadata={'file_path': 'D:\\\\gridflowai\\\\NIIT-Tredence-LLM\\\\Day21 - 21 NOV\\\\data\\\\cities\\\\Boston.txt', 'file_name': 'Boston.txt', 'file_type': 'text/plain', 'file_size': 66712, 'creation_date': '2024-11-21', 'last_modified_date': '2024-11-20'})"
      ]
     },
     "execution_count": 10,
     "metadata": {},
     "output_type": "execute_result"
    }
   ],
   "source": [
    "index.docstore.get_all_ref_doc_info()['b47ece49-2c05-487d-98ce-ea2078d08780']    # a specific document"
   ]
  },
  {
   "cell_type": "code",
   "execution_count": 12,
   "id": "fad718ca-ff34-4aa0-8cc6-cad234803d22",
   "metadata": {},
   "outputs": [
    {
     "data": {
      "text/plain": [
       "{'node_ids': ['af0eca2f-e133-4f6c-b6cf-02c9329a065e',\n",
       "  '53be1e7e-fee0-480b-b990-b936c18ae385',\n",
       "  '3e4cc218-2b4a-4b2d-bfb7-028990e90838',\n",
       "  'd4b37a4d-2648-495b-b2f6-4fe4a15eab94',\n",
       "  'accb4b65-6e38-4c0e-99cc-24aaf24e168f',\n",
       "  '484b84b9-e2bd-4693-a471-a0be2956b2e1',\n",
       "  'd54653ee-f28a-4cfd-a8a3-804154b9e208',\n",
       "  'c439034f-adb3-437c-86f6-10bf32d77c9a',\n",
       "  '6e00e117-eb63-40e6-8fe8-310aaf9b390d',\n",
       "  '683023d3-4411-410f-b62f-735e646f3b2c',\n",
       "  '03682304-8256-4475-9a7e-057615ab2ec4',\n",
       "  'a74eb861-6502-4870-8124-07e643371e6a',\n",
       "  'c32ab5c7-b510-4bd4-8f23-aa96692ea696',\n",
       "  '1674b646-8461-42bf-b421-9c3f9c64d745',\n",
       "  'b60b84d3-9aae-449f-b555-13469cd9328c',\n",
       "  '33c3818f-58c7-473b-ab09-e7a7c19cbb9e',\n",
       "  '9ca8cefe-29de-4b4b-b797-0cbacc055366',\n",
       "  '40f3b6d9-5255-450b-a532-e2c8689820ee',\n",
       "  'baaf4aaa-2b8b-4141-8a90-4012814153b4'],\n",
       " 'metadata': {'file_path': 'D:\\\\gridflowai\\\\NIIT-Tredence-LLM\\\\Day21 - 21 NOV\\\\data\\\\cities\\\\Boston.txt',\n",
       "  'file_name': 'Boston.txt',\n",
       "  'file_type': 'text/plain',\n",
       "  'file_size': 66712,\n",
       "  'creation_date': '2024-11-21',\n",
       "  'last_modified_date': '2024-11-20'}}"
      ]
     },
     "execution_count": 12,
     "metadata": {},
     "output_type": "execute_result"
    }
   ],
   "source": [
    "index.docstore.get_all_ref_doc_info()['b47ece49-2c05-487d-98ce-ea2078d08780'].to_dict()"
   ]
  },
  {
   "cell_type": "code",
   "execution_count": 14,
   "id": "a8ea5a7f-e8b9-4ab0-afb1-8c2194b624e4",
   "metadata": {},
   "outputs": [
    {
     "data": {
      "text/plain": [
       "19"
      ]
     },
     "execution_count": 14,
     "metadata": {},
     "output_type": "execute_result"
    }
   ],
   "source": [
    "len(index.docstore.get_all_ref_doc_info()['b47ece49-2c05-487d-98ce-ea2078d08780'].to_dict()['node_ids'])"
   ]
  },
  {
   "cell_type": "code",
   "execution_count": 22,
   "id": "4bc5d0f0-abaa-4064-82c0-4ff8a361621c",
   "metadata": {},
   "outputs": [
    {
     "data": {
      "text/plain": [
       "4153"
      ]
     },
     "execution_count": 22,
     "metadata": {},
     "output_type": "execute_result"
    }
   ],
   "source": [
    "len(dict(index.docstore.get_node('9ca8cefe-29de-4b4b-b797-0cbacc055366'))['text'])"
   ]
  },
  {
   "cell_type": "code",
   "execution_count": 23,
   "id": "7b6cfe35-b465-40cd-9f12-b11b79675cbe",
   "metadata": {},
   "outputs": [],
   "source": [
    "query_engine = index.as_query_engine()"
   ]
  },
  {
   "cell_type": "code",
   "execution_count": 24,
   "id": "dcd25326-6071-47ea-a265-38a79990073a",
   "metadata": {},
   "outputs": [
    {
     "name": "stdout",
     "output_type": "stream",
     "text": [
      "The author of the text was involved in the foundation of Boston by Puritan colonists in 1630.\n",
      "\n",
      "The author of the text was involved in the foundation of Boston by Puritan colonists in 1630.\n",
      "\n",
      "The author of the text was involved in the foundation of Boston by Puritan colonists in 1630.\n",
      "\n",
      "The author of the text did not mention anything about their personal life or what they did growing up.\n",
      "\n",
      "The author founded Boston by inviting Puritan colonists to share the peninsula with them after the failing colony of Charlestown.\n",
      "\n"
     ]
    }
   ],
   "source": [
    "for i in range(5):\n",
    "    response = query_engine.query(\"What did the author do growing up?\")\n",
    "    print(response)\n",
    "    print()"
   ]
  },
  {
   "cell_type": "code",
   "execution_count": null,
   "id": "bca42511-8adb-4563-ba8e-d797359dec63",
   "metadata": {},
   "outputs": [],
   "source": []
  }
 ],
 "metadata": {
  "kernelspec": {
   "display_name": "llama_index_env",
   "language": "python",
   "name": "llama_index_env"
  },
  "language_info": {
   "codemirror_mode": {
    "name": "ipython",
    "version": 3
   },
   "file_extension": ".py",
   "mimetype": "text/x-python",
   "name": "python",
   "nbconvert_exporter": "python",
   "pygments_lexer": "ipython3",
   "version": "3.12.7"
  }
 },
 "nbformat": 4,
 "nbformat_minor": 5
}
