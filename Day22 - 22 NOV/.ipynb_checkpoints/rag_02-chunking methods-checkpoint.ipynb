{
 "cells": [
  {
   "cell_type": "markdown",
   "id": "ceeae24d-f87d-4632-a320-22b34bc264ee",
   "metadata": {},
   "source": [
    "---------------------\n",
    "#### Chunking methods\n",
    "--------------------\n"
   ]
  },
  {
   "cell_type": "markdown",
   "id": "4ee473fa-4fd8-4577-8692-49f1269a51d2",
   "metadata": {},
   "source": [
    "#### 1. By Pages\n",
    "- **Description**: Each page of the PDF is treated as a separate chunk.\n",
    "- **Advantages**:\n",
    "  - Simple and intuitive.\n",
    "  - Retains logical divisions (e.g., tables, figures, and headers).\n",
    "- **Disadvantages**:\n",
    "  - Pages with too much or too little text might lead to uneven chunks.\n",
    "- **Use Case**: Documents with well-structured layouts (e.g., reports, slide decks)."
   ]
  },
  {
   "cell_type": "code",
   "execution_count": null,
   "id": "623301c1-cc43-4a03-a76a-6e136e5bc780",
   "metadata": {},
   "outputs": [],
   "source": []
  },
  {
   "cell_type": "markdown",
   "id": "fab93bde-ad12-48f5-a7c6-129a4452c415",
   "metadata": {},
   "source": [
    "#### 2. By Paragraphs\n",
    "- **Description**: Use paragraph delimiters (e.g., `\\n\\n` or indentation) to split text.\n",
    "- **Advantages**:\n",
    "  - Ensures semantic coherence.\n",
    "  - Works well for prose-heavy documents like books or articles.\n",
    "- **Disadvantages**:\n",
    "  - Some PDFs may lack explicit paragraph markers, requiring preprocessing.\n",
    "- **Use Case**: Articles, white papers, legal documents."
   ]
  },
  {
   "cell_type": "code",
   "execution_count": null,
   "id": "579eef64-92fb-465a-bd39-59db62a1273c",
   "metadata": {},
   "outputs": [],
   "source": []
  },
  {
   "cell_type": "markdown",
   "id": "9f2c1d1f-3163-45ff-9426-2873cfda6e14",
   "metadata": {},
   "source": [
    "#### 3. By Headings or Sections\n",
    "- **Description**: Split text based on headings, subheadings, or section titles detected via styles or keywords.\n",
    "- **Advantages**:\n",
    "  - Logical organization of content.\n",
    "  - Preserves context for each section.\n",
    "- **Disadvantages**:\n",
    "  - Requires robust heading detection, which might be complex in poorly formatted PDFs.\n",
    "- **Use Case**: Technical manuals, research papers.\n"
   ]
  },
  {
   "cell_type": "code",
   "execution_count": null,
   "id": "816d7da9-11c2-4afa-b3c5-4e84c6537a75",
   "metadata": {},
   "outputs": [],
   "source": []
  },
  {
   "cell_type": "markdown",
   "id": "128c8763-a8d2-44c9-bc74-f8bd46cbc230",
   "metadata": {},
   "source": [
    "#### 4. Fixed Token Count\n",
    "- **Description**: Divide text into chunks of a fixed number of tokens (e.g., 512 tokens), considering model limits.\n",
    "- **Advantages**:\n",
    "  - Ensures chunks are optimized for LLM processing.\n",
    "- **Disadvantages**:\n",
    "  - May split sentences or paragraphs awkwardly, losing semantic coherence.\n",
    "- **Use Case**: Generic documents for embedding or retrieval."
   ]
  },
  {
   "cell_type": "code",
   "execution_count": null,
   "id": "df3f0e35-435d-4f17-b1ec-f01ee910e81b",
   "metadata": {},
   "outputs": [],
   "source": []
  },
  {
   "cell_type": "markdown",
   "id": "57da892d-32bb-4703-9726-a0ea43d0a4b7",
   "metadata": {},
   "source": [
    "#### 5. Fixed Character Count\n",
    "- **Description**: Split text into chunks of a fixed number of characters (e.g., 1000 characters).\n",
    "- **Advantages**:\n",
    "  - Simple to implement and suitable for token-agnostic systems.\n",
    "- **Disadvantages**:\n",
    "  - Splits may occur mid-sentence, losing meaning.\n",
    "- **Use Case**: Quick prototyping or when tokenization is unavailable."
   ]
  },
  {
   "cell_type": "code",
   "execution_count": null,
   "id": "c8da6805-6839-41d3-b65c-04346f25c519",
   "metadata": {},
   "outputs": [],
   "source": []
  },
  {
   "cell_type": "markdown",
   "id": "af006300-2cbb-438e-9712-ec77be4e82f7",
   "metadata": {},
   "source": [
    "#### 6. Semantic Chunking\n",
    "- **Description**: Use natural language processing (NLP) techniques to split text based on semantic boundaries (e.g., using BERT, spaCy, or sentence transformers).\n",
    "- **Advantages**:\n",
    "  - Retains meaning and context.\n",
    "- **Disadvantages**:\n",
    "  - Computationally expensive.\n",
    "- **Use Case**: When high accuracy and coherence are required."
   ]
  },
  {
   "cell_type": "code",
   "execution_count": null,
   "id": "3361ea32-8a44-434d-8645-ce4a255d1ba1",
   "metadata": {},
   "outputs": [],
   "source": []
  },
  {
   "cell_type": "markdown",
   "id": "911da498-ec85-4dfc-bf7c-5caad38e632f",
   "metadata": {},
   "source": [
    "#### 7. By Sentences\n",
    "- **Description**: Use sentence delimiters (e.g., `.` or `?`) to split text.\n",
    "- **Advantages**:\n",
    "  - Simple and effective for preserving coherence.\n",
    "- **Disadvantages**:\n",
    "  - Short sentences might create too many small chunks.\n",
    "- **Use Case**: Conversational or narrative documents."
   ]
  },
  {
   "cell_type": "code",
   "execution_count": null,
   "id": "ecf850b5-4669-444f-8b64-0b91aaac790b",
   "metadata": {},
   "outputs": [],
   "source": []
  },
  {
   "cell_type": "markdown",
   "id": "4bf0dccf-2f2b-4f04-816a-c44d3291f9f5",
   "metadata": {},
   "source": [
    "#### 8. By Tables or Figures\n",
    "- **Description**: Extract tables or figures separately as individual chunks.\n",
    "- **Advantages**:\n",
    "  - Maintains logical grouping for structured data.\n",
    "- **Disadvantages**:\n",
    "  - Requires robust parsing of PDF layouts.\n",
    "- **Use Case**: Financial reports, scientific papers."
   ]
  },
  {
   "cell_type": "code",
   "execution_count": null,
   "id": "5f72fb29-7137-43e0-bc54-95208b38e5f2",
   "metadata": {},
   "outputs": [],
   "source": []
  },
  {
   "cell_type": "markdown",
   "id": "31caf670-80df-421c-8dae-e2c75c1bc348",
   "metadata": {},
   "source": [
    "#### 9. Hybrid Chunking\n",
    "- **Description**: Combine multiple strategies, e.g., by pages first, then split long pages by headings or token limits.\n",
    "- **Advantages**:\n",
    "  - Flexible and customizable for complex documents.\n",
    "- **Disadvantages**:\n",
    "  - Requires careful implementation to avoid overlap or gaps.\n",
    "- **Use Case**: Mixed-content PDFs with text, tables, and images."
   ]
  },
  {
   "cell_type": "code",
   "execution_count": null,
   "id": "cbe6c31e-fe8b-45c6-8751-5fc8bf0d8a8e",
   "metadata": {},
   "outputs": [],
   "source": []
  },
  {
   "cell_type": "markdown",
   "id": "7c53180c-4613-4fb0-abbc-5af3aee73c76",
   "metadata": {},
   "source": [
    "#### 10. Overlapping Windows\n",
    "- **Description**: Create overlapping chunks of text (e.g., a sliding window approach with 20% overlap).\n",
    "- **Advantages**:\n",
    "  - Preserves context at chunk boundaries.\n",
    "- **Disadvantages**:\n",
    "  - Increases the number of chunks and computational cost.\n",
    "- **Use Case**: When context continuity is critical (e.g., narrative or dialog-heavy text).\n"
   ]
  },
  {
   "cell_type": "code",
   "execution_count": null,
   "id": "72df09aa-89b2-41f9-8b81-b6053800d937",
   "metadata": {},
   "outputs": [],
   "source": []
  },
  {
   "cell_type": "markdown",
   "id": "72d20c00-cd89-4810-aca3-e7e991b82f74",
   "metadata": {},
   "source": [
    "#### 11. By Semantic Similarity\n",
    "- **Description**: Group sentences or paragraphs with similar topics or themes using clustering algorithms (e.g., K-Means).\n",
    "- **Advantages**:\n",
    "  - Ensures semantically related text is grouped.\n",
    "- **Disadvantages**:\n",
    "  - Requires embedding generation and clustering, which can be resource-intensive.\n",
    "- **Use Case**: FAQs, knowledge bases."
   ]
  },
  {
   "cell_type": "code",
   "execution_count": null,
   "id": "a20f2380-6706-4958-a062-e890547a275a",
   "metadata": {},
   "outputs": [],
   "source": []
  },
  {
   "cell_type": "markdown",
   "id": "b6e53924-7ad0-4fc3-8746-23fa4d1c9e7d",
   "metadata": {},
   "source": [
    "#### 12. By Visual Layout\n",
    "- **Description**: Use the visual layout (e.g., columns, font size) to chunk content.\n",
    "- **Advantages**:\n",
    "  - Retains the document's intended structure.\n",
    "- **Disadvantages**:\n",
    "  - Requires advanced PDF parsing tools (e.g., PyMuPDF, PDFPlumber).\n",
    "- **Use Case**: Magazines, newsletters."
   ]
  },
  {
   "cell_type": "code",
   "execution_count": null,
   "id": "790f9656-d8a8-49cf-863b-71196201be7f",
   "metadata": {},
   "outputs": [],
   "source": []
  },
  {
   "cell_type": "markdown",
   "id": "0de8c7d4-8a94-4286-b7b2-936cfe806cce",
   "metadata": {},
   "source": [
    "#### 13. By Metadata Tags\n",
    "- **Description**: Use metadata tags in the PDF (e.g., XML tags in PDFs with structured content).\n",
    "- **Advantages**:\n",
    "  - Leverages inherent structure.\n",
    "- **Disadvantages**:\n",
    "  - Not all PDFs have useful metadata.\n",
    "- **Use Case**: Tagged PDFs or XML-based PDF exports."
   ]
  },
  {
   "cell_type": "markdown",
   "id": "db463614-557a-4cf8-ab28-6d57ded81106",
   "metadata": {},
   "source": []
  },
  {
   "cell_type": "markdown",
   "id": "7a652bbe-070e-495b-a9a6-7751b10b962f",
   "metadata": {},
   "source": [
    "#### 14. Hierarchical Chunking\n",
    "- **Description**: First split by sections, then further split by paragraphs or token limits.\n",
    "- **Advantages**:\n",
    "  - Multi-level structure preserves context and granularity.\n",
    "- **Disadvantages**:\n",
    "  - Implementation complexity.\n",
    "- **Use Case**: Books, technical documents."
   ]
  },
  {
   "cell_type": "markdown",
   "id": "eae74a68-6b7e-4da8-b10a-20324d498e67",
   "metadata": {},
   "source": [
    "#### Tool Support for PDF Chunking\n",
    "- **Libraries**:\n",
    "  - `PyPDF2`, `PyMuPDF`, `PDFPlumber` (for text extraction).\n",
    "  - `spaCy`, `NLTK` (for NLP-based chunking).\n",
    "  - `LangChain` (has built-in support for document chunking).\n",
    "- **Pre-trained Models**:\n",
    "  - Use BERT, Sentence-BERT, or GPT embeddings for semantic chunking."
   ]
  },
  {
   "cell_type": "code",
   "execution_count": null,
   "id": "0945c583-3d7e-4023-b85e-e318008db715",
   "metadata": {},
   "outputs": [],
   "source": []
  }
 ],
 "metadata": {
  "kernelspec": {
   "display_name": "Python 3 (ipykernel)",
   "language": "python",
   "name": "python3"
  },
  "language_info": {
   "codemirror_mode": {
    "name": "ipython",
    "version": 3
   },
   "file_extension": ".py",
   "mimetype": "text/x-python",
   "name": "python",
   "nbconvert_exporter": "python",
   "pygments_lexer": "ipython3",
   "version": "3.11.3"
  }
 },
 "nbformat": 4,
 "nbformat_minor": 5
}
