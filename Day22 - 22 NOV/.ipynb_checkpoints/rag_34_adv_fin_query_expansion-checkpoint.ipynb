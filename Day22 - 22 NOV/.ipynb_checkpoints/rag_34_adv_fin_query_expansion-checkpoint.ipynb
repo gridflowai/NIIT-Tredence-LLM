{
 "cells": [
  {
   "cell_type": "markdown",
   "id": "161aafd5-54ae-4d87-b7a3-d175264197a2",
   "metadata": {},
   "source": [
    "---------------------------\n",
    "#### Query Expansion\n",
    "----------------------\n",
    "\n",
    "**Query Expansion** refers to the process of improving a search query by adding additional terms to make it more comprehensive and improve the retrieval of relevant documents or information. This technique helps bridge the gap between the user's search terms and the language used in the target documents, ultimately enhancing search accuracy.\n",
    "\n",
    "1. **Synonym-based Expansion**:\n",
    "   Adding synonyms or related terms to the original query.\n",
    "   \n",
    "   ```text\n",
    "   Original Query: \"car\"\n",
    "   Expanded Query: \"car OR automobile OR vehicle\"\n",
    "\n",
    "2. **Context-based Expansion**: Expanding the query by adding terms related to the context of the search.\n",
    "   ```text\n",
    "   Original Query: \"cloud\"\n",
    "   Expanded Query: \"cloud computing OR cloud storage OR cloud infrastructure\"\n",
    "\n",
    "3. **Relevance Feedback**: After showing initial results, users can provide feedback on relevant documents, and the system expands the query accordingly.\n",
    "    ```text\n",
    "    Original Query: \"neural network\"\n",
    "    Expanded Query (after relevance feedback): \"neural network OR deep learning OR backpropagation\"\n",
    "\n",
    "4. **Pseudo-Relevance Feedback**: The system assumes that the top-ranked results are relevant and uses terms from them to expand the query automatically."
   ]
  },
  {
   "cell_type": "code",
   "execution_count": 8,
   "id": "ef407362-38e6-48a2-8ddf-80667df84330",
   "metadata": {
    "tags": []
   },
   "outputs": [],
   "source": [
    "import os, pickle\n",
    "import openai\n",
    "from openai import OpenAI"
   ]
  },
  {
   "cell_type": "code",
   "execution_count": 9,
   "id": "2c6f1b2f-962c-4061-983d-5eadb1ed1f15",
   "metadata": {
    "tags": []
   },
   "outputs": [],
   "source": [
    "from helper_utils import load_chroma, word_wrap, project_embeddings\n",
    "from chromadb.utils.embedding_functions import SentenceTransformerEmbeddingFunction"
   ]
  },
  {
   "cell_type": "code",
   "execution_count": 13,
   "id": "166691f8-bf38-43af-b2a2-8d1962d5583a",
   "metadata": {
    "tags": []
   },
   "outputs": [
    {
     "data": {
      "text/plain": [
       "349"
      ]
     },
     "execution_count": 13,
     "metadata": {},
     "output_type": "execute_result"
    }
   ],
   "source": [
    "# takes abt 3 mins\n",
    "embedding_function = SentenceTransformerEmbeddingFunction()\n",
    "\n",
    "chroma_collection = load_chroma(filename          = r'./data/microsoft_annual_report_2022.pdf', \n",
    "                                collection_name   = 'microsoft_annual_report_2022', \n",
    "                                embedding_function= embedding_function)\n",
    "chroma_collection.count()"
   ]
  },
  {
   "cell_type": "code",
   "execution_count": 10,
   "id": "f9d46182-1a87-47d9-8067-91b4d9508590",
   "metadata": {
    "tags": []
   },
   "outputs": [],
   "source": [
    "openai_client = OpenAI()"
   ]
  },
  {
   "cell_type": "markdown",
   "id": "c1ac8ff5-b2e3-4e63-90c0-8c26b0c8e342",
   "metadata": {
    "tags": []
   },
   "source": [
    "#### Expansion with generated answers\n",
    "\n",
    "https://arxiv.org/abs/2305.03653"
   ]
  },
  {
   "cell_type": "code",
   "execution_count": 11,
   "id": "b8d3ac1d-8ca2-41b9-ad45-11b3986112ee",
   "metadata": {
    "tags": []
   },
   "outputs": [],
   "source": [
    "import umap"
   ]
  },
  {
   "cell_type": "code",
   "execution_count": 14,
   "id": "cdda96ce-4c77-407b-aac6-8d02185a1341",
   "metadata": {
    "tags": []
   },
   "outputs": [
    {
     "name": "stderr",
     "output_type": "stream",
     "text": [
      "D:\\anaconda3\\Lib\\site-packages\\umap\\umap_.py:1952: UserWarning: n_jobs value 1 overridden to 1 by setting random_state. Use no seed for parallelism.\n",
      "  warn(\n"
     ]
    }
   ],
   "source": [
    "embeddings     = chroma_collection.get(include=['embeddings'])['embeddings']\n",
    "\n",
    "umap_transform = umap.UMAP(random_state=0, transform_seed=0).fit(embeddings)"
   ]
  },
  {
   "cell_type": "code",
   "execution_count": 15,
   "id": "f6dfbc4e-734b-4116-a22f-72affe912610",
   "metadata": {
    "tags": []
   },
   "outputs": [],
   "source": [
    "with open('projected_embeddings.pkl', 'rb') as f:\n",
    "    projected_dataset_embeddings = pickle.load(f)"
   ]
  },
  {
   "cell_type": "code",
   "execution_count": 17,
   "id": "15b7479e-8ab2-4bbc-a30d-dae09edd2e43",
   "metadata": {
    "tags": []
   },
   "outputs": [],
   "source": [
    "def augment_query_generated(query, model=\"gpt-3.5-turbo\"):\n",
    "    messages = [\n",
    "        {\n",
    "            \"role\": \"system\",\n",
    "            \"content\": \"You are a helpful expert financial research assistant. \\\n",
    "                        Provide an example answer to the given question, that \\\n",
    "                        might be found in a document like an annual report. \"\n",
    "        },\n",
    "        {\"role\": \"user\", \"content\": query}\n",
    "    ] \n",
    "\n",
    "    response = openai_client.chat.completions.create(\n",
    "        model   = model,\n",
    "        messages= messages,\n",
    "    )\n",
    "    content = response.choices[0].message.content\n",
    "    return content"
   ]
  },
  {
   "cell_type": "code",
   "execution_count": 18,
   "id": "9aefb296-b955-4a89-ad2f-a1da262dcf21",
   "metadata": {
    "tags": []
   },
   "outputs": [],
   "source": [
    "original_query = \"Was there significant turnover in the executive team?\""
   ]
  },
  {
   "cell_type": "code",
   "execution_count": 19,
   "id": "aefd8909-3c8d-449f-84a2-b289bd6ae83a",
   "metadata": {
    "tags": []
   },
   "outputs": [
    {
     "data": {
      "text/plain": [
       "\"During the fiscal year, there was no significant turnover in the executive team. The leadership remained stable, with key executives continuing to drive the company's strategic initiatives forward. This continuity provided consistency and allowed for a cohesive management approach throughout the organization.\""
      ]
     },
     "execution_count": 19,
     "metadata": {},
     "output_type": "execute_result"
    }
   ],
   "source": [
    "hypothetical_answer = augment_query_generated(original_query)\n",
    "hypothetical_answer"
   ]
  },
  {
   "cell_type": "code",
   "execution_count": 20,
   "id": "e07e6c8a-27df-4fa4-8a21-891dbd62386b",
   "metadata": {
    "tags": []
   },
   "outputs": [
    {
     "name": "stdout",
     "output_type": "stream",
     "text": [
      "Was there significant turnover in the executive team? During the fiscal\n",
      "year, there was no significant turnover in the executive team. The\n",
      "leadership remained stable, with key executives continuing to drive the\n",
      "company's strategic initiatives forward. This continuity provided\n",
      "consistency and allowed for a cohesive management approach throughout\n",
      "the organization.\n"
     ]
    }
   ],
   "source": [
    "joint_query = f\"{original_query} {hypothetical_answer}\"\n",
    "print(word_wrap(joint_query))"
   ]
  },
  {
   "cell_type": "code",
   "execution_count": 21,
   "id": "caef2c04-2948-46d3-8c18-2ad4b4281797",
   "metadata": {
    "tags": []
   },
   "outputs": [
    {
     "name": "stdout",
     "output_type": "stream",
     "text": [
      "88 report of independent registered public accounting firm to the\n",
      "stockholders and the board of directors of microsoft corporation\n",
      "opinion on internal control over financial reporting we have audited\n",
      "the internal control over financial reporting of microsoft corporation\n",
      "and subsidiaries ( the “ company ” ) as of june 30, 2022, based on\n",
      "criteria established in internal control — integrated framework ( 2013\n",
      ") issued by the committee of sponsoring organizations of the treadway\n",
      "commission ( coso ). in our opinion, the company maintained, in all\n",
      "material respects, effective internal control over financial reporting\n",
      "as of june 30, 2022, based on criteria establis hed in internal control\n",
      "— integrated framework ( 2013 ) issued by coso. we have also audited,\n",
      "in accordance with the standards of the public company accounting\n",
      "oversight board ( united states ) ( pcaob ), the consolidated financial\n",
      "statements as of and for the year ended june 30, 2022, of the company\n",
      "and\n",
      "\n",
      "to be their authentic selves and do their best work every day. we\n",
      "support multiple highly active employee resource groups for women,\n",
      "families, racial and ethnic minorities, military, people with\n",
      "disabilities, and employees who identify as lgbtqia +, where employees\n",
      "can go for support, networking, and community - building. as described\n",
      "in our 2021 proxy statement, annual performance and compensation\n",
      "reviews of our senior leadership team include an evaluation of their\n",
      "contributions to employee culture and diversity. to ensure\n",
      "accountability over time, we publicly disclose our progress on a\n",
      "multitude of workforce metrics including : • detailed breakdowns of\n",
      "gender, racial, and ethnic minority representation in our employee\n",
      "population, with data by job types, levels, and segments of our\n",
      "business. • our eeo - 1 report ( equal employment opportunity ). •\n",
      "disability representation. • pay equity ( see details below ).\n",
      "\n",
      "unresolved with the irs, evaluating management ’ s estimates relating\n",
      "to their determination of uncertain tax positions required extensive\n",
      "audit effort and a high degree of auditor judgment, including\n",
      "involvement of our tax specialists. how the critical audit matter was\n",
      "addressed in the audit our principal audit procedures to evaluate\n",
      "management ’ s estimates of uncertain tax positions related to\n",
      "unresolved transfer pricing issues included the following : • we\n",
      "evaluated the appropriateness and consistency of management ’ s methods\n",
      "and assumptions used in the identification, recognition, measurement,\n",
      "and disclosure of uncertain tax positions, which included testing the\n",
      "effectiveness of the related internal controls. • we read and evaluated\n",
      "management ’ s documentation, including relevant accounting policies\n",
      "and information obtained by management from outside tax specialists,\n",
      "that detailed the basis of the uncertain tax positions.\n",
      "\n",
      "52 notes to financial statements note 1 — accounting policies\n",
      "accounting principles our consolidated financial statements and\n",
      "accompanying notes are prepared in accordance with accounting\n",
      "principles generally accepted in the united states of america ( “ gaap\n",
      "” ). we have recast certain prior period amounts to conform to the\n",
      "current period presentation. the recast of these prior period amounts\n",
      "had no impact on our consolidated balance sheets, consolidated income\n",
      "statements, or consolidated cash flows statements. principles of\n",
      "consolidation the consolidated financial statements include the\n",
      "accounts of microsoft corporation and its subsidiaries. intercompany\n",
      "transactions and balances have been eliminated. estimates and\n",
      "assumptions preparing financial statements requires management to make\n",
      "estimates and assumptions that affect the reported amounts of assets,\n",
      "liabilities, revenue, and expenses. examples of estimates and\n",
      "assumptions include : for revenue\n",
      "\n",
      "30 management ’ s discussion and analysis of financial condition and\n",
      "results of operations the following management ’ s discussion and\n",
      "analysis of financial condition and results of operations ( “ md & a ”\n",
      ") is intended to help the reader understand the results of operations\n",
      "and financial condition of microsoft corporation. md & a is provided as\n",
      "a supplement to, and should be read in conjunction with, our\n",
      "consolidated financial statements and the accompanying notes to\n",
      "financial statements in our fiscal year 2022 form 10 - k. this section\n",
      "generally discusses the results of our operations for the year ended\n",
      "june 30, 2022 compared to the year ended june 30, 2021. for a\n",
      "discussion of the year ended june 30, 2021 compared to the year ended\n",
      "june 30, 2020, please refer to in our fiscal year 2022 form 10 - k, “\n",
      "management ’ s discussion and analysis of financial condition and\n",
      "results of operations ” in our annual report on form 10 - k for the\n",
      "year ended june 30, 2021. overview\n",
      "\n"
     ]
    }
   ],
   "source": [
    "results = chroma_collection.query(query_texts = joint_query, \n",
    "                                  n_results   = 5, \n",
    "                                  include     = ['documents', 'embeddings'])\n",
    "\n",
    "retrieved_documents = results['documents'][0]\n",
    "\n",
    "for doc in retrieved_documents:\n",
    "    print(word_wrap(doc))\n",
    "    print('')"
   ]
  },
  {
   "cell_type": "code",
   "execution_count": 22,
   "id": "25adcbec-77b1-4c9e-ad23-7ed1d93c8973",
   "metadata": {
    "tags": []
   },
   "outputs": [
    {
     "name": "stderr",
     "output_type": "stream",
     "text": [
      "100%|████████████████████████████████████████████████████████████████████████████████████| 1/1 [00:04<00:00,  4.03s/it]\n",
      "100%|███████████████████████████████████████████████████████████████████████████████████| 1/1 [00:00<00:00, 143.98it/s]\n",
      "100%|███████████████████████████████████████████████████████████████████████████████████| 5/5 [00:00<00:00, 226.63it/s]"
     ]
    },
    {
     "name": "stdout",
     "output_type": "stream",
     "text": [
      "CPU times: total: 2 s\n",
      "Wall time: 4.44 s\n"
     ]
    },
    {
     "name": "stderr",
     "output_type": "stream",
     "text": [
      "\n"
     ]
    }
   ],
   "source": [
    "%%time\n",
    "retrieved_embeddings      = results['embeddings'][0]\n",
    "\n",
    "original_query_embedding  = embedding_function([original_query])\n",
    "augmented_query_embedding = embedding_function([joint_query])\n",
    "\n",
    "projected_original_query_embedding  = project_embeddings(original_query_embedding,  umap_transform)\n",
    "projected_augmented_query_embedding = project_embeddings(augmented_query_embedding, umap_transform)\n",
    "\n",
    "projected_retrieved_embeddings      = project_embeddings(retrieved_embeddings, umap_transform)"
   ]
  },
  {
   "cell_type": "code",
   "execution_count": 23,
   "id": "5b092d0b-7691-42c0-ad41-aae37e9c8763",
   "metadata": {
    "tags": []
   },
   "outputs": [
    {
     "data": {
      "text/plain": [
       "(-3.985500180721283, 7.024163329601288, 5.957234501838684, 12.879533171653748)"
      ]
     },
     "execution_count": 23,
     "metadata": {},
     "output_type": "execute_result"
    },
    {
     "data": {
      "image/png": "[encoded data removed]",
      "text/plain": [
       "<Figure size 640x480 with 1 Axes>"
      ]
     },
     "metadata": {},
     "output_type": "display_data"
    }
   ],
   "source": [
    "import matplotlib.pyplot as plt\n",
    "\n",
    "# Plot the projected query and retrieved documents in the embedding space\n",
    "plt.figure()\n",
    "plt.scatter(projected_dataset_embeddings[:, 0],   projected_dataset_embeddings[:, 1],   s=10, color='gray')\n",
    "plt.scatter(projected_retrieved_embeddings[:, 0], projected_retrieved_embeddings[:, 1], s=100, facecolors='none', edgecolors='g')\n",
    "\n",
    "plt.scatter(projected_original_query_embedding[:, 0],  projected_original_query_embedding[:, 1],  s=150, marker='X', color='r')\n",
    "plt.scatter(projected_augmented_query_embedding[:, 0], projected_augmented_query_embedding[:, 1], s=150, marker='X', color='orange')\n",
    "\n",
    "plt.gca().set_aspect('equal', 'datalim')\n",
    "plt.title(f'{original_query}')\n",
    "plt.axis('off')"
   ]
  },
  {
   "cell_type": "markdown",
   "id": "f9da7fde-b3d6-4818-a765-93019eebe493",
   "metadata": {},
   "source": [
    "**Observation**\n",
    "- RED    - Original query\n",
    "- Orange - Augmented Query\n",
    "- cluster of documents around the augmented query (which is desirable)"
   ]
  },
  {
   "cell_type": "markdown",
   "id": "c39772b2-fa8f-4bab-a6fa-e1f3336aef89",
   "metadata": {},
   "source": [
    "#### Expansion with multiple queries"
   ]
  },
  {
   "cell_type": "code",
   "execution_count": 24,
   "id": "4484b069-1afb-4387-8d8b-3a1ce11ad3b1",
   "metadata": {
    "tags": []
   },
   "outputs": [],
   "source": [
    "def augment_multiple_query(query, model=\"gpt-3.5-turbo\"):\n",
    "    messages = [\n",
    "        {\n",
    "            \"role\": \"system\",\n",
    "            \"content\": \"You are a helpful expert financial research assistant. \\\n",
    "                        Your users are asking questions about an annual report. \"\\\n",
    "                        \"Suggest up to 5 additional related questions to help them \\\n",
    "                        find the information they need, for the provided question. \"\\\n",
    "                        \"Suggest only short questions without compound sentences. \\\n",
    "                        Suggest a variety of questions that cover different aspects of the topic.\"\\\n",
    "                        \"Make sure they are complete questions, and that they are related \\\n",
    "                        to the original question.\"\\\n",
    "                        \"Output one question per line. Do not number the questions.\"\n",
    "        },\n",
    "        {\"role\": \"user\", \"content\": query}\n",
    "    ]\n",
    "\n",
    "    response = openai_client.chat.completions.create(\n",
    "        model=model,\n",
    "        messages=messages,\n",
    "    )\n",
    "    content = response.choices[0].message.content\n",
    "    content = content.split(\"\\n\")\n",
    "    return content"
   ]
  },
  {
   "cell_type": "code",
   "execution_count": 25,
   "id": "f6aa4f1e-16ad-4e26-a321-440c16cdce69",
   "metadata": {
    "tags": []
   },
   "outputs": [],
   "source": [
    "original_query = \"What were the most important factors that contributed to increases in revenue?\""
   ]
  },
  {
   "cell_type": "code",
   "execution_count": 26,
   "id": "74a09b44-a086-41f2-8d04-7c826200e1e2",
   "metadata": {
    "tags": []
   },
   "outputs": [
    {
     "data": {
      "text/plain": [
       "[\"- How did the company's revenue compare to the previous year?\",\n",
       " '- Were there any significant changes in pricing strategies that impacted revenue?',\n",
       " '- Did the company enter new markets or launch new products/services that boosted revenue?',\n",
       " '- Were there any acquisitions or mergers that influenced revenue growth?',\n",
       " '- Did the company experience any changes in customer demand or behavior that affected revenue?']"
      ]
     },
     "execution_count": 26,
     "metadata": {},
     "output_type": "execute_result"
    }
   ],
   "source": [
    "augmented_queries = augment_multiple_query(original_query)\n",
    "augmented_queries"
   ]
  },
  {
   "cell_type": "code",
   "execution_count": 27,
   "id": "cb018f5e-d98f-41c8-bb2d-fe2ccb51f379",
   "metadata": {
    "tags": []
   },
   "outputs": [
    {
     "data": {
      "text/plain": [
       "['What were the most important factors that contributed to increases in revenue?',\n",
       " \"- How did the company's revenue compare to the previous year?\",\n",
       " '- Were there any significant changes in pricing strategies that impacted revenue?',\n",
       " '- Did the company enter new markets or launch new products/services that boosted revenue?',\n",
       " '- Were there any acquisitions or mergers that influenced revenue growth?',\n",
       " '- Did the company experience any changes in customer demand or behavior that affected revenue?']"
      ]
     },
     "execution_count": 27,
     "metadata": {},
     "output_type": "execute_result"
    }
   ],
   "source": [
    "queries = [original_query] + augmented_queries\n",
    "\n",
    "queries"
   ]
  },
  {
   "cell_type": "code",
   "execution_count": 28,
   "id": "6e8d7c44-f739-4f6d-bf47-b724a40b259c",
   "metadata": {
    "tags": []
   },
   "outputs": [],
   "source": [
    "results = chroma_collection.query(query_texts= queries, \n",
    "                                  n_results  = 5, \n",
    "                                  include    = ['documents', 'embeddings'])"
   ]
  },
  {
   "cell_type": "code",
   "execution_count": 29,
   "id": "467ac553-9d84-42c8-9ed4-b0b2f95e0ad5",
   "metadata": {
    "tags": []
   },
   "outputs": [],
   "source": [
    "retrieved_documents = results['documents']"
   ]
  },
  {
   "cell_type": "code",
   "execution_count": 30,
   "id": "0bfb7491-74d8-4875-a0b2-36443b6241e4",
   "metadata": {
    "tags": []
   },
   "outputs": [],
   "source": [
    "# Deduplicate the retrieved documents\n",
    "unique_documents = set()\n",
    "for documents in retrieved_documents:\n",
    "    for document in documents:\n",
    "        unique_documents.add(document)"
   ]
  },
  {
   "cell_type": "code",
   "execution_count": 31,
   "id": "cd638b4f-54ff-4833-b177-9f93569a41c0",
   "metadata": {
    "tags": []
   },
   "outputs": [
    {
     "name": "stderr",
     "output_type": "stream",
     "text": [
      "100%|████████████████████████████████████████████████████████████████████████████████████| 1/1 [00:00<00:00, 90.27it/s]\n",
      "100%|████████████████████████████████████████████████████████████████████████████████████| 5/5 [00:00<00:00, 71.11it/s]\n"
     ]
    }
   ],
   "source": [
    "original_query_embedding   = embedding_function([original_query])\n",
    "augmented_query_embeddings = embedding_function(augmented_queries)\n",
    "\n",
    "project_original_query    = project_embeddings(original_query_embedding, umap_transform)\n",
    "project_augmented_queries = project_embeddings(augmented_query_embeddings, umap_transform)"
   ]
  },
  {
   "cell_type": "code",
   "execution_count": 32,
   "id": "accea551-221e-4751-add3-619500283542",
   "metadata": {
    "tags": []
   },
   "outputs": [
    {
     "name": "stderr",
     "output_type": "stream",
     "text": [
      "100%|█████████████████████████████████████████████████████████████████████████████████| 30/30 [00:00<00:00, 103.79it/s]\n"
     ]
    }
   ],
   "source": [
    "result_embeddings = results['embeddings']\n",
    "result_embeddings = [item for sublist in result_embeddings for item in sublist]\n",
    "projected_result_embeddings = project_embeddings(result_embeddings, umap_transform)"
   ]
  },
  {
   "cell_type": "code",
   "execution_count": 33,
   "id": "fdac82d1-7039-4daa-9a4d-de9452f85b4d",
   "metadata": {
    "tags": []
   },
   "outputs": [
    {
     "data": {
      "text/plain": [
       "(-3.985500180721283, 7.024163329601288, 5.957234501838684, 12.879533171653748)"
      ]
     },
     "execution_count": 33,
     "metadata": {},
     "output_type": "execute_result"
    },
    {
     "data": {
      "image/png": "[encoded data removed]",
      "text/plain": [
       "<Figure size 640x480 with 1 Axes>"
      ]
     },
     "metadata": {},
     "output_type": "display_data"
    }
   ],
   "source": [
    "import matplotlib.pyplot as plt\n",
    "\n",
    "plt.figure()\n",
    "plt.scatter(projected_dataset_embeddings[:, 0], projected_dataset_embeddings[:, 1], s=10, color='gray')\n",
    "plt.scatter(project_augmented_queries[:, 0], project_augmented_queries[:, 1], s=150, marker='X', color='orange')\n",
    "plt.scatter(projected_result_embeddings[:, 0], projected_result_embeddings[:, 1], s=100, facecolors='none', edgecolors='g')\n",
    "plt.scatter(project_original_query[:, 0], project_original_query[:, 1], s=150, marker='X', color='r')\n",
    "\n",
    "plt.gca().set_aspect('equal', 'datalim')\n",
    "plt.title(f'{original_query}')\n",
    "plt.axis('off')"
   ]
  },
  {
   "cell_type": "markdown",
   "id": "9982db37-f24b-4799-a69f-58cd4bf1eb1d",
   "metadata": {},
   "source": [
    "**Observation**\n",
    "\n",
    "- Original Query might not have got the wide (diverse) related documents in the search\n",
    "- with multiple queries, we get a diverse set of documents\n",
    "\n",
    "This is useful for a COMPLEX query\n",
    "\n",
    "__Disadvantage__ is : with more results, we are not sure which of these documents are more relevant\n",
    "\n",
    "- Use of BM25/ `Cross Encoders`"
   ]
  },
  {
   "cell_type": "code",
   "execution_count": null,
   "id": "fd3ca3b9-18c5-4abf-bae4-df61a3f49f6d",
   "metadata": {},
   "outputs": [],
   "source": []
  }
 ],
 "metadata": {
  "kernelspec": {
   "display_name": "Python 3 (ipykernel)",
   "language": "python",
   "name": "python3"
  },
  "language_info": {
   "codemirror_mode": {
    "name": "ipython",
    "version": 3
   },
   "file_extension": ".py",
   "mimetype": "text/x-python",
   "name": "python",
   "nbconvert_exporter": "python",
   "pygments_lexer": "ipython3",
   "version": "3.11.3"
  }
 },
 "nbformat": 4,
 "nbformat_minor": 5
}
