{
 "cells": [
  {
   "cell_type": "markdown",
   "id": "16592c78-21da-43e2-b65e-1fb90a1956e3",
   "metadata": {
    "tags": []
   },
   "source": [
    "#### Implement a Dual Encoder \n",
    "- Using `all-MiniLM-L6-v2`\n",
    "- Also called Bi Encoders"
   ]
  },
  {
   "cell_type": "code",
   "execution_count": 2,
   "id": "c053024b-417e-460d-bd72-8e9279e5116d",
   "metadata": {
    "tags": []
   },
   "outputs": [],
   "source": [
    "#pip insall transformer\n",
    "#pip insall datasets"
   ]
  },
  {
   "cell_type": "code",
   "execution_count": 16,
   "id": "cb1413a3-07b1-4520-bb98-8da1d0e7e3cd",
   "metadata": {
    "tags": []
   },
   "outputs": [],
   "source": [
    "from transformers import AutoTokenizer, AutoModel\n",
    "import torch\n",
    "\n",
    "import torch.nn.functional as F"
   ]
  },
  {
   "cell_type": "code",
   "execution_count": 5,
   "id": "e1ede6a0-3cc5-433f-88de-464ea8f99aa8",
   "metadata": {
    "tags": []
   },
   "outputs": [],
   "source": [
    "# load the tokenizer and model\n",
    "model_name = \"sentence-transformers/all-MiniLM-L6-v2\""
   ]
  },
  {
   "cell_type": "code",
   "execution_count": 8,
   "id": "76de1cfe-a34a-42a3-b9b7-1128967f18fc",
   "metadata": {
    "tags": []
   },
   "outputs": [],
   "source": [
    "tokenizer = AutoTokenizer.from_pretrained(model_name)\n",
    "model     = AutoModel.from_pretrained(model_name)"
   ]
  },
  {
   "cell_type": "markdown",
   "id": "8c540dbd-7ef2-4c9e-a05c-398d61b30391",
   "metadata": {
    "tags": []
   },
   "source": [
    "#### Define the encoding function\n",
    "- query \n",
    "- documents"
   ]
  },
  {
   "cell_type": "code",
   "execution_count": 13,
   "id": "c16e71af-7295-4a3d-a4fa-f08491699226",
   "metadata": {
    "tags": []
   },
   "outputs": [],
   "source": [
    "def encode_text(texts, tokenizer, model):\n",
    "    \n",
    "    # tokenize the input text\n",
    "    inputs = tokenizer(texts, return_tensors = 'pt', padding = True, truncation = True)\n",
    "    \n",
    "    # pass the inputs thru the model (gen the emb)\n",
    "    with torch.no_grad():\n",
    "        outputs = model(**inputs)       # prediction\n",
    "        \n",
    "        # summarize the embeddings (last hidden state)\n",
    "        emb = outputs.last_hidden_state.mean(dim=1)\n",
    "    \n",
    "    return emb"
   ]
  },
  {
   "cell_type": "markdown",
   "id": "390c9394-d198-4eb2-9535-f61acaf2469b",
   "metadata": {},
   "source": [
    "#### encode the q and docs"
   ]
  },
  {
   "cell_type": "code",
   "execution_count": 11,
   "id": "7793f5f7-e29d-45a2-b5f0-a346a1ed563c",
   "metadata": {
    "tags": []
   },
   "outputs": [],
   "source": [
    "query = \"what is the capital of France?\"\n",
    "\n",
    "documents = [\n",
    "    \"Paris is the capital of France\",\n",
    "    \"Berlin is the capital of Germany\",\n",
    "    \"California is the capital of USA\"\n",
    "]"
   ]
  },
  {
   "cell_type": "code",
   "execution_count": 15,
   "id": "6119896a-35b4-41bc-81c5-1c40191b70e7",
   "metadata": {
    "tags": []
   },
   "outputs": [],
   "source": [
    "# encode the q and docs\n",
    "\n",
    "query_embeddings = encode_text([query],   tokenizer, model)\n",
    "docs_embeddings  = encode_text(documents, tokenizer, model)"
   ]
  },
  {
   "cell_type": "markdown",
   "id": "ca1ae6bf-ee38-444f-bdd8-b55ec3c0ac81",
   "metadata": {},
   "source": [
    "#### compute the similarities"
   ]
  },
  {
   "cell_type": "code",
   "execution_count": 17,
   "id": "11281cb3-55ff-46a1-87f7-e8f54af218ff",
   "metadata": {
    "tags": []
   },
   "outputs": [],
   "source": [
    "cos_sim = F.cosine_similarity(query_embeddings, docs_embeddings)"
   ]
  },
  {
   "cell_type": "code",
   "execution_count": 18,
   "id": "c0753769-cf1f-4ac7-ad68-eec7945ef325",
   "metadata": {
    "tags": []
   },
   "outputs": [
    {
     "data": {
      "text/plain": [
       "tensor([0.8501, 0.3943, 0.3895])"
      ]
     },
     "execution_count": 18,
     "metadata": {},
     "output_type": "execute_result"
    }
   ],
   "source": [
    "cos_sim"
   ]
  },
  {
   "cell_type": "markdown",
   "id": "d62ce744-b50c-4fb8-818f-d32d8ea63d3e",
   "metadata": {},
   "source": [
    "#### try and understand the dual encoder model"
   ]
  },
  {
   "cell_type": "code",
   "execution_count": 19,
   "id": "c7af5301-973a-4204-9522-02984cd3f024",
   "metadata": {
    "tags": []
   },
   "outputs": [],
   "source": [
    "import pandas as pd\n",
    "from datasets import load_dataset"
   ]
  },
  {
   "cell_type": "code",
   "execution_count": 20,
   "id": "57a93b66-0ef4-4635-833e-b16cb064f93c",
   "metadata": {
    "tags": []
   },
   "outputs": [],
   "source": [
    "snli = load_dataset(\"snli\")"
   ]
  },
  {
   "cell_type": "code",
   "execution_count": 21,
   "id": "ccbabcf9-ccd2-44a2-ac61-85d5ad5b2359",
   "metadata": {
    "tags": []
   },
   "outputs": [
    {
     "data": {
      "text/plain": [
       "DatasetDict({\n",
       "    test: Dataset({\n",
       "        features: ['premise', 'hypothesis', 'label'],\n",
       "        num_rows: 10000\n",
       "    })\n",
       "    validation: Dataset({\n",
       "        features: ['premise', 'hypothesis', 'label'],\n",
       "        num_rows: 10000\n",
       "    })\n",
       "    train: Dataset({\n",
       "        features: ['premise', 'hypothesis', 'label'],\n",
       "        num_rows: 550152\n",
       "    })\n",
       "})"
      ]
     },
     "execution_count": 21,
     "metadata": {},
     "output_type": "execute_result"
    }
   ],
   "source": [
    "\n",
    "snli"
   ]
  },
  {
   "cell_type": "code",
   "execution_count": 22,
   "id": "c6ad621a-fc69-44d9-8caf-b244fb5a4837",
   "metadata": {
    "tags": []
   },
   "outputs": [],
   "source": [
    "df = pd.DataFrame(snli['train'])"
   ]
  },
  {
   "cell_type": "code",
   "execution_count": 24,
   "id": "deeb48ad-8201-4842-9533-94edfff5f957",
   "metadata": {
    "tags": []
   },
   "outputs": [],
   "source": [
    "pd.set_option('display.max_colwidth', None)"
   ]
  },
  {
   "cell_type": "code",
   "execution_count": 25,
   "id": "814bc923-8236-4e65-a730-865f81006627",
   "metadata": {
    "tags": []
   },
   "outputs": [
    {
     "data": {
      "text/html": [
       "<div>\n",
       "<style scoped>\n",
       "    .dataframe tbody tr th:only-of-type {\n",
       "        vertical-align: middle;\n",
       "    }\n",
       "\n",
       "    .dataframe tbody tr th {\n",
       "        vertical-align: top;\n",
       "    }\n",
       "\n",
       "    .dataframe thead th {\n",
       "        text-align: right;\n",
       "    }\n",
       "</style>\n",
       "<table border=\"1\" class=\"dataframe\">\n",
       "  <thead>\n",
       "    <tr style=\"text-align: right;\">\n",
       "      <th></th>\n",
       "      <th>premise</th>\n",
       "      <th>hypothesis</th>\n",
       "      <th>label</th>\n",
       "    </tr>\n",
       "  </thead>\n",
       "  <tbody>\n",
       "    <tr>\n",
       "      <th>0</th>\n",
       "      <td>A person on a horse jumps over a broken down airplane.</td>\n",
       "      <td>A person is training his horse for a competition.</td>\n",
       "      <td>1</td>\n",
       "    </tr>\n",
       "    <tr>\n",
       "      <th>1</th>\n",
       "      <td>A person on a horse jumps over a broken down airplane.</td>\n",
       "      <td>A person is at a diner, ordering an omelette.</td>\n",
       "      <td>2</td>\n",
       "    </tr>\n",
       "    <tr>\n",
       "      <th>2</th>\n",
       "      <td>A person on a horse jumps over a broken down airplane.</td>\n",
       "      <td>A person is outdoors, on a horse.</td>\n",
       "      <td>0</td>\n",
       "    </tr>\n",
       "    <tr>\n",
       "      <th>3</th>\n",
       "      <td>Children smiling and waving at camera</td>\n",
       "      <td>They are smiling at their parents</td>\n",
       "      <td>1</td>\n",
       "    </tr>\n",
       "    <tr>\n",
       "      <th>4</th>\n",
       "      <td>Children smiling and waving at camera</td>\n",
       "      <td>There are children present</td>\n",
       "      <td>0</td>\n",
       "    </tr>\n",
       "    <tr>\n",
       "      <th>5</th>\n",
       "      <td>Children smiling and waving at camera</td>\n",
       "      <td>The kids are frowning</td>\n",
       "      <td>2</td>\n",
       "    </tr>\n",
       "    <tr>\n",
       "      <th>6</th>\n",
       "      <td>A boy is jumping on skateboard in the middle of a red bridge.</td>\n",
       "      <td>The boy skates down the sidewalk.</td>\n",
       "      <td>2</td>\n",
       "    </tr>\n",
       "    <tr>\n",
       "      <th>7</th>\n",
       "      <td>A boy is jumping on skateboard in the middle of a red bridge.</td>\n",
       "      <td>The boy does a skateboarding trick.</td>\n",
       "      <td>0</td>\n",
       "    </tr>\n",
       "    <tr>\n",
       "      <th>8</th>\n",
       "      <td>A boy is jumping on skateboard in the middle of a red bridge.</td>\n",
       "      <td>The boy is wearing safety equipment.</td>\n",
       "      <td>1</td>\n",
       "    </tr>\n",
       "    <tr>\n",
       "      <th>9</th>\n",
       "      <td>An older man sits with his orange juice at a small table in a coffee shop while employees in bright colored shirts smile in the background.</td>\n",
       "      <td>An older man drinks his juice as he waits for his daughter to get off work.</td>\n",
       "      <td>1</td>\n",
       "    </tr>\n",
       "  </tbody>\n",
       "</table>\n",
       "</div>"
      ],
      "text/plain": [
       "                                                                                                                                       premise  ... label\n",
       "0                                                                                       A person on a horse jumps over a broken down airplane.  ...     1\n",
       "1                                                                                       A person on a horse jumps over a broken down airplane.  ...     2\n",
       "2                                                                                       A person on a horse jumps over a broken down airplane.  ...     0\n",
       "3                                                                                                        Children smiling and waving at camera  ...     1\n",
       "4                                                                                                        Children smiling and waving at camera  ...     0\n",
       "5                                                                                                        Children smiling and waving at camera  ...     2\n",
       "6                                                                                A boy is jumping on skateboard in the middle of a red bridge.  ...     2\n",
       "7                                                                                A boy is jumping on skateboard in the middle of a red bridge.  ...     0\n",
       "8                                                                                A boy is jumping on skateboard in the middle of a red bridge.  ...     1\n",
       "9  An older man sits with his orange juice at a small table in a coffee shop while employees in bright colored shirts smile in the background.  ...     1\n",
       "\n",
       "[10 rows x 3 columns]"
      ]
     },
     "execution_count": 25,
     "metadata": {},
     "output_type": "execute_result"
    }
   ],
   "source": [
    "df.head(10)"
   ]
  },
  {
   "cell_type": "markdown",
   "id": "90ae8fed-dc73-4ec4-a356-30bd91ac063f",
   "metadata": {},
   "source": [
    "label\n",
    "- entailment    1\n",
    "- contradiction 2\n",
    "- Neutral       0"
   ]
  },
  {
   "cell_type": "markdown",
   "id": "e1c2bd1b-f9b8-4f6d-a657-6538ba3b69f0",
   "metadata": {},
   "source": [
    "#### Issues with Dual Encoders\n",
    "\n",
    "- Depends heavily on the positive and negative pairs (during the training of the bert model)\n",
    "- may not be relevant to the project (custom one)"
   ]
  },
  {
   "cell_type": "code",
   "execution_count": null,
   "id": "5bda6917-ebd1-468d-9cdc-cde86717bfc7",
   "metadata": {},
   "outputs": [],
   "source": []
  }
 ],
 "metadata": {
  "kernelspec": {
   "display_name": "Python 3 (ipykernel)",
   "language": "python",
   "name": "python3"
  },
  "language_info": {
   "codemirror_mode": {
    "name": "ipython",
    "version": 3
   },
   "file_extension": ".py",
   "mimetype": "text/x-python",
   "name": "python",
   "nbconvert_exporter": "python",
   "pygments_lexer": "ipython3",
   "version": "3.11.3"
  }
 },
 "nbformat": 4,
 "nbformat_minor": 5
}
