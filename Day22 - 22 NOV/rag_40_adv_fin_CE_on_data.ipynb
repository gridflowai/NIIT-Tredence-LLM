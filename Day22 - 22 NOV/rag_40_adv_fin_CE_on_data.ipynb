{
 "cells": [
  {
   "cell_type": "code",
   "execution_count": 1,
   "id": "32f81718-1319-45ae-b427-50809b287692",
   "metadata": {
    "tags": []
   },
   "outputs": [],
   "source": [
    "import numpy as np\n",
    "\n",
    "from helper_utils import load_chroma, word_wrap, project_embeddings\n",
    "from chromadb.utils.embedding_functions import SentenceTransformerEmbeddingFunction"
   ]
  },
  {
   "cell_type": "code",
   "execution_count": null,
   "id": "a71c80fd-028d-414b-96b9-b31b14b4e8b7",
   "metadata": {
    "tags": []
   },
   "outputs": [],
   "source": [
    "embedding_function = SentenceTransformerEmbeddingFunction()\n",
    "\n",
    "chroma_collection = load_chroma(filename          = r'./data/microsoft_annual_report_2022.pdf', \n",
    "                                collection_name   = 'microsoft_annual_report_2022', \n",
    "                                embedding_function= embedding_function)\n",
    "chroma_collection.count()"
   ]
  },
  {
   "cell_type": "code",
   "execution_count": null,
   "id": "2871851b-c314-4cc0-abcc-49a93ec39721",
   "metadata": {
    "tags": []
   },
   "outputs": [],
   "source": [
    "query = \"What has been the investment in research and development?\""
   ]
  },
  {
   "cell_type": "code",
   "execution_count": null,
   "id": "e15dbbc2-c633-44ea-a9b8-ee2a1fb1c6ce",
   "metadata": {},
   "outputs": [],
   "source": [
    "# more number of retrieved documents\n",
    "results = chroma_collection.query(query_texts= query, \n",
    "                                  n_results  = 10, \n",
    "                                  include    = ['documents', 'embeddings'])"
   ]
  },
  {
   "cell_type": "code",
   "execution_count": null,
   "id": "ed1bfd82-dfbe-4c72-a770-d20ef08c759e",
   "metadata": {},
   "outputs": [],
   "source": [
    "retrieved_documents = results['documents'][0]\n",
    "\n",
    "for document in results['documents'][0]:\n",
    "    print(word_wrap(document))\n",
    "    print('')"
   ]
  },
  {
   "cell_type": "code",
   "execution_count": 1,
   "id": "7a4779d8-ac01-45d7-affd-ea7472abc7e1",
   "metadata": {
    "tags": []
   },
   "outputs": [],
   "source": [
    "from sentence_transformers import CrossEncoder"
   ]
  },
  {
   "cell_type": "code",
   "execution_count": null,
   "id": "5362cc97-0974-47d2-adcb-53acf3585757",
   "metadata": {},
   "outputs": [],
   "source": [
    "cross_encoder = CrossEncoder(model_name = 'cross-encoder/ms-marco-MiniLM-L-6-v2',\n",
    "                             cache_dir  = r'D:\\AI-DATASETS\\07-Hugging-Face-Data')"
   ]
  },
  {
   "cell_type": "code",
   "execution_count": null,
   "id": "d5504dd1-7964-4d87-8125-bcbf842ee739",
   "metadata": {},
   "outputs": [],
   "source": [
    "pairs = [[query, doc] for doc in retrieved_documents]"
   ]
  },
  {
   "cell_type": "code",
   "execution_count": null,
   "id": "d3c2fc2f-67c7-49ad-b28f-285bdc475948",
   "metadata": {},
   "outputs": [],
   "source": [
    "scores = cross_encoder.predict(pairs)"
   ]
  },
  {
   "cell_type": "code",
   "execution_count": null,
   "id": "4559577d-c00b-4581-97fd-072422de94d4",
   "metadata": {},
   "outputs": [],
   "source": [
    "print(\"Scores:\")\n",
    "for score in scores:\n",
    "    print(score)"
   ]
  },
  {
   "cell_type": "code",
   "execution_count": null,
   "id": "fc6c21ea-4baf-417f-85ae-c8f78e98f17e",
   "metadata": {},
   "outputs": [],
   "source": [
    "print(\"New Ordering:\")\n",
    "for o in np.argsort(scores)[::-1]:\n",
    "    print(o+1)"
   ]
  },
  {
   "cell_type": "markdown",
   "id": "b158ae33-2028-4d26-b666-e9e11f0930fb",
   "metadata": {},
   "source": [
    "#### Re-ranking with Query Expansion"
   ]
  },
  {
   "cell_type": "code",
   "execution_count": 2,
   "id": "ba4d8a94-958b-4271-aa36-aa1c9dc0d894",
   "metadata": {
    "tags": []
   },
   "outputs": [],
   "source": [
    "original_query = \"What were the most important factors that contributed to increases in revenue?\""
   ]
  },
  {
   "cell_type": "code",
   "execution_count": 3,
   "id": "c916666f-17cb-4059-9b03-19277886ebbc",
   "metadata": {
    "tags": []
   },
   "outputs": [],
   "source": [
    "generated_queries = [\n",
    "    \"What were the major drivers of revenue growth?\",\n",
    "    \"Were there any new product launches that contributed to the increase in revenue?\",\n",
    "    \"Did any changes in pricing or promotions impact the revenue growth?\",\n",
    "    \"What were the key market trends that facilitated the increase in revenue?\",\n",
    "    \"Did any acquisitions or partnerships contribute to the revenue growth?\"\n",
    "]"
   ]
  },
  {
   "cell_type": "code",
   "execution_count": 4,
   "id": "c9112d60-bf86-4f23-9508-df0dd239f731",
   "metadata": {
    "tags": []
   },
   "outputs": [],
   "source": [
    "queries = [original_query] + generated_queries"
   ]
  },
  {
   "cell_type": "code",
   "execution_count": null,
   "id": "05ee4e5f-475d-48d3-a5d3-4a56878c16bc",
   "metadata": {},
   "outputs": [],
   "source": [
    "results = chroma_collection.query(query_texts=queries, n_results=10, include=['documents', 'embeddings'])\n",
    "\n",
    "retrieved_documents = results['documents']"
   ]
  },
  {
   "cell_type": "code",
   "execution_count": null,
   "id": "2bec864d-32ec-4681-acd9-78e9bca21919",
   "metadata": {},
   "outputs": [],
   "source": [
    "# Deduplicate the retrieved documents\n",
    "unique_documents = set()\n",
    "for documents in retrieved_documents:\n",
    "    for document in documents:\n",
    "        unique_documents.add(document)\n",
    "\n",
    "unique_documents = list(unique_documents)"
   ]
  },
  {
   "cell_type": "code",
   "execution_count": null,
   "id": "6200754b-0dc4-4958-b1e9-45233d338d28",
   "metadata": {},
   "outputs": [],
   "source": [
    "pairs = []\n",
    "for doc in unique_documents:\n",
    "    pairs.append([original_query, doc])"
   ]
  },
  {
   "cell_type": "code",
   "execution_count": null,
   "id": "cc028e48-bc25-40a8-b878-6fe14288b9f9",
   "metadata": {},
   "outputs": [],
   "source": [
    "scores = cross_encoder.predict(pairs)"
   ]
  },
  {
   "cell_type": "code",
   "execution_count": null,
   "id": "f5768172-224f-4628-ae57-25969e6dd3ab",
   "metadata": {},
   "outputs": [],
   "source": [
    "print(\"Scores:\")\n",
    "for score in scores:\n",
    "    print(score)"
   ]
  },
  {
   "cell_type": "code",
   "execution_count": null,
   "id": "84b2b574-e046-4c70-8b65-30daacd4f140",
   "metadata": {},
   "outputs": [],
   "source": [
    "print(\"New Ordering:\")\n",
    "for o in np.argsort(scores)[::-1]:\n",
    "    print(o)"
   ]
  },
  {
   "cell_type": "markdown",
   "id": "0d1e274b-704a-40a0-9e54-c0bd25bd1776",
   "metadata": {},
   "source": [
    "| Column 1 | Column 2 |\n",
    "|----------|----------|\n",
    "|    2     |    20    |\n",
    "|    1     |    17    |\n",
    "|    3     |    2     |\n",
    "|    7     |    12    |\n",
    "|    6     |    8     |\n",
    "|    9     |    0     |\n",
    "|   10     |    6     |\n",
    "|    5     |    15    |\n",
    "|    4     |    3     |\n",
    "|    8     |    10    |\n",
    "|          |    11    |\n",
    "|          |    16    |\n",
    "|          |    18    |\n",
    "|          |    21    |\n",
    "|          |    14    |\n",
    "|          |    13    |\n",
    "|          |    7     |\n",
    "|          |    5     |\n",
    "|          |    4     |\n",
    "|          |    19    |\n",
    "|          |    9     |\n",
    "|          |    1     |\n"
   ]
  },
  {
   "cell_type": "code",
   "execution_count": null,
   "id": "8ea60fef-56be-472c-8168-66bec2ecd08c",
   "metadata": {},
   "outputs": [],
   "source": []
  }
 ],
 "metadata": {
  "kernelspec": {
   "display_name": "Python 3 (ipykernel)",
   "language": "python",
   "name": "python3"
  },
  "language_info": {
   "codemirror_mode": {
    "name": "ipython",
    "version": 3
   },
   "file_extension": ".py",
   "mimetype": "text/x-python",
   "name": "python",
   "nbconvert_exporter": "python",
   "pygments_lexer": "ipython3",
   "version": "3.11.3"
  }
 },
 "nbformat": 4,
 "nbformat_minor": 5
}
