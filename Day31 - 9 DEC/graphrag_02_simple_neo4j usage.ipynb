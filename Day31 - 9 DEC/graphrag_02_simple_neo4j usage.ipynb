{
 "cells": [
  {
   "cell_type": "code",
   "execution_count": 1,
   "id": "75ed4085-3fc4-48ef-abd4-41d88eb709f5",
   "metadata": {},
   "outputs": [],
   "source": [
    "#pip install neo4j"
   ]
  },
  {
   "cell_type": "code",
   "execution_count": 2,
   "id": "14e503e1-5134-41dc-97ca-3f8b9d175eb9",
   "metadata": {},
   "outputs": [],
   "source": [
    "from neo4j import GraphDatabase"
   ]
  },
  {
   "cell_type": "code",
   "execution_count": 3,
   "id": "7d2d0505-2592-46e8-a13d-ed13276db7c2",
   "metadata": {},
   "outputs": [],
   "source": [
    "NEO4J_URI     = 'neo4j+s://264d8780.databases.neo4j.io'\n",
    "NEO4J_USERNAME= 'neo4j'\n",
    "NEO4J_PASSWORD= '5l2648jhBn6kzOFi_XcK_yzYCVFzZIpoOPW7xp7M_Ss'\n",
    "AURA_INSTANCEID= '264d8780'\n",
    "AURA_INSTANCENAME = 'Instance01'"
   ]
  },
  {
   "cell_type": "code",
   "execution_count": 18,
   "id": "6956b658-f26c-4dbd-9da4-57ff2f40b508",
   "metadata": {},
   "outputs": [],
   "source": [
    "# Connect to the Neo4j AuraDB Free instance\n",
    "class AuraDBConnection:\n",
    "    def __init__(self, uri, user, password):\n",
    "        self.driver = GraphDatabase.driver(uri, auth=(user, password))\n",
    "    \n",
    "    def close(self):\n",
    "        if self.driver:\n",
    "            self.driver.close()\n",
    "    \n",
    "    def execute_query(self, query):\n",
    "        with self.driver.session() as session:\n",
    "            return session.run(query).data()"
   ]
  },
  {
   "cell_type": "code",
   "execution_count": 19,
   "id": "298711ea-3475-47ef-8e03-afb23a7f6c98",
   "metadata": {},
   "outputs": [],
   "source": [
    "# Initialize connection\n",
    "aura_db = AuraDBConnection(NEO4J_URI, NEO4J_USERNAME, NEO4J_PASSWORD)"
   ]
  },
  {
   "cell_type": "code",
   "execution_count": 20,
   "id": "aff43a02-aaad-4297-a778-56da249f3242",
   "metadata": {},
   "outputs": [
    {
     "name": "stdout",
     "output_type": "stream",
     "text": [
      "All nodes and relationships deleted.\n"
     ]
    }
   ],
   "source": [
    "def delete_all_nodes_and_relationships():\n",
    "    query = \"\"\"\n",
    "    MATCH (n)\n",
    "    DETACH DELETE n\n",
    "    \"\"\"\n",
    "    with driver.session() as session:\n",
    "        session.run(query)\n",
    "    print(\"All nodes and relationships deleted.\")\n",
    "\n",
    "# Call the function\n",
    "delete_all_nodes_and_relationships()"
   ]
  },
  {
   "cell_type": "code",
   "execution_count": 21,
   "id": "dd458871-39e0-486f-a570-9ff55a171931",
   "metadata": {},
   "outputs": [
    {
     "name": "stdout",
     "output_type": "stream",
     "text": [
      "Number of nodes in the database: [{'node_count': 0}]\n"
     ]
    }
   ],
   "source": [
    "query = \"MATCH (n) RETURN COUNT(n) AS node_count\"\n",
    "\n",
    "result = aura_db.execute_query(query)\n",
    "\n",
    "print(\"Number of nodes in the database:\", result)"
   ]
  },
  {
   "cell_type": "code",
   "execution_count": 22,
   "id": "d491632f-1750-43b2-903a-9eb680c451cc",
   "metadata": {},
   "outputs": [],
   "source": [
    "# Run a sample query\n",
    "query = \"MATCH (n) RETURN n LIMIT 5\"\n",
    "result = aura_db.execute_query(query)"
   ]
  },
  {
   "cell_type": "code",
   "execution_count": 23,
   "id": "5ca97b1e-cbe7-42c9-81e6-09b618cc799a",
   "metadata": {},
   "outputs": [
    {
     "name": "stdout",
     "output_type": "stream",
     "text": [
      "Query Results: []\n"
     ]
    }
   ],
   "source": [
    "# Print results\n",
    "print(\"Query Results:\", result)"
   ]
  },
  {
   "cell_type": "code",
   "execution_count": 24,
   "id": "2cfd5403-f54e-428f-a5f9-78eb2b15a018",
   "metadata": {},
   "outputs": [],
   "source": [
    "driver = GraphDatabase.driver(NEO4J_URI, auth=(NEO4J_USERNAME, NEO4J_PASSWORD))"
   ]
  },
  {
   "cell_type": "code",
   "execution_count": 25,
   "id": "3ee13c49-5993-4648-aa97-8ad26f0f578a",
   "metadata": {},
   "outputs": [],
   "source": [
    "def add_person_and_movie(tx, person_name, person_age, movie_title, movie_year):\n",
    "    query = (\n",
    "        f\"CREATE (p:Person {{name:  '{person_name}', age: {person_age}}}) \"\n",
    "        f\"CREATE (m:Movie  {{title: '{movie_title}', released: {movie_year}}}) \"\n",
    "        f\"CREATE (p)-[:LIKES]->(m)\"\n",
    "    )\n",
    "    tx.run(query)"
   ]
  },
  {
   "cell_type": "code",
   "execution_count": 26,
   "id": "62efe6d6-814b-4f1d-bdf8-ca36bd61ded5",
   "metadata": {},
   "outputs": [],
   "source": [
    "# Run the query within a session\n",
    "with driver.session() as session:\n",
    "    session.execute_write(add_person_and_movie, \"John\", 30, \"Inception\", 2010)"
   ]
  },
  {
   "cell_type": "code",
   "execution_count": 27,
   "id": "81c551ad-c4be-4163-9829-bf2e4da0f4b8",
   "metadata": {},
   "outputs": [],
   "source": [
    "def add_multiple_nodes_and_relationships(tx):\n",
    "    query = (\n",
    "        \"CREATE (p1:Person {name: 'Alice', age: 25}), \"\n",
    "               \"(p2:Person {name: 'Bob', age: 28}), \"\n",
    "               \"(m1:Movie {title: 'Inception', released: 2010}), \"\n",
    "               \"(m2:Movie {title: 'The Matrix', released: 1999}), \"\n",
    "               \"(p1)-[:LIKES]->(m1), \"\n",
    "               \"(p2)-[:LIKES]->(m2), \"\n",
    "               \"(p1)-[:FRIENDS_WITH]->(p2)\"\n",
    "    )\n",
    "    tx.run(query)"
   ]
  },
  {
   "cell_type": "code",
   "execution_count": 28,
   "id": "67cb0a14-93c2-4190-a896-58fbc523078a",
   "metadata": {},
   "outputs": [],
   "source": [
    "def add_rated_relationship(tx, person_name, movie_title, rating):\n",
    "    query = (\n",
    "        f\"MATCH (p:Person {{name: '{person_name}'}}), \"\n",
    "        f\"(m:Movie {{title: '{movie_title}'}}) \"\n",
    "        f\"CREATE (p)-[:RATED {{rating: {rating}}}]->(m)\"\n",
    "    )\n",
    "    tx.run(query)"
   ]
  },
  {
   "cell_type": "code",
   "execution_count": 29,
   "id": "cb2d35ad-3851-4085-9fa5-980b03da725c",
   "metadata": {},
   "outputs": [],
   "source": [
    "# Running the queries within a session\n",
    "with driver.session() as session:\n",
    "    session.execute_write(add_person_and_movie, \"John\", 30, \"Inception\", 2010)\n",
    "    session.execute_write(add_person_and_movie, \"Alice\", 25, \"The Matrix\", 1999)\n",
    "    session.execute_write(add_multiple_nodes_and_relationships)\n",
    "    session.execute_write(add_rated_relationship, \"Charlie\", \"Inception\", 8.5)"
   ]
  },
  {
   "cell_type": "code",
   "execution_count": 30,
   "id": "48ee463c-a7bd-4776-8eef-950a8de146e2",
   "metadata": {},
   "outputs": [
    {
     "name": "stdout",
     "output_type": "stream",
     "text": [
      "Number of nodes in the database: EagerResult(records=[<Record node_count=10>], summary=<neo4j._work.summary.ResultSummary object at 0x000002946B43E540>, keys=['node_count'])\n"
     ]
    }
   ],
   "source": [
    "query = \"MATCH (n) RETURN COUNT(n) AS node_count\"\n",
    "result = driver.execute_query(query)\n",
    "print(\"Number of nodes in the database:\", result)"
   ]
  },
  {
   "cell_type": "code",
   "execution_count": 31,
   "id": "f8ad1cb6-8d08-4ff6-bd8d-fcec928975f3",
   "metadata": {},
   "outputs": [],
   "source": [
    "def view_all_nodes(tx):\n",
    "    query = \"MATCH (n) RETURN n LIMIT 25\"\n",
    "    result = tx.run(query)\n",
    "    for record in result:\n",
    "        print(record['n'])"
   ]
  },
  {
   "cell_type": "code",
   "execution_count": 32,
   "id": "3f757076-c8b0-41b5-a777-8e514add507c",
   "metadata": {},
   "outputs": [
    {
     "name": "stdout",
     "output_type": "stream",
     "text": [
      "<Node element_id='4:d0d3f0af-4e3a-4953-8d37-f60e14f01827:0' labels=frozenset({'Person'}) properties={'name': 'John', 'age': 30}>\n",
      "<Node element_id='4:d0d3f0af-4e3a-4953-8d37-f60e14f01827:1' labels=frozenset({'Movie'}) properties={'title': 'Inception', 'released': 2010}>\n",
      "<Node element_id='4:d0d3f0af-4e3a-4953-8d37-f60e14f01827:2' labels=frozenset({'Person'}) properties={'name': 'John', 'age': 30}>\n",
      "<Node element_id='4:d0d3f0af-4e3a-4953-8d37-f60e14f01827:3' labels=frozenset({'Movie'}) properties={'title': 'Inception', 'released': 2010}>\n",
      "<Node element_id='4:d0d3f0af-4e3a-4953-8d37-f60e14f01827:4' labels=frozenset({'Person'}) properties={'name': 'Alice', 'age': 25}>\n",
      "<Node element_id='4:d0d3f0af-4e3a-4953-8d37-f60e14f01827:5' labels=frozenset({'Movie'}) properties={'title': 'The Matrix', 'released': 1999}>\n",
      "<Node element_id='4:d0d3f0af-4e3a-4953-8d37-f60e14f01827:6' labels=frozenset({'Person'}) properties={'name': 'Alice', 'age': 25}>\n",
      "<Node element_id='4:d0d3f0af-4e3a-4953-8d37-f60e14f01827:7' labels=frozenset({'Person'}) properties={'name': 'Bob', 'age': 28}>\n",
      "<Node element_id='4:d0d3f0af-4e3a-4953-8d37-f60e14f01827:8' labels=frozenset({'Movie'}) properties={'title': 'Inception', 'released': 2010}>\n",
      "<Node element_id='4:d0d3f0af-4e3a-4953-8d37-f60e14f01827:9' labels=frozenset({'Movie'}) properties={'title': 'The Matrix', 'released': 1999}>\n"
     ]
    }
   ],
   "source": [
    "# Run the query to view all nodes\n",
    "with driver.session() as session:\n",
    "    session.execute_read(view_all_nodes)"
   ]
  },
  {
   "cell_type": "code",
   "execution_count": 33,
   "id": "f4942687-93a5-4a72-9682-bddd27cc6858",
   "metadata": {},
   "outputs": [],
   "source": [
    "def view_nodes_and_relationships(tx):\n",
    "    query = \"MATCH (n)-[r]->(m) RETURN n, r, m LIMIT 25\"\n",
    "    result = tx.run(query)\n",
    "    for record in result:\n",
    "        print(f\"Node: {record['n']}, Relationship: {record['r']}, Related Node: {record['m']}\")"
   ]
  },
  {
   "cell_type": "code",
   "execution_count": 34,
   "id": "ac9236c5-e3bb-438d-ae6c-03fe7c929d21",
   "metadata": {},
   "outputs": [
    {
     "name": "stdout",
     "output_type": "stream",
     "text": [
      "Node: <Node element_id='4:d0d3f0af-4e3a-4953-8d37-f60e14f01827:0' labels=frozenset({'Person'}) properties={'name': 'John', 'age': 30}>, Relationship: <Relationship element_id='5:d0d3f0af-4e3a-4953-8d37-f60e14f01827:1152921504606846976' nodes=(<Node element_id='4:d0d3f0af-4e3a-4953-8d37-f60e14f01827:0' labels=frozenset({'Person'}) properties={'name': 'John', 'age': 30}>, <Node element_id='4:d0d3f0af-4e3a-4953-8d37-f60e14f01827:1' labels=frozenset({'Movie'}) properties={'title': 'Inception', 'released': 2010}>) type='LIKES' properties={}>, Related Node: <Node element_id='4:d0d3f0af-4e3a-4953-8d37-f60e14f01827:1' labels=frozenset({'Movie'}) properties={'title': 'Inception', 'released': 2010}>\n",
      "Node: <Node element_id='4:d0d3f0af-4e3a-4953-8d37-f60e14f01827:2' labels=frozenset({'Person'}) properties={'name': 'John', 'age': 30}>, Relationship: <Relationship element_id='5:d0d3f0af-4e3a-4953-8d37-f60e14f01827:1152921504606846978' nodes=(<Node element_id='4:d0d3f0af-4e3a-4953-8d37-f60e14f01827:2' labels=frozenset({'Person'}) properties={'name': 'John', 'age': 30}>, <Node element_id='4:d0d3f0af-4e3a-4953-8d37-f60e14f01827:3' labels=frozenset({'Movie'}) properties={'title': 'Inception', 'released': 2010}>) type='LIKES' properties={}>, Related Node: <Node element_id='4:d0d3f0af-4e3a-4953-8d37-f60e14f01827:3' labels=frozenset({'Movie'}) properties={'title': 'Inception', 'released': 2010}>\n",
      "Node: <Node element_id='4:d0d3f0af-4e3a-4953-8d37-f60e14f01827:4' labels=frozenset({'Person'}) properties={'name': 'Alice', 'age': 25}>, Relationship: <Relationship element_id='5:d0d3f0af-4e3a-4953-8d37-f60e14f01827:1152921504606846980' nodes=(<Node element_id='4:d0d3f0af-4e3a-4953-8d37-f60e14f01827:4' labels=frozenset({'Person'}) properties={'name': 'Alice', 'age': 25}>, <Node element_id='4:d0d3f0af-4e3a-4953-8d37-f60e14f01827:5' labels=frozenset({'Movie'}) properties={'title': 'The Matrix', 'released': 1999}>) type='LIKES' properties={}>, Related Node: <Node element_id='4:d0d3f0af-4e3a-4953-8d37-f60e14f01827:5' labels=frozenset({'Movie'}) properties={'title': 'The Matrix', 'released': 1999}>\n",
      "Node: <Node element_id='4:d0d3f0af-4e3a-4953-8d37-f60e14f01827:6' labels=frozenset({'Person'}) properties={'name': 'Alice', 'age': 25}>, Relationship: <Relationship element_id='5:d0d3f0af-4e3a-4953-8d37-f60e14f01827:1152921504606846982' nodes=(<Node element_id='4:d0d3f0af-4e3a-4953-8d37-f60e14f01827:6' labels=frozenset({'Person'}) properties={'name': 'Alice', 'age': 25}>, <Node element_id='4:d0d3f0af-4e3a-4953-8d37-f60e14f01827:8' labels=frozenset({'Movie'}) properties={'title': 'Inception', 'released': 2010}>) type='LIKES' properties={}>, Related Node: <Node element_id='4:d0d3f0af-4e3a-4953-8d37-f60e14f01827:8' labels=frozenset({'Movie'}) properties={'title': 'Inception', 'released': 2010}>\n",
      "Node: <Node element_id='4:d0d3f0af-4e3a-4953-8d37-f60e14f01827:6' labels=frozenset({'Person'}) properties={'name': 'Alice', 'age': 25}>, Relationship: <Relationship element_id='5:d0d3f0af-4e3a-4953-8d37-f60e14f01827:1152922604118474758' nodes=(<Node element_id='4:d0d3f0af-4e3a-4953-8d37-f60e14f01827:6' labels=frozenset({'Person'}) properties={'name': 'Alice', 'age': 25}>, <Node element_id='4:d0d3f0af-4e3a-4953-8d37-f60e14f01827:7' labels=frozenset({'Person'}) properties={'name': 'Bob', 'age': 28}>) type='FRIENDS_WITH' properties={}>, Related Node: <Node element_id='4:d0d3f0af-4e3a-4953-8d37-f60e14f01827:7' labels=frozenset({'Person'}) properties={'name': 'Bob', 'age': 28}>\n",
      "Node: <Node element_id='4:d0d3f0af-4e3a-4953-8d37-f60e14f01827:7' labels=frozenset({'Person'}) properties={'name': 'Bob', 'age': 28}>, Relationship: <Relationship element_id='5:d0d3f0af-4e3a-4953-8d37-f60e14f01827:1152921504606846983' nodes=(<Node element_id='4:d0d3f0af-4e3a-4953-8d37-f60e14f01827:7' labels=frozenset({'Person'}) properties={'name': 'Bob', 'age': 28}>, <Node element_id='4:d0d3f0af-4e3a-4953-8d37-f60e14f01827:9' labels=frozenset({'Movie'}) properties={'title': 'The Matrix', 'released': 1999}>) type='LIKES' properties={}>, Related Node: <Node element_id='4:d0d3f0af-4e3a-4953-8d37-f60e14f01827:9' labels=frozenset({'Movie'}) properties={'title': 'The Matrix', 'released': 1999}>\n"
     ]
    }
   ],
   "source": [
    "# Run the query to view nodes and relationships\n",
    "with driver.session() as session:\n",
    "    session.execute_read(view_nodes_and_relationships)"
   ]
  },
  {
   "cell_type": "markdown",
   "id": "3aa08cb2-063b-430d-9d7a-0728944cb4cb",
   "metadata": {},
   "source": [
    "#### loading movies data"
   ]
  },
  {
   "cell_type": "code",
   "execution_count": 35,
   "id": "3f434a6c-4eeb-4817-bca5-2a3029bb8dd4",
   "metadata": {},
   "outputs": [
    {
     "name": "stdout",
     "output_type": "stream",
     "text": [
      "All nodes and relationships have been deleted.\n"
     ]
    }
   ],
   "source": [
    "# Function to run a query\n",
    "def run_query(query):\n",
    "    with driver.session() as session:\n",
    "        session.run(query)\n",
    "\n",
    "# Query to delete all nodes and relationships\n",
    "delete_query = \"MATCH (n) DETACH DELETE n\"\n",
    "\n",
    "# Run the delete query\n",
    "run_query(delete_query)\n",
    "\n",
    "print(\"All nodes and relationships have been deleted.\")"
   ]
  },
  {
   "cell_type": "code",
   "execution_count": 36,
   "id": "d36a7bba-24a7-45a1-afed-3a9d34e192d7",
   "metadata": {},
   "outputs": [],
   "source": [
    "import csv"
   ]
  },
  {
   "cell_type": "code",
   "execution_count": 37,
   "id": "499867ec-1842-42ba-b2f3-d3440d5ecee1",
   "metadata": {},
   "outputs": [],
   "source": [
    "# Function to load persons data\n",
    "def load_persons():\n",
    "    with open('persons.csv', 'r') as file:\n",
    "        reader = csv.DictReader(file)\n",
    "        with driver.session() as session:\n",
    "            for row in reader:\n",
    "                session.run(\"CREATE (p:Person {id: $id, name: $name})\",\n",
    "                            id=row['id'], name=row['name'])\n",
    "    print(\"Persons data loaded successfully.\")\n",
    "\n",
    "# Function to load movies data\n",
    "def load_movies():\n",
    "    with open('movies.csv', 'r') as file:\n",
    "        reader = csv.DictReader(file)\n",
    "        with driver.session() as session:\n",
    "            for row in reader:\n",
    "                session.run(\"CREATE (m:Movie {id: $id, title: $title, country: $country, year: $year})\",\n",
    "                            id=row['id'], title=row['title'], country=row['country'], year=row['year'])\n",
    "    print(\"Movies data loaded successfully.\")"
   ]
  },
  {
   "cell_type": "code",
   "execution_count": 38,
   "id": "5a38ed34-d343-436e-a664-1938cba21908",
   "metadata": {},
   "outputs": [],
   "source": [
    "# Function to load roles data and create relationships between Person and Movie nodes\n",
    "def load_roles():\n",
    "    with open('roles.csv', 'r') as file:\n",
    "        reader = csv.DictReader(file)\n",
    "        with driver.session() as session:\n",
    "            for row in reader:\n",
    "                session.run(\"\"\"\n",
    "                    MATCH (p:Person {id: $personId}), (m:Movie {id: $movieId})\n",
    "                    CREATE (p)-[:ACTED_IN {role: $role}]->(m)\n",
    "                \"\"\", personId=row['personId'], movieId=row['movieId'], role=row['role'])\n",
    "    print(\"Roles and relationships loaded successfully.\")"
   ]
  },
  {
   "cell_type": "code",
   "execution_count": 39,
   "id": "a0e5d5ee-4278-47e3-9121-6900fd051833",
   "metadata": {},
   "outputs": [
    {
     "name": "stdout",
     "output_type": "stream",
     "text": [
      "Persons data loaded successfully.\n",
      "Movies data loaded successfully.\n",
      "Roles and relationships loaded successfully.\n"
     ]
    }
   ],
   "source": [
    "# Load all data\n",
    "def load_data():\n",
    "    load_persons()\n",
    "    load_movies()\n",
    "    load_roles()\n",
    "\n",
    "# Run the script to load the data\n",
    "load_data()"
   ]
  },
  {
   "cell_type": "code",
   "execution_count": 40,
   "id": "ae68c966-efc9-467a-bc9b-8ebb0e6d408b",
   "metadata": {},
   "outputs": [],
   "source": [
    "# Function to run a query\n",
    "def run_query(query):\n",
    "    with driver.session() as session:\n",
    "        result = session.run(query)\n",
    "        for record in result:\n",
    "            print(record)"
   ]
  },
  {
   "cell_type": "code",
   "execution_count": 41,
   "id": "8ad5ed85-8b23-4398-af39-313180eca6e8",
   "metadata": {},
   "outputs": [
    {
     "name": "stdout",
     "output_type": "stream",
     "text": [
      "All Persons:\n",
      "<Record p=<Node element_id='4:d0d3f0af-4e3a-4953-8d37-f60e14f01827:10' labels=frozenset({'Person'}) properties={'name': 'Charlie Sheen', 'id': '1'}>>\n",
      "<Record p=<Node element_id='4:d0d3f0af-4e3a-4953-8d37-f60e14f01827:11' labels=frozenset({'Person'}) properties={'name': 'Michael Douglas', 'id': '2'}>>\n",
      "<Record p=<Node element_id='4:d0d3f0af-4e3a-4953-8d37-f60e14f01827:12' labels=frozenset({'Person'}) properties={'name': 'Martin Sheen', 'id': '3'}>>\n",
      "<Record p=<Node element_id='4:d0d3f0af-4e3a-4953-8d37-f60e14f01827:13' labels=frozenset({'Person'}) properties={'name': 'Morgan Freeman', 'id': '4'}>>\n"
     ]
    }
   ],
   "source": [
    "# Query 1: All persons\n",
    "print(\"All Persons:\")\n",
    "run_query(\"MATCH (p:Person) RETURN p\")"
   ]
  },
  {
   "cell_type": "code",
   "execution_count": 42,
   "id": "017191a3-1e39-4671-82be-57b9eb0844d8",
   "metadata": {},
   "outputs": [
    {
     "name": "stdout",
     "output_type": "stream",
     "text": [
      "\n",
      "All Movies:\n",
      "<Record m=<Node element_id='4:d0d3f0af-4e3a-4953-8d37-f60e14f01827:14' labels=frozenset({'Movie'}) properties={'country': 'USA', 'year': '1987', 'id': '1', 'title': 'Wall Street'}>>\n",
      "<Record m=<Node element_id='4:d0d3f0af-4e3a-4953-8d37-f60e14f01827:15' labels=frozenset({'Movie'}) properties={'country': 'USA', 'year': '1995', 'id': '2', 'title': 'The American President'}>>\n",
      "<Record m=<Node element_id='4:d0d3f0af-4e3a-4953-8d37-f60e14f01827:16' labels=frozenset({'Movie'}) properties={'country': 'USA', 'year': '1994', 'id': '3', 'title': 'The Shawshank Redemption'}>>\n"
     ]
    }
   ],
   "source": [
    "# Query 2: All movies\n",
    "print(\"\\nAll Movies:\")\n",
    "run_query(\"MATCH (m:Movie) RETURN m\")"
   ]
  },
  {
   "cell_type": "code",
   "execution_count": 43,
   "id": "5658cc4e-8940-4149-8d33-8b2a12082496",
   "metadata": {},
   "outputs": [
    {
     "name": "stdout",
     "output_type": "stream",
     "text": [
      "\n",
      "All Relationships (ACTED_IN):\n",
      "<Record p=<Node element_id='4:d0d3f0af-4e3a-4953-8d37-f60e14f01827:10' labels=frozenset({'Person'}) properties={'name': 'Charlie Sheen', 'id': '1'}> r=<Relationship element_id='5:d0d3f0af-4e3a-4953-8d37-f60e14f01827:1152923703630102538' nodes=(<Node element_id='4:d0d3f0af-4e3a-4953-8d37-f60e14f01827:10' labels=frozenset({'Person'}) properties={'name': 'Charlie Sheen', 'id': '1'}>, <Node element_id='4:d0d3f0af-4e3a-4953-8d37-f60e14f01827:14' labels=frozenset({'Movie'}) properties={'country': 'USA', 'year': '1987', 'id': '1', 'title': 'Wall Street'}>) type='ACTED_IN' properties={'role': 'Bud Fox'}> m=<Node element_id='4:d0d3f0af-4e3a-4953-8d37-f60e14f01827:14' labels=frozenset({'Movie'}) properties={'country': 'USA', 'year': '1987', 'id': '1', 'title': 'Wall Street'}>>\n",
      "<Record p=<Node element_id='4:d0d3f0af-4e3a-4953-8d37-f60e14f01827:11' labels=frozenset({'Person'}) properties={'name': 'Michael Douglas', 'id': '2'}> r=<Relationship element_id='5:d0d3f0af-4e3a-4953-8d37-f60e14f01827:1152923703630102539' nodes=(<Node element_id='4:d0d3f0af-4e3a-4953-8d37-f60e14f01827:11' labels=frozenset({'Person'}) properties={'name': 'Michael Douglas', 'id': '2'}>, <Node element_id='4:d0d3f0af-4e3a-4953-8d37-f60e14f01827:14' labels=frozenset({'Movie'}) properties={'country': 'USA', 'year': '1987', 'id': '1', 'title': 'Wall Street'}>) type='ACTED_IN' properties={'role': 'Gordon Gekko'}> m=<Node element_id='4:d0d3f0af-4e3a-4953-8d37-f60e14f01827:14' labels=frozenset({'Movie'}) properties={'country': 'USA', 'year': '1987', 'id': '1', 'title': 'Wall Street'}>>\n",
      "<Record p=<Node element_id='4:d0d3f0af-4e3a-4953-8d37-f60e14f01827:11' labels=frozenset({'Person'}) properties={'name': 'Michael Douglas', 'id': '2'}> r=<Relationship element_id='5:d0d3f0af-4e3a-4953-8d37-f60e14f01827:1155175503443787787' nodes=(<Node element_id='4:d0d3f0af-4e3a-4953-8d37-f60e14f01827:11' labels=frozenset({'Person'}) properties={'name': 'Michael Douglas', 'id': '2'}>, <Node element_id='4:d0d3f0af-4e3a-4953-8d37-f60e14f01827:15' labels=frozenset({'Movie'}) properties={'country': 'USA', 'year': '1995', 'id': '2', 'title': 'The American President'}>) type='ACTED_IN' properties={'role': 'President Andrew Shepherd'}> m=<Node element_id='4:d0d3f0af-4e3a-4953-8d37-f60e14f01827:15' labels=frozenset({'Movie'}) properties={'country': 'USA', 'year': '1995', 'id': '2', 'title': 'The American President'}>>\n",
      "<Record p=<Node element_id='4:d0d3f0af-4e3a-4953-8d37-f60e14f01827:12' labels=frozenset({'Person'}) properties={'name': 'Martin Sheen', 'id': '3'}> r=<Relationship element_id='5:d0d3f0af-4e3a-4953-8d37-f60e14f01827:1152923703630102540' nodes=(<Node element_id='4:d0d3f0af-4e3a-4953-8d37-f60e14f01827:12' labels=frozenset({'Person'}) properties={'name': 'Martin Sheen', 'id': '3'}>, <Node element_id='4:d0d3f0af-4e3a-4953-8d37-f60e14f01827:14' labels=frozenset({'Movie'}) properties={'country': 'USA', 'year': '1987', 'id': '1', 'title': 'Wall Street'}>) type='ACTED_IN' properties={'role': 'Carl Fox'}> m=<Node element_id='4:d0d3f0af-4e3a-4953-8d37-f60e14f01827:14' labels=frozenset({'Movie'}) properties={'country': 'USA', 'year': '1987', 'id': '1', 'title': 'Wall Street'}>>\n",
      "<Record p=<Node element_id='4:d0d3f0af-4e3a-4953-8d37-f60e14f01827:12' labels=frozenset({'Person'}) properties={'name': 'Martin Sheen', 'id': '3'}> r=<Relationship element_id='5:d0d3f0af-4e3a-4953-8d37-f60e14f01827:1155175503443787788' nodes=(<Node element_id='4:d0d3f0af-4e3a-4953-8d37-f60e14f01827:12' labels=frozenset({'Person'}) properties={'name': 'Martin Sheen', 'id': '3'}>, <Node element_id='4:d0d3f0af-4e3a-4953-8d37-f60e14f01827:15' labels=frozenset({'Movie'}) properties={'country': 'USA', 'year': '1995', 'id': '2', 'title': 'The American President'}>) type='ACTED_IN' properties={'role': 'A.J. MacInerney'}> m=<Node element_id='4:d0d3f0af-4e3a-4953-8d37-f60e14f01827:15' labels=frozenset({'Movie'}) properties={'country': 'USA', 'year': '1995', 'id': '2', 'title': 'The American President'}>>\n",
      "<Record p=<Node element_id='4:d0d3f0af-4e3a-4953-8d37-f60e14f01827:13' labels=frozenset({'Person'}) properties={'name': 'Morgan Freeman', 'id': '4'}> r=<Relationship element_id='5:d0d3f0af-4e3a-4953-8d37-f60e14f01827:1152923703630102541' nodes=(<Node element_id='4:d0d3f0af-4e3a-4953-8d37-f60e14f01827:13' labels=frozenset({'Person'}) properties={'name': 'Morgan Freeman', 'id': '4'}>, <Node element_id='4:d0d3f0af-4e3a-4953-8d37-f60e14f01827:16' labels=frozenset({'Movie'}) properties={'country': 'USA', 'year': '1994', 'id': '3', 'title': 'The Shawshank Redemption'}>) type='ACTED_IN' properties={'role': \"Ellis Boyd 'Red' Redding\"}> m=<Node element_id='4:d0d3f0af-4e3a-4953-8d37-f60e14f01827:16' labels=frozenset({'Movie'}) properties={'country': 'USA', 'year': '1994', 'id': '3', 'title': 'The Shawshank Redemption'}>>\n"
     ]
    }
   ],
   "source": [
    "# Query 3: All relationships (ACTED_IN)\n",
    "print(\"\\nAll Relationships (ACTED_IN):\")\n",
    "run_query(\"MATCH (p:Person)-[r:ACTED_IN]->(m:Movie) RETURN p, r, m\")"
   ]
  },
  {
   "cell_type": "code",
   "execution_count": 44,
   "id": "042a646f-08bf-4542-be59-8d0ec21c6b21",
   "metadata": {},
   "outputs": [
    {
     "name": "stdout",
     "output_type": "stream",
     "text": [
      "\n",
      "Specific Person (Charlie Sheen):\n",
      "<Record p=<Node element_id='4:d0d3f0af-4e3a-4953-8d37-f60e14f01827:10' labels=frozenset({'Person'}) properties={'name': 'Charlie Sheen', 'id': '1'}>>\n"
     ]
    }
   ],
   "source": [
    "# Query 4: Specific Person by Name\n",
    "print(\"\\nSpecific Person (Charlie Sheen):\")\n",
    "run_query(\"MATCH (p:Person {name: 'Charlie Sheen'}) RETURN p\")"
   ]
  },
  {
   "cell_type": "code",
   "execution_count": 45,
   "id": "eda0f49f-fcbe-4c40-81ec-a35b00e7e547",
   "metadata": {},
   "outputs": [
    {
     "name": "stdout",
     "output_type": "stream",
     "text": [
      "\n",
      "Movies acted by Charlie Sheen:\n",
      "<Record Movie='Wall Street' Role='Bud Fox'>\n"
     ]
    }
   ],
   "source": [
    "# Query 5: Movies acted by Charlie Sheen\n",
    "print(\"\\nMovies acted by Charlie Sheen:\")\n",
    "run_query(\"MATCH (p:Person {name: 'Charlie Sheen'})-[r:ACTED_IN]->(m:Movie) RETURN m.title AS Movie, r.role AS Role\")"
   ]
  },
  {
   "cell_type": "markdown",
   "id": "ea4070f7-5788-4d07-908e-56f90c558b89",
   "metadata": {},
   "source": [
    "#### using langchain"
   ]
  },
  {
   "cell_type": "code",
   "execution_count": 46,
   "id": "c839f81e-e801-46d0-be94-7920750b9ad8",
   "metadata": {},
   "outputs": [],
   "source": [
    "from langchain_neo4j import Neo4jGraph"
   ]
  },
  {
   "cell_type": "code",
   "execution_count": 47,
   "id": "ac423b4c-a25e-495a-afc4-ccb2dd6d2adf",
   "metadata": {},
   "outputs": [],
   "source": [
    "kg = Neo4jGraph(\n",
    "    url     = NEO4J_URI, \n",
    "    username= NEO4J_USERNAME, \n",
    "    password= NEO4J_PASSWORD, \n",
    "    database= 'neo4j'\n",
    ")"
   ]
  },
  {
   "cell_type": "code",
   "execution_count": 48,
   "id": "586c4be2-db1e-41e5-ad44-32d51e31a588",
   "metadata": {},
   "outputs": [],
   "source": [
    "cypher = \"\"\"\n",
    "  MATCH (n) \n",
    "  RETURN count(n)\n",
    "  \"\"\""
   ]
  },
  {
   "cell_type": "code",
   "execution_count": 49,
   "id": "73df3745-ae13-48cb-872c-7bf6176094cb",
   "metadata": {},
   "outputs": [
    {
     "data": {
      "text/plain": [
       "[{'count(n)': 7}]"
      ]
     },
     "execution_count": 49,
     "metadata": {},
     "output_type": "execute_result"
    }
   ],
   "source": [
    "result = kg.query(cypher)\n",
    "result"
   ]
  },
  {
   "cell_type": "code",
   "execution_count": null,
   "id": "45689b55-b7fa-493d-a610-648085fd54ed",
   "metadata": {},
   "outputs": [],
   "source": []
  }
 ],
 "metadata": {
  "kernelspec": {
   "display_name": "Python 3 (ipykernel)",
   "language": "python",
   "name": "python3"
  },
  "language_info": {
   "codemirror_mode": {
    "name": "ipython",
    "version": 3
   },
   "file_extension": ".py",
   "mimetype": "text/x-python",
   "name": "python",
   "nbconvert_exporter": "python",
   "pygments_lexer": "ipython3",
   "version": "3.12.7"
  }
 },
 "nbformat": 4,
 "nbformat_minor": 5
}
