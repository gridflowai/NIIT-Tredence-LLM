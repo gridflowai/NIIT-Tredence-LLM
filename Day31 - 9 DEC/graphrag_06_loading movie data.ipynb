{
 "cells": [
  {
   "cell_type": "markdown",
   "id": "01dd3c15-da22-47af-acbe-9d1931f4d560",
   "metadata": {},
   "source": [
    "-----------------------\n",
    "#### prepare the data for the KS/KG\n",
    "--------------------------"
   ]
  },
  {
   "cell_type": "code",
   "execution_count": 2,
   "id": "ff608cd9-7eb1-4089-a15c-2636dac033e0",
   "metadata": {},
   "outputs": [],
   "source": [
    "import pandas as pd\n",
    "import csv\n",
    "import ast "
   ]
  },
  {
   "cell_type": "code",
   "execution_count": 3,
   "id": "48260ccc-9dd1-4aab-b1cb-c8ade541ebe9",
   "metadata": {},
   "outputs": [],
   "source": [
    "# Load the CSV file\n",
    "df = pd.read_csv(\"exported_data.csv\")"
   ]
  },
  {
   "cell_type": "code",
   "execution_count": 4,
   "id": "b4074411-4708-4a39-a2ab-796ed3d3c188",
   "metadata": {},
   "outputs": [
    {
     "data": {
      "text/html": [
       "<div>\n",
       "<style scoped>\n",
       "    .dataframe tbody tr th:only-of-type {\n",
       "        vertical-align: middle;\n",
       "    }\n",
       "\n",
       "    .dataframe tbody tr th {\n",
       "        vertical-align: top;\n",
       "    }\n",
       "\n",
       "    .dataframe thead th {\n",
       "        text-align: right;\n",
       "    }\n",
       "</style>\n",
       "<table border=\"1\" class=\"dataframe\">\n",
       "  <thead>\n",
       "    <tr style=\"text-align: right;\">\n",
       "      <th></th>\n",
       "      <th>_id</th>\n",
       "      <th>_labels</th>\n",
       "      <th>born</th>\n",
       "      <th>lastSeen</th>\n",
       "      <th>name</th>\n",
       "      <th>released</th>\n",
       "      <th>tagline</th>\n",
       "      <th>taglineEmbedding</th>\n",
       "      <th>title</th>\n",
       "      <th>_start</th>\n",
       "      <th>_end</th>\n",
       "      <th>_type</th>\n",
       "      <th>rating</th>\n",
       "      <th>roles</th>\n",
       "      <th>summary</th>\n",
       "    </tr>\n",
       "  </thead>\n",
       "  <tbody>\n",
       "    <tr>\n",
       "      <th>324</th>\n",
       "      <td>NaN</td>\n",
       "      <td>NaN</td>\n",
       "      <td>NaN</td>\n",
       "      <td>NaN</td>\n",
       "      <td>NaN</td>\n",
       "      <td>NaN</td>\n",
       "      <td>NaN</td>\n",
       "      <td>NaN</td>\n",
       "      <td>NaN</td>\n",
       "      <td>117.0</td>\n",
       "      <td>116.0</td>\n",
       "      <td>ACTED_IN</td>\n",
       "      <td>NaN</td>\n",
       "      <td>[\"Evey Hammond\"]</td>\n",
       "      <td>NaN</td>\n",
       "    </tr>\n",
       "    <tr>\n",
       "      <th>61</th>\n",
       "      <td>61.0</td>\n",
       "      <td>:Person</td>\n",
       "      <td>1956.0</td>\n",
       "      <td>NaN</td>\n",
       "      <td>Vincent Ward</td>\n",
       "      <td>NaN</td>\n",
       "      <td>NaN</td>\n",
       "      <td>NaN</td>\n",
       "      <td>NaN</td>\n",
       "      <td>NaN</td>\n",
       "      <td>NaN</td>\n",
       "      <td>NaN</td>\n",
       "      <td>NaN</td>\n",
       "      <td>NaN</td>\n",
       "      <td>NaN</td>\n",
       "    </tr>\n",
       "    <tr>\n",
       "      <th>290</th>\n",
       "      <td>NaN</td>\n",
       "      <td>NaN</td>\n",
       "      <td>NaN</td>\n",
       "      <td>NaN</td>\n",
       "      <td>NaN</td>\n",
       "      <td>NaN</td>\n",
       "      <td>NaN</td>\n",
       "      <td>NaN</td>\n",
       "      <td>NaN</td>\n",
       "      <td>91.0</td>\n",
       "      <td>87.0</td>\n",
       "      <td>DIRECTED</td>\n",
       "      <td>NaN</td>\n",
       "      <td>NaN</td>\n",
       "      <td>NaN</td>\n",
       "    </tr>\n",
       "  </tbody>\n",
       "</table>\n",
       "</div>"
      ],
      "text/plain": [
       "      _id  _labels    born  lastSeen          name  released tagline  \\\n",
       "324   NaN      NaN     NaN       NaN           NaN       NaN     NaN   \n",
       "61   61.0  :Person  1956.0       NaN  Vincent Ward       NaN     NaN   \n",
       "290   NaN      NaN     NaN       NaN           NaN       NaN     NaN   \n",
       "\n",
       "    taglineEmbedding title  _start   _end     _type  rating             roles  \\\n",
       "324              NaN   NaN   117.0  116.0  ACTED_IN     NaN  [\"Evey Hammond\"]   \n",
       "61               NaN   NaN     NaN    NaN       NaN     NaN               NaN   \n",
       "290              NaN   NaN    91.0   87.0  DIRECTED     NaN               NaN   \n",
       "\n",
       "    summary  \n",
       "324     NaN  \n",
       "61      NaN  \n",
       "290     NaN  "
      ]
     },
     "execution_count": 4,
     "metadata": {},
     "output_type": "execute_result"
    }
   ],
   "source": [
    "df.sample(3)"
   ]
  },
  {
   "cell_type": "code",
   "execution_count": 5,
   "id": "5518ec96-5bab-4c77-b8fe-3b5f0446a14f",
   "metadata": {},
   "outputs": [],
   "source": [
    "# Separate nodes (where _start and _end are NaN or empty)\n",
    "nodes_df = df[df['_start'].isnull()]"
   ]
  },
  {
   "cell_type": "code",
   "execution_count": 6,
   "id": "d121900c-c88d-41bd-b122-9bdc682becce",
   "metadata": {},
   "outputs": [],
   "source": [
    "# Separate relationships (where _start and _end are not NaN)\n",
    "relationships_df = df.dropna(subset=['_start', '_end'])"
   ]
  },
  {
   "cell_type": "code",
   "execution_count": 7,
   "id": "7980a7a2-2b16-4a0b-9c4d-ed6ebc9e9c81",
   "metadata": {},
   "outputs": [
    {
     "data": {
      "text/plain": [
       "((172, 15), (253, 15))"
      ]
     },
     "execution_count": 7,
     "metadata": {},
     "output_type": "execute_result"
    }
   ],
   "source": [
    "nodes_df.shape, relationships_df.shape"
   ]
  },
  {
   "cell_type": "code",
   "execution_count": 8,
   "id": "9aa2be3e-6be2-4a8f-adba-e08807a36f5f",
   "metadata": {},
   "outputs": [
    {
     "data": {
      "text/html": [
       "<div>\n",
       "<style scoped>\n",
       "    .dataframe tbody tr th:only-of-type {\n",
       "        vertical-align: middle;\n",
       "    }\n",
       "\n",
       "    .dataframe tbody tr th {\n",
       "        vertical-align: top;\n",
       "    }\n",
       "\n",
       "    .dataframe thead th {\n",
       "        text-align: right;\n",
       "    }\n",
       "</style>\n",
       "<table border=\"1\" class=\"dataframe\">\n",
       "  <thead>\n",
       "    <tr style=\"text-align: right;\">\n",
       "      <th></th>\n",
       "      <th>_id</th>\n",
       "      <th>_labels</th>\n",
       "      <th>born</th>\n",
       "      <th>lastSeen</th>\n",
       "      <th>name</th>\n",
       "      <th>released</th>\n",
       "      <th>tagline</th>\n",
       "      <th>taglineEmbedding</th>\n",
       "      <th>title</th>\n",
       "      <th>_start</th>\n",
       "      <th>_end</th>\n",
       "      <th>_type</th>\n",
       "      <th>rating</th>\n",
       "      <th>roles</th>\n",
       "      <th>summary</th>\n",
       "    </tr>\n",
       "  </thead>\n",
       "  <tbody>\n",
       "    <tr>\n",
       "      <th>109</th>\n",
       "      <td>109.0</td>\n",
       "      <td>:Person</td>\n",
       "      <td>1969.0</td>\n",
       "      <td>NaN</td>\n",
       "      <td>David Mitchell</td>\n",
       "      <td>NaN</td>\n",
       "      <td>NaN</td>\n",
       "      <td>NaN</td>\n",
       "      <td>NaN</td>\n",
       "      <td>NaN</td>\n",
       "      <td>NaN</td>\n",
       "      <td>NaN</td>\n",
       "      <td>NaN</td>\n",
       "      <td>NaN</td>\n",
       "      <td>NaN</td>\n",
       "    </tr>\n",
       "    <tr>\n",
       "      <th>161</th>\n",
       "      <td>161.0</td>\n",
       "      <td>:Movie</td>\n",
       "      <td>NaN</td>\n",
       "      <td>NaN</td>\n",
       "      <td>NaN</td>\n",
       "      <td>2004.0</td>\n",
       "      <td>This Holiday Season... Believe</td>\n",
       "      <td>[-6.733057E-4,-0.017166452,-0.013592816,-0.017...</td>\n",
       "      <td>The Polar Express</td>\n",
       "      <td>NaN</td>\n",
       "      <td>NaN</td>\n",
       "      <td>NaN</td>\n",
       "      <td>NaN</td>\n",
       "      <td>NaN</td>\n",
       "      <td>NaN</td>\n",
       "    </tr>\n",
       "    <tr>\n",
       "      <th>33</th>\n",
       "      <td>33.0</td>\n",
       "      <td>:Person</td>\n",
       "      <td>1933.0</td>\n",
       "      <td>NaN</td>\n",
       "      <td>Tom Skerritt</td>\n",
       "      <td>NaN</td>\n",
       "      <td>NaN</td>\n",
       "      <td>NaN</td>\n",
       "      <td>NaN</td>\n",
       "      <td>NaN</td>\n",
       "      <td>NaN</td>\n",
       "      <td>NaN</td>\n",
       "      <td>NaN</td>\n",
       "      <td>NaN</td>\n",
       "      <td>NaN</td>\n",
       "    </tr>\n",
       "  </tbody>\n",
       "</table>\n",
       "</div>"
      ],
      "text/plain": [
       "       _id  _labels    born  lastSeen            name  released  \\\n",
       "109  109.0  :Person  1969.0       NaN  David Mitchell       NaN   \n",
       "161  161.0   :Movie     NaN       NaN             NaN    2004.0   \n",
       "33    33.0  :Person  1933.0       NaN    Tom Skerritt       NaN   \n",
       "\n",
       "                            tagline  \\\n",
       "109                             NaN   \n",
       "161  This Holiday Season... Believe   \n",
       "33                              NaN   \n",
       "\n",
       "                                      taglineEmbedding              title  \\\n",
       "109                                                NaN                NaN   \n",
       "161  [-6.733057E-4,-0.017166452,-0.013592816,-0.017...  The Polar Express   \n",
       "33                                                 NaN                NaN   \n",
       "\n",
       "     _start  _end _type  rating roles summary  \n",
       "109     NaN   NaN   NaN     NaN   NaN     NaN  \n",
       "161     NaN   NaN   NaN     NaN   NaN     NaN  \n",
       "33      NaN   NaN   NaN     NaN   NaN     NaN  "
      ]
     },
     "execution_count": 8,
     "metadata": {},
     "output_type": "execute_result"
    }
   ],
   "source": [
    "nodes_df.sample(3)"
   ]
  },
  {
   "cell_type": "code",
   "execution_count": 9,
   "id": "a3ae6012-347d-4c31-bb55-9aa72046fe22",
   "metadata": {},
   "outputs": [
    {
     "data": {
      "text/html": [
       "<div>\n",
       "<style scoped>\n",
       "    .dataframe tbody tr th:only-of-type {\n",
       "        vertical-align: middle;\n",
       "    }\n",
       "\n",
       "    .dataframe tbody tr th {\n",
       "        vertical-align: top;\n",
       "    }\n",
       "\n",
       "    .dataframe thead th {\n",
       "        text-align: right;\n",
       "    }\n",
       "</style>\n",
       "<table border=\"1\" class=\"dataframe\">\n",
       "  <thead>\n",
       "    <tr style=\"text-align: right;\">\n",
       "      <th></th>\n",
       "      <th>_id</th>\n",
       "      <th>_labels</th>\n",
       "      <th>born</th>\n",
       "      <th>lastSeen</th>\n",
       "      <th>name</th>\n",
       "      <th>released</th>\n",
       "      <th>tagline</th>\n",
       "      <th>taglineEmbedding</th>\n",
       "      <th>title</th>\n",
       "      <th>_start</th>\n",
       "      <th>_end</th>\n",
       "      <th>_type</th>\n",
       "      <th>rating</th>\n",
       "      <th>roles</th>\n",
       "      <th>summary</th>\n",
       "    </tr>\n",
       "  </thead>\n",
       "  <tbody>\n",
       "    <tr>\n",
       "      <th>248</th>\n",
       "      <td>NaN</td>\n",
       "      <td>NaN</td>\n",
       "      <td>NaN</td>\n",
       "      <td>NaN</td>\n",
       "      <td>NaN</td>\n",
       "      <td>NaN</td>\n",
       "      <td>NaN</td>\n",
       "      <td>NaN</td>\n",
       "      <td>NaN</td>\n",
       "      <td>58.0</td>\n",
       "      <td>56.0</td>\n",
       "      <td>ACTED_IN</td>\n",
       "      <td>NaN</td>\n",
       "      <td>[\"The Tracker\"]</td>\n",
       "      <td>NaN</td>\n",
       "    </tr>\n",
       "    <tr>\n",
       "      <th>244</th>\n",
       "      <td>NaN</td>\n",
       "      <td>NaN</td>\n",
       "      <td>NaN</td>\n",
       "      <td>NaN</td>\n",
       "      <td>NaN</td>\n",
       "      <td>NaN</td>\n",
       "      <td>NaN</td>\n",
       "      <td>NaN</td>\n",
       "      <td>NaN</td>\n",
       "      <td>55.0</td>\n",
       "      <td>52.0</td>\n",
       "      <td>DIRECTED</td>\n",
       "      <td>NaN</td>\n",
       "      <td>NaN</td>\n",
       "      <td>NaN</td>\n",
       "    </tr>\n",
       "    <tr>\n",
       "      <th>399</th>\n",
       "      <td>NaN</td>\n",
       "      <td>NaN</td>\n",
       "      <td>NaN</td>\n",
       "      <td>NaN</td>\n",
       "      <td>NaN</td>\n",
       "      <td>NaN</td>\n",
       "      <td>NaN</td>\n",
       "      <td>NaN</td>\n",
       "      <td>NaN</td>\n",
       "      <td>158.0</td>\n",
       "      <td>157.0</td>\n",
       "      <td>DIRECTED</td>\n",
       "      <td>NaN</td>\n",
       "      <td>NaN</td>\n",
       "      <td>NaN</td>\n",
       "    </tr>\n",
       "  </tbody>\n",
       "</table>\n",
       "</div>"
      ],
      "text/plain": [
       "     _id _labels  born  lastSeen name  released tagline taglineEmbedding  \\\n",
       "248  NaN     NaN   NaN       NaN  NaN       NaN     NaN              NaN   \n",
       "244  NaN     NaN   NaN       NaN  NaN       NaN     NaN              NaN   \n",
       "399  NaN     NaN   NaN       NaN  NaN       NaN     NaN              NaN   \n",
       "\n",
       "    title  _start   _end     _type  rating            roles summary  \n",
       "248   NaN    58.0   56.0  ACTED_IN     NaN  [\"The Tracker\"]     NaN  \n",
       "244   NaN    55.0   52.0  DIRECTED     NaN              NaN     NaN  \n",
       "399   NaN   158.0  157.0  DIRECTED     NaN              NaN     NaN  "
      ]
     },
     "execution_count": 9,
     "metadata": {},
     "output_type": "execute_result"
    }
   ],
   "source": [
    "relationships_df.sample(3)"
   ]
  },
  {
   "cell_type": "code",
   "execution_count": 10,
   "id": "9492e7bb-c4b3-4e45-b76c-156caedd4f8e",
   "metadata": {},
   "outputs": [],
   "source": [
    "# Keep only relevant columns for nodes (no 'rating')\n",
    "nodes_df = nodes_df[['_id', '_labels', 'born', 'lastSeen', 'name', 'released', 'tagline', 'taglineEmbedding', 'title']]\n",
    "\n",
    "# Keep the relevant columns for relationships (including 'rating')\n",
    "relationships_df = relationships_df[['_id', '_start', '_end', '_type', 'rating', 'roles', 'summary']]"
   ]
  },
  {
   "cell_type": "code",
   "execution_count": 14,
   "id": "794d2f5a-b8e2-40f7-8b5c-372df05d66b8",
   "metadata": {},
   "outputs": [
    {
     "data": {
      "text/html": [
       "<div>\n",
       "<style scoped>\n",
       "    .dataframe tbody tr th:only-of-type {\n",
       "        vertical-align: middle;\n",
       "    }\n",
       "\n",
       "    .dataframe tbody tr th {\n",
       "        vertical-align: top;\n",
       "    }\n",
       "\n",
       "    .dataframe thead th {\n",
       "        text-align: right;\n",
       "    }\n",
       "</style>\n",
       "<table border=\"1\" class=\"dataframe\">\n",
       "  <thead>\n",
       "    <tr style=\"text-align: right;\">\n",
       "      <th></th>\n",
       "      <th>_id</th>\n",
       "      <th>_labels</th>\n",
       "      <th>born</th>\n",
       "      <th>lastSeen</th>\n",
       "      <th>name</th>\n",
       "      <th>released</th>\n",
       "      <th>tagline</th>\n",
       "      <th>taglineEmbedding</th>\n",
       "      <th>title</th>\n",
       "    </tr>\n",
       "  </thead>\n",
       "  <tbody>\n",
       "    <tr>\n",
       "      <th>140</th>\n",
       "      <td>140.0</td>\n",
       "      <td>:Person</td>\n",
       "      <td>1960.0</td>\n",
       "      <td>NaN</td>\n",
       "      <td>Oliver Platt</td>\n",
       "      <td>NaN</td>\n",
       "      <td>NaN</td>\n",
       "      <td>NaN</td>\n",
       "      <td>NaN</td>\n",
       "    </tr>\n",
       "    <tr>\n",
       "      <th>168</th>\n",
       "      <td>168.0</td>\n",
       "      <td>:Person</td>\n",
       "      <td>NaN</td>\n",
       "      <td>NaN</td>\n",
       "      <td>Angela Scope</td>\n",
       "      <td>NaN</td>\n",
       "      <td>NaN</td>\n",
       "      <td>NaN</td>\n",
       "      <td>NaN</td>\n",
       "    </tr>\n",
       "    <tr>\n",
       "      <th>159</th>\n",
       "      <td>159.0</td>\n",
       "      <td>:Movie</td>\n",
       "      <td>NaN</td>\n",
       "      <td>NaN</td>\n",
       "      <td>NaN</td>\n",
       "      <td>2007.0</td>\n",
       "      <td>A stiff drink. A little mascara. A lot of nerv...</td>\n",
       "      <td>[-0.0074488586,-0.014382637,-8.118299E-4,-0.01...</td>\n",
       "      <td>Charlie Wilson's War</td>\n",
       "    </tr>\n",
       "  </tbody>\n",
       "</table>\n",
       "</div>"
      ],
      "text/plain": [
       "       _id  _labels    born  lastSeen          name  released  \\\n",
       "140  140.0  :Person  1960.0       NaN  Oliver Platt       NaN   \n",
       "168  168.0  :Person     NaN       NaN  Angela Scope       NaN   \n",
       "159  159.0   :Movie     NaN       NaN           NaN    2007.0   \n",
       "\n",
       "                                               tagline  \\\n",
       "140                                                NaN   \n",
       "168                                                NaN   \n",
       "159  A stiff drink. A little mascara. A lot of nerv...   \n",
       "\n",
       "                                      taglineEmbedding                 title  \n",
       "140                                                NaN                   NaN  \n",
       "168                                                NaN                   NaN  \n",
       "159  [-0.0074488586,-0.014382637,-8.118299E-4,-0.01...  Charlie Wilson's War  "
      ]
     },
     "execution_count": 14,
     "metadata": {},
     "output_type": "execute_result"
    }
   ],
   "source": [
    "nodes_df.sample(3)"
   ]
  },
  {
   "cell_type": "code",
   "execution_count": 15,
   "id": "c5cae0e0-19f7-4848-92d1-f2054e00a161",
   "metadata": {},
   "outputs": [
    {
     "data": {
      "text/html": [
       "<div>\n",
       "<style scoped>\n",
       "    .dataframe tbody tr th:only-of-type {\n",
       "        vertical-align: middle;\n",
       "    }\n",
       "\n",
       "    .dataframe tbody tr th {\n",
       "        vertical-align: top;\n",
       "    }\n",
       "\n",
       "    .dataframe thead th {\n",
       "        text-align: right;\n",
       "    }\n",
       "</style>\n",
       "<table border=\"1\" class=\"dataframe\">\n",
       "  <thead>\n",
       "    <tr style=\"text-align: right;\">\n",
       "      <th></th>\n",
       "      <th>_id</th>\n",
       "      <th>_start</th>\n",
       "      <th>_end</th>\n",
       "      <th>_type</th>\n",
       "      <th>rating</th>\n",
       "      <th>roles</th>\n",
       "      <th>summary</th>\n",
       "    </tr>\n",
       "  </thead>\n",
       "  <tbody>\n",
       "    <tr>\n",
       "      <th>356</th>\n",
       "      <td>NaN</td>\n",
       "      <td>132.0</td>\n",
       "      <td>130.0</td>\n",
       "      <td>ACTED_IN</td>\n",
       "      <td>NaN</td>\n",
       "      <td>[\"Brutus \\\"Brutal\\\" Howell\"]</td>\n",
       "      <td>NaN</td>\n",
       "    </tr>\n",
       "    <tr>\n",
       "      <th>186</th>\n",
       "      <td>NaN</td>\n",
       "      <td>7.0</td>\n",
       "      <td>9.0</td>\n",
       "      <td>PRODUCED</td>\n",
       "      <td>NaN</td>\n",
       "      <td>NaN</td>\n",
       "      <td>NaN</td>\n",
       "    </tr>\n",
       "    <tr>\n",
       "      <th>259</th>\n",
       "      <td>NaN</td>\n",
       "      <td>68.0</td>\n",
       "      <td>67.0</td>\n",
       "      <td>ACTED_IN</td>\n",
       "      <td>NaN</td>\n",
       "      <td>[\"Patricia Eden\"]</td>\n",
       "      <td>NaN</td>\n",
       "    </tr>\n",
       "  </tbody>\n",
       "</table>\n",
       "</div>"
      ],
      "text/plain": [
       "     _id  _start   _end     _type  rating                         roles  \\\n",
       "356  NaN   132.0  130.0  ACTED_IN     NaN  [\"Brutus \\\"Brutal\\\" Howell\"]   \n",
       "186  NaN     7.0    9.0  PRODUCED     NaN                           NaN   \n",
       "259  NaN    68.0   67.0  ACTED_IN     NaN             [\"Patricia Eden\"]   \n",
       "\n",
       "    summary  \n",
       "356     NaN  \n",
       "186     NaN  \n",
       "259     NaN  "
      ]
     },
     "execution_count": 15,
     "metadata": {},
     "output_type": "execute_result"
    }
   ],
   "source": [
    "relationships_df.sample(3)"
   ]
  },
  {
   "cell_type": "code",
   "execution_count": 23,
   "id": "330fce31-1bd0-41b1-9092-595dbb23ef49",
   "metadata": {},
   "outputs": [],
   "source": [
    "# Save them to separate files if needed\n",
    "nodes_df.to_csv('nodes_data.csv', index=False)\n",
    "relationships_df.to_csv('relationships_data.csv', index=False)"
   ]
  },
  {
   "cell_type": "code",
   "execution_count": null,
   "id": "74a763bc-a4f8-4451-bdc1-c94d176d1169",
   "metadata": {},
   "outputs": [],
   "source": []
  },
  {
   "cell_type": "markdown",
   "id": "e0c64638-14d8-4882-9d3a-b99a3ef9d3c9",
   "metadata": {},
   "source": [
    "#### load data"
   ]
  },
  {
   "cell_type": "code",
   "execution_count": 24,
   "id": "d6d508cd-2986-41c5-a6f1-a3ca259c759d",
   "metadata": {},
   "outputs": [],
   "source": [
    "from neo4j import GraphDatabase"
   ]
  },
  {
   "cell_type": "code",
   "execution_count": 25,
   "id": "e79f5275-f012-48f7-bcb4-3d209f850d7a",
   "metadata": {},
   "outputs": [],
   "source": [
    "# neo4j - Aura DB free (cloud)\n",
    "NEO4J_URI     = 'neo4j+s://264d8780.databases.neo4j.io'\n",
    "NEO4J_USERNAME= 'neo4j'\n",
    "NEO4J_PASSWORD= '5l2648jhBn6kzOFi_XcK_yzYCVFzZIpoOPW7xp7M_Ss'\n",
    "NEO4J_DATABASE= 'neo4j'\n",
    "AURA_INSTANCEID= '264d8780'\n",
    "AURA_INSTANCENAME = 'Instance01'"
   ]
  },
  {
   "cell_type": "code",
   "execution_count": 26,
   "id": "5a77e14b-f138-4f94-b340-f69593e83435",
   "metadata": {},
   "outputs": [],
   "source": [
    "driver = GraphDatabase.driver(NEO4J_URI, auth=(NEO4J_USERNAME, NEO4J_PASSWORD))"
   ]
  },
  {
   "cell_type": "code",
   "execution_count": 27,
   "id": "131f3f9e-a341-4599-98f4-abb0d5b00eb0",
   "metadata": {},
   "outputs": [
    {
     "name": "stdout",
     "output_type": "stream",
     "text": [
      "All nodes and relationships deleted.\n"
     ]
    }
   ],
   "source": [
    "def delete_all_nodes_and_relationships():\n",
    "    query = \"\"\"\n",
    "    MATCH (n)\n",
    "    DETACH DELETE n\n",
    "    \"\"\"\n",
    "    with driver.session() as session:\n",
    "        session.run(query)\n",
    "    print(\"All nodes and relationships deleted.\")\n",
    "\n",
    "# Call the function\n",
    "delete_all_nodes_and_relationships()"
   ]
  },
  {
   "cell_type": "markdown",
   "id": "ad8a3c64-41c0-4924-b129-7d0da1a7f9e6",
   "metadata": {},
   "source": [
    "**nodes - movies**"
   ]
  },
  {
   "cell_type": "code",
   "execution_count": 28,
   "id": "2e97d77c-1b5f-40a7-ba4b-30ef5d24de2d",
   "metadata": {},
   "outputs": [],
   "source": [
    "def load_nodes(csv_file, query):\n",
    "    with open(csv_file, 'r') as f:\n",
    "        reader = csv.DictReader(f)\n",
    "        for row in reader:\n",
    "            # Process only rows where _labels is ':Movie'\n",
    "            if row['_labels'] == ':Movie':\n",
    "                # Parse taglineEmbedding from string to list of floats if available\n",
    "                tagline_embedding = ast.literal_eval(row['taglineEmbedding']) if row.get('taglineEmbedding') else None\n",
    "                \n",
    "                # Extract other values from the row, handle any missing values (None)\n",
    "                params = {key.strip(): value.strip() if value else None for key, value in row.items()}\n",
    "                params['taglineEmbedding'] = tagline_embedding  # Add taglineEmbedding to params\n",
    "\n",
    "                # Rename _id to id in the params dictionary for Neo4j\n",
    "                params['id'] = params.pop('_id')  # This ensures the key for the Cypher query is 'id'\n",
    "\n",
    "                # Debugging: Print the parameters to ensure the correct 'id' field\n",
    "                #print(f\"Params for Movie: {params}\")\n",
    "\n",
    "                # Execute the query with parameters\n",
    "                with driver.session() as session:\n",
    "                    session.run(query, params)"
   ]
  },
  {
   "cell_type": "code",
   "execution_count": 29,
   "id": "6395f737-f4d5-4e8b-86eb-8a67ecc35e5f",
   "metadata": {},
   "outputs": [],
   "source": [
    "# Cypher query for nodes (adjust based on your CSV structure)\n",
    "node_query = \"\"\"\n",
    "MERGE (n:Movie {id: $id})\n",
    "SET n.name = $name,\n",
    "    n.released         = $released,\n",
    "    n.tagline          = $tagline,\n",
    "    n.title            = $title,\n",
    "    n.taglineEmbedding = $taglineEmbedding\n",
    "\"\"\""
   ]
  },
  {
   "cell_type": "code",
   "execution_count": 30,
   "id": "be194174-552b-46af-9d98-e2887a462db0",
   "metadata": {},
   "outputs": [],
   "source": [
    "# Load nodes and relationships\n",
    "load_nodes('nodes_data.csv', node_query)"
   ]
  },
  {
   "cell_type": "markdown",
   "id": "238d338d-2f68-4ad1-92c4-f50dd20cae32",
   "metadata": {},
   "source": [
    "**Query the movie nodes**"
   ]
  },
  {
   "cell_type": "code",
   "execution_count": 31,
   "id": "741ec642-cf14-4a8c-8bf2-2b2b2e197ac7",
   "metadata": {},
   "outputs": [],
   "source": [
    "# Function to query Movie nodes\n",
    "def query_movies():\n",
    "    with driver.session() as session:\n",
    "        \n",
    "        result = session.run(\"MATCH (m:Movie) RETURN m.id AS id, m.title AS title, m.released AS released, m.tagline AS tagline LIMIT 20\")\n",
    "        \n",
    "        for record in result:\n",
    "            print(f\"Movie ID: {record['id']}, Title: {record['title']}, Released: {record['released']}, Tagline: {record['tagline']}\")"
   ]
  },
  {
   "cell_type": "code",
   "execution_count": 32,
   "id": "a6e5afb4-d6b5-4a34-a6b0-06094d5178f5",
   "metadata": {},
   "outputs": [
    {
     "name": "stdout",
     "output_type": "stream",
     "text": [
      "Movie ID: 0.0, Title: The Matrix, Released: 1999.0, Tagline: Welcome to the Real World\n",
      "Movie ID: 9.0, Title: The Matrix Reloaded, Released: 2003.0, Tagline: Free your mind\n",
      "Movie ID: 10.0, Title: The Matrix Revolutions, Released: 2003.0, Tagline: Everything that has a beginning has an end\n",
      "Movie ID: 11.0, Title: The Devil's Advocate, Released: 1997.0, Tagline: Evil has its winning ways\n",
      "Movie ID: 15.0, Title: A Few Good Men, Released: 1992.0, Tagline: In the heart of the nation's capital, in a courthouse of the U.S. government, one man will stop at nothing to keep his honor, and one will stop at nothing to find the truth.\n",
      "Movie ID: 29.0, Title: Top Gun, Released: 1986.0, Tagline: I feel the need, the need for speed.\n",
      "Movie ID: 37.0, Title: Jerry Maguire, Released: 2000.0, Tagline: The rest of his life begins now.\n",
      "Movie ID: 46.0, Title: Stand By Me, Released: 1986.0, Tagline: For some, it's the last real taste of innocence, and the first real taste of life. But for everyone, it's the time that memories are made of.\n",
      "Movie ID: 52.0, Title: As Good as It Gets, Released: 1997.0, Tagline: A comedy from the heart that goes for the throat.\n",
      "Movie ID: 56.0, Title: What Dreams May Come, Released: 1998.0, Tagline: After life there is more. The end is just the beginning.\n",
      "Movie ID: 62.0, Title: Snow Falling on Cedars, Released: 1999.0, Tagline: First loves last. Forever.\n",
      "Movie ID: 67.0, Title: You've Got Mail, Released: 1998.0, Tagline: At odds in life... in love on-line.\n",
      "Movie ID: 73.0, Title: Sleepless in Seattle, Released: 1993.0, Tagline: What if someone you never met, someone you never saw, someone you never knew was the only someone for you?\n",
      "Movie ID: 78.0, Title: Joe Versus the Volcano, Released: 1990.0, Tagline: A story of love, lava and burning desire.\n",
      "Movie ID: 81.0, Title: When Harry Met Sally, Released: 1998.0, Tagline: Can two friends sleep together and still love each other in the morning?\n",
      "Movie ID: 85.0, Title: That Thing You Do, Released: 1996.0, Tagline: In every life there comes a time when that thing you dream becomes that thing you do\n",
      "Movie ID: 87.0, Title: The Replacements, Released: 2000.0, Tagline: Pain heals, Chicks dig scars... Glory lasts forever\n",
      "Movie ID: 92.0, Title: RescueDawn, Released: 2006.0, Tagline: Based on the extraordinary true story of one man's fight for freedom\n",
      "Movie ID: 95.0, Title: The Birdcage, Released: 1996.0, Tagline: Come as you are\n",
      "Movie ID: 97.0, Title: Unforgiven, Released: 1992.0, Tagline: It's a hell of a thing, killing a man\n"
     ]
    }
   ],
   "source": [
    "query_movies()"
   ]
  },
  {
   "cell_type": "markdown",
   "id": "fd980ede-c779-4a9c-a1c9-458f5911e037",
   "metadata": {},
   "source": [
    "**add Nodes - person**"
   ]
  },
  {
   "cell_type": "code",
   "execution_count": 33,
   "id": "f1c93666-aebd-447c-aeb1-ac61a78663b5",
   "metadata": {},
   "outputs": [],
   "source": [
    "def load_person_nodes(csv_file):\n",
    "    person_query = \"\"\"\n",
    "    MERGE (p:Person {id: $id})\n",
    "    SET p.name = $name,\n",
    "        p.born = $born,\n",
    "        p.lastSeen = $lastSeen\n",
    "    \"\"\"\n",
    "    \n",
    "    with open(csv_file, 'r') as f:\n",
    "        reader = csv.DictReader(f)\n",
    "        for row in reader:\n",
    "            if row['_labels'] == ':Person':\n",
    "                # Prepare parameters\n",
    "                params = {\n",
    "                    'id': row['_id'],\n",
    "                    'name': row.get('name'),\n",
    "                    # Convert values to integers if they exist\n",
    "                    'born': int(float(row['born'])) if row.get('born') else None,\n",
    "                    'lastSeen': int(float(row['lastSeen'])) if row.get('lastSeen') else None,\n",
    "                }\n",
    "                # Execute query\n",
    "                with driver.session() as session:\n",
    "                    session.run(person_query, params)\n",
    "\n",
    "    print(\"Person nodes loaded successfully.\")"
   ]
  },
  {
   "cell_type": "code",
   "execution_count": 34,
   "id": "b60e4085-bf8f-4856-ae2c-19b68491cfe6",
   "metadata": {},
   "outputs": [],
   "source": [
    "person_query = \"\"\"\n",
    "MERGE (p:Person {id: $id})\n",
    "SET p.name = $name,\n",
    "    p.born = $born,\n",
    "    p.lastSeen = $lastSeen\n",
    "\"\"\""
   ]
  },
  {
   "cell_type": "code",
   "execution_count": 35,
   "id": "44ab4428-5b67-411b-99b5-5f4d7e7d852c",
   "metadata": {},
   "outputs": [
    {
     "name": "stdout",
     "output_type": "stream",
     "text": [
      "Person nodes loaded successfully.\n"
     ]
    }
   ],
   "source": [
    "load_person_nodes('nodes_data.csv')"
   ]
  },
  {
   "cell_type": "markdown",
   "id": "1aa02398-a2a6-4fec-b94d-af19d9a5624e",
   "metadata": {},
   "source": [
    "**query the persons nodes**"
   ]
  },
  {
   "cell_type": "code",
   "execution_count": 36,
   "id": "6237ad16-8c0e-425c-a4ea-48429316fb42",
   "metadata": {},
   "outputs": [],
   "source": [
    "def query_person_nodes():\n",
    "    person_query = \"\"\"\n",
    "    MATCH (p:Person)\n",
    "    RETURN p.id AS id, p.name AS name, p.born AS born, p.lastSeen AS lastSeen\n",
    "    LIMIT 10\n",
    "    \"\"\"\n",
    "    \n",
    "    with driver.session() as session:\n",
    "        results = session.run(person_query)\n",
    "        for record in results:\n",
    "            print(f\"ID: {record['id']}, Name: {record['name']}, Born: {record['born']}, Last Seen: {record['lastSeen']}\")"
   ]
  },
  {
   "cell_type": "code",
   "execution_count": 37,
   "id": "6b64fa18-93b8-4c0c-9c0c-32a70e8742ed",
   "metadata": {},
   "outputs": [
    {
     "name": "stdout",
     "output_type": "stream",
     "text": [
      "ID: 1.0, Name: Keanu Reeves, Born: 1964, Last Seen: None\n",
      "ID: 2.0, Name: Carrie-Anne Moss, Born: 1967, Last Seen: None\n",
      "ID: 3.0, Name: Laurence Fishburne, Born: 1961, Last Seen: None\n",
      "ID: 4.0, Name: Hugo Weaving, Born: 1960, Last Seen: None\n",
      "ID: 5.0, Name: Lilly Wachowski, Born: 1967, Last Seen: None\n",
      "ID: 6.0, Name: Lana Wachowski, Born: 1965, Last Seen: None\n",
      "ID: 7.0, Name: Joel Silver, Born: 1952, Last Seen: None\n",
      "ID: 8.0, Name: Emil Eifrem, Born: 1978, Last Seen: None\n",
      "ID: 12.0, Name: Charlize Theron, Born: 1975, Last Seen: None\n",
      "ID: 13.0, Name: Al Pacino, Born: 1940, Last Seen: None\n"
     ]
    }
   ],
   "source": [
    "query_person_nodes()"
   ]
  },
  {
   "cell_type": "markdown",
   "id": "49d3a788-c317-4cdb-8cfd-38d24f8d6f44",
   "metadata": {},
   "source": [
    "#### load relations"
   ]
  },
  {
   "cell_type": "code",
   "execution_count": 38,
   "id": "831e5e11-7777-4353-a9e0-04e29fff5fb3",
   "metadata": {},
   "outputs": [
    {
     "data": {
      "text/html": [
       "<div>\n",
       "<style scoped>\n",
       "    .dataframe tbody tr th:only-of-type {\n",
       "        vertical-align: middle;\n",
       "    }\n",
       "\n",
       "    .dataframe tbody tr th {\n",
       "        vertical-align: top;\n",
       "    }\n",
       "\n",
       "    .dataframe thead th {\n",
       "        text-align: right;\n",
       "    }\n",
       "</style>\n",
       "<table border=\"1\" class=\"dataframe\">\n",
       "  <thead>\n",
       "    <tr style=\"text-align: right;\">\n",
       "      <th></th>\n",
       "      <th>_id</th>\n",
       "      <th>_start</th>\n",
       "      <th>_end</th>\n",
       "      <th>_type</th>\n",
       "      <th>rating</th>\n",
       "      <th>roles</th>\n",
       "      <th>summary</th>\n",
       "    </tr>\n",
       "  </thead>\n",
       "  <tbody>\n",
       "    <tr>\n",
       "      <th>308</th>\n",
       "      <td>NaN</td>\n",
       "      <td>104.0</td>\n",
       "      <td>100.0</td>\n",
       "      <td>DIRECTED</td>\n",
       "      <td>NaN</td>\n",
       "      <td>NaN</td>\n",
       "      <td>NaN</td>\n",
       "    </tr>\n",
       "    <tr>\n",
       "      <th>387</th>\n",
       "      <td>NaN</td>\n",
       "      <td>151.0</td>\n",
       "      <td>150.0</td>\n",
       "      <td>DIRECTED</td>\n",
       "      <td>NaN</td>\n",
       "      <td>NaN</td>\n",
       "      <td>NaN</td>\n",
       "    </tr>\n",
       "    <tr>\n",
       "      <th>242</th>\n",
       "      <td>NaN</td>\n",
       "      <td>54.0</td>\n",
       "      <td>52.0</td>\n",
       "      <td>ACTED_IN</td>\n",
       "      <td>NaN</td>\n",
       "      <td>[\"Simon Bishop\"]</td>\n",
       "      <td>NaN</td>\n",
       "    </tr>\n",
       "    <tr>\n",
       "      <th>224</th>\n",
       "      <td>NaN</td>\n",
       "      <td>40.0</td>\n",
       "      <td>37.0</td>\n",
       "      <td>ACTED_IN</td>\n",
       "      <td>NaN</td>\n",
       "      <td>[\"Frank Cushman\"]</td>\n",
       "      <td>NaN</td>\n",
       "    </tr>\n",
       "    <tr>\n",
       "      <th>400</th>\n",
       "      <td>NaN</td>\n",
       "      <td>71.0</td>\n",
       "      <td>159.0</td>\n",
       "      <td>ACTED_IN</td>\n",
       "      <td>NaN</td>\n",
       "      <td>[\"Rep. Charlie Wilson\"]</td>\n",
       "      <td>NaN</td>\n",
       "    </tr>\n",
       "  </tbody>\n",
       "</table>\n",
       "</div>"
      ],
      "text/plain": [
       "     _id  _start   _end     _type  rating                    roles summary\n",
       "308  NaN   104.0  100.0  DIRECTED     NaN                      NaN     NaN\n",
       "387  NaN   151.0  150.0  DIRECTED     NaN                      NaN     NaN\n",
       "242  NaN    54.0   52.0  ACTED_IN     NaN         [\"Simon Bishop\"]     NaN\n",
       "224  NaN    40.0   37.0  ACTED_IN     NaN        [\"Frank Cushman\"]     NaN\n",
       "400  NaN    71.0  159.0  ACTED_IN     NaN  [\"Rep. Charlie Wilson\"]     NaN"
      ]
     },
     "execution_count": 38,
     "metadata": {},
     "output_type": "execute_result"
    }
   ],
   "source": [
    "relationships_df.sample(5)"
   ]
  },
  {
   "cell_type": "code",
   "execution_count": 39,
   "id": "2aad351d-7441-459e-b123-0ff054565ade",
   "metadata": {},
   "outputs": [],
   "source": [
    "# Function to load relationships\n",
    "def load_relationships(csv_file):\n",
    "    with open(csv_file, 'r') as file:\n",
    "        reader = csv.DictReader(file)\n",
    "        with driver.session() as session:\n",
    "            for row in reader:\n",
    "                # Extract relationship details\n",
    "                start_id = row['_start']\n",
    "                end_id = row['_end']\n",
    "                rel_type = row['_type']\n",
    "                \n",
    "                # Prepare additional properties (if any)\n",
    "                properties = {key: row[key] for key in row if key not in ['_start', '_end', '_type'] and row[key]}\n",
    "\n",
    "                # Build the Cypher query dynamically\n",
    "                query = f\"\"\"\n",
    "                MATCH (start), (end)\n",
    "                WHERE start.id = $start_id AND end.id = $end_id\n",
    "                CREATE (start)-[r:{rel_type} {{ {', '.join(f'{k}: ${k}' for k in properties)} }}]->(end)\n",
    "                \"\"\"\n",
    "                \n",
    "                # Combine parameters\n",
    "                params = {'start_id': start_id, 'end_id': end_id}\n",
    "                params.update(properties)\n",
    "\n",
    "                # Run the query\n",
    "                session.run(query, params)"
   ]
  },
  {
   "cell_type": "code",
   "execution_count": 40,
   "id": "7fad9d82-17cc-4d4e-9176-9f945c71df6f",
   "metadata": {},
   "outputs": [],
   "source": [
    "load_relationships('relationships_data.csv')"
   ]
  },
  {
   "cell_type": "markdown",
   "id": "8121ab35-9ea7-460e-83b1-baf9eeaa7f92",
   "metadata": {},
   "source": [
    "#### some more queries"
   ]
  },
  {
   "cell_type": "code",
   "execution_count": 41,
   "id": "1420387c-8ae7-42ec-a4bd-ac8baff555cd",
   "metadata": {},
   "outputs": [],
   "source": [
    "# Function to query all movies\n",
    "def query_movies():\n",
    "    with driver.session(database=NEO4J_DATABASE) as session:\n",
    "        query = \"\"\"\n",
    "        MATCH (m:Movie)\n",
    "        RETURN m.id AS MovieID, m.title AS Title, m.released AS Released, m.tagline AS Tagline\n",
    "        LIMIT 10\n",
    "        \"\"\"\n",
    "        result = session.run(query)\n",
    "        for record in result:\n",
    "            print(f\"Movie ID: {record['MovieID']}, Name: {record['Title']}, Released: {record['Released']}, Tagline: {record['Tagline']}\")"
   ]
  },
  {
   "cell_type": "code",
   "execution_count": 42,
   "id": "c0f3ad7d-5c47-437a-a603-d8941644843c",
   "metadata": {},
   "outputs": [
    {
     "name": "stdout",
     "output_type": "stream",
     "text": [
      "Movie ID: 0.0, Name: The Matrix, Released: 1999.0, Tagline: Welcome to the Real World\n",
      "Movie ID: 9.0, Name: The Matrix Reloaded, Released: 2003.0, Tagline: Free your mind\n",
      "Movie ID: 10.0, Name: The Matrix Revolutions, Released: 2003.0, Tagline: Everything that has a beginning has an end\n",
      "Movie ID: 11.0, Name: The Devil's Advocate, Released: 1997.0, Tagline: Evil has its winning ways\n",
      "Movie ID: 15.0, Name: A Few Good Men, Released: 1992.0, Tagline: In the heart of the nation's capital, in a courthouse of the U.S. government, one man will stop at nothing to keep his honor, and one will stop at nothing to find the truth.\n",
      "Movie ID: 29.0, Name: Top Gun, Released: 1986.0, Tagline: I feel the need, the need for speed.\n",
      "Movie ID: 37.0, Name: Jerry Maguire, Released: 2000.0, Tagline: The rest of his life begins now.\n",
      "Movie ID: 46.0, Name: Stand By Me, Released: 1986.0, Tagline: For some, it's the last real taste of innocence, and the first real taste of life. But for everyone, it's the time that memories are made of.\n",
      "Movie ID: 52.0, Name: As Good as It Gets, Released: 1997.0, Tagline: A comedy from the heart that goes for the throat.\n",
      "Movie ID: 56.0, Name: What Dreams May Come, Released: 1998.0, Tagline: After life there is more. The end is just the beginning.\n"
     ]
    }
   ],
   "source": [
    "query_movies()"
   ]
  },
  {
   "cell_type": "code",
   "execution_count": 44,
   "id": "fa8b3c53-e266-48bb-962b-f33fbd0f90ff",
   "metadata": {},
   "outputs": [],
   "source": [
    "# Function to query all persons\n",
    "def query_persons():\n",
    "    with driver.session(database=NEO4J_DATABASE) as session:\n",
    "        query = \"\"\"\n",
    "        MATCH (p:Person)\n",
    "        RETURN p.id AS PersonID, p.name AS Name, p.born AS Born, p.lastSeen AS LastSeen\n",
    "        LIMIT 10\n",
    "        \"\"\"\n",
    "        result = session.run(query)\n",
    "        for record in result:\n",
    "            print(f\"Person ID: {record['PersonID']}, Name: {record['Name']}, Born: {record['Born']}, Last Seen: {record['LastSeen']}\")"
   ]
  },
  {
   "cell_type": "code",
   "execution_count": 45,
   "id": "64d63847-13dd-4779-b8c4-63a36720ae1f",
   "metadata": {},
   "outputs": [
    {
     "name": "stdout",
     "output_type": "stream",
     "text": [
      "Person ID: 1.0, Name: Keanu Reeves, Born: 1964, Last Seen: None\n",
      "Person ID: 2.0, Name: Carrie-Anne Moss, Born: 1967, Last Seen: None\n",
      "Person ID: 3.0, Name: Laurence Fishburne, Born: 1961, Last Seen: None\n",
      "Person ID: 4.0, Name: Hugo Weaving, Born: 1960, Last Seen: None\n",
      "Person ID: 5.0, Name: Lilly Wachowski, Born: 1967, Last Seen: None\n",
      "Person ID: 6.0, Name: Lana Wachowski, Born: 1965, Last Seen: None\n",
      "Person ID: 7.0, Name: Joel Silver, Born: 1952, Last Seen: None\n",
      "Person ID: 8.0, Name: Emil Eifrem, Born: 1978, Last Seen: None\n",
      "Person ID: 12.0, Name: Charlize Theron, Born: 1975, Last Seen: None\n",
      "Person ID: 13.0, Name: Al Pacino, Born: 1940, Last Seen: None\n"
     ]
    }
   ],
   "source": [
    "query_persons()"
   ]
  },
  {
   "cell_type": "code",
   "execution_count": 46,
   "id": "ddd28c81-0193-4f0b-bf66-8b0e62f2c5bd",
   "metadata": {},
   "outputs": [],
   "source": [
    "# Function to find all movies a person acted in\n",
    "def query_person_movies(person_name):\n",
    "    with driver.session(database=NEO4J_DATABASE) as session:\n",
    "        query = \"\"\"\n",
    "        MATCH (p:Person)-[r:ACTED_IN]->(m:Movie)\n",
    "        WHERE p.name = $person_name\n",
    "        RETURN p.name AS Actor, m.title AS MovieName, r.roles AS Roles\n",
    "        \"\"\"\n",
    "        result = session.run(query, person_name=person_name)\n",
    "        for record in result:\n",
    "            print(f\"Actor: {record['Actor']}, Movie: {record['MovieName']}, Roles: {record['Roles']}\")"
   ]
  },
  {
   "cell_type": "code",
   "execution_count": 47,
   "id": "e9f1f101-8dcd-4877-8fdd-1c495914a18c",
   "metadata": {},
   "outputs": [
    {
     "name": "stdout",
     "output_type": "stream",
     "text": [
      "Actor: Tom Hanks, Movie: You've Got Mail, Roles: [\"Joe Fox\"]\n",
      "Actor: Tom Hanks, Movie: Sleepless in Seattle, Roles: [\"Sam Baldwin\"]\n",
      "Actor: Tom Hanks, Movie: Joe Versus the Volcano, Roles: [\"Joe Banks\"]\n",
      "Actor: Tom Hanks, Movie: That Thing You Do, Roles: [\"Mr. White\"]\n",
      "Actor: Tom Hanks, Movie: Cloud Atlas, Roles: [\"Zachry\",\"Dr. Henry Goose\",\"Isaac Sachs\",\"Dermot Hoggins\"]\n",
      "Actor: Tom Hanks, Movie: The Da Vinci Code, Roles: [\"Dr. Robert Langdon\"]\n",
      "Actor: Tom Hanks, Movie: The Green Mile, Roles: [\"Paul Edgecomb\"]\n",
      "Actor: Tom Hanks, Movie: Apollo 13, Roles: [\"Jim Lovell\"]\n",
      "Actor: Tom Hanks, Movie: Cast Away, Roles: [\"Chuck Noland\"]\n",
      "Actor: Tom Hanks, Movie: Charlie Wilson's War, Roles: [\"Rep. Charlie Wilson\"]\n",
      "Actor: Tom Hanks, Movie: The Polar Express, Roles: [\"Hero Boy\",\"Father\",\"Conductor\",\"Hobo\",\"Scrooge\",\"Santa Claus\"]\n",
      "Actor: Tom Hanks, Movie: A League of Their Own, Roles: [\"Jimmy Dugan\"]\n"
     ]
    }
   ],
   "source": [
    "query_person_movies(\"Tom Hanks\")"
   ]
  },
  {
   "cell_type": "code",
   "execution_count": 50,
   "id": "e0f2311f-d399-42d6-bc87-f384d3261336",
   "metadata": {},
   "outputs": [],
   "source": [
    "# Function to find all actors in a specific movie\n",
    "def query_movie_actors(movie_name):\n",
    "    with driver.session(database=NEO4J_DATABASE) as session:\n",
    "        query = \"\"\"\n",
    "        MATCH (p:Person)-[r:ACTED_IN]->(m:Movie)\n",
    "        WHERE m.title = $movie_name\n",
    "        RETURN m.name AS Movie, p.name AS Actor, r.roles AS Roles\n",
    "        \"\"\"\n",
    "        result = session.run(query, movie_name=movie_name)\n",
    "        for record in result:\n",
    "            print(f\"Movie: {record['Movie']}, Actor: {record['Actor']}, Roles: {record['Roles']}\")"
   ]
  },
  {
   "cell_type": "code",
   "execution_count": 51,
   "id": "3485c72e-3eb7-4410-95b9-41c101e95c09",
   "metadata": {},
   "outputs": [
    {
     "name": "stdout",
     "output_type": "stream",
     "text": [
      "Movie: None, Actor: Hugo Weaving, Roles: [\"Bill Smoke\",\"Haskell Moore\",\"Tadeusz Kesselring\",\"Nurse Noakes\",\"Boardman Mephi\",\"Old Georgie\"]\n",
      "Movie: None, Actor: Tom Hanks, Roles: [\"Zachry\",\"Dr. Henry Goose\",\"Isaac Sachs\",\"Dermot Hoggins\"]\n",
      "Movie: None, Actor: Halle Berry, Roles: [\"Luisa Rey\",\"Jocasta Ayrs\",\"Ovid\",\"Meronym\"]\n",
      "Movie: None, Actor: Jim Broadbent, Roles: [\"Vyvyan Ayrs\",\"Captain Molyneux\",\"Timothy Cavendish\"]\n"
     ]
    }
   ],
   "source": [
    "query_movie_actors(\"Cloud Atlas\")"
   ]
  },
  {
   "cell_type": "code",
   "execution_count": null,
   "id": "7e9cccb9-9d9a-407c-b084-10266881db7e",
   "metadata": {},
   "outputs": [],
   "source": []
  }
 ],
 "metadata": {
  "kernelspec": {
   "display_name": "Python 3 (ipykernel)",
   "language": "python",
   "name": "python3"
  },
  "language_info": {
   "codemirror_mode": {
    "name": "ipython",
    "version": 3
   },
   "file_extension": ".py",
   "mimetype": "text/x-python",
   "name": "python",
   "nbconvert_exporter": "python",
   "pygments_lexer": "ipython3",
   "version": "3.12.7"
  }
 },
 "nbformat": 4,
 "nbformat_minor": 5
}
