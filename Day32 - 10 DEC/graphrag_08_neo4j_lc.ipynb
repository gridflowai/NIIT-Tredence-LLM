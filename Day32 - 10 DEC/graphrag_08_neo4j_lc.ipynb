{
 "cells": [
  {
   "cell_type": "code",
   "execution_count": 1,
   "id": "ea5ebf66-4b46-4b73-a168-be307b461667",
   "metadata": {},
   "outputs": [],
   "source": [
    "# pip install langchain langchain-community\n",
    "# pip install langchain-openai tiktoken\n",
    "# pip install neo4j"
   ]
  },
  {
   "cell_type": "markdown",
   "id": "96adf8a1-2562-4fba-950e-ed86bfaacba1",
   "metadata": {},
   "source": [
    "#### Neo4jVector\n",
    "\n",
    "**create vector from langchain documents**"
   ]
  },
  {
   "cell_type": "code",
   "execution_count": 3,
   "id": "0faef349-6a7b-4be6-8c00-c2829fa4bae2",
   "metadata": {},
   "outputs": [],
   "source": [
    "from langchain.docstore.document import Document\n",
    "\n",
    "from langchain.text_splitter import CharacterTextSplitter\n",
    "from langchain_community.document_loaders import TextLoader\n",
    "\n",
    "from langchain_community.vectorstores import Neo4jVector\n",
    "\n",
    "from langchain_openai import OpenAIEmbeddings"
   ]
  },
  {
   "cell_type": "code",
   "execution_count": 5,
   "id": "10bee40b-701f-4778-80f6-b972fb1f192b",
   "metadata": {},
   "outputs": [],
   "source": [
    "loader = TextLoader(file_path=\"./data/state_of_the_union.txt\", encoding=\"utf-8\")"
   ]
  },
  {
   "cell_type": "code",
   "execution_count": 6,
   "id": "3c0f657b-7b94-42b6-bf8f-b8212a4bb9f2",
   "metadata": {},
   "outputs": [],
   "source": [
    "documents = loader.load()"
   ]
  },
  {
   "cell_type": "code",
   "execution_count": 7,
   "id": "1f556d11-1620-4fcc-b756-2202e7f456bf",
   "metadata": {},
   "outputs": [],
   "source": [
    "text_splitter = CharacterTextSplitter(chunk_size=1000, chunk_overlap=0)"
   ]
  },
  {
   "cell_type": "code",
   "execution_count": 8,
   "id": "ba909ce1-28fa-40b0-a7ba-981135ec3e74",
   "metadata": {},
   "outputs": [],
   "source": [
    "docs = text_splitter.split_documents(documents)"
   ]
  },
  {
   "cell_type": "code",
   "execution_count": 9,
   "id": "9f2b5c9c-c182-4b6f-8023-00d889ae88e8",
   "metadata": {},
   "outputs": [
    {
     "data": {
      "text/plain": [
       "42"
      ]
     },
     "execution_count": 9,
     "metadata": {},
     "output_type": "execute_result"
    }
   ],
   "source": [
    "len(docs)"
   ]
  },
  {
   "cell_type": "code",
   "execution_count": 10,
   "id": "c17043e3-2cb7-482a-a466-ecc7ccecea83",
   "metadata": {},
   "outputs": [
    {
     "data": {
      "text/plain": [
       "Document(metadata={'source': './data/state_of_the_union.txt'}, page_content='Madam Speaker, Madam Vice President, our First Lady and Second Gentleman. Members of Congress and the Cabinet. Justices of the Supreme Court. My fellow Americans.  \\n\\nLast year COVID-19 kept us apart. This year we are finally together again. \\n\\nTonight, we meet as Democrats Republicans and Independents. But most importantly as Americans. \\n\\nWith a duty to one another to the American people to the Constitution. \\n\\nAnd with an unwavering resolve that freedom will always triumph over tyranny. \\n\\nSix days ago, Russia’s Vladimir Putin sought to shake the foundations of the free world thinking he could make it bend to his menacing ways. But he badly miscalculated. \\n\\nHe thought he could roll into Ukraine and the world would roll over. Instead he met a wall of strength he never imagined. \\n\\nHe met the Ukrainian people. \\n\\nFrom President Zelenskyy to every Ukrainian, their fearlessness, their courage, their determination, inspires the world.')"
      ]
     },
     "execution_count": 10,
     "metadata": {},
     "output_type": "execute_result"
    }
   ],
   "source": [
    "docs[0]"
   ]
  },
  {
   "cell_type": "code",
   "execution_count": 11,
   "id": "e0276eb2-3e87-4db1-8184-e065f83cc738",
   "metadata": {},
   "outputs": [],
   "source": [
    "embeddings = OpenAIEmbeddings()"
   ]
  },
  {
   "cell_type": "code",
   "execution_count": 12,
   "id": "57a79322-b7c2-4656-839a-e703ca0415ff",
   "metadata": {},
   "outputs": [],
   "source": [
    "NEO4J_URI     = 'neo4j+s://264d8780.databases.neo4j.io'\n",
    "NEO4J_USERNAME= 'neo4j'\n",
    "NEO4J_PASSWORD= '5l2648jhBn6kzOFi_XcK_yzYCVFzZIpoOPW7xp7M_Ss'\n",
    "AURA_INSTANCEID= '264d8780'\n",
    "AURA_INSTANCENAME = 'Instance01'"
   ]
  },
  {
   "cell_type": "code",
   "execution_count": 13,
   "id": "451d426a-c59a-4be7-b636-c535bbccd397",
   "metadata": {},
   "outputs": [],
   "source": [
    "from neo4j import GraphDatabase"
   ]
  },
  {
   "cell_type": "code",
   "execution_count": 14,
   "id": "3a62710a-937a-4c91-a41d-8f3bb10b5f2f",
   "metadata": {},
   "outputs": [],
   "source": [
    "driver = GraphDatabase.driver(NEO4J_URI, auth=(NEO4J_USERNAME, NEO4J_PASSWORD))"
   ]
  },
  {
   "cell_type": "code",
   "execution_count": 15,
   "id": "260a2806-6c13-4422-b78e-11619a94b2da",
   "metadata": {},
   "outputs": [
    {
     "name": "stdout",
     "output_type": "stream",
     "text": [
      "All nodes and relationships deleted.\n"
     ]
    }
   ],
   "source": [
    "def delete_all_nodes_and_relationships():\n",
    "    query = \"\"\"\n",
    "    MATCH (n)\n",
    "    DETACH DELETE n\n",
    "    \"\"\"\n",
    "    with driver.session() as session:\n",
    "        session.run(query)\n",
    "    print(\"All nodes and relationships deleted.\")\n",
    "\n",
    "# Call the function\n",
    "delete_all_nodes_and_relationships()"
   ]
  },
  {
   "cell_type": "code",
   "execution_count": 17,
   "id": "13f26786-ac5e-4689-9537-ec849a95b888",
   "metadata": {},
   "outputs": [
    {
     "name": "stdout",
     "output_type": "stream",
     "text": [
      "<Record id=3 name='constraint_1dc138a' state='ONLINE' populationPercent=100.0 type='RANGE' entityType='NODE' labelsOrTypes=['Chunk'] properties=['id'] indexProvider='range-1.0' owningConstraint='constraint_1dc138a' lastRead=neo4j.time.DateTime(2024, 12, 10, 3, 8, 46, 915000000, tzinfo=<UTC>) readCount=770>\n",
      "<Record id=2 name='index-state-union' state='ONLINE' populationPercent=100.0 type='VECTOR' entityType='NODE' labelsOrTypes=['Chunk'] properties=['embedding'] indexProvider='vector-2.0' owningConstraint=None lastRead=neo4j.time.DateTime(2024, 12, 10, 3, 7, 4, 760000000, tzinfo=<UTC>) readCount=9>\n",
      "<Record id=0 name='index_343aff4e' state='ONLINE' populationPercent=100.0 type='LOOKUP' entityType='NODE' labelsOrTypes=None properties=None indexProvider='token-lookup-1.0' owningConstraint=None lastRead=neo4j.time.DateTime(2024, 12, 10, 3, 10, 20, 90000000, tzinfo=<UTC>) readCount=4>\n",
      "<Record id=1 name='index_f7700477' state='ONLINE' populationPercent=100.0 type='LOOKUP' entityType='RELATIONSHIP' labelsOrTypes=None properties=None indexProvider='token-lookup-1.0' owningConstraint=None lastRead=None readCount=0>\n",
      "<Record id=5 name='keyword' state='ONLINE' populationPercent=100.0 type='FULLTEXT' entityType='NODE' labelsOrTypes=['Chunk'] properties=['text'] indexProvider='fulltext-1.0' owningConstraint=None lastRead=neo4j.time.DateTime(2024, 12, 10, 3, 7, 4, 763000000, tzinfo=<UTC>) readCount=6>\n"
     ]
    }
   ],
   "source": [
    "with driver.session() as session:\n",
    "    \n",
    "    result = session.run(\"SHOW INDEXES;\")\n",
    "    \n",
    "    for record in result:\n",
    "        print(record)"
   ]
  },
  {
   "cell_type": "code",
   "execution_count": 18,
   "id": "f5da4ae2-1660-43fe-8989-7e2e0a4a4e68",
   "metadata": {},
   "outputs": [],
   "source": [
    "# The Neo4jVector Module will connect to Neo4j and create a vector index if needed.\n",
    "# 1. Connect to Neo4j\n",
    "# 2. Document Embedding\n",
    "# 3. Stores the embedded vectors as properties of nodes in the database, along with any associated metadata\n",
    "# 2. Create Vector Index\n",
    "\n",
    "db = Neo4jVector.from_documents(\n",
    "    documents  = docs, \n",
    "    embedding  = OpenAIEmbeddings(model=\"text-embedding-3-small\"), \n",
    "    url        = NEO4J_URI, \n",
    "    username   = NEO4J_USERNAME, \n",
    "    password   = NEO4J_PASSWORD,\n",
    "    index_name = \"index_state_union\"\n",
    ")"
   ]
  },
  {
   "cell_type": "code",
   "execution_count": 19,
   "id": "a5f32dbd-c145-4475-98fd-a43495f1eca1",
   "metadata": {},
   "outputs": [],
   "source": [
    "query = \"What did the president say about Ketanji Brown Jackson\"\n",
    "docs_with_score = db.similarity_search_with_score(query, k=2)"
   ]
  },
  {
   "cell_type": "code",
   "execution_count": 20,
   "id": "09ef9c25-e652-415c-b2e2-6c7d660ab0e0",
   "metadata": {},
   "outputs": [
    {
     "data": {
      "text/plain": [
       "[(Document(metadata={'source': './data/state_of_the_union.txt'}, page_content='And for our LGBTQ+ Americans, let’s finally get the bipartisan Equality Act to my desk. The onslaught of state laws targeting transgender Americans and their families is wrong. \\n\\nAs I said last year, especially to our younger transgender Americans, I will always have your back as your President, so you can be yourself and reach your God-given potential. \\n\\nWhile it often appears that we never agree, that isn’t true. I signed 80 bipartisan bills into law last year. From preventing government shutdowns to protecting Asian-Americans from still-too-common hate crimes to reforming military justice. \\n\\nAnd soon, we’ll strengthen the Violence Against Women Act that I first wrote three decades ago. It is important for us to show the nation that we can come together and do big things. \\n\\nSo tonight I’m offering a Unity Agenda for the Nation. Four big things we can do together.  \\n\\nFirst, beat the opioid epidemic.'),\n",
       "  0.6720964908599854),\n",
       " (Document(metadata={'source': './data/state_of_the_union.txt'}, page_content='Tonight, I’m announcing a crackdown on these companies overcharging American businesses and consumers. \\n\\nAnd as Wall Street firms take over more nursing homes, quality in those homes has gone down and costs have gone up.  \\n\\nThat ends on my watch. \\n\\nMedicare is going to set higher standards for nursing homes and make sure your loved ones get the care they deserve and expect. \\n\\nWe’ll also cut costs and keep the economy going strong by giving workers a fair shot, provide more training and apprenticeships, hire them based on their skills not degrees. \\n\\nLet’s pass the Paycheck Fairness Act and paid leave.  \\n\\nRaise the minimum wage to $15 an hour and extend the Child Tax Credit, so no one has to raise a family in poverty. \\n\\nLet’s increase Pell Grants and increase our historic support of HBCUs, and invest in what Jill—our First Lady who teaches full-time—calls America’s best-kept secret: community colleges.'),\n",
       "  0.6518564224243164)]"
      ]
     },
     "execution_count": 20,
     "metadata": {},
     "output_type": "execute_result"
    }
   ],
   "source": [
    "docs_with_score"
   ]
  },
  {
   "cell_type": "markdown",
   "id": "138a204b-028d-44a4-b995-bc5fcbb3d6cb",
   "metadata": {},
   "source": [
    "#### Hybrid Search\n",
    "\n",
    "Hybrid search combines `vector search` with `fulltext search` with re-ranking and de-duplication of the results."
   ]
  },
  {
   "cell_type": "code",
   "execution_count": 21,
   "id": "818e6d49-1d00-4e9b-8252-3ab27021da4e",
   "metadata": {},
   "outputs": [],
   "source": [
    "db = Neo4jVector.from_documents(\n",
    "    documents = docs, \n",
    "    embedding = OpenAIEmbeddings(model=\"text-embedding-3-small\"), \n",
    "    url      = NEO4J_URI, \n",
    "    username = NEO4J_USERNAME, \n",
    "    password = NEO4J_PASSWORD,\n",
    "    search_type = 'hybrid',\n",
    "    index_name = \"index_state_union\"\n",
    ")"
   ]
  },
  {
   "cell_type": "code",
   "execution_count": 22,
   "id": "a1ed3d7f-4042-4293-b41a-cead591ccbf4",
   "metadata": {},
   "outputs": [
    {
     "name": "stderr",
     "output_type": "stream",
     "text": [
      "Received notification from DBMS server: {severity: WARNING} {code: Neo.ClientNotification.Statement.FeatureDeprecationWarning} {category: DEPRECATION} {title: This feature is deprecated and will be removed in future versions.} {description: CALL subquery without a variable scope clause is now deprecated. Use CALL () { ... }} {position: line: 1, column: 1, offset: 0} for query: 'CALL { CALL db.index.vector.queryNodes($index, $k, $embedding) YIELD node, score WITH collect({node:node, score:score}) AS nodes, max(score) AS max UNWIND nodes AS n RETURN n.node AS node, (n.score / max) AS score UNION CALL db.index.fulltext.queryNodes($keyword_index, $query, {limit: $k}) YIELD node, score WITH collect({node:node, score:score}) AS nodes, max(score) AS max UNWIND nodes AS n RETURN n.node AS node, (n.score / max) AS score } WITH node, max(score) AS score ORDER BY score DESC LIMIT $k RETURN node.`text` AS text, score, node {.*, `text`: Null, `embedding`: Null, id: Null } AS metadata'\n"
     ]
    }
   ],
   "source": [
    "query = \"What did the president say about Ketanji Brown Jackson\"\n",
    "docs_with_score = db.similarity_search_with_score(query, k=2)"
   ]
  },
  {
   "cell_type": "code",
   "execution_count": 23,
   "id": "0188a0e7-69a4-4042-b88a-81adf1090e18",
   "metadata": {},
   "outputs": [
    {
     "data": {
      "text/plain": [
       "[(Document(metadata={'source': './data/state_of_the_union.txt'}, page_content='And for our LGBTQ+ Americans, let’s finally get the bipartisan Equality Act to my desk. The onslaught of state laws targeting transgender Americans and their families is wrong. \\n\\nAs I said last year, especially to our younger transgender Americans, I will always have your back as your President, so you can be yourself and reach your God-given potential. \\n\\nWhile it often appears that we never agree, that isn’t true. I signed 80 bipartisan bills into law last year. From preventing government shutdowns to protecting Asian-Americans from still-too-common hate crimes to reforming military justice. \\n\\nAnd soon, we’ll strengthen the Violence Against Women Act that I first wrote three decades ago. It is important for us to show the nation that we can come together and do big things. \\n\\nSo tonight I’m offering a Unity Agenda for the Nation. Four big things we can do together.  \\n\\nFirst, beat the opioid epidemic.'),\n",
       "  1.0),\n",
       " (Document(metadata={'source': './data/state_of_the_union.txt'}, page_content='Tonight. I call on the Senate to: Pass the Freedom to Vote Act. Pass the John Lewis Voting Rights Act. And while you’re at it, pass the Disclose Act so Americans can know who is funding our elections. \\n\\nTonight, I’d like to honor someone who has dedicated his life to serve this country: Justice Stephen Breyer—an Army veteran, Constitutional scholar, and retiring Justice of the United States Supreme Court. Justice Breyer, thank you for your service. \\n\\nOne of the most serious constitutional responsibilities a President has is nominating someone to serve on the United States Supreme Court. \\n\\nAnd I did that 4 days ago, when I nominated Circuit Court of Appeals Judge Ketanji Brown Jackson. One of our nation’s top legal minds, who will continue Justice Breyer’s legacy of excellence.'),\n",
       "  1.0)]"
      ]
     },
     "execution_count": 23,
     "metadata": {},
     "output_type": "execute_result"
    }
   ],
   "source": [
    "docs_with_score"
   ]
  },
  {
   "cell_type": "markdown",
   "id": "f5c4be5a-e02e-4c59-bb90-c6e2e2ffde2b",
   "metadata": {},
   "source": [
    "#### Metadata filtering\n",
    "Metadata filtering enhances vector search by allowing searches to be refined based on specific node properties. This integrated approach ensures more precise and relevant search results by leveraging both the vector similarities and the contextual attributes of the nodes."
   ]
  },
  {
   "cell_type": "code",
   "execution_count": 24,
   "id": "fc9ddfcb-c50a-4937-9b42-42da2ca2635b",
   "metadata": {},
   "outputs": [],
   "source": [
    "db = Neo4jVector.from_documents(\n",
    "    documents = docs, \n",
    "    embedding = OpenAIEmbeddings(model=\"text-embedding-3-small\"), \n",
    "    url      = NEO4J_URI, \n",
    "    username = NEO4J_USERNAME, \n",
    "    password = NEO4J_PASSWORD,\n",
    "    #search_type = 'hybrid',\n",
    "    index_name = \"index_state_union\"\n",
    ")"
   ]
  },
  {
   "cell_type": "code",
   "execution_count": 25,
   "id": "b621c860-e5e5-4bb6-b8f6-25cf5d26fa9c",
   "metadata": {},
   "outputs": [
    {
     "data": {
      "text/plain": [
       "Document(metadata={'source': './data/state_of_the_union.txt'}, page_content='Madam Speaker, Madam Vice President, our First Lady and Second Gentleman. Members of Congress and the Cabinet. Justices of the Supreme Court. My fellow Americans.  \\n\\nLast year COVID-19 kept us apart. This year we are finally together again. \\n\\nTonight, we meet as Democrats Republicans and Independents. But most importantly as Americans. \\n\\nWith a duty to one another to the American people to the Constitution. \\n\\nAnd with an unwavering resolve that freedom will always triumph over tyranny. \\n\\nSix days ago, Russia’s Vladimir Putin sought to shake the foundations of the free world thinking he could make it bend to his menacing ways. But he badly miscalculated. \\n\\nHe thought he could roll into Ukraine and the world would roll over. Instead he met a wall of strength he never imagined. \\n\\nHe met the Ukrainian people. \\n\\nFrom President Zelenskyy to every Ukrainian, their fearlessness, their courage, their determination, inspires the world.')"
      ]
     },
     "execution_count": 25,
     "metadata": {},
     "output_type": "execute_result"
    }
   ],
   "source": [
    "docs[0]"
   ]
  },
  {
   "cell_type": "code",
   "execution_count": 26,
   "id": "f6967342-5db3-4c0c-87e0-43597afde6c2",
   "metadata": {},
   "outputs": [
    {
     "name": "stderr",
     "output_type": "stream",
     "text": [
      "Received notification from DBMS server: {severity: WARNING} {code: Neo.ClientNotification.Statement.UnknownPropertyKeyWarning} {category: UNRECOGNIZED} {title: The provided property key is not in the database} {description: One of the property names in your query is not available in the database, make sure you didn't misspell it or that the label is available when you run this statement in your application (the missing property name is: name)} {position: line: 1, column: 152, offset: 151} for query: 'CYPHER runtime = parallel parallelRuntimeSupport=all MATCH (n:`Chunk`) WHERE n.`embedding` IS NOT NULL AND size(n.`embedding`) = toInteger(1536) AND n.`name` = $param_1 WITH n as node, vector.similarity.cosine(n.`embedding`, $embedding) AS score ORDER BY score DESC LIMIT toInteger($k) RETURN node.`text` AS text, score, node {.*, `text`: Null, `embedding`: Null, id: Null } AS metadata'\n"
     ]
    }
   ],
   "source": [
    "query  = \"What did the president say about Ketanji Brown Jackson\"\n",
    "filter = {\"name\": {\"$eq\": \"adam\"}}\n",
    "\n",
    "docs = db.similarity_search(query, filter=filter)"
   ]
  },
  {
   "cell_type": "code",
   "execution_count": 27,
   "id": "819a0fe7-9d7f-4e51-b351-b603c1c59e29",
   "metadata": {},
   "outputs": [
    {
     "data": {
      "text/plain": [
       "[]"
      ]
     },
     "execution_count": 27,
     "metadata": {},
     "output_type": "execute_result"
    }
   ],
   "source": [
    "docs"
   ]
  },
  {
   "cell_type": "markdown",
   "id": "ecab9ab6-b3a4-4c4d-94df-3949009163ae",
   "metadata": {},
   "source": [
    "#### Neo4j Graph\n",
    "The Neo4j Graph integration is a wrapper for the Neo4j Python driver. It allows querying and updating the Neo4j database in a simplified manner from LangChain. Many integrations allow you to use the Neo4j Graph as a source of data for LangChain."
   ]
  },
  {
   "cell_type": "code",
   "execution_count": 28,
   "id": "ff5c41cf-9979-4274-84f6-0c179841eda3",
   "metadata": {},
   "outputs": [],
   "source": [
    "from langchain_neo4j import Neo4jGraph"
   ]
  },
  {
   "cell_type": "code",
   "execution_count": 31,
   "id": "ab9c0ef6-c9a9-4863-ac7d-81975a931c4b",
   "metadata": {},
   "outputs": [],
   "source": [
    "graph = Neo4jGraph(url=NEO4J_URI, username=NEO4J_USERNAME, password=NEO4J_PASSWORD)"
   ]
  },
  {
   "cell_type": "code",
   "execution_count": 32,
   "id": "2b9adc7e-1871-4217-b2b7-9243eb982c48",
   "metadata": {},
   "outputs": [],
   "source": [
    "QUERY = \"\"\"\n",
    "\"MATCH (m:Movie)-[:IN_GENRE]->(:Genre {name:$genre})\n",
    "RETURN m.title, m.plot\n",
    "ORDER BY m.imdbRating DESC LIMIT 5\"\n",
    "\"\"\""
   ]
  },
  {
   "cell_type": "code",
   "execution_count": 33,
   "id": "5ef6dfac-10a5-47d7-b824-633c7827e92a",
   "metadata": {},
   "outputs": [
    {
     "ename": "TypeError",
     "evalue": "Neo4jGraph.query() got an unexpected keyword argument 'genre'",
     "output_type": "error",
     "traceback": [
      "\u001b[1;31m---------------------------------------------------------------------------\u001b[0m",
      "\u001b[1;31mTypeError\u001b[0m                                 Traceback (most recent call last)",
      "Cell \u001b[1;32mIn[33], line 1\u001b[0m\n\u001b[1;32m----> 1\u001b[0m graph\u001b[38;5;241m.\u001b[39mquery(QUERY, genre\u001b[38;5;241m=\u001b[39m\u001b[38;5;124m\"\u001b[39m\u001b[38;5;124maction\u001b[39m\u001b[38;5;124m\"\u001b[39m)\n",
      "\u001b[1;31mTypeError\u001b[0m: Neo4jGraph.query() got an unexpected keyword argument 'genre'"
     ]
    }
   ],
   "source": [
    "graph.query(QUERY, genre=\"action\")"
   ]
  },
  {
   "cell_type": "code",
   "execution_count": null,
   "id": "012f4858-5a70-455c-ace2-48041232892c",
   "metadata": {},
   "outputs": [],
   "source": []
  },
  {
   "cell_type": "code",
   "execution_count": null,
   "id": "53d80618-2c72-4036-a40d-44d235d22e7a",
   "metadata": {},
   "outputs": [],
   "source": []
  }
 ],
 "metadata": {
  "kernelspec": {
   "display_name": "Python 3 (ipykernel)",
   "language": "python",
   "name": "python3"
  },
  "language_info": {
   "codemirror_mode": {
    "name": "ipython",
    "version": 3
   },
   "file_extension": ".py",
   "mimetype": "text/x-python",
   "name": "python",
   "nbconvert_exporter": "python",
   "pygments_lexer": "ipython3",
   "version": "3.12.7"
  }
 },
 "nbformat": 4,
 "nbformat_minor": 5
}
